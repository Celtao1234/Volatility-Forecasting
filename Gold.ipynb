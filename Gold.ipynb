{
  "nbformat": 4,
  "nbformat_minor": 0,
  "metadata": {
    "colab": {
      "provenance": []
    },
    "kernelspec": {
      "name": "python3",
      "display_name": "Python 3"
    },
    "language_info": {
      "name": "python"
    }
  },
  "cells": [
    {
      "cell_type": "code",
      "execution_count": 1,
      "metadata": {
        "colab": {
          "base_uri": "https://localhost:8080/"
        },
        "id": "UDKX-1Fylrkw",
        "outputId": "cb27339c-095d-4fdf-caf9-0223527e1931"
      },
      "outputs": [
        {
          "output_type": "stream",
          "name": "stderr",
          "text": [
            "/tmp/ipython-input-1771051979.py:6: FutureWarning: YF.download() has changed argument auto_adjust default to True\n",
            "  gold = yf.download(\"GLD\", start=\"2015-01-01\", end=\"2025-08-15\")\n",
            "[*********************100%***********************]  1 of 1 completed\n"
          ]
        }
      ],
      "source": [
        "import yfinance as yf\n",
        "import numpy as np\n",
        "import pandas as pd\n",
        "\n",
        "# GLD ETF daily prices (10 years)\n",
        "gold = yf.download(\"GLD\", start=\"2015-01-01\", end=\"2025-08-15\")\n",
        "\n",
        "\n",
        "\n",
        "gold['log_return'] = np.log(gold['Close'] / gold['Close'].shift(1))\n",
        "gold.dropna(inplace=True)##remove the first row which is going to have a nan value\n",
        "\n",
        "##Lets calculate realised volatility(its rolling standard deviation of last 20 day prices)\n",
        "gold['realized_vol'] = gold['log_return'].rolling(window=20).std() * np.sqrt(252)\n",
        "\n",
        "gold.dropna(inplace=True)\n"
      ]
    },
    {
      "cell_type": "code",
      "source": [
        "gold"
      ],
      "metadata": {
        "colab": {
          "base_uri": "https://localhost:8080/",
          "height": 680
        },
        "id": "0dGcr96VpRHB",
        "outputId": "c55dfdab-eac0-420c-8b1b-f2afebfa3ece"
      },
      "execution_count": 2,
      "outputs": [
        {
          "output_type": "execute_result",
          "data": {
            "text/plain": [
              "Price            Close        High         Low        Open    Volume  \\\n",
              "Ticker             GLD         GLD         GLD         GLD       GLD   \n",
              "Date                                                                   \n",
              "2015-02-02  122.419998  123.160004  121.820000  121.839996   8885200   \n",
              "2015-02-03  121.050003  121.760002  120.559998  121.739998   8255900   \n",
              "2015-02-04  121.580002  122.220001  120.919998  121.629997   5386700   \n",
              "2015-02-05  121.790001  121.830002  120.610001  120.980003   6879900   \n",
              "2015-02-06  118.639999  119.519997  117.949997  119.150002  13206900   \n",
              "...                ...         ...         ...         ...       ...   \n",
              "2025-08-08  313.049988  313.529999  311.000000  312.350006  19886800   \n",
              "2025-08-11  308.549988  309.660004  307.630005  308.619995  10326700   \n",
              "2025-08-12  308.269989  309.309998  306.709991  308.220001   9697400   \n",
              "2025-08-13  309.209991  310.390015  308.450012  309.100006   4718600   \n",
              "2025-08-14  307.250000  308.339996  306.519989  307.929993   5817700   \n",
              "\n",
              "Price      log_return realized_vol  \n",
              "Ticker                              \n",
              "Date                                \n",
              "2015-02-02  -0.008378     0.194222  \n",
              "2015-02-03  -0.011254     0.196034  \n",
              "2015-02-04   0.004369     0.193277  \n",
              "2015-02-05   0.001726     0.191090  \n",
              "2015-02-06  -0.026205     0.215358  \n",
              "...               ...          ...  \n",
              "2025-08-08  -0.000224     0.144358  \n",
              "2025-08-11  -0.014479     0.153442  \n",
              "2025-08-12  -0.000908     0.152679  \n",
              "2025-08-13   0.003045     0.152039  \n",
              "2025-08-14  -0.006359     0.153606  \n",
              "\n",
              "[2650 rows x 7 columns]"
            ],
            "text/html": [
              "\n",
              "  <div id=\"df-af1dfad8-a819-42ed-9960-30df993030e7\" class=\"colab-df-container\">\n",
              "    <div>\n",
              "<style scoped>\n",
              "    .dataframe tbody tr th:only-of-type {\n",
              "        vertical-align: middle;\n",
              "    }\n",
              "\n",
              "    .dataframe tbody tr th {\n",
              "        vertical-align: top;\n",
              "    }\n",
              "\n",
              "    .dataframe thead tr th {\n",
              "        text-align: left;\n",
              "    }\n",
              "\n",
              "    .dataframe thead tr:last-of-type th {\n",
              "        text-align: right;\n",
              "    }\n",
              "</style>\n",
              "<table border=\"1\" class=\"dataframe\">\n",
              "  <thead>\n",
              "    <tr>\n",
              "      <th>Price</th>\n",
              "      <th>Close</th>\n",
              "      <th>High</th>\n",
              "      <th>Low</th>\n",
              "      <th>Open</th>\n",
              "      <th>Volume</th>\n",
              "      <th>log_return</th>\n",
              "      <th>realized_vol</th>\n",
              "    </tr>\n",
              "    <tr>\n",
              "      <th>Ticker</th>\n",
              "      <th>GLD</th>\n",
              "      <th>GLD</th>\n",
              "      <th>GLD</th>\n",
              "      <th>GLD</th>\n",
              "      <th>GLD</th>\n",
              "      <th></th>\n",
              "      <th></th>\n",
              "    </tr>\n",
              "    <tr>\n",
              "      <th>Date</th>\n",
              "      <th></th>\n",
              "      <th></th>\n",
              "      <th></th>\n",
              "      <th></th>\n",
              "      <th></th>\n",
              "      <th></th>\n",
              "      <th></th>\n",
              "    </tr>\n",
              "  </thead>\n",
              "  <tbody>\n",
              "    <tr>\n",
              "      <th>2015-02-02</th>\n",
              "      <td>122.419998</td>\n",
              "      <td>123.160004</td>\n",
              "      <td>121.820000</td>\n",
              "      <td>121.839996</td>\n",
              "      <td>8885200</td>\n",
              "      <td>-0.008378</td>\n",
              "      <td>0.194222</td>\n",
              "    </tr>\n",
              "    <tr>\n",
              "      <th>2015-02-03</th>\n",
              "      <td>121.050003</td>\n",
              "      <td>121.760002</td>\n",
              "      <td>120.559998</td>\n",
              "      <td>121.739998</td>\n",
              "      <td>8255900</td>\n",
              "      <td>-0.011254</td>\n",
              "      <td>0.196034</td>\n",
              "    </tr>\n",
              "    <tr>\n",
              "      <th>2015-02-04</th>\n",
              "      <td>121.580002</td>\n",
              "      <td>122.220001</td>\n",
              "      <td>120.919998</td>\n",
              "      <td>121.629997</td>\n",
              "      <td>5386700</td>\n",
              "      <td>0.004369</td>\n",
              "      <td>0.193277</td>\n",
              "    </tr>\n",
              "    <tr>\n",
              "      <th>2015-02-05</th>\n",
              "      <td>121.790001</td>\n",
              "      <td>121.830002</td>\n",
              "      <td>120.610001</td>\n",
              "      <td>120.980003</td>\n",
              "      <td>6879900</td>\n",
              "      <td>0.001726</td>\n",
              "      <td>0.191090</td>\n",
              "    </tr>\n",
              "    <tr>\n",
              "      <th>2015-02-06</th>\n",
              "      <td>118.639999</td>\n",
              "      <td>119.519997</td>\n",
              "      <td>117.949997</td>\n",
              "      <td>119.150002</td>\n",
              "      <td>13206900</td>\n",
              "      <td>-0.026205</td>\n",
              "      <td>0.215358</td>\n",
              "    </tr>\n",
              "    <tr>\n",
              "      <th>...</th>\n",
              "      <td>...</td>\n",
              "      <td>...</td>\n",
              "      <td>...</td>\n",
              "      <td>...</td>\n",
              "      <td>...</td>\n",
              "      <td>...</td>\n",
              "      <td>...</td>\n",
              "    </tr>\n",
              "    <tr>\n",
              "      <th>2025-08-08</th>\n",
              "      <td>313.049988</td>\n",
              "      <td>313.529999</td>\n",
              "      <td>311.000000</td>\n",
              "      <td>312.350006</td>\n",
              "      <td>19886800</td>\n",
              "      <td>-0.000224</td>\n",
              "      <td>0.144358</td>\n",
              "    </tr>\n",
              "    <tr>\n",
              "      <th>2025-08-11</th>\n",
              "      <td>308.549988</td>\n",
              "      <td>309.660004</td>\n",
              "      <td>307.630005</td>\n",
              "      <td>308.619995</td>\n",
              "      <td>10326700</td>\n",
              "      <td>-0.014479</td>\n",
              "      <td>0.153442</td>\n",
              "    </tr>\n",
              "    <tr>\n",
              "      <th>2025-08-12</th>\n",
              "      <td>308.269989</td>\n",
              "      <td>309.309998</td>\n",
              "      <td>306.709991</td>\n",
              "      <td>308.220001</td>\n",
              "      <td>9697400</td>\n",
              "      <td>-0.000908</td>\n",
              "      <td>0.152679</td>\n",
              "    </tr>\n",
              "    <tr>\n",
              "      <th>2025-08-13</th>\n",
              "      <td>309.209991</td>\n",
              "      <td>310.390015</td>\n",
              "      <td>308.450012</td>\n",
              "      <td>309.100006</td>\n",
              "      <td>4718600</td>\n",
              "      <td>0.003045</td>\n",
              "      <td>0.152039</td>\n",
              "    </tr>\n",
              "    <tr>\n",
              "      <th>2025-08-14</th>\n",
              "      <td>307.250000</td>\n",
              "      <td>308.339996</td>\n",
              "      <td>306.519989</td>\n",
              "      <td>307.929993</td>\n",
              "      <td>5817700</td>\n",
              "      <td>-0.006359</td>\n",
              "      <td>0.153606</td>\n",
              "    </tr>\n",
              "  </tbody>\n",
              "</table>\n",
              "<p>2650 rows × 7 columns</p>\n",
              "</div>\n",
              "    <div class=\"colab-df-buttons\">\n",
              "\n",
              "  <div class=\"colab-df-container\">\n",
              "    <button class=\"colab-df-convert\" onclick=\"convertToInteractive('df-af1dfad8-a819-42ed-9960-30df993030e7')\"\n",
              "            title=\"Convert this dataframe to an interactive table.\"\n",
              "            style=\"display:none;\">\n",
              "\n",
              "  <svg xmlns=\"http://www.w3.org/2000/svg\" height=\"24px\" viewBox=\"0 -960 960 960\">\n",
              "    <path d=\"M120-120v-720h720v720H120Zm60-500h600v-160H180v160Zm220 220h160v-160H400v160Zm0 220h160v-160H400v160ZM180-400h160v-160H180v160Zm440 0h160v-160H620v160ZM180-180h160v-160H180v160Zm440 0h160v-160H620v160Z\"/>\n",
              "  </svg>\n",
              "    </button>\n",
              "\n",
              "  <style>\n",
              "    .colab-df-container {\n",
              "      display:flex;\n",
              "      gap: 12px;\n",
              "    }\n",
              "\n",
              "    .colab-df-convert {\n",
              "      background-color: #E8F0FE;\n",
              "      border: none;\n",
              "      border-radius: 50%;\n",
              "      cursor: pointer;\n",
              "      display: none;\n",
              "      fill: #1967D2;\n",
              "      height: 32px;\n",
              "      padding: 0 0 0 0;\n",
              "      width: 32px;\n",
              "    }\n",
              "\n",
              "    .colab-df-convert:hover {\n",
              "      background-color: #E2EBFA;\n",
              "      box-shadow: 0px 1px 2px rgba(60, 64, 67, 0.3), 0px 1px 3px 1px rgba(60, 64, 67, 0.15);\n",
              "      fill: #174EA6;\n",
              "    }\n",
              "\n",
              "    .colab-df-buttons div {\n",
              "      margin-bottom: 4px;\n",
              "    }\n",
              "\n",
              "    [theme=dark] .colab-df-convert {\n",
              "      background-color: #3B4455;\n",
              "      fill: #D2E3FC;\n",
              "    }\n",
              "\n",
              "    [theme=dark] .colab-df-convert:hover {\n",
              "      background-color: #434B5C;\n",
              "      box-shadow: 0px 1px 3px 1px rgba(0, 0, 0, 0.15);\n",
              "      filter: drop-shadow(0px 1px 2px rgba(0, 0, 0, 0.3));\n",
              "      fill: #FFFFFF;\n",
              "    }\n",
              "  </style>\n",
              "\n",
              "    <script>\n",
              "      const buttonEl =\n",
              "        document.querySelector('#df-af1dfad8-a819-42ed-9960-30df993030e7 button.colab-df-convert');\n",
              "      buttonEl.style.display =\n",
              "        google.colab.kernel.accessAllowed ? 'block' : 'none';\n",
              "\n",
              "      async function convertToInteractive(key) {\n",
              "        const element = document.querySelector('#df-af1dfad8-a819-42ed-9960-30df993030e7');\n",
              "        const dataTable =\n",
              "          await google.colab.kernel.invokeFunction('convertToInteractive',\n",
              "                                                    [key], {});\n",
              "        if (!dataTable) return;\n",
              "\n",
              "        const docLinkHtml = 'Like what you see? Visit the ' +\n",
              "          '<a target=\"_blank\" href=https://colab.research.google.com/notebooks/data_table.ipynb>data table notebook</a>'\n",
              "          + ' to learn more about interactive tables.';\n",
              "        element.innerHTML = '';\n",
              "        dataTable['output_type'] = 'display_data';\n",
              "        await google.colab.output.renderOutput(dataTable, element);\n",
              "        const docLink = document.createElement('div');\n",
              "        docLink.innerHTML = docLinkHtml;\n",
              "        element.appendChild(docLink);\n",
              "      }\n",
              "    </script>\n",
              "  </div>\n",
              "\n",
              "\n",
              "    <div id=\"df-174b1acb-7fa1-4f72-a618-65e142aa9f28\">\n",
              "      <button class=\"colab-df-quickchart\" onclick=\"quickchart('df-174b1acb-7fa1-4f72-a618-65e142aa9f28')\"\n",
              "                title=\"Suggest charts\"\n",
              "                style=\"display:none;\">\n",
              "\n",
              "<svg xmlns=\"http://www.w3.org/2000/svg\" height=\"24px\"viewBox=\"0 0 24 24\"\n",
              "     width=\"24px\">\n",
              "    <g>\n",
              "        <path d=\"M19 3H5c-1.1 0-2 .9-2 2v14c0 1.1.9 2 2 2h14c1.1 0 2-.9 2-2V5c0-1.1-.9-2-2-2zM9 17H7v-7h2v7zm4 0h-2V7h2v10zm4 0h-2v-4h2v4z\"/>\n",
              "    </g>\n",
              "</svg>\n",
              "      </button>\n",
              "\n",
              "<style>\n",
              "  .colab-df-quickchart {\n",
              "      --bg-color: #E8F0FE;\n",
              "      --fill-color: #1967D2;\n",
              "      --hover-bg-color: #E2EBFA;\n",
              "      --hover-fill-color: #174EA6;\n",
              "      --disabled-fill-color: #AAA;\n",
              "      --disabled-bg-color: #DDD;\n",
              "  }\n",
              "\n",
              "  [theme=dark] .colab-df-quickchart {\n",
              "      --bg-color: #3B4455;\n",
              "      --fill-color: #D2E3FC;\n",
              "      --hover-bg-color: #434B5C;\n",
              "      --hover-fill-color: #FFFFFF;\n",
              "      --disabled-bg-color: #3B4455;\n",
              "      --disabled-fill-color: #666;\n",
              "  }\n",
              "\n",
              "  .colab-df-quickchart {\n",
              "    background-color: var(--bg-color);\n",
              "    border: none;\n",
              "    border-radius: 50%;\n",
              "    cursor: pointer;\n",
              "    display: none;\n",
              "    fill: var(--fill-color);\n",
              "    height: 32px;\n",
              "    padding: 0;\n",
              "    width: 32px;\n",
              "  }\n",
              "\n",
              "  .colab-df-quickchart:hover {\n",
              "    background-color: var(--hover-bg-color);\n",
              "    box-shadow: 0 1px 2px rgba(60, 64, 67, 0.3), 0 1px 3px 1px rgba(60, 64, 67, 0.15);\n",
              "    fill: var(--button-hover-fill-color);\n",
              "  }\n",
              "\n",
              "  .colab-df-quickchart-complete:disabled,\n",
              "  .colab-df-quickchart-complete:disabled:hover {\n",
              "    background-color: var(--disabled-bg-color);\n",
              "    fill: var(--disabled-fill-color);\n",
              "    box-shadow: none;\n",
              "  }\n",
              "\n",
              "  .colab-df-spinner {\n",
              "    border: 2px solid var(--fill-color);\n",
              "    border-color: transparent;\n",
              "    border-bottom-color: var(--fill-color);\n",
              "    animation:\n",
              "      spin 1s steps(1) infinite;\n",
              "  }\n",
              "\n",
              "  @keyframes spin {\n",
              "    0% {\n",
              "      border-color: transparent;\n",
              "      border-bottom-color: var(--fill-color);\n",
              "      border-left-color: var(--fill-color);\n",
              "    }\n",
              "    20% {\n",
              "      border-color: transparent;\n",
              "      border-left-color: var(--fill-color);\n",
              "      border-top-color: var(--fill-color);\n",
              "    }\n",
              "    30% {\n",
              "      border-color: transparent;\n",
              "      border-left-color: var(--fill-color);\n",
              "      border-top-color: var(--fill-color);\n",
              "      border-right-color: var(--fill-color);\n",
              "    }\n",
              "    40% {\n",
              "      border-color: transparent;\n",
              "      border-right-color: var(--fill-color);\n",
              "      border-top-color: var(--fill-color);\n",
              "    }\n",
              "    60% {\n",
              "      border-color: transparent;\n",
              "      border-right-color: var(--fill-color);\n",
              "    }\n",
              "    80% {\n",
              "      border-color: transparent;\n",
              "      border-right-color: var(--fill-color);\n",
              "      border-bottom-color: var(--fill-color);\n",
              "    }\n",
              "    90% {\n",
              "      border-color: transparent;\n",
              "      border-bottom-color: var(--fill-color);\n",
              "    }\n",
              "  }\n",
              "</style>\n",
              "\n",
              "      <script>\n",
              "        async function quickchart(key) {\n",
              "          const quickchartButtonEl =\n",
              "            document.querySelector('#' + key + ' button');\n",
              "          quickchartButtonEl.disabled = true;  // To prevent multiple clicks.\n",
              "          quickchartButtonEl.classList.add('colab-df-spinner');\n",
              "          try {\n",
              "            const charts = await google.colab.kernel.invokeFunction(\n",
              "                'suggestCharts', [key], {});\n",
              "          } catch (error) {\n",
              "            console.error('Error during call to suggestCharts:', error);\n",
              "          }\n",
              "          quickchartButtonEl.classList.remove('colab-df-spinner');\n",
              "          quickchartButtonEl.classList.add('colab-df-quickchart-complete');\n",
              "        }\n",
              "        (() => {\n",
              "          let quickchartButtonEl =\n",
              "            document.querySelector('#df-174b1acb-7fa1-4f72-a618-65e142aa9f28 button');\n",
              "          quickchartButtonEl.style.display =\n",
              "            google.colab.kernel.accessAllowed ? 'block' : 'none';\n",
              "        })();\n",
              "      </script>\n",
              "    </div>\n",
              "\n",
              "  <div id=\"id_59fcc863-cd53-49cb-963a-05d9fa87ab2b\">\n",
              "    <style>\n",
              "      .colab-df-generate {\n",
              "        background-color: #E8F0FE;\n",
              "        border: none;\n",
              "        border-radius: 50%;\n",
              "        cursor: pointer;\n",
              "        display: none;\n",
              "        fill: #1967D2;\n",
              "        height: 32px;\n",
              "        padding: 0 0 0 0;\n",
              "        width: 32px;\n",
              "      }\n",
              "\n",
              "      .colab-df-generate:hover {\n",
              "        background-color: #E2EBFA;\n",
              "        box-shadow: 0px 1px 2px rgba(60, 64, 67, 0.3), 0px 1px 3px 1px rgba(60, 64, 67, 0.15);\n",
              "        fill: #174EA6;\n",
              "      }\n",
              "\n",
              "      [theme=dark] .colab-df-generate {\n",
              "        background-color: #3B4455;\n",
              "        fill: #D2E3FC;\n",
              "      }\n",
              "\n",
              "      [theme=dark] .colab-df-generate:hover {\n",
              "        background-color: #434B5C;\n",
              "        box-shadow: 0px 1px 3px 1px rgba(0, 0, 0, 0.15);\n",
              "        filter: drop-shadow(0px 1px 2px rgba(0, 0, 0, 0.3));\n",
              "        fill: #FFFFFF;\n",
              "      }\n",
              "    </style>\n",
              "    <button class=\"colab-df-generate\" onclick=\"generateWithVariable('gold')\"\n",
              "            title=\"Generate code using this dataframe.\"\n",
              "            style=\"display:none;\">\n",
              "\n",
              "  <svg xmlns=\"http://www.w3.org/2000/svg\" height=\"24px\"viewBox=\"0 0 24 24\"\n",
              "       width=\"24px\">\n",
              "    <path d=\"M7,19H8.4L18.45,9,17,7.55,7,17.6ZM5,21V16.75L18.45,3.32a2,2,0,0,1,2.83,0l1.4,1.43a1.91,1.91,0,0,1,.58,1.4,1.91,1.91,0,0,1-.58,1.4L9.25,21ZM18.45,9,17,7.55Zm-12,3A5.31,5.31,0,0,0,4.9,8.1,5.31,5.31,0,0,0,1,6.5,5.31,5.31,0,0,0,4.9,4.9,5.31,5.31,0,0,0,6.5,1,5.31,5.31,0,0,0,8.1,4.9,5.31,5.31,0,0,0,12,6.5,5.46,5.46,0,0,0,6.5,12Z\"/>\n",
              "  </svg>\n",
              "    </button>\n",
              "    <script>\n",
              "      (() => {\n",
              "      const buttonEl =\n",
              "        document.querySelector('#id_59fcc863-cd53-49cb-963a-05d9fa87ab2b button.colab-df-generate');\n",
              "      buttonEl.style.display =\n",
              "        google.colab.kernel.accessAllowed ? 'block' : 'none';\n",
              "\n",
              "      buttonEl.onclick = () => {\n",
              "        google.colab.notebook.generateWithVariable('gold');\n",
              "      }\n",
              "      })();\n",
              "    </script>\n",
              "  </div>\n",
              "\n",
              "    </div>\n",
              "  </div>\n"
            ],
            "application/vnd.google.colaboratory.intrinsic+json": {
              "type": "dataframe",
              "variable_name": "gold",
              "summary": "{\n  \"name\": \"gold\",\n  \"rows\": 2650,\n  \"fields\": [\n    {\n      \"column\": [\n        \"Date\",\n        \"\"\n      ],\n      \"properties\": {\n        \"dtype\": \"date\",\n        \"min\": \"2015-02-02 00:00:00\",\n        \"max\": \"2025-08-14 00:00:00\",\n        \"num_unique_values\": 2650,\n        \"samples\": [\n          \"2021-10-20 00:00:00\",\n          \"2019-08-26 00:00:00\",\n          \"2018-04-24 00:00:00\"\n        ],\n        \"semantic_type\": \"\",\n        \"description\": \"\"\n      }\n    },\n    {\n      \"column\": [\n        \"Close\",\n        \"GLD\"\n      ],\n      \"properties\": {\n        \"dtype\": \"number\",\n        \"std\": 47.386884152010886,\n        \"min\": 100.5,\n        \"max\": 316.2900085449219,\n        \"num_unique_values\": 2269,\n        \"samples\": [\n          103.55999755859375,\n          177.63999938964844,\n          163.75\n        ],\n        \"semantic_type\": \"\",\n        \"description\": \"\"\n      }\n    },\n    {\n      \"column\": [\n        \"High\",\n        \"GLD\"\n      ],\n      \"properties\": {\n        \"dtype\": \"number\",\n        \"std\": 47.58865908806592,\n        \"min\": 100.98999786376953,\n        \"max\": 317.6300048828125,\n        \"num_unique_values\": 2258,\n        \"samples\": [\n          275.3500061035156,\n          126.97000122070312,\n          120.73999786376953\n        ],\n        \"semantic_type\": \"\",\n        \"description\": \"\"\n      }\n    },\n    {\n      \"column\": [\n        \"Low\",\n        \"GLD\"\n      ],\n      \"properties\": {\n        \"dtype\": \"number\",\n        \"std\": 47.091909511009106,\n        \"min\": 100.2300033569336,\n        \"max\": 315.0400085449219,\n        \"num_unique_values\": 2253,\n        \"samples\": [\n          176.3300018310547,\n          169.8800048828125,\n          266.7099914550781\n        ],\n        \"semantic_type\": \"\",\n        \"description\": \"\"\n      }\n    },\n    {\n      \"column\": [\n        \"Open\",\n        \"GLD\"\n      ],\n      \"properties\": {\n        \"dtype\": \"number\",\n        \"std\": 47.365331867906214,\n        \"min\": 100.91999816894531,\n        \"max\": 317.489990234375,\n        \"num_unique_values\": 2251,\n        \"samples\": [\n          179.27000427246094,\n          172.0800018310547,\n          121.1500015258789\n        ],\n        \"semantic_type\": \"\",\n        \"description\": \"\"\n      }\n    },\n    {\n      \"column\": [\n        \"Volume\",\n        \"GLD\"\n      ],\n      \"properties\": {\n        \"dtype\": \"number\",\n        \"std\": 4579742,\n        \"min\": 1436500,\n        \"max\": 49139000,\n        \"num_unique_values\": 2623,\n        \"samples\": [\n          12021900,\n          4795800,\n          11813100\n        ],\n        \"semantic_type\": \"\",\n        \"description\": \"\"\n      }\n    },\n    {\n      \"column\": [\n        \"log_return\",\n        \"\"\n      ],\n      \"properties\": {\n        \"dtype\": \"number\",\n        \"std\": 0.009067486826720794,\n        \"min\": -0.0551897267189793,\n        \"max\": 0.047873912303474195,\n        \"num_unique_values\": 2643,\n        \"samples\": [\n          -0.016766621575930757,\n          -0.006453396174434407,\n          0.009905643795524405\n        ],\n        \"semantic_type\": \"\",\n        \"description\": \"\"\n      }\n    },\n    {\n      \"column\": [\n        \"realized_vol\",\n        \"\"\n      ],\n      \"properties\": {\n        \"dtype\": \"number\",\n        \"std\": 0.0481574606490237,\n        \"min\": 0.04553259086455794,\n        \"max\": 0.3937328430700456,\n        \"num_unique_values\": 2650,\n        \"samples\": [\n          0.1335180831295251,\n          0.15862569375684588,\n          0.10747090602143171\n        ],\n        \"semantic_type\": \"\",\n        \"description\": \"\"\n      }\n    }\n  ]\n}"
            }
          },
          "metadata": {},
          "execution_count": 2
        }
      ]
    },
    {
      "cell_type": "code",
      "source": [
        "import plotly.graph_objects as go\n",
        "from plotly.subplots import make_subplots\n",
        "\n",
        "fig = make_subplots(rows=2, cols=1, subplot_titles=('Gold Close Price vs Date', 'Gold Log Returns vs Date'))\n",
        "\n",
        "# Plot Close Price\n",
        "fig.add_trace(go.Scatter(x=gold.index, y=gold['Close'], mode='lines', name='Close Price'),\n",
        "              row=1, col=1)\n",
        "\n",
        "# Plot Log Returns\n",
        "fig.add_trace(go.Scatter(x=gold.index, y=gold['log_return'], mode='lines', name='Log Returns'),\n",
        "              row=2, col=1)\n",
        "\n",
        "fig.update_layout(height=800, showlegend=False)\n",
        "fig.show()"
      ],
      "metadata": {
        "colab": {
          "base_uri": "https://localhost:8080/",
          "height": 817
        },
        "id": "zJtRsAt8pXZ2",
        "outputId": "85b8d9a4-52c5-4f94-f07e-a3b7aa66c174"
      },
      "execution_count": 3,
      "outputs": [
        {
          "output_type": "display_data",
          "data": {
            "text/html": [
              "<html>\n",
              "<head><meta charset=\"utf-8\" /></head>\n",
              "<body>\n",
              "    <div>            <script src=\"https://cdnjs.cloudflare.com/ajax/libs/mathjax/2.7.5/MathJax.js?config=TeX-AMS-MML_SVG\"></script><script type=\"text/javascript\">if (window.MathJax && window.MathJax.Hub && window.MathJax.Hub.Config) {window.MathJax.Hub.Config({SVG: {font: \"STIX-Web\"}});}</script>                <script type=\"text/javascript\">window.PlotlyConfig = {MathJaxConfig: 'local'};</script>\n",
              "        <script charset=\"utf-8\" src=\"https://cdn.plot.ly/plotly-2.35.2.min.js\"></script>                <div id=\"603f6901-aba8-4e66-881c-8a51a8beb30f\" class=\"plotly-graph-div\" style=\"height:800px; width:100%;\"></div>            <script type=\"text/javascript\">                                    window.PLOTLYENV=window.PLOTLYENV || {};                                    if (document.getElementById(\"603f6901-aba8-4e66-881c-8a51a8beb30f\")) {                    Plotly.newPlot(                        \"603f6901-aba8-4e66-881c-8a51a8beb30f\",                        [{\"mode\":\"lines\",\"name\":\"Close Price\",\"x\":[\"2015-02-02T00:00:00\",\"2015-02-03T00:00:00\",\"2015-02-04T00:00:00\",\"2015-02-05T00:00:00\",\"2015-02-06T00:00:00\",\"2015-02-09T00:00:00\",\"2015-02-10T00:00:00\",\"2015-02-11T00:00:00\",\"2015-02-12T00:00:00\",\"2015-02-13T00:00:00\",\"2015-02-17T00:00:00\",\"2015-02-18T00:00:00\",\"2015-02-19T00:00:00\",\"2015-02-20T00:00:00\",\"2015-02-23T00:00:00\",\"2015-02-24T00:00:00\",\"2015-02-25T00:00:00\",\"2015-02-26T00:00:00\",\"2015-02-27T00:00:00\",\"2015-03-02T00:00:00\",\"2015-03-03T00:00:00\",\"2015-03-04T00:00:00\",\"2015-03-05T00:00:00\",\"2015-03-06T00:00:00\",\"2015-03-09T00:00:00\",\"2015-03-10T00:00:00\",\"2015-03-11T00:00:00\",\"2015-03-12T00:00:00\",\"2015-03-13T00:00:00\",\"2015-03-16T00:00:00\",\"2015-03-17T00:00:00\",\"2015-03-18T00:00:00\",\"2015-03-19T00:00:00\",\"2015-03-20T00:00:00\",\"2015-03-23T00:00:00\",\"2015-03-24T00:00:00\",\"2015-03-25T00:00:00\",\"2015-03-26T00:00:00\",\"2015-03-27T00:00:00\",\"2015-03-30T00:00:00\",\"2015-03-31T00:00:00\",\"2015-04-01T00:00:00\",\"2015-04-02T00:00:00\",\"2015-04-06T00:00:00\",\"2015-04-07T00:00:00\",\"2015-04-08T00:00:00\",\"2015-04-09T00:00:00\",\"2015-04-10T00:00:00\",\"2015-04-13T00:00:00\",\"2015-04-14T00:00:00\",\"2015-04-15T00:00:00\",\"2015-04-16T00:00:00\",\"2015-04-17T00:00:00\",\"2015-04-20T00:00:00\",\"2015-04-21T00:00:00\",\"2015-04-22T00:00:00\",\"2015-04-23T00:00:00\",\"2015-04-24T00:00:00\",\"2015-04-27T00:00:00\",\"2015-04-28T00:00:00\",\"2015-04-29T00:00:00\",\"2015-04-30T00:00:00\",\"2015-05-01T00:00:00\",\"2015-05-04T00:00:00\",\"2015-05-05T00:00:00\",\"2015-05-06T00:00:00\",\"2015-05-07T00:00:00\",\"2015-05-08T00:00:00\",\"2015-05-11T00:00:00\",\"2015-05-12T00:00:00\",\"2015-05-13T00:00:00\",\"2015-05-14T00:00:00\",\"2015-05-15T00:00:00\",\"2015-05-18T00:00:00\",\"2015-05-19T00:00:00\",\"2015-05-20T00:00:00\",\"2015-05-21T00:00:00\",\"2015-05-22T00:00:00\",\"2015-05-26T00:00:00\",\"2015-05-27T00:00:00\",\"2015-05-28T00:00:00\",\"2015-05-29T00:00:00\",\"2015-06-01T00:00:00\",\"2015-06-02T00:00:00\",\"2015-06-03T00:00:00\",\"2015-06-04T00:00:00\",\"2015-06-05T00:00:00\",\"2015-06-08T00:00:00\",\"2015-06-09T00:00:00\",\"2015-06-10T00:00:00\",\"2015-06-11T00:00:00\",\"2015-06-12T00:00:00\",\"2015-06-15T00:00:00\",\"2015-06-16T00:00:00\",\"2015-06-17T00:00:00\",\"2015-06-18T00:00:00\",\"2015-06-19T00:00:00\",\"2015-06-22T00:00:00\",\"2015-06-23T00:00:00\",\"2015-06-24T00:00:00\",\"2015-06-25T00:00:00\",\"2015-06-26T00:00:00\",\"2015-06-29T00:00:00\",\"2015-06-30T00:00:00\",\"2015-07-01T00:00:00\",\"2015-07-02T00:00:00\",\"2015-07-06T00:00:00\",\"2015-07-07T00:00:00\",\"2015-07-08T00:00:00\",\"2015-07-09T00:00:00\",\"2015-07-10T00:00:00\",\"2015-07-13T00:00:00\",\"2015-07-14T00:00:00\",\"2015-07-15T00:00:00\",\"2015-07-16T00:00:00\",\"2015-07-17T00:00:00\",\"2015-07-20T00:00:00\",\"2015-07-21T00:00:00\",\"2015-07-22T00:00:00\",\"2015-07-23T00:00:00\",\"2015-07-24T00:00:00\",\"2015-07-27T00:00:00\",\"2015-07-28T00:00:00\",\"2015-07-29T00:00:00\",\"2015-07-30T00:00:00\",\"2015-07-31T00:00:00\",\"2015-08-03T00:00:00\",\"2015-08-04T00:00:00\",\"2015-08-05T00:00:00\",\"2015-08-06T00:00:00\",\"2015-08-07T00:00:00\",\"2015-08-10T00:00:00\",\"2015-08-11T00:00:00\",\"2015-08-12T00:00:00\",\"2015-08-13T00:00:00\",\"2015-08-14T00:00:00\",\"2015-08-17T00:00:00\",\"2015-08-18T00:00:00\",\"2015-08-19T00:00:00\",\"2015-08-20T00:00:00\",\"2015-08-21T00:00:00\",\"2015-08-24T00:00:00\",\"2015-08-25T00:00:00\",\"2015-08-26T00:00:00\",\"2015-08-27T00:00:00\",\"2015-08-28T00:00:00\",\"2015-08-31T00:00:00\",\"2015-09-01T00:00:00\",\"2015-09-02T00:00:00\",\"2015-09-03T00:00:00\",\"2015-09-04T00:00:00\",\"2015-09-08T00:00:00\",\"2015-09-09T00:00:00\",\"2015-09-10T00:00:00\",\"2015-09-11T00:00:00\",\"2015-09-14T00:00:00\",\"2015-09-15T00:00:00\",\"2015-09-16T00:00:00\",\"2015-09-17T00:00:00\",\"2015-09-18T00:00:00\",\"2015-09-21T00:00:00\",\"2015-09-22T00:00:00\",\"2015-09-23T00:00:00\",\"2015-09-24T00:00:00\",\"2015-09-25T00:00:00\",\"2015-09-28T00:00:00\",\"2015-09-29T00:00:00\",\"2015-09-30T00:00:00\",\"2015-10-01T00:00:00\",\"2015-10-02T00:00:00\",\"2015-10-05T00:00:00\",\"2015-10-06T00:00:00\",\"2015-10-07T00:00:00\",\"2015-10-08T00:00:00\",\"2015-10-09T00:00:00\",\"2015-10-12T00:00:00\",\"2015-10-13T00:00:00\",\"2015-10-14T00:00:00\",\"2015-10-15T00:00:00\",\"2015-10-16T00:00:00\",\"2015-10-19T00:00:00\",\"2015-10-20T00:00:00\",\"2015-10-21T00:00:00\",\"2015-10-22T00:00:00\",\"2015-10-23T00:00:00\",\"2015-10-26T00:00:00\",\"2015-10-27T00:00:00\",\"2015-10-28T00:00:00\",\"2015-10-29T00:00:00\",\"2015-10-30T00:00:00\",\"2015-11-02T00:00:00\",\"2015-11-03T00:00:00\",\"2015-11-04T00:00:00\",\"2015-11-05T00:00:00\",\"2015-11-06T00:00:00\",\"2015-11-09T00:00:00\",\"2015-11-10T00:00:00\",\"2015-11-11T00:00:00\",\"2015-11-12T00:00:00\",\"2015-11-13T00:00:00\",\"2015-11-16T00:00:00\",\"2015-11-17T00:00:00\",\"2015-11-18T00:00:00\",\"2015-11-19T00:00:00\",\"2015-11-20T00:00:00\",\"2015-11-23T00:00:00\",\"2015-11-24T00:00:00\",\"2015-11-25T00:00:00\",\"2015-11-27T00:00:00\",\"2015-11-30T00:00:00\",\"2015-12-01T00:00:00\",\"2015-12-02T00:00:00\",\"2015-12-03T00:00:00\",\"2015-12-04T00:00:00\",\"2015-12-07T00:00:00\",\"2015-12-08T00:00:00\",\"2015-12-09T00:00:00\",\"2015-12-10T00:00:00\",\"2015-12-11T00:00:00\",\"2015-12-14T00:00:00\",\"2015-12-15T00:00:00\",\"2015-12-16T00:00:00\",\"2015-12-17T00:00:00\",\"2015-12-18T00:00:00\",\"2015-12-21T00:00:00\",\"2015-12-22T00:00:00\",\"2015-12-23T00:00:00\",\"2015-12-24T00:00:00\",\"2015-12-28T00:00:00\",\"2015-12-29T00:00:00\",\"2015-12-30T00:00:00\",\"2015-12-31T00:00:00\",\"2016-01-04T00:00:00\",\"2016-01-05T00:00:00\",\"2016-01-06T00:00:00\",\"2016-01-07T00:00:00\",\"2016-01-08T00:00:00\",\"2016-01-11T00:00:00\",\"2016-01-12T00:00:00\",\"2016-01-13T00:00:00\",\"2016-01-14T00:00:00\",\"2016-01-15T00:00:00\",\"2016-01-19T00:00:00\",\"2016-01-20T00:00:00\",\"2016-01-21T00:00:00\",\"2016-01-22T00:00:00\",\"2016-01-25T00:00:00\",\"2016-01-26T00:00:00\",\"2016-01-27T00:00:00\",\"2016-01-28T00:00:00\",\"2016-01-29T00:00:00\",\"2016-02-01T00:00:00\",\"2016-02-02T00:00:00\",\"2016-02-03T00:00:00\",\"2016-02-04T00:00:00\",\"2016-02-05T00:00:00\",\"2016-02-08T00:00:00\",\"2016-02-09T00:00:00\",\"2016-02-10T00:00:00\",\"2016-02-11T00:00:00\",\"2016-02-12T00:00:00\",\"2016-02-16T00:00:00\",\"2016-02-17T00:00:00\",\"2016-02-18T00:00:00\",\"2016-02-19T00:00:00\",\"2016-02-22T00:00:00\",\"2016-02-23T00:00:00\",\"2016-02-24T00:00:00\",\"2016-02-25T00:00:00\",\"2016-02-26T00:00:00\",\"2016-02-29T00:00:00\",\"2016-03-01T00:00:00\",\"2016-03-02T00:00:00\",\"2016-03-03T00:00:00\",\"2016-03-04T00:00:00\",\"2016-03-07T00:00:00\",\"2016-03-08T00:00:00\",\"2016-03-09T00:00:00\",\"2016-03-10T00:00:00\",\"2016-03-11T00:00:00\",\"2016-03-14T00:00:00\",\"2016-03-15T00:00:00\",\"2016-03-16T00:00:00\",\"2016-03-17T00:00:00\",\"2016-03-18T00:00:00\",\"2016-03-21T00:00:00\",\"2016-03-22T00:00:00\",\"2016-03-23T00:00:00\",\"2016-03-24T00:00:00\",\"2016-03-28T00:00:00\",\"2016-03-29T00:00:00\",\"2016-03-30T00:00:00\",\"2016-03-31T00:00:00\",\"2016-04-01T00:00:00\",\"2016-04-04T00:00:00\",\"2016-04-05T00:00:00\",\"2016-04-06T00:00:00\",\"2016-04-07T00:00:00\",\"2016-04-08T00:00:00\",\"2016-04-11T00:00:00\",\"2016-04-12T00:00:00\",\"2016-04-13T00:00:00\",\"2016-04-14T00:00:00\",\"2016-04-15T00:00:00\",\"2016-04-18T00:00:00\",\"2016-04-19T00:00:00\",\"2016-04-20T00:00:00\",\"2016-04-21T00:00:00\",\"2016-04-22T00:00:00\",\"2016-04-25T00:00:00\",\"2016-04-26T00:00:00\",\"2016-04-27T00:00:00\",\"2016-04-28T00:00:00\",\"2016-04-29T00:00:00\",\"2016-05-02T00:00:00\",\"2016-05-03T00:00:00\",\"2016-05-04T00:00:00\",\"2016-05-05T00:00:00\",\"2016-05-06T00:00:00\",\"2016-05-09T00:00:00\",\"2016-05-10T00:00:00\",\"2016-05-11T00:00:00\",\"2016-05-12T00:00:00\",\"2016-05-13T00:00:00\",\"2016-05-16T00:00:00\",\"2016-05-17T00:00:00\",\"2016-05-18T00:00:00\",\"2016-05-19T00:00:00\",\"2016-05-20T00:00:00\",\"2016-05-23T00:00:00\",\"2016-05-24T00:00:00\",\"2016-05-25T00:00:00\",\"2016-05-26T00:00:00\",\"2016-05-27T00:00:00\",\"2016-05-31T00:00:00\",\"2016-06-01T00:00:00\",\"2016-06-02T00:00:00\",\"2016-06-03T00:00:00\",\"2016-06-06T00:00:00\",\"2016-06-07T00:00:00\",\"2016-06-08T00:00:00\",\"2016-06-09T00:00:00\",\"2016-06-10T00:00:00\",\"2016-06-13T00:00:00\",\"2016-06-14T00:00:00\",\"2016-06-15T00:00:00\",\"2016-06-16T00:00:00\",\"2016-06-17T00:00:00\",\"2016-06-20T00:00:00\",\"2016-06-21T00:00:00\",\"2016-06-22T00:00:00\",\"2016-06-23T00:00:00\",\"2016-06-24T00:00:00\",\"2016-06-27T00:00:00\",\"2016-06-28T00:00:00\",\"2016-06-29T00:00:00\",\"2016-06-30T00:00:00\",\"2016-07-01T00:00:00\",\"2016-07-05T00:00:00\",\"2016-07-06T00:00:00\",\"2016-07-07T00:00:00\",\"2016-07-08T00:00:00\",\"2016-07-11T00:00:00\",\"2016-07-12T00:00:00\",\"2016-07-13T00:00:00\",\"2016-07-14T00:00:00\",\"2016-07-15T00:00:00\",\"2016-07-18T00:00:00\",\"2016-07-19T00:00:00\",\"2016-07-20T00:00:00\",\"2016-07-21T00:00:00\",\"2016-07-22T00:00:00\",\"2016-07-25T00:00:00\",\"2016-07-26T00:00:00\",\"2016-07-27T00:00:00\",\"2016-07-28T00:00:00\",\"2016-07-29T00:00:00\",\"2016-08-01T00:00:00\",\"2016-08-02T00:00:00\",\"2016-08-03T00:00:00\",\"2016-08-04T00:00:00\",\"2016-08-05T00:00:00\",\"2016-08-08T00:00:00\",\"2016-08-09T00:00:00\",\"2016-08-10T00:00:00\",\"2016-08-11T00:00:00\",\"2016-08-12T00:00:00\",\"2016-08-15T00:00:00\",\"2016-08-16T00:00:00\",\"2016-08-17T00:00:00\",\"2016-08-18T00:00:00\",\"2016-08-19T00:00:00\",\"2016-08-22T00:00:00\",\"2016-08-23T00:00:00\",\"2016-08-24T00:00:00\",\"2016-08-25T00:00:00\",\"2016-08-26T00:00:00\",\"2016-08-29T00:00:00\",\"2016-08-30T00:00:00\",\"2016-08-31T00:00:00\",\"2016-09-01T00:00:00\",\"2016-09-02T00:00:00\",\"2016-09-06T00:00:00\",\"2016-09-07T00:00:00\",\"2016-09-08T00:00:00\",\"2016-09-09T00:00:00\",\"2016-09-12T00:00:00\",\"2016-09-13T00:00:00\",\"2016-09-14T00:00:00\",\"2016-09-15T00:00:00\",\"2016-09-16T00:00:00\",\"2016-09-19T00:00:00\",\"2016-09-20T00:00:00\",\"2016-09-21T00:00:00\",\"2016-09-22T00:00:00\",\"2016-09-23T00:00:00\",\"2016-09-26T00:00:00\",\"2016-09-27T00:00:00\",\"2016-09-28T00:00:00\",\"2016-09-29T00:00:00\",\"2016-09-30T00:00:00\",\"2016-10-03T00:00:00\",\"2016-10-04T00:00:00\",\"2016-10-05T00:00:00\",\"2016-10-06T00:00:00\",\"2016-10-07T00:00:00\",\"2016-10-10T00:00:00\",\"2016-10-11T00:00:00\",\"2016-10-12T00:00:00\",\"2016-10-13T00:00:00\",\"2016-10-14T00:00:00\",\"2016-10-17T00:00:00\",\"2016-10-18T00:00:00\",\"2016-10-19T00:00:00\",\"2016-10-20T00:00:00\",\"2016-10-21T00:00:00\",\"2016-10-24T00:00:00\",\"2016-10-25T00:00:00\",\"2016-10-26T00:00:00\",\"2016-10-27T00:00:00\",\"2016-10-28T00:00:00\",\"2016-10-31T00:00:00\",\"2016-11-01T00:00:00\",\"2016-11-02T00:00:00\",\"2016-11-03T00:00:00\",\"2016-11-04T00:00:00\",\"2016-11-07T00:00:00\",\"2016-11-08T00:00:00\",\"2016-11-09T00:00:00\",\"2016-11-10T00:00:00\",\"2016-11-11T00:00:00\",\"2016-11-14T00:00:00\",\"2016-11-15T00:00:00\",\"2016-11-16T00:00:00\",\"2016-11-17T00:00:00\",\"2016-11-18T00:00:00\",\"2016-11-21T00:00:00\",\"2016-11-22T00:00:00\",\"2016-11-23T00:00:00\",\"2016-11-25T00:00:00\",\"2016-11-28T00:00:00\",\"2016-11-29T00:00:00\",\"2016-11-30T00:00:00\",\"2016-12-01T00:00:00\",\"2016-12-02T00:00:00\",\"2016-12-05T00:00:00\",\"2016-12-06T00:00:00\",\"2016-12-07T00:00:00\",\"2016-12-08T00:00:00\",\"2016-12-09T00:00:00\",\"2016-12-12T00:00:00\",\"2016-12-13T00:00:00\",\"2016-12-14T00:00:00\",\"2016-12-15T00:00:00\",\"2016-12-16T00:00:00\",\"2016-12-19T00:00:00\",\"2016-12-20T00:00:00\",\"2016-12-21T00:00:00\",\"2016-12-22T00:00:00\",\"2016-12-23T00:00:00\",\"2016-12-27T00:00:00\",\"2016-12-28T00:00:00\",\"2016-12-29T00:00:00\",\"2016-12-30T00:00:00\",\"2017-01-03T00:00:00\",\"2017-01-04T00:00:00\",\"2017-01-05T00:00:00\",\"2017-01-06T00:00:00\",\"2017-01-09T00:00:00\",\"2017-01-10T00:00:00\",\"2017-01-11T00:00:00\",\"2017-01-12T00:00:00\",\"2017-01-13T00:00:00\",\"2017-01-17T00:00:00\",\"2017-01-18T00:00:00\",\"2017-01-19T00:00:00\",\"2017-01-20T00:00:00\",\"2017-01-23T00:00:00\",\"2017-01-24T00:00:00\",\"2017-01-25T00:00:00\",\"2017-01-26T00:00:00\",\"2017-01-27T00:00:00\",\"2017-01-30T00:00:00\",\"2017-01-31T00:00:00\",\"2017-02-01T00:00:00\",\"2017-02-02T00:00:00\",\"2017-02-03T00:00:00\",\"2017-02-06T00:00:00\",\"2017-02-07T00:00:00\",\"2017-02-08T00:00:00\",\"2017-02-09T00:00:00\",\"2017-02-10T00:00:00\",\"2017-02-13T00:00:00\",\"2017-02-14T00:00:00\",\"2017-02-15T00:00:00\",\"2017-02-16T00:00:00\",\"2017-02-17T00:00:00\",\"2017-02-21T00:00:00\",\"2017-02-22T00:00:00\",\"2017-02-23T00:00:00\",\"2017-02-24T00:00:00\",\"2017-02-27T00:00:00\",\"2017-02-28T00:00:00\",\"2017-03-01T00:00:00\",\"2017-03-02T00:00:00\",\"2017-03-03T00:00:00\",\"2017-03-06T00:00:00\",\"2017-03-07T00:00:00\",\"2017-03-08T00:00:00\",\"2017-03-09T00:00:00\",\"2017-03-10T00:00:00\",\"2017-03-13T00:00:00\",\"2017-03-14T00:00:00\",\"2017-03-15T00:00:00\",\"2017-03-16T00:00:00\",\"2017-03-17T00:00:00\",\"2017-03-20T00:00:00\",\"2017-03-21T00:00:00\",\"2017-03-22T00:00:00\",\"2017-03-23T00:00:00\",\"2017-03-24T00:00:00\",\"2017-03-27T00:00:00\",\"2017-03-28T00:00:00\",\"2017-03-29T00:00:00\",\"2017-03-30T00:00:00\",\"2017-03-31T00:00:00\",\"2017-04-03T00:00:00\",\"2017-04-04T00:00:00\",\"2017-04-05T00:00:00\",\"2017-04-06T00:00:00\",\"2017-04-07T00:00:00\",\"2017-04-10T00:00:00\",\"2017-04-11T00:00:00\",\"2017-04-12T00:00:00\",\"2017-04-13T00:00:00\",\"2017-04-17T00:00:00\",\"2017-04-18T00:00:00\",\"2017-04-19T00:00:00\",\"2017-04-20T00:00:00\",\"2017-04-21T00:00:00\",\"2017-04-24T00:00:00\",\"2017-04-25T00:00:00\",\"2017-04-26T00:00:00\",\"2017-04-27T00:00:00\",\"2017-04-28T00:00:00\",\"2017-05-01T00:00:00\",\"2017-05-02T00:00:00\",\"2017-05-03T00:00:00\",\"2017-05-04T00:00:00\",\"2017-05-05T00:00:00\",\"2017-05-08T00:00:00\",\"2017-05-09T00:00:00\",\"2017-05-10T00:00:00\",\"2017-05-11T00:00:00\",\"2017-05-12T00:00:00\",\"2017-05-15T00:00:00\",\"2017-05-16T00:00:00\",\"2017-05-17T00:00:00\",\"2017-05-18T00:00:00\",\"2017-05-19T00:00:00\",\"2017-05-22T00:00:00\",\"2017-05-23T00:00:00\",\"2017-05-24T00:00:00\",\"2017-05-25T00:00:00\",\"2017-05-26T00:00:00\",\"2017-05-30T00:00:00\",\"2017-05-31T00:00:00\",\"2017-06-01T00:00:00\",\"2017-06-02T00:00:00\",\"2017-06-05T00:00:00\",\"2017-06-06T00:00:00\",\"2017-06-07T00:00:00\",\"2017-06-08T00:00:00\",\"2017-06-09T00:00:00\",\"2017-06-12T00:00:00\",\"2017-06-13T00:00:00\",\"2017-06-14T00:00:00\",\"2017-06-15T00:00:00\",\"2017-06-16T00:00:00\",\"2017-06-19T00:00:00\",\"2017-06-20T00:00:00\",\"2017-06-21T00:00:00\",\"2017-06-22T00:00:00\",\"2017-06-23T00:00:00\",\"2017-06-26T00:00:00\",\"2017-06-27T00:00:00\",\"2017-06-28T00:00:00\",\"2017-06-29T00:00:00\",\"2017-06-30T00:00:00\",\"2017-07-03T00:00:00\",\"2017-07-05T00:00:00\",\"2017-07-06T00:00:00\",\"2017-07-07T00:00:00\",\"2017-07-10T00:00:00\",\"2017-07-11T00:00:00\",\"2017-07-12T00:00:00\",\"2017-07-13T00:00:00\",\"2017-07-14T00:00:00\",\"2017-07-17T00:00:00\",\"2017-07-18T00:00:00\",\"2017-07-19T00:00:00\",\"2017-07-20T00:00:00\",\"2017-07-21T00:00:00\",\"2017-07-24T00:00:00\",\"2017-07-25T00:00:00\",\"2017-07-26T00:00:00\",\"2017-07-27T00:00:00\",\"2017-07-28T00:00:00\",\"2017-07-31T00:00:00\",\"2017-08-01T00:00:00\",\"2017-08-02T00:00:00\",\"2017-08-03T00:00:00\",\"2017-08-04T00:00:00\",\"2017-08-07T00:00:00\",\"2017-08-08T00:00:00\",\"2017-08-09T00:00:00\",\"2017-08-10T00:00:00\",\"2017-08-11T00:00:00\",\"2017-08-14T00:00:00\",\"2017-08-15T00:00:00\",\"2017-08-16T00:00:00\",\"2017-08-17T00:00:00\",\"2017-08-18T00:00:00\",\"2017-08-21T00:00:00\",\"2017-08-22T00:00:00\",\"2017-08-23T00:00:00\",\"2017-08-24T00:00:00\",\"2017-08-25T00:00:00\",\"2017-08-28T00:00:00\",\"2017-08-29T00:00:00\",\"2017-08-30T00:00:00\",\"2017-08-31T00:00:00\",\"2017-09-01T00:00:00\",\"2017-09-05T00:00:00\",\"2017-09-06T00:00:00\",\"2017-09-07T00:00:00\",\"2017-09-08T00:00:00\",\"2017-09-11T00:00:00\",\"2017-09-12T00:00:00\",\"2017-09-13T00:00:00\",\"2017-09-14T00:00:00\",\"2017-09-15T00:00:00\",\"2017-09-18T00:00:00\",\"2017-09-19T00:00:00\",\"2017-09-20T00:00:00\",\"2017-09-21T00:00:00\",\"2017-09-22T00:00:00\",\"2017-09-25T00:00:00\",\"2017-09-26T00:00:00\",\"2017-09-27T00:00:00\",\"2017-09-28T00:00:00\",\"2017-09-29T00:00:00\",\"2017-10-02T00:00:00\",\"2017-10-03T00:00:00\",\"2017-10-04T00:00:00\",\"2017-10-05T00:00:00\",\"2017-10-06T00:00:00\",\"2017-10-09T00:00:00\",\"2017-10-10T00:00:00\",\"2017-10-11T00:00:00\",\"2017-10-12T00:00:00\",\"2017-10-13T00:00:00\",\"2017-10-16T00:00:00\",\"2017-10-17T00:00:00\",\"2017-10-18T00:00:00\",\"2017-10-19T00:00:00\",\"2017-10-20T00:00:00\",\"2017-10-23T00:00:00\",\"2017-10-24T00:00:00\",\"2017-10-25T00:00:00\",\"2017-10-26T00:00:00\",\"2017-10-27T00:00:00\",\"2017-10-30T00:00:00\",\"2017-10-31T00:00:00\",\"2017-11-01T00:00:00\",\"2017-11-02T00:00:00\",\"2017-11-03T00:00:00\",\"2017-11-06T00:00:00\",\"2017-11-07T00:00:00\",\"2017-11-08T00:00:00\",\"2017-11-09T00:00:00\",\"2017-11-10T00:00:00\",\"2017-11-13T00:00:00\",\"2017-11-14T00:00:00\",\"2017-11-15T00:00:00\",\"2017-11-16T00:00:00\",\"2017-11-17T00:00:00\",\"2017-11-20T00:00:00\",\"2017-11-21T00:00:00\",\"2017-11-22T00:00:00\",\"2017-11-24T00:00:00\",\"2017-11-27T00:00:00\",\"2017-11-28T00:00:00\",\"2017-11-29T00:00:00\",\"2017-11-30T00:00:00\",\"2017-12-01T00:00:00\",\"2017-12-04T00:00:00\",\"2017-12-05T00:00:00\",\"2017-12-06T00:00:00\",\"2017-12-07T00:00:00\",\"2017-12-08T00:00:00\",\"2017-12-11T00:00:00\",\"2017-12-12T00:00:00\",\"2017-12-13T00:00:00\",\"2017-12-14T00:00:00\",\"2017-12-15T00:00:00\",\"2017-12-18T00:00:00\",\"2017-12-19T00:00:00\",\"2017-12-20T00:00:00\",\"2017-12-21T00:00:00\",\"2017-12-22T00:00:00\",\"2017-12-26T00:00:00\",\"2017-12-27T00:00:00\",\"2017-12-28T00:00:00\",\"2017-12-29T00:00:00\",\"2018-01-02T00:00:00\",\"2018-01-03T00:00:00\",\"2018-01-04T00:00:00\",\"2018-01-05T00:00:00\",\"2018-01-08T00:00:00\",\"2018-01-09T00:00:00\",\"2018-01-10T00:00:00\",\"2018-01-11T00:00:00\",\"2018-01-12T00:00:00\",\"2018-01-16T00:00:00\",\"2018-01-17T00:00:00\",\"2018-01-18T00:00:00\",\"2018-01-19T00:00:00\",\"2018-01-22T00:00:00\",\"2018-01-23T00:00:00\",\"2018-01-24T00:00:00\",\"2018-01-25T00:00:00\",\"2018-01-26T00:00:00\",\"2018-01-29T00:00:00\",\"2018-01-30T00:00:00\",\"2018-01-31T00:00:00\",\"2018-02-01T00:00:00\",\"2018-02-02T00:00:00\",\"2018-02-05T00:00:00\",\"2018-02-06T00:00:00\",\"2018-02-07T00:00:00\",\"2018-02-08T00:00:00\",\"2018-02-09T00:00:00\",\"2018-02-12T00:00:00\",\"2018-02-13T00:00:00\",\"2018-02-14T00:00:00\",\"2018-02-15T00:00:00\",\"2018-02-16T00:00:00\",\"2018-02-20T00:00:00\",\"2018-02-21T00:00:00\",\"2018-02-22T00:00:00\",\"2018-02-23T00:00:00\",\"2018-02-26T00:00:00\",\"2018-02-27T00:00:00\",\"2018-02-28T00:00:00\",\"2018-03-01T00:00:00\",\"2018-03-02T00:00:00\",\"2018-03-05T00:00:00\",\"2018-03-06T00:00:00\",\"2018-03-07T00:00:00\",\"2018-03-08T00:00:00\",\"2018-03-09T00:00:00\",\"2018-03-12T00:00:00\",\"2018-03-13T00:00:00\",\"2018-03-14T00:00:00\",\"2018-03-15T00:00:00\",\"2018-03-16T00:00:00\",\"2018-03-19T00:00:00\",\"2018-03-20T00:00:00\",\"2018-03-21T00:00:00\",\"2018-03-22T00:00:00\",\"2018-03-23T00:00:00\",\"2018-03-26T00:00:00\",\"2018-03-27T00:00:00\",\"2018-03-28T00:00:00\",\"2018-03-29T00:00:00\",\"2018-04-02T00:00:00\",\"2018-04-03T00:00:00\",\"2018-04-04T00:00:00\",\"2018-04-05T00:00:00\",\"2018-04-06T00:00:00\",\"2018-04-09T00:00:00\",\"2018-04-10T00:00:00\",\"2018-04-11T00:00:00\",\"2018-04-12T00:00:00\",\"2018-04-13T00:00:00\",\"2018-04-16T00:00:00\",\"2018-04-17T00:00:00\",\"2018-04-18T00:00:00\",\"2018-04-19T00:00:00\",\"2018-04-20T00:00:00\",\"2018-04-23T00:00:00\",\"2018-04-24T00:00:00\",\"2018-04-25T00:00:00\",\"2018-04-26T00:00:00\",\"2018-04-27T00:00:00\",\"2018-04-30T00:00:00\",\"2018-05-01T00:00:00\",\"2018-05-02T00:00:00\",\"2018-05-03T00:00:00\",\"2018-05-04T00:00:00\",\"2018-05-07T00:00:00\",\"2018-05-08T00:00:00\",\"2018-05-09T00:00:00\",\"2018-05-10T00:00:00\",\"2018-05-11T00:00:00\",\"2018-05-14T00:00:00\",\"2018-05-15T00:00:00\",\"2018-05-16T00:00:00\",\"2018-05-17T00:00:00\",\"2018-05-18T00:00:00\",\"2018-05-21T00:00:00\",\"2018-05-22T00:00:00\",\"2018-05-23T00:00:00\",\"2018-05-24T00:00:00\",\"2018-05-25T00:00:00\",\"2018-05-29T00:00:00\",\"2018-05-30T00:00:00\",\"2018-05-31T00:00:00\",\"2018-06-01T00:00:00\",\"2018-06-04T00:00:00\",\"2018-06-05T00:00:00\",\"2018-06-06T00:00:00\",\"2018-06-07T00:00:00\",\"2018-06-08T00:00:00\",\"2018-06-11T00:00:00\",\"2018-06-12T00:00:00\",\"2018-06-13T00:00:00\",\"2018-06-14T00:00:00\",\"2018-06-15T00:00:00\",\"2018-06-18T00:00:00\",\"2018-06-19T00:00:00\",\"2018-06-20T00:00:00\",\"2018-06-21T00:00:00\",\"2018-06-22T00:00:00\",\"2018-06-25T00:00:00\",\"2018-06-26T00:00:00\",\"2018-06-27T00:00:00\",\"2018-06-28T00:00:00\",\"2018-06-29T00:00:00\",\"2018-07-02T00:00:00\",\"2018-07-03T00:00:00\",\"2018-07-05T00:00:00\",\"2018-07-06T00:00:00\",\"2018-07-09T00:00:00\",\"2018-07-10T00:00:00\",\"2018-07-11T00:00:00\",\"2018-07-12T00:00:00\",\"2018-07-13T00:00:00\",\"2018-07-16T00:00:00\",\"2018-07-17T00:00:00\",\"2018-07-18T00:00:00\",\"2018-07-19T00:00:00\",\"2018-07-20T00:00:00\",\"2018-07-23T00:00:00\",\"2018-07-24T00:00:00\",\"2018-07-25T00:00:00\",\"2018-07-26T00:00:00\",\"2018-07-27T00:00:00\",\"2018-07-30T00:00:00\",\"2018-07-31T00:00:00\",\"2018-08-01T00:00:00\",\"2018-08-02T00:00:00\",\"2018-08-03T00:00:00\",\"2018-08-06T00:00:00\",\"2018-08-07T00:00:00\",\"2018-08-08T00:00:00\",\"2018-08-09T00:00:00\",\"2018-08-10T00:00:00\",\"2018-08-13T00:00:00\",\"2018-08-14T00:00:00\",\"2018-08-15T00:00:00\",\"2018-08-16T00:00:00\",\"2018-08-17T00:00:00\",\"2018-08-20T00:00:00\",\"2018-08-21T00:00:00\",\"2018-08-22T00:00:00\",\"2018-08-23T00:00:00\",\"2018-08-24T00:00:00\",\"2018-08-27T00:00:00\",\"2018-08-28T00:00:00\",\"2018-08-29T00:00:00\",\"2018-08-30T00:00:00\",\"2018-08-31T00:00:00\",\"2018-09-04T00:00:00\",\"2018-09-05T00:00:00\",\"2018-09-06T00:00:00\",\"2018-09-07T00:00:00\",\"2018-09-10T00:00:00\",\"2018-09-11T00:00:00\",\"2018-09-12T00:00:00\",\"2018-09-13T00:00:00\",\"2018-09-14T00:00:00\",\"2018-09-17T00:00:00\",\"2018-09-18T00:00:00\",\"2018-09-19T00:00:00\",\"2018-09-20T00:00:00\",\"2018-09-21T00:00:00\",\"2018-09-24T00:00:00\",\"2018-09-25T00:00:00\",\"2018-09-26T00:00:00\",\"2018-09-27T00:00:00\",\"2018-09-28T00:00:00\",\"2018-10-01T00:00:00\",\"2018-10-02T00:00:00\",\"2018-10-03T00:00:00\",\"2018-10-04T00:00:00\",\"2018-10-05T00:00:00\",\"2018-10-08T00:00:00\",\"2018-10-09T00:00:00\",\"2018-10-10T00:00:00\",\"2018-10-11T00:00:00\",\"2018-10-12T00:00:00\",\"2018-10-15T00:00:00\",\"2018-10-16T00:00:00\",\"2018-10-17T00:00:00\",\"2018-10-18T00:00:00\",\"2018-10-19T00:00:00\",\"2018-10-22T00:00:00\",\"2018-10-23T00:00:00\",\"2018-10-24T00:00:00\",\"2018-10-25T00:00:00\",\"2018-10-26T00:00:00\",\"2018-10-29T00:00:00\",\"2018-10-30T00:00:00\",\"2018-10-31T00:00:00\",\"2018-11-01T00:00:00\",\"2018-11-02T00:00:00\",\"2018-11-05T00:00:00\",\"2018-11-06T00:00:00\",\"2018-11-07T00:00:00\",\"2018-11-08T00:00:00\",\"2018-11-09T00:00:00\",\"2018-11-12T00:00:00\",\"2018-11-13T00:00:00\",\"2018-11-14T00:00:00\",\"2018-11-15T00:00:00\",\"2018-11-16T00:00:00\",\"2018-11-19T00:00:00\",\"2018-11-20T00:00:00\",\"2018-11-21T00:00:00\",\"2018-11-23T00:00:00\",\"2018-11-26T00:00:00\",\"2018-11-27T00:00:00\",\"2018-11-28T00:00:00\",\"2018-11-29T00:00:00\",\"2018-11-30T00:00:00\",\"2018-12-03T00:00:00\",\"2018-12-04T00:00:00\",\"2018-12-06T00:00:00\",\"2018-12-07T00:00:00\",\"2018-12-10T00:00:00\",\"2018-12-11T00:00:00\",\"2018-12-12T00:00:00\",\"2018-12-13T00:00:00\",\"2018-12-14T00:00:00\",\"2018-12-17T00:00:00\",\"2018-12-18T00:00:00\",\"2018-12-19T00:00:00\",\"2018-12-20T00:00:00\",\"2018-12-21T00:00:00\",\"2018-12-24T00:00:00\",\"2018-12-26T00:00:00\",\"2018-12-27T00:00:00\",\"2018-12-28T00:00:00\",\"2018-12-31T00:00:00\",\"2019-01-02T00:00:00\",\"2019-01-03T00:00:00\",\"2019-01-04T00:00:00\",\"2019-01-07T00:00:00\",\"2019-01-08T00:00:00\",\"2019-01-09T00:00:00\",\"2019-01-10T00:00:00\",\"2019-01-11T00:00:00\",\"2019-01-14T00:00:00\",\"2019-01-15T00:00:00\",\"2019-01-16T00:00:00\",\"2019-01-17T00:00:00\",\"2019-01-18T00:00:00\",\"2019-01-22T00:00:00\",\"2019-01-23T00:00:00\",\"2019-01-24T00:00:00\",\"2019-01-25T00:00:00\",\"2019-01-28T00:00:00\",\"2019-01-29T00:00:00\",\"2019-01-30T00:00:00\",\"2019-01-31T00:00:00\",\"2019-02-01T00:00:00\",\"2019-02-04T00:00:00\",\"2019-02-05T00:00:00\",\"2019-02-06T00:00:00\",\"2019-02-07T00:00:00\",\"2019-02-08T00:00:00\",\"2019-02-11T00:00:00\",\"2019-02-12T00:00:00\",\"2019-02-13T00:00:00\",\"2019-02-14T00:00:00\",\"2019-02-15T00:00:00\",\"2019-02-19T00:00:00\",\"2019-02-20T00:00:00\",\"2019-02-21T00:00:00\",\"2019-02-22T00:00:00\",\"2019-02-25T00:00:00\",\"2019-02-26T00:00:00\",\"2019-02-27T00:00:00\",\"2019-02-28T00:00:00\",\"2019-03-01T00:00:00\",\"2019-03-04T00:00:00\",\"2019-03-05T00:00:00\",\"2019-03-06T00:00:00\",\"2019-03-07T00:00:00\",\"2019-03-08T00:00:00\",\"2019-03-11T00:00:00\",\"2019-03-12T00:00:00\",\"2019-03-13T00:00:00\",\"2019-03-14T00:00:00\",\"2019-03-15T00:00:00\",\"2019-03-18T00:00:00\",\"2019-03-19T00:00:00\",\"2019-03-20T00:00:00\",\"2019-03-21T00:00:00\",\"2019-03-22T00:00:00\",\"2019-03-25T00:00:00\",\"2019-03-26T00:00:00\",\"2019-03-27T00:00:00\",\"2019-03-28T00:00:00\",\"2019-03-29T00:00:00\",\"2019-04-01T00:00:00\",\"2019-04-02T00:00:00\",\"2019-04-03T00:00:00\",\"2019-04-04T00:00:00\",\"2019-04-05T00:00:00\",\"2019-04-08T00:00:00\",\"2019-04-09T00:00:00\",\"2019-04-10T00:00:00\",\"2019-04-11T00:00:00\",\"2019-04-12T00:00:00\",\"2019-04-15T00:00:00\",\"2019-04-16T00:00:00\",\"2019-04-17T00:00:00\",\"2019-04-18T00:00:00\",\"2019-04-22T00:00:00\",\"2019-04-23T00:00:00\",\"2019-04-24T00:00:00\",\"2019-04-25T00:00:00\",\"2019-04-26T00:00:00\",\"2019-04-29T00:00:00\",\"2019-04-30T00:00:00\",\"2019-05-01T00:00:00\",\"2019-05-02T00:00:00\",\"2019-05-03T00:00:00\",\"2019-05-06T00:00:00\",\"2019-05-07T00:00:00\",\"2019-05-08T00:00:00\",\"2019-05-09T00:00:00\",\"2019-05-10T00:00:00\",\"2019-05-13T00:00:00\",\"2019-05-14T00:00:00\",\"2019-05-15T00:00:00\",\"2019-05-16T00:00:00\",\"2019-05-17T00:00:00\",\"2019-05-20T00:00:00\",\"2019-05-21T00:00:00\",\"2019-05-22T00:00:00\",\"2019-05-23T00:00:00\",\"2019-05-24T00:00:00\",\"2019-05-28T00:00:00\",\"2019-05-29T00:00:00\",\"2019-05-30T00:00:00\",\"2019-05-31T00:00:00\",\"2019-06-03T00:00:00\",\"2019-06-04T00:00:00\",\"2019-06-05T00:00:00\",\"2019-06-06T00:00:00\",\"2019-06-07T00:00:00\",\"2019-06-10T00:00:00\",\"2019-06-11T00:00:00\",\"2019-06-12T00:00:00\",\"2019-06-13T00:00:00\",\"2019-06-14T00:00:00\",\"2019-06-17T00:00:00\",\"2019-06-18T00:00:00\",\"2019-06-19T00:00:00\",\"2019-06-20T00:00:00\",\"2019-06-21T00:00:00\",\"2019-06-24T00:00:00\",\"2019-06-25T00:00:00\",\"2019-06-26T00:00:00\",\"2019-06-27T00:00:00\",\"2019-06-28T00:00:00\",\"2019-07-01T00:00:00\",\"2019-07-02T00:00:00\",\"2019-07-03T00:00:00\",\"2019-07-05T00:00:00\",\"2019-07-08T00:00:00\",\"2019-07-09T00:00:00\",\"2019-07-10T00:00:00\",\"2019-07-11T00:00:00\",\"2019-07-12T00:00:00\",\"2019-07-15T00:00:00\",\"2019-07-16T00:00:00\",\"2019-07-17T00:00:00\",\"2019-07-18T00:00:00\",\"2019-07-19T00:00:00\",\"2019-07-22T00:00:00\",\"2019-07-23T00:00:00\",\"2019-07-24T00:00:00\",\"2019-07-25T00:00:00\",\"2019-07-26T00:00:00\",\"2019-07-29T00:00:00\",\"2019-07-30T00:00:00\",\"2019-07-31T00:00:00\",\"2019-08-01T00:00:00\",\"2019-08-02T00:00:00\",\"2019-08-05T00:00:00\",\"2019-08-06T00:00:00\",\"2019-08-07T00:00:00\",\"2019-08-08T00:00:00\",\"2019-08-09T00:00:00\",\"2019-08-12T00:00:00\",\"2019-08-13T00:00:00\",\"2019-08-14T00:00:00\",\"2019-08-15T00:00:00\",\"2019-08-16T00:00:00\",\"2019-08-19T00:00:00\",\"2019-08-20T00:00:00\",\"2019-08-21T00:00:00\",\"2019-08-22T00:00:00\",\"2019-08-23T00:00:00\",\"2019-08-26T00:00:00\",\"2019-08-27T00:00:00\",\"2019-08-28T00:00:00\",\"2019-08-29T00:00:00\",\"2019-08-30T00:00:00\",\"2019-09-03T00:00:00\",\"2019-09-04T00:00:00\",\"2019-09-05T00:00:00\",\"2019-09-06T00:00:00\",\"2019-09-09T00:00:00\",\"2019-09-10T00:00:00\",\"2019-09-11T00:00:00\",\"2019-09-12T00:00:00\",\"2019-09-13T00:00:00\",\"2019-09-16T00:00:00\",\"2019-09-17T00:00:00\",\"2019-09-18T00:00:00\",\"2019-09-19T00:00:00\",\"2019-09-20T00:00:00\",\"2019-09-23T00:00:00\",\"2019-09-24T00:00:00\",\"2019-09-25T00:00:00\",\"2019-09-26T00:00:00\",\"2019-09-27T00:00:00\",\"2019-09-30T00:00:00\",\"2019-10-01T00:00:00\",\"2019-10-02T00:00:00\",\"2019-10-03T00:00:00\",\"2019-10-04T00:00:00\",\"2019-10-07T00:00:00\",\"2019-10-08T00:00:00\",\"2019-10-09T00:00:00\",\"2019-10-10T00:00:00\",\"2019-10-11T00:00:00\",\"2019-10-14T00:00:00\",\"2019-10-15T00:00:00\",\"2019-10-16T00:00:00\",\"2019-10-17T00:00:00\",\"2019-10-18T00:00:00\",\"2019-10-21T00:00:00\",\"2019-10-22T00:00:00\",\"2019-10-23T00:00:00\",\"2019-10-24T00:00:00\",\"2019-10-25T00:00:00\",\"2019-10-28T00:00:00\",\"2019-10-29T00:00:00\",\"2019-10-30T00:00:00\",\"2019-10-31T00:00:00\",\"2019-11-01T00:00:00\",\"2019-11-04T00:00:00\",\"2019-11-05T00:00:00\",\"2019-11-06T00:00:00\",\"2019-11-07T00:00:00\",\"2019-11-08T00:00:00\",\"2019-11-11T00:00:00\",\"2019-11-12T00:00:00\",\"2019-11-13T00:00:00\",\"2019-11-14T00:00:00\",\"2019-11-15T00:00:00\",\"2019-11-18T00:00:00\",\"2019-11-19T00:00:00\",\"2019-11-20T00:00:00\",\"2019-11-21T00:00:00\",\"2019-11-22T00:00:00\",\"2019-11-25T00:00:00\",\"2019-11-26T00:00:00\",\"2019-11-27T00:00:00\",\"2019-11-29T00:00:00\",\"2019-12-02T00:00:00\",\"2019-12-03T00:00:00\",\"2019-12-04T00:00:00\",\"2019-12-05T00:00:00\",\"2019-12-06T00:00:00\",\"2019-12-09T00:00:00\",\"2019-12-10T00:00:00\",\"2019-12-11T00:00:00\",\"2019-12-12T00:00:00\",\"2019-12-13T00:00:00\",\"2019-12-16T00:00:00\",\"2019-12-17T00:00:00\",\"2019-12-18T00:00:00\",\"2019-12-19T00:00:00\",\"2019-12-20T00:00:00\",\"2019-12-23T00:00:00\",\"2019-12-24T00:00:00\",\"2019-12-26T00:00:00\",\"2019-12-27T00:00:00\",\"2019-12-30T00:00:00\",\"2019-12-31T00:00:00\",\"2020-01-02T00:00:00\",\"2020-01-03T00:00:00\",\"2020-01-06T00:00:00\",\"2020-01-07T00:00:00\",\"2020-01-08T00:00:00\",\"2020-01-09T00:00:00\",\"2020-01-10T00:00:00\",\"2020-01-13T00:00:00\",\"2020-01-14T00:00:00\",\"2020-01-15T00:00:00\",\"2020-01-16T00:00:00\",\"2020-01-17T00:00:00\",\"2020-01-21T00:00:00\",\"2020-01-22T00:00:00\",\"2020-01-23T00:00:00\",\"2020-01-24T00:00:00\",\"2020-01-27T00:00:00\",\"2020-01-28T00:00:00\",\"2020-01-29T00:00:00\",\"2020-01-30T00:00:00\",\"2020-01-31T00:00:00\",\"2020-02-03T00:00:00\",\"2020-02-04T00:00:00\",\"2020-02-05T00:00:00\",\"2020-02-06T00:00:00\",\"2020-02-07T00:00:00\",\"2020-02-10T00:00:00\",\"2020-02-11T00:00:00\",\"2020-02-12T00:00:00\",\"2020-02-13T00:00:00\",\"2020-02-14T00:00:00\",\"2020-02-18T00:00:00\",\"2020-02-19T00:00:00\",\"2020-02-20T00:00:00\",\"2020-02-21T00:00:00\",\"2020-02-24T00:00:00\",\"2020-02-25T00:00:00\",\"2020-02-26T00:00:00\",\"2020-02-27T00:00:00\",\"2020-02-28T00:00:00\",\"2020-03-02T00:00:00\",\"2020-03-03T00:00:00\",\"2020-03-04T00:00:00\",\"2020-03-05T00:00:00\",\"2020-03-06T00:00:00\",\"2020-03-09T00:00:00\",\"2020-03-10T00:00:00\",\"2020-03-11T00:00:00\",\"2020-03-12T00:00:00\",\"2020-03-13T00:00:00\",\"2020-03-16T00:00:00\",\"2020-03-17T00:00:00\",\"2020-03-18T00:00:00\",\"2020-03-19T00:00:00\",\"2020-03-20T00:00:00\",\"2020-03-23T00:00:00\",\"2020-03-24T00:00:00\",\"2020-03-25T00:00:00\",\"2020-03-26T00:00:00\",\"2020-03-27T00:00:00\",\"2020-03-30T00:00:00\",\"2020-03-31T00:00:00\",\"2020-04-01T00:00:00\",\"2020-04-02T00:00:00\",\"2020-04-03T00:00:00\",\"2020-04-06T00:00:00\",\"2020-04-07T00:00:00\",\"2020-04-08T00:00:00\",\"2020-04-09T00:00:00\",\"2020-04-13T00:00:00\",\"2020-04-14T00:00:00\",\"2020-04-15T00:00:00\",\"2020-04-16T00:00:00\",\"2020-04-17T00:00:00\",\"2020-04-20T00:00:00\",\"2020-04-21T00:00:00\",\"2020-04-22T00:00:00\",\"2020-04-23T00:00:00\",\"2020-04-24T00:00:00\",\"2020-04-27T00:00:00\",\"2020-04-28T00:00:00\",\"2020-04-29T00:00:00\",\"2020-04-30T00:00:00\",\"2020-05-01T00:00:00\",\"2020-05-04T00:00:00\",\"2020-05-05T00:00:00\",\"2020-05-06T00:00:00\",\"2020-05-07T00:00:00\",\"2020-05-08T00:00:00\",\"2020-05-11T00:00:00\",\"2020-05-12T00:00:00\",\"2020-05-13T00:00:00\",\"2020-05-14T00:00:00\",\"2020-05-15T00:00:00\",\"2020-05-18T00:00:00\",\"2020-05-19T00:00:00\",\"2020-05-20T00:00:00\",\"2020-05-21T00:00:00\",\"2020-05-22T00:00:00\",\"2020-05-26T00:00:00\",\"2020-05-27T00:00:00\",\"2020-05-28T00:00:00\",\"2020-05-29T00:00:00\",\"2020-06-01T00:00:00\",\"2020-06-02T00:00:00\",\"2020-06-03T00:00:00\",\"2020-06-04T00:00:00\",\"2020-06-05T00:00:00\",\"2020-06-08T00:00:00\",\"2020-06-09T00:00:00\",\"2020-06-10T00:00:00\",\"2020-06-11T00:00:00\",\"2020-06-12T00:00:00\",\"2020-06-15T00:00:00\",\"2020-06-16T00:00:00\",\"2020-06-17T00:00:00\",\"2020-06-18T00:00:00\",\"2020-06-19T00:00:00\",\"2020-06-22T00:00:00\",\"2020-06-23T00:00:00\",\"2020-06-24T00:00:00\",\"2020-06-25T00:00:00\",\"2020-06-26T00:00:00\",\"2020-06-29T00:00:00\",\"2020-06-30T00:00:00\",\"2020-07-01T00:00:00\",\"2020-07-02T00:00:00\",\"2020-07-06T00:00:00\",\"2020-07-07T00:00:00\",\"2020-07-08T00:00:00\",\"2020-07-09T00:00:00\",\"2020-07-10T00:00:00\",\"2020-07-13T00:00:00\",\"2020-07-14T00:00:00\",\"2020-07-15T00:00:00\",\"2020-07-16T00:00:00\",\"2020-07-17T00:00:00\",\"2020-07-20T00:00:00\",\"2020-07-21T00:00:00\",\"2020-07-22T00:00:00\",\"2020-07-23T00:00:00\",\"2020-07-24T00:00:00\",\"2020-07-27T00:00:00\",\"2020-07-28T00:00:00\",\"2020-07-29T00:00:00\",\"2020-07-30T00:00:00\",\"2020-07-31T00:00:00\",\"2020-08-03T00:00:00\",\"2020-08-04T00:00:00\",\"2020-08-05T00:00:00\",\"2020-08-06T00:00:00\",\"2020-08-07T00:00:00\",\"2020-08-10T00:00:00\",\"2020-08-11T00:00:00\",\"2020-08-12T00:00:00\",\"2020-08-13T00:00:00\",\"2020-08-14T00:00:00\",\"2020-08-17T00:00:00\",\"2020-08-18T00:00:00\",\"2020-08-19T00:00:00\",\"2020-08-20T00:00:00\",\"2020-08-21T00:00:00\",\"2020-08-24T00:00:00\",\"2020-08-25T00:00:00\",\"2020-08-26T00:00:00\",\"2020-08-27T00:00:00\",\"2020-08-28T00:00:00\",\"2020-08-31T00:00:00\",\"2020-09-01T00:00:00\",\"2020-09-02T00:00:00\",\"2020-09-03T00:00:00\",\"2020-09-04T00:00:00\",\"2020-09-08T00:00:00\",\"2020-09-09T00:00:00\",\"2020-09-10T00:00:00\",\"2020-09-11T00:00:00\",\"2020-09-14T00:00:00\",\"2020-09-15T00:00:00\",\"2020-09-16T00:00:00\",\"2020-09-17T00:00:00\",\"2020-09-18T00:00:00\",\"2020-09-21T00:00:00\",\"2020-09-22T00:00:00\",\"2020-09-23T00:00:00\",\"2020-09-24T00:00:00\",\"2020-09-25T00:00:00\",\"2020-09-28T00:00:00\",\"2020-09-29T00:00:00\",\"2020-09-30T00:00:00\",\"2020-10-01T00:00:00\",\"2020-10-02T00:00:00\",\"2020-10-05T00:00:00\",\"2020-10-06T00:00:00\",\"2020-10-07T00:00:00\",\"2020-10-08T00:00:00\",\"2020-10-09T00:00:00\",\"2020-10-12T00:00:00\",\"2020-10-13T00:00:00\",\"2020-10-14T00:00:00\",\"2020-10-15T00:00:00\",\"2020-10-16T00:00:00\",\"2020-10-19T00:00:00\",\"2020-10-20T00:00:00\",\"2020-10-21T00:00:00\",\"2020-10-22T00:00:00\",\"2020-10-23T00:00:00\",\"2020-10-26T00:00:00\",\"2020-10-27T00:00:00\",\"2020-10-28T00:00:00\",\"2020-10-29T00:00:00\",\"2020-10-30T00:00:00\",\"2020-11-02T00:00:00\",\"2020-11-03T00:00:00\",\"2020-11-04T00:00:00\",\"2020-11-05T00:00:00\",\"2020-11-06T00:00:00\",\"2020-11-09T00:00:00\",\"2020-11-10T00:00:00\",\"2020-11-11T00:00:00\",\"2020-11-12T00:00:00\",\"2020-11-13T00:00:00\",\"2020-11-16T00:00:00\",\"2020-11-17T00:00:00\",\"2020-11-18T00:00:00\",\"2020-11-19T00:00:00\",\"2020-11-20T00:00:00\",\"2020-11-23T00:00:00\",\"2020-11-24T00:00:00\",\"2020-11-25T00:00:00\",\"2020-11-27T00:00:00\",\"2020-11-30T00:00:00\",\"2020-12-01T00:00:00\",\"2020-12-02T00:00:00\",\"2020-12-03T00:00:00\",\"2020-12-04T00:00:00\",\"2020-12-07T00:00:00\",\"2020-12-08T00:00:00\",\"2020-12-09T00:00:00\",\"2020-12-10T00:00:00\",\"2020-12-11T00:00:00\",\"2020-12-14T00:00:00\",\"2020-12-15T00:00:00\",\"2020-12-16T00:00:00\",\"2020-12-17T00:00:00\",\"2020-12-18T00:00:00\",\"2020-12-21T00:00:00\",\"2020-12-22T00:00:00\",\"2020-12-23T00:00:00\",\"2020-12-24T00:00:00\",\"2020-12-28T00:00:00\",\"2020-12-29T00:00:00\",\"2020-12-30T00:00:00\",\"2020-12-31T00:00:00\",\"2021-01-04T00:00:00\",\"2021-01-05T00:00:00\",\"2021-01-06T00:00:00\",\"2021-01-07T00:00:00\",\"2021-01-08T00:00:00\",\"2021-01-11T00:00:00\",\"2021-01-12T00:00:00\",\"2021-01-13T00:00:00\",\"2021-01-14T00:00:00\",\"2021-01-15T00:00:00\",\"2021-01-19T00:00:00\",\"2021-01-20T00:00:00\",\"2021-01-21T00:00:00\",\"2021-01-22T00:00:00\",\"2021-01-25T00:00:00\",\"2021-01-26T00:00:00\",\"2021-01-27T00:00:00\",\"2021-01-28T00:00:00\",\"2021-01-29T00:00:00\",\"2021-02-01T00:00:00\",\"2021-02-02T00:00:00\",\"2021-02-03T00:00:00\",\"2021-02-04T00:00:00\",\"2021-02-05T00:00:00\",\"2021-02-08T00:00:00\",\"2021-02-09T00:00:00\",\"2021-02-10T00:00:00\",\"2021-02-11T00:00:00\",\"2021-02-12T00:00:00\",\"2021-02-16T00:00:00\",\"2021-02-17T00:00:00\",\"2021-02-18T00:00:00\",\"2021-02-19T00:00:00\",\"2021-02-22T00:00:00\",\"2021-02-23T00:00:00\",\"2021-02-24T00:00:00\",\"2021-02-25T00:00:00\",\"2021-02-26T00:00:00\",\"2021-03-01T00:00:00\",\"2021-03-02T00:00:00\",\"2021-03-03T00:00:00\",\"2021-03-04T00:00:00\",\"2021-03-05T00:00:00\",\"2021-03-08T00:00:00\",\"2021-03-09T00:00:00\",\"2021-03-10T00:00:00\",\"2021-03-11T00:00:00\",\"2021-03-12T00:00:00\",\"2021-03-15T00:00:00\",\"2021-03-16T00:00:00\",\"2021-03-17T00:00:00\",\"2021-03-18T00:00:00\",\"2021-03-19T00:00:00\",\"2021-03-22T00:00:00\",\"2021-03-23T00:00:00\",\"2021-03-24T00:00:00\",\"2021-03-25T00:00:00\",\"2021-03-26T00:00:00\",\"2021-03-29T00:00:00\",\"2021-03-30T00:00:00\",\"2021-03-31T00:00:00\",\"2021-04-01T00:00:00\",\"2021-04-05T00:00:00\",\"2021-04-06T00:00:00\",\"2021-04-07T00:00:00\",\"2021-04-08T00:00:00\",\"2021-04-09T00:00:00\",\"2021-04-12T00:00:00\",\"2021-04-13T00:00:00\",\"2021-04-14T00:00:00\",\"2021-04-15T00:00:00\",\"2021-04-16T00:00:00\",\"2021-04-19T00:00:00\",\"2021-04-20T00:00:00\",\"2021-04-21T00:00:00\",\"2021-04-22T00:00:00\",\"2021-04-23T00:00:00\",\"2021-04-26T00:00:00\",\"2021-04-27T00:00:00\",\"2021-04-28T00:00:00\",\"2021-04-29T00:00:00\",\"2021-04-30T00:00:00\",\"2021-05-03T00:00:00\",\"2021-05-04T00:00:00\",\"2021-05-05T00:00:00\",\"2021-05-06T00:00:00\",\"2021-05-07T00:00:00\",\"2021-05-10T00:00:00\",\"2021-05-11T00:00:00\",\"2021-05-12T00:00:00\",\"2021-05-13T00:00:00\",\"2021-05-14T00:00:00\",\"2021-05-17T00:00:00\",\"2021-05-18T00:00:00\",\"2021-05-19T00:00:00\",\"2021-05-20T00:00:00\",\"2021-05-21T00:00:00\",\"2021-05-24T00:00:00\",\"2021-05-25T00:00:00\",\"2021-05-26T00:00:00\",\"2021-05-27T00:00:00\",\"2021-05-28T00:00:00\",\"2021-06-01T00:00:00\",\"2021-06-02T00:00:00\",\"2021-06-03T00:00:00\",\"2021-06-04T00:00:00\",\"2021-06-07T00:00:00\",\"2021-06-08T00:00:00\",\"2021-06-09T00:00:00\",\"2021-06-10T00:00:00\",\"2021-06-11T00:00:00\",\"2021-06-14T00:00:00\",\"2021-06-15T00:00:00\",\"2021-06-16T00:00:00\",\"2021-06-17T00:00:00\",\"2021-06-18T00:00:00\",\"2021-06-21T00:00:00\",\"2021-06-22T00:00:00\",\"2021-06-23T00:00:00\",\"2021-06-24T00:00:00\",\"2021-06-25T00:00:00\",\"2021-06-28T00:00:00\",\"2021-06-29T00:00:00\",\"2021-06-30T00:00:00\",\"2021-07-01T00:00:00\",\"2021-07-02T00:00:00\",\"2021-07-06T00:00:00\",\"2021-07-07T00:00:00\",\"2021-07-08T00:00:00\",\"2021-07-09T00:00:00\",\"2021-07-12T00:00:00\",\"2021-07-13T00:00:00\",\"2021-07-14T00:00:00\",\"2021-07-15T00:00:00\",\"2021-07-16T00:00:00\",\"2021-07-19T00:00:00\",\"2021-07-20T00:00:00\",\"2021-07-21T00:00:00\",\"2021-07-22T00:00:00\",\"2021-07-23T00:00:00\",\"2021-07-26T00:00:00\",\"2021-07-27T00:00:00\",\"2021-07-28T00:00:00\",\"2021-07-29T00:00:00\",\"2021-07-30T00:00:00\",\"2021-08-02T00:00:00\",\"2021-08-03T00:00:00\",\"2021-08-04T00:00:00\",\"2021-08-05T00:00:00\",\"2021-08-06T00:00:00\",\"2021-08-09T00:00:00\",\"2021-08-10T00:00:00\",\"2021-08-11T00:00:00\",\"2021-08-12T00:00:00\",\"2021-08-13T00:00:00\",\"2021-08-16T00:00:00\",\"2021-08-17T00:00:00\",\"2021-08-18T00:00:00\",\"2021-08-19T00:00:00\",\"2021-08-20T00:00:00\",\"2021-08-23T00:00:00\",\"2021-08-24T00:00:00\",\"2021-08-25T00:00:00\",\"2021-08-26T00:00:00\",\"2021-08-27T00:00:00\",\"2021-08-30T00:00:00\",\"2021-08-31T00:00:00\",\"2021-09-01T00:00:00\",\"2021-09-02T00:00:00\",\"2021-09-03T00:00:00\",\"2021-09-07T00:00:00\",\"2021-09-08T00:00:00\",\"2021-09-09T00:00:00\",\"2021-09-10T00:00:00\",\"2021-09-13T00:00:00\",\"2021-09-14T00:00:00\",\"2021-09-15T00:00:00\",\"2021-09-16T00:00:00\",\"2021-09-17T00:00:00\",\"2021-09-20T00:00:00\",\"2021-09-21T00:00:00\",\"2021-09-22T00:00:00\",\"2021-09-23T00:00:00\",\"2021-09-24T00:00:00\",\"2021-09-27T00:00:00\",\"2021-09-28T00:00:00\",\"2021-09-29T00:00:00\",\"2021-09-30T00:00:00\",\"2021-10-01T00:00:00\",\"2021-10-04T00:00:00\",\"2021-10-05T00:00:00\",\"2021-10-06T00:00:00\",\"2021-10-07T00:00:00\",\"2021-10-08T00:00:00\",\"2021-10-11T00:00:00\",\"2021-10-12T00:00:00\",\"2021-10-13T00:00:00\",\"2021-10-14T00:00:00\",\"2021-10-15T00:00:00\",\"2021-10-18T00:00:00\",\"2021-10-19T00:00:00\",\"2021-10-20T00:00:00\",\"2021-10-21T00:00:00\",\"2021-10-22T00:00:00\",\"2021-10-25T00:00:00\",\"2021-10-26T00:00:00\",\"2021-10-27T00:00:00\",\"2021-10-28T00:00:00\",\"2021-10-29T00:00:00\",\"2021-11-01T00:00:00\",\"2021-11-02T00:00:00\",\"2021-11-03T00:00:00\",\"2021-11-04T00:00:00\",\"2021-11-05T00:00:00\",\"2021-11-08T00:00:00\",\"2021-11-09T00:00:00\",\"2021-11-10T00:00:00\",\"2021-11-11T00:00:00\",\"2021-11-12T00:00:00\",\"2021-11-15T00:00:00\",\"2021-11-16T00:00:00\",\"2021-11-17T00:00:00\",\"2021-11-18T00:00:00\",\"2021-11-19T00:00:00\",\"2021-11-22T00:00:00\",\"2021-11-23T00:00:00\",\"2021-11-24T00:00:00\",\"2021-11-26T00:00:00\",\"2021-11-29T00:00:00\",\"2021-11-30T00:00:00\",\"2021-12-01T00:00:00\",\"2021-12-02T00:00:00\",\"2021-12-03T00:00:00\",\"2021-12-06T00:00:00\",\"2021-12-07T00:00:00\",\"2021-12-08T00:00:00\",\"2021-12-09T00:00:00\",\"2021-12-10T00:00:00\",\"2021-12-13T00:00:00\",\"2021-12-14T00:00:00\",\"2021-12-15T00:00:00\",\"2021-12-16T00:00:00\",\"2021-12-17T00:00:00\",\"2021-12-20T00:00:00\",\"2021-12-21T00:00:00\",\"2021-12-22T00:00:00\",\"2021-12-23T00:00:00\",\"2021-12-27T00:00:00\",\"2021-12-28T00:00:00\",\"2021-12-29T00:00:00\",\"2021-12-30T00:00:00\",\"2021-12-31T00:00:00\",\"2022-01-03T00:00:00\",\"2022-01-04T00:00:00\",\"2022-01-05T00:00:00\",\"2022-01-06T00:00:00\",\"2022-01-07T00:00:00\",\"2022-01-10T00:00:00\",\"2022-01-11T00:00:00\",\"2022-01-12T00:00:00\",\"2022-01-13T00:00:00\",\"2022-01-14T00:00:00\",\"2022-01-18T00:00:00\",\"2022-01-19T00:00:00\",\"2022-01-20T00:00:00\",\"2022-01-21T00:00:00\",\"2022-01-24T00:00:00\",\"2022-01-25T00:00:00\",\"2022-01-26T00:00:00\",\"2022-01-27T00:00:00\",\"2022-01-28T00:00:00\",\"2022-01-31T00:00:00\",\"2022-02-01T00:00:00\",\"2022-02-02T00:00:00\",\"2022-02-03T00:00:00\",\"2022-02-04T00:00:00\",\"2022-02-07T00:00:00\",\"2022-02-08T00:00:00\",\"2022-02-09T00:00:00\",\"2022-02-10T00:00:00\",\"2022-02-11T00:00:00\",\"2022-02-14T00:00:00\",\"2022-02-15T00:00:00\",\"2022-02-16T00:00:00\",\"2022-02-17T00:00:00\",\"2022-02-18T00:00:00\",\"2022-02-22T00:00:00\",\"2022-02-23T00:00:00\",\"2022-02-24T00:00:00\",\"2022-02-25T00:00:00\",\"2022-02-28T00:00:00\",\"2022-03-01T00:00:00\",\"2022-03-02T00:00:00\",\"2022-03-03T00:00:00\",\"2022-03-04T00:00:00\",\"2022-03-07T00:00:00\",\"2022-03-08T00:00:00\",\"2022-03-09T00:00:00\",\"2022-03-10T00:00:00\",\"2022-03-11T00:00:00\",\"2022-03-14T00:00:00\",\"2022-03-15T00:00:00\",\"2022-03-16T00:00:00\",\"2022-03-17T00:00:00\",\"2022-03-18T00:00:00\",\"2022-03-21T00:00:00\",\"2022-03-22T00:00:00\",\"2022-03-23T00:00:00\",\"2022-03-24T00:00:00\",\"2022-03-25T00:00:00\",\"2022-03-28T00:00:00\",\"2022-03-29T00:00:00\",\"2022-03-30T00:00:00\",\"2022-03-31T00:00:00\",\"2022-04-01T00:00:00\",\"2022-04-04T00:00:00\",\"2022-04-05T00:00:00\",\"2022-04-06T00:00:00\",\"2022-04-07T00:00:00\",\"2022-04-08T00:00:00\",\"2022-04-11T00:00:00\",\"2022-04-12T00:00:00\",\"2022-04-13T00:00:00\",\"2022-04-14T00:00:00\",\"2022-04-18T00:00:00\",\"2022-04-19T00:00:00\",\"2022-04-20T00:00:00\",\"2022-04-21T00:00:00\",\"2022-04-22T00:00:00\",\"2022-04-25T00:00:00\",\"2022-04-26T00:00:00\",\"2022-04-27T00:00:00\",\"2022-04-28T00:00:00\",\"2022-04-29T00:00:00\",\"2022-05-02T00:00:00\",\"2022-05-03T00:00:00\",\"2022-05-04T00:00:00\",\"2022-05-05T00:00:00\",\"2022-05-06T00:00:00\",\"2022-05-09T00:00:00\",\"2022-05-10T00:00:00\",\"2022-05-11T00:00:00\",\"2022-05-12T00:00:00\",\"2022-05-13T00:00:00\",\"2022-05-16T00:00:00\",\"2022-05-17T00:00:00\",\"2022-05-18T00:00:00\",\"2022-05-19T00:00:00\",\"2022-05-20T00:00:00\",\"2022-05-23T00:00:00\",\"2022-05-24T00:00:00\",\"2022-05-25T00:00:00\",\"2022-05-26T00:00:00\",\"2022-05-27T00:00:00\",\"2022-05-31T00:00:00\",\"2022-06-01T00:00:00\",\"2022-06-02T00:00:00\",\"2022-06-03T00:00:00\",\"2022-06-06T00:00:00\",\"2022-06-07T00:00:00\",\"2022-06-08T00:00:00\",\"2022-06-09T00:00:00\",\"2022-06-10T00:00:00\",\"2022-06-13T00:00:00\",\"2022-06-14T00:00:00\",\"2022-06-15T00:00:00\",\"2022-06-16T00:00:00\",\"2022-06-17T00:00:00\",\"2022-06-21T00:00:00\",\"2022-06-22T00:00:00\",\"2022-06-23T00:00:00\",\"2022-06-24T00:00:00\",\"2022-06-27T00:00:00\",\"2022-06-28T00:00:00\",\"2022-06-29T00:00:00\",\"2022-06-30T00:00:00\",\"2022-07-01T00:00:00\",\"2022-07-05T00:00:00\",\"2022-07-06T00:00:00\",\"2022-07-07T00:00:00\",\"2022-07-08T00:00:00\",\"2022-07-11T00:00:00\",\"2022-07-12T00:00:00\",\"2022-07-13T00:00:00\",\"2022-07-14T00:00:00\",\"2022-07-15T00:00:00\",\"2022-07-18T00:00:00\",\"2022-07-19T00:00:00\",\"2022-07-20T00:00:00\",\"2022-07-21T00:00:00\",\"2022-07-22T00:00:00\",\"2022-07-25T00:00:00\",\"2022-07-26T00:00:00\",\"2022-07-27T00:00:00\",\"2022-07-28T00:00:00\",\"2022-07-29T00:00:00\",\"2022-08-01T00:00:00\",\"2022-08-02T00:00:00\",\"2022-08-03T00:00:00\",\"2022-08-04T00:00:00\",\"2022-08-05T00:00:00\",\"2022-08-08T00:00:00\",\"2022-08-09T00:00:00\",\"2022-08-10T00:00:00\",\"2022-08-11T00:00:00\",\"2022-08-12T00:00:00\",\"2022-08-15T00:00:00\",\"2022-08-16T00:00:00\",\"2022-08-17T00:00:00\",\"2022-08-18T00:00:00\",\"2022-08-19T00:00:00\",\"2022-08-22T00:00:00\",\"2022-08-23T00:00:00\",\"2022-08-24T00:00:00\",\"2022-08-25T00:00:00\",\"2022-08-26T00:00:00\",\"2022-08-29T00:00:00\",\"2022-08-30T00:00:00\",\"2022-08-31T00:00:00\",\"2022-09-01T00:00:00\",\"2022-09-02T00:00:00\",\"2022-09-06T00:00:00\",\"2022-09-07T00:00:00\",\"2022-09-08T00:00:00\",\"2022-09-09T00:00:00\",\"2022-09-12T00:00:00\",\"2022-09-13T00:00:00\",\"2022-09-14T00:00:00\",\"2022-09-15T00:00:00\",\"2022-09-16T00:00:00\",\"2022-09-19T00:00:00\",\"2022-09-20T00:00:00\",\"2022-09-21T00:00:00\",\"2022-09-22T00:00:00\",\"2022-09-23T00:00:00\",\"2022-09-26T00:00:00\",\"2022-09-27T00:00:00\",\"2022-09-28T00:00:00\",\"2022-09-29T00:00:00\",\"2022-09-30T00:00:00\",\"2022-10-03T00:00:00\",\"2022-10-04T00:00:00\",\"2022-10-05T00:00:00\",\"2022-10-06T00:00:00\",\"2022-10-07T00:00:00\",\"2022-10-10T00:00:00\",\"2022-10-11T00:00:00\",\"2022-10-12T00:00:00\",\"2022-10-13T00:00:00\",\"2022-10-14T00:00:00\",\"2022-10-17T00:00:00\",\"2022-10-18T00:00:00\",\"2022-10-19T00:00:00\",\"2022-10-20T00:00:00\",\"2022-10-21T00:00:00\",\"2022-10-24T00:00:00\",\"2022-10-25T00:00:00\",\"2022-10-26T00:00:00\",\"2022-10-27T00:00:00\",\"2022-10-28T00:00:00\",\"2022-10-31T00:00:00\",\"2022-11-01T00:00:00\",\"2022-11-02T00:00:00\",\"2022-11-03T00:00:00\",\"2022-11-04T00:00:00\",\"2022-11-07T00:00:00\",\"2022-11-08T00:00:00\",\"2022-11-09T00:00:00\",\"2022-11-10T00:00:00\",\"2022-11-11T00:00:00\",\"2022-11-14T00:00:00\",\"2022-11-15T00:00:00\",\"2022-11-16T00:00:00\",\"2022-11-17T00:00:00\",\"2022-11-18T00:00:00\",\"2022-11-21T00:00:00\",\"2022-11-22T00:00:00\",\"2022-11-23T00:00:00\",\"2022-11-25T00:00:00\",\"2022-11-28T00:00:00\",\"2022-11-29T00:00:00\",\"2022-11-30T00:00:00\",\"2022-12-01T00:00:00\",\"2022-12-02T00:00:00\",\"2022-12-05T00:00:00\",\"2022-12-06T00:00:00\",\"2022-12-07T00:00:00\",\"2022-12-08T00:00:00\",\"2022-12-09T00:00:00\",\"2022-12-12T00:00:00\",\"2022-12-13T00:00:00\",\"2022-12-14T00:00:00\",\"2022-12-15T00:00:00\",\"2022-12-16T00:00:00\",\"2022-12-19T00:00:00\",\"2022-12-20T00:00:00\",\"2022-12-21T00:00:00\",\"2022-12-22T00:00:00\",\"2022-12-23T00:00:00\",\"2022-12-27T00:00:00\",\"2022-12-28T00:00:00\",\"2022-12-29T00:00:00\",\"2022-12-30T00:00:00\",\"2023-01-03T00:00:00\",\"2023-01-04T00:00:00\",\"2023-01-05T00:00:00\",\"2023-01-06T00:00:00\",\"2023-01-09T00:00:00\",\"2023-01-10T00:00:00\",\"2023-01-11T00:00:00\",\"2023-01-12T00:00:00\",\"2023-01-13T00:00:00\",\"2023-01-17T00:00:00\",\"2023-01-18T00:00:00\",\"2023-01-19T00:00:00\",\"2023-01-20T00:00:00\",\"2023-01-23T00:00:00\",\"2023-01-24T00:00:00\",\"2023-01-25T00:00:00\",\"2023-01-26T00:00:00\",\"2023-01-27T00:00:00\",\"2023-01-30T00:00:00\",\"2023-01-31T00:00:00\",\"2023-02-01T00:00:00\",\"2023-02-02T00:00:00\",\"2023-02-03T00:00:00\",\"2023-02-06T00:00:00\",\"2023-02-07T00:00:00\",\"2023-02-08T00:00:00\",\"2023-02-09T00:00:00\",\"2023-02-10T00:00:00\",\"2023-02-13T00:00:00\",\"2023-02-14T00:00:00\",\"2023-02-15T00:00:00\",\"2023-02-16T00:00:00\",\"2023-02-17T00:00:00\",\"2023-02-21T00:00:00\",\"2023-02-22T00:00:00\",\"2023-02-23T00:00:00\",\"2023-02-24T00:00:00\",\"2023-02-27T00:00:00\",\"2023-02-28T00:00:00\",\"2023-03-01T00:00:00\",\"2023-03-02T00:00:00\",\"2023-03-03T00:00:00\",\"2023-03-06T00:00:00\",\"2023-03-07T00:00:00\",\"2023-03-08T00:00:00\",\"2023-03-09T00:00:00\",\"2023-03-10T00:00:00\",\"2023-03-13T00:00:00\",\"2023-03-14T00:00:00\",\"2023-03-15T00:00:00\",\"2023-03-16T00:00:00\",\"2023-03-17T00:00:00\",\"2023-03-20T00:00:00\",\"2023-03-21T00:00:00\",\"2023-03-22T00:00:00\",\"2023-03-23T00:00:00\",\"2023-03-24T00:00:00\",\"2023-03-27T00:00:00\",\"2023-03-28T00:00:00\",\"2023-03-29T00:00:00\",\"2023-03-30T00:00:00\",\"2023-03-31T00:00:00\",\"2023-04-03T00:00:00\",\"2023-04-04T00:00:00\",\"2023-04-05T00:00:00\",\"2023-04-06T00:00:00\",\"2023-04-10T00:00:00\",\"2023-04-11T00:00:00\",\"2023-04-12T00:00:00\",\"2023-04-13T00:00:00\",\"2023-04-14T00:00:00\",\"2023-04-17T00:00:00\",\"2023-04-18T00:00:00\",\"2023-04-19T00:00:00\",\"2023-04-20T00:00:00\",\"2023-04-21T00:00:00\",\"2023-04-24T00:00:00\",\"2023-04-25T00:00:00\",\"2023-04-26T00:00:00\",\"2023-04-27T00:00:00\",\"2023-04-28T00:00:00\",\"2023-05-01T00:00:00\",\"2023-05-02T00:00:00\",\"2023-05-03T00:00:00\",\"2023-05-04T00:00:00\",\"2023-05-05T00:00:00\",\"2023-05-08T00:00:00\",\"2023-05-09T00:00:00\",\"2023-05-10T00:00:00\",\"2023-05-11T00:00:00\",\"2023-05-12T00:00:00\",\"2023-05-15T00:00:00\",\"2023-05-16T00:00:00\",\"2023-05-17T00:00:00\",\"2023-05-18T00:00:00\",\"2023-05-19T00:00:00\",\"2023-05-22T00:00:00\",\"2023-05-23T00:00:00\",\"2023-05-24T00:00:00\",\"2023-05-25T00:00:00\",\"2023-05-26T00:00:00\",\"2023-05-30T00:00:00\",\"2023-05-31T00:00:00\",\"2023-06-01T00:00:00\",\"2023-06-02T00:00:00\",\"2023-06-05T00:00:00\",\"2023-06-06T00:00:00\",\"2023-06-07T00:00:00\",\"2023-06-08T00:00:00\",\"2023-06-09T00:00:00\",\"2023-06-12T00:00:00\",\"2023-06-13T00:00:00\",\"2023-06-14T00:00:00\",\"2023-06-15T00:00:00\",\"2023-06-16T00:00:00\",\"2023-06-20T00:00:00\",\"2023-06-21T00:00:00\",\"2023-06-22T00:00:00\",\"2023-06-23T00:00:00\",\"2023-06-26T00:00:00\",\"2023-06-27T00:00:00\",\"2023-06-28T00:00:00\",\"2023-06-29T00:00:00\",\"2023-06-30T00:00:00\",\"2023-07-03T00:00:00\",\"2023-07-05T00:00:00\",\"2023-07-06T00:00:00\",\"2023-07-07T00:00:00\",\"2023-07-10T00:00:00\",\"2023-07-11T00:00:00\",\"2023-07-12T00:00:00\",\"2023-07-13T00:00:00\",\"2023-07-14T00:00:00\",\"2023-07-17T00:00:00\",\"2023-07-18T00:00:00\",\"2023-07-19T00:00:00\",\"2023-07-20T00:00:00\",\"2023-07-21T00:00:00\",\"2023-07-24T00:00:00\",\"2023-07-25T00:00:00\",\"2023-07-26T00:00:00\",\"2023-07-27T00:00:00\",\"2023-07-28T00:00:00\",\"2023-07-31T00:00:00\",\"2023-08-01T00:00:00\",\"2023-08-02T00:00:00\",\"2023-08-03T00:00:00\",\"2023-08-04T00:00:00\",\"2023-08-07T00:00:00\",\"2023-08-08T00:00:00\",\"2023-08-09T00:00:00\",\"2023-08-10T00:00:00\",\"2023-08-11T00:00:00\",\"2023-08-14T00:00:00\",\"2023-08-15T00:00:00\",\"2023-08-16T00:00:00\",\"2023-08-17T00:00:00\",\"2023-08-18T00:00:00\",\"2023-08-21T00:00:00\",\"2023-08-22T00:00:00\",\"2023-08-23T00:00:00\",\"2023-08-24T00:00:00\",\"2023-08-25T00:00:00\",\"2023-08-28T00:00:00\",\"2023-08-29T00:00:00\",\"2023-08-30T00:00:00\",\"2023-08-31T00:00:00\",\"2023-09-01T00:00:00\",\"2023-09-05T00:00:00\",\"2023-09-06T00:00:00\",\"2023-09-07T00:00:00\",\"2023-09-08T00:00:00\",\"2023-09-11T00:00:00\",\"2023-09-12T00:00:00\",\"2023-09-13T00:00:00\",\"2023-09-14T00:00:00\",\"2023-09-15T00:00:00\",\"2023-09-18T00:00:00\",\"2023-09-19T00:00:00\",\"2023-09-20T00:00:00\",\"2023-09-21T00:00:00\",\"2023-09-22T00:00:00\",\"2023-09-25T00:00:00\",\"2023-09-26T00:00:00\",\"2023-09-27T00:00:00\",\"2023-09-28T00:00:00\",\"2023-09-29T00:00:00\",\"2023-10-02T00:00:00\",\"2023-10-03T00:00:00\",\"2023-10-04T00:00:00\",\"2023-10-05T00:00:00\",\"2023-10-06T00:00:00\",\"2023-10-09T00:00:00\",\"2023-10-10T00:00:00\",\"2023-10-11T00:00:00\",\"2023-10-12T00:00:00\",\"2023-10-13T00:00:00\",\"2023-10-16T00:00:00\",\"2023-10-17T00:00:00\",\"2023-10-18T00:00:00\",\"2023-10-19T00:00:00\",\"2023-10-20T00:00:00\",\"2023-10-23T00:00:00\",\"2023-10-24T00:00:00\",\"2023-10-25T00:00:00\",\"2023-10-26T00:00:00\",\"2023-10-27T00:00:00\",\"2023-10-30T00:00:00\",\"2023-10-31T00:00:00\",\"2023-11-01T00:00:00\",\"2023-11-02T00:00:00\",\"2023-11-03T00:00:00\",\"2023-11-06T00:00:00\",\"2023-11-07T00:00:00\",\"2023-11-08T00:00:00\",\"2023-11-09T00:00:00\",\"2023-11-10T00:00:00\",\"2023-11-13T00:00:00\",\"2023-11-14T00:00:00\",\"2023-11-15T00:00:00\",\"2023-11-16T00:00:00\",\"2023-11-17T00:00:00\",\"2023-11-20T00:00:00\",\"2023-11-21T00:00:00\",\"2023-11-22T00:00:00\",\"2023-11-24T00:00:00\",\"2023-11-27T00:00:00\",\"2023-11-28T00:00:00\",\"2023-11-29T00:00:00\",\"2023-11-30T00:00:00\",\"2023-12-01T00:00:00\",\"2023-12-04T00:00:00\",\"2023-12-05T00:00:00\",\"2023-12-06T00:00:00\",\"2023-12-07T00:00:00\",\"2023-12-08T00:00:00\",\"2023-12-11T00:00:00\",\"2023-12-12T00:00:00\",\"2023-12-13T00:00:00\",\"2023-12-14T00:00:00\",\"2023-12-15T00:00:00\",\"2023-12-18T00:00:00\",\"2023-12-19T00:00:00\",\"2023-12-20T00:00:00\",\"2023-12-21T00:00:00\",\"2023-12-22T00:00:00\",\"2023-12-26T00:00:00\",\"2023-12-27T00:00:00\",\"2023-12-28T00:00:00\",\"2023-12-29T00:00:00\",\"2024-01-02T00:00:00\",\"2024-01-03T00:00:00\",\"2024-01-04T00:00:00\",\"2024-01-05T00:00:00\",\"2024-01-08T00:00:00\",\"2024-01-09T00:00:00\",\"2024-01-10T00:00:00\",\"2024-01-11T00:00:00\",\"2024-01-12T00:00:00\",\"2024-01-16T00:00:00\",\"2024-01-17T00:00:00\",\"2024-01-18T00:00:00\",\"2024-01-19T00:00:00\",\"2024-01-22T00:00:00\",\"2024-01-23T00:00:00\",\"2024-01-24T00:00:00\",\"2024-01-25T00:00:00\",\"2024-01-26T00:00:00\",\"2024-01-29T00:00:00\",\"2024-01-30T00:00:00\",\"2024-01-31T00:00:00\",\"2024-02-01T00:00:00\",\"2024-02-02T00:00:00\",\"2024-02-05T00:00:00\",\"2024-02-06T00:00:00\",\"2024-02-07T00:00:00\",\"2024-02-08T00:00:00\",\"2024-02-09T00:00:00\",\"2024-02-12T00:00:00\",\"2024-02-13T00:00:00\",\"2024-02-14T00:00:00\",\"2024-02-15T00:00:00\",\"2024-02-16T00:00:00\",\"2024-02-20T00:00:00\",\"2024-02-21T00:00:00\",\"2024-02-22T00:00:00\",\"2024-02-23T00:00:00\",\"2024-02-26T00:00:00\",\"2024-02-27T00:00:00\",\"2024-02-28T00:00:00\",\"2024-02-29T00:00:00\",\"2024-03-01T00:00:00\",\"2024-03-04T00:00:00\",\"2024-03-05T00:00:00\",\"2024-03-06T00:00:00\",\"2024-03-07T00:00:00\",\"2024-03-08T00:00:00\",\"2024-03-11T00:00:00\",\"2024-03-12T00:00:00\",\"2024-03-13T00:00:00\",\"2024-03-14T00:00:00\",\"2024-03-15T00:00:00\",\"2024-03-18T00:00:00\",\"2024-03-19T00:00:00\",\"2024-03-20T00:00:00\",\"2024-03-21T00:00:00\",\"2024-03-22T00:00:00\",\"2024-03-25T00:00:00\",\"2024-03-26T00:00:00\",\"2024-03-27T00:00:00\",\"2024-03-28T00:00:00\",\"2024-04-01T00:00:00\",\"2024-04-02T00:00:00\",\"2024-04-03T00:00:00\",\"2024-04-04T00:00:00\",\"2024-04-05T00:00:00\",\"2024-04-08T00:00:00\",\"2024-04-09T00:00:00\",\"2024-04-10T00:00:00\",\"2024-04-11T00:00:00\",\"2024-04-12T00:00:00\",\"2024-04-15T00:00:00\",\"2024-04-16T00:00:00\",\"2024-04-17T00:00:00\",\"2024-04-18T00:00:00\",\"2024-04-19T00:00:00\",\"2024-04-22T00:00:00\",\"2024-04-23T00:00:00\",\"2024-04-24T00:00:00\",\"2024-04-25T00:00:00\",\"2024-04-26T00:00:00\",\"2024-04-29T00:00:00\",\"2024-04-30T00:00:00\",\"2024-05-01T00:00:00\",\"2024-05-02T00:00:00\",\"2024-05-03T00:00:00\",\"2024-05-06T00:00:00\",\"2024-05-07T00:00:00\",\"2024-05-08T00:00:00\",\"2024-05-09T00:00:00\",\"2024-05-10T00:00:00\",\"2024-05-13T00:00:00\",\"2024-05-14T00:00:00\",\"2024-05-15T00:00:00\",\"2024-05-16T00:00:00\",\"2024-05-17T00:00:00\",\"2024-05-20T00:00:00\",\"2024-05-21T00:00:00\",\"2024-05-22T00:00:00\",\"2024-05-23T00:00:00\",\"2024-05-24T00:00:00\",\"2024-05-28T00:00:00\",\"2024-05-29T00:00:00\",\"2024-05-30T00:00:00\",\"2024-05-31T00:00:00\",\"2024-06-03T00:00:00\",\"2024-06-04T00:00:00\",\"2024-06-05T00:00:00\",\"2024-06-06T00:00:00\",\"2024-06-07T00:00:00\",\"2024-06-10T00:00:00\",\"2024-06-11T00:00:00\",\"2024-06-12T00:00:00\",\"2024-06-13T00:00:00\",\"2024-06-14T00:00:00\",\"2024-06-17T00:00:00\",\"2024-06-18T00:00:00\",\"2024-06-20T00:00:00\",\"2024-06-21T00:00:00\",\"2024-06-24T00:00:00\",\"2024-06-25T00:00:00\",\"2024-06-26T00:00:00\",\"2024-06-27T00:00:00\",\"2024-06-28T00:00:00\",\"2024-07-01T00:00:00\",\"2024-07-02T00:00:00\",\"2024-07-03T00:00:00\",\"2024-07-05T00:00:00\",\"2024-07-08T00:00:00\",\"2024-07-09T00:00:00\",\"2024-07-10T00:00:00\",\"2024-07-11T00:00:00\",\"2024-07-12T00:00:00\",\"2024-07-15T00:00:00\",\"2024-07-16T00:00:00\",\"2024-07-17T00:00:00\",\"2024-07-18T00:00:00\",\"2024-07-19T00:00:00\",\"2024-07-22T00:00:00\",\"2024-07-23T00:00:00\",\"2024-07-24T00:00:00\",\"2024-07-25T00:00:00\",\"2024-07-26T00:00:00\",\"2024-07-29T00:00:00\",\"2024-07-30T00:00:00\",\"2024-07-31T00:00:00\",\"2024-08-01T00:00:00\",\"2024-08-02T00:00:00\",\"2024-08-05T00:00:00\",\"2024-08-06T00:00:00\",\"2024-08-07T00:00:00\",\"2024-08-08T00:00:00\",\"2024-08-09T00:00:00\",\"2024-08-12T00:00:00\",\"2024-08-13T00:00:00\",\"2024-08-14T00:00:00\",\"2024-08-15T00:00:00\",\"2024-08-16T00:00:00\",\"2024-08-19T00:00:00\",\"2024-08-20T00:00:00\",\"2024-08-21T00:00:00\",\"2024-08-22T00:00:00\",\"2024-08-23T00:00:00\",\"2024-08-26T00:00:00\",\"2024-08-27T00:00:00\",\"2024-08-28T00:00:00\",\"2024-08-29T00:00:00\",\"2024-08-30T00:00:00\",\"2024-09-03T00:00:00\",\"2024-09-04T00:00:00\",\"2024-09-05T00:00:00\",\"2024-09-06T00:00:00\",\"2024-09-09T00:00:00\",\"2024-09-10T00:00:00\",\"2024-09-11T00:00:00\",\"2024-09-12T00:00:00\",\"2024-09-13T00:00:00\",\"2024-09-16T00:00:00\",\"2024-09-17T00:00:00\",\"2024-09-18T00:00:00\",\"2024-09-19T00:00:00\",\"2024-09-20T00:00:00\",\"2024-09-23T00:00:00\",\"2024-09-24T00:00:00\",\"2024-09-25T00:00:00\",\"2024-09-26T00:00:00\",\"2024-09-27T00:00:00\",\"2024-09-30T00:00:00\",\"2024-10-01T00:00:00\",\"2024-10-02T00:00:00\",\"2024-10-03T00:00:00\",\"2024-10-04T00:00:00\",\"2024-10-07T00:00:00\",\"2024-10-08T00:00:00\",\"2024-10-09T00:00:00\",\"2024-10-10T00:00:00\",\"2024-10-11T00:00:00\",\"2024-10-14T00:00:00\",\"2024-10-15T00:00:00\",\"2024-10-16T00:00:00\",\"2024-10-17T00:00:00\",\"2024-10-18T00:00:00\",\"2024-10-21T00:00:00\",\"2024-10-22T00:00:00\",\"2024-10-23T00:00:00\",\"2024-10-24T00:00:00\",\"2024-10-25T00:00:00\",\"2024-10-28T00:00:00\",\"2024-10-29T00:00:00\",\"2024-10-30T00:00:00\",\"2024-10-31T00:00:00\",\"2024-11-01T00:00:00\",\"2024-11-04T00:00:00\",\"2024-11-05T00:00:00\",\"2024-11-06T00:00:00\",\"2024-11-07T00:00:00\",\"2024-11-08T00:00:00\",\"2024-11-11T00:00:00\",\"2024-11-12T00:00:00\",\"2024-11-13T00:00:00\",\"2024-11-14T00:00:00\",\"2024-11-15T00:00:00\",\"2024-11-18T00:00:00\",\"2024-11-19T00:00:00\",\"2024-11-20T00:00:00\",\"2024-11-21T00:00:00\",\"2024-11-22T00:00:00\",\"2024-11-25T00:00:00\",\"2024-11-26T00:00:00\",\"2024-11-27T00:00:00\",\"2024-11-29T00:00:00\",\"2024-12-02T00:00:00\",\"2024-12-03T00:00:00\",\"2024-12-04T00:00:00\",\"2024-12-05T00:00:00\",\"2024-12-06T00:00:00\",\"2024-12-09T00:00:00\",\"2024-12-10T00:00:00\",\"2024-12-11T00:00:00\",\"2024-12-12T00:00:00\",\"2024-12-13T00:00:00\",\"2024-12-16T00:00:00\",\"2024-12-17T00:00:00\",\"2024-12-18T00:00:00\",\"2024-12-19T00:00:00\",\"2024-12-20T00:00:00\",\"2024-12-23T00:00:00\",\"2024-12-24T00:00:00\",\"2024-12-26T00:00:00\",\"2024-12-27T00:00:00\",\"2024-12-30T00:00:00\",\"2024-12-31T00:00:00\",\"2025-01-02T00:00:00\",\"2025-01-03T00:00:00\",\"2025-01-06T00:00:00\",\"2025-01-07T00:00:00\",\"2025-01-08T00:00:00\",\"2025-01-10T00:00:00\",\"2025-01-13T00:00:00\",\"2025-01-14T00:00:00\",\"2025-01-15T00:00:00\",\"2025-01-16T00:00:00\",\"2025-01-17T00:00:00\",\"2025-01-21T00:00:00\",\"2025-01-22T00:00:00\",\"2025-01-23T00:00:00\",\"2025-01-24T00:00:00\",\"2025-01-27T00:00:00\",\"2025-01-28T00:00:00\",\"2025-01-29T00:00:00\",\"2025-01-30T00:00:00\",\"2025-01-31T00:00:00\",\"2025-02-03T00:00:00\",\"2025-02-04T00:00:00\",\"2025-02-05T00:00:00\",\"2025-02-06T00:00:00\",\"2025-02-07T00:00:00\",\"2025-02-10T00:00:00\",\"2025-02-11T00:00:00\",\"2025-02-12T00:00:00\",\"2025-02-13T00:00:00\",\"2025-02-14T00:00:00\",\"2025-02-18T00:00:00\",\"2025-02-19T00:00:00\",\"2025-02-20T00:00:00\",\"2025-02-21T00:00:00\",\"2025-02-24T00:00:00\",\"2025-02-25T00:00:00\",\"2025-02-26T00:00:00\",\"2025-02-27T00:00:00\",\"2025-02-28T00:00:00\",\"2025-03-03T00:00:00\",\"2025-03-04T00:00:00\",\"2025-03-05T00:00:00\",\"2025-03-06T00:00:00\",\"2025-03-07T00:00:00\",\"2025-03-10T00:00:00\",\"2025-03-11T00:00:00\",\"2025-03-12T00:00:00\",\"2025-03-13T00:00:00\",\"2025-03-14T00:00:00\",\"2025-03-17T00:00:00\",\"2025-03-18T00:00:00\",\"2025-03-19T00:00:00\",\"2025-03-20T00:00:00\",\"2025-03-21T00:00:00\",\"2025-03-24T00:00:00\",\"2025-03-25T00:00:00\",\"2025-03-26T00:00:00\",\"2025-03-27T00:00:00\",\"2025-03-28T00:00:00\",\"2025-03-31T00:00:00\",\"2025-04-01T00:00:00\",\"2025-04-02T00:00:00\",\"2025-04-03T00:00:00\",\"2025-04-04T00:00:00\",\"2025-04-07T00:00:00\",\"2025-04-08T00:00:00\",\"2025-04-09T00:00:00\",\"2025-04-10T00:00:00\",\"2025-04-11T00:00:00\",\"2025-04-14T00:00:00\",\"2025-04-15T00:00:00\",\"2025-04-16T00:00:00\",\"2025-04-17T00:00:00\",\"2025-04-21T00:00:00\",\"2025-04-22T00:00:00\",\"2025-04-23T00:00:00\",\"2025-04-24T00:00:00\",\"2025-04-25T00:00:00\",\"2025-04-28T00:00:00\",\"2025-04-29T00:00:00\",\"2025-04-30T00:00:00\",\"2025-05-01T00:00:00\",\"2025-05-02T00:00:00\",\"2025-05-05T00:00:00\",\"2025-05-06T00:00:00\",\"2025-05-07T00:00:00\",\"2025-05-08T00:00:00\",\"2025-05-09T00:00:00\",\"2025-05-12T00:00:00\",\"2025-05-13T00:00:00\",\"2025-05-14T00:00:00\",\"2025-05-15T00:00:00\",\"2025-05-16T00:00:00\",\"2025-05-19T00:00:00\",\"2025-05-20T00:00:00\",\"2025-05-21T00:00:00\",\"2025-05-22T00:00:00\",\"2025-05-23T00:00:00\",\"2025-05-27T00:00:00\",\"2025-05-28T00:00:00\",\"2025-05-29T00:00:00\",\"2025-05-30T00:00:00\",\"2025-06-02T00:00:00\",\"2025-06-03T00:00:00\",\"2025-06-04T00:00:00\",\"2025-06-05T00:00:00\",\"2025-06-06T00:00:00\",\"2025-06-09T00:00:00\",\"2025-06-10T00:00:00\",\"2025-06-11T00:00:00\",\"2025-06-12T00:00:00\",\"2025-06-13T00:00:00\",\"2025-06-16T00:00:00\",\"2025-06-17T00:00:00\",\"2025-06-18T00:00:00\",\"2025-06-20T00:00:00\",\"2025-06-23T00:00:00\",\"2025-06-24T00:00:00\",\"2025-06-25T00:00:00\",\"2025-06-26T00:00:00\",\"2025-06-27T00:00:00\",\"2025-06-30T00:00:00\",\"2025-07-01T00:00:00\",\"2025-07-02T00:00:00\",\"2025-07-03T00:00:00\",\"2025-07-07T00:00:00\",\"2025-07-08T00:00:00\",\"2025-07-09T00:00:00\",\"2025-07-10T00:00:00\",\"2025-07-11T00:00:00\",\"2025-07-14T00:00:00\",\"2025-07-15T00:00:00\",\"2025-07-16T00:00:00\",\"2025-07-17T00:00:00\",\"2025-07-18T00:00:00\",\"2025-07-21T00:00:00\",\"2025-07-22T00:00:00\",\"2025-07-23T00:00:00\",\"2025-07-24T00:00:00\",\"2025-07-25T00:00:00\",\"2025-07-28T00:00:00\",\"2025-07-29T00:00:00\",\"2025-07-30T00:00:00\",\"2025-07-31T00:00:00\",\"2025-08-01T00:00:00\",\"2025-08-04T00:00:00\",\"2025-08-05T00:00:00\",\"2025-08-06T00:00:00\",\"2025-08-07T00:00:00\",\"2025-08-08T00:00:00\",\"2025-08-11T00:00:00\",\"2025-08-12T00:00:00\",\"2025-08-13T00:00:00\",\"2025-08-14T00:00:00\"],\"y\":[[122.41999816894531],[121.05000305175781],[121.58000183105469],[121.79000091552734],[118.63999938964844],[119.16999816894531],[118.47000122070312],[117.06999969482422],[117.33999633789062],[117.9800033569336],[116.01000213623047],[116.33999633789062],[115.94000244140625],[115.27999877929688],[115.43000030517578],[115.26000213623047],[115.69999694824219],[116.06999969482422],[116.16000366210938],[115.68000030517578],[115.47000122070312],[115.11000061035156],[115.0],[111.86000061035156],[111.97000122070312],[111.41999816894531],[110.75],[110.72000122070312],[110.87999725341797],[110.80999755859375],[110.20999908447266],[112.37000274658203],[112.29000091552734],[113.56999969482422],[114.29000091552734],[114.56999969482422],[114.7300033569336],[115.4800033569336],[115.05999755859375],[113.75],[113.66000366210938],[115.5999984741211],[115.27999877929688],[116.69000244140625],[116.11000061035156],[115.47000122070312],[114.66999816894531],[115.97000122070312],[115.13999938964844],[114.44000244140625],[115.43000030517578],[115.02999877929688],[115.5999984741211],[114.72000122070312],[115.37999725341797],[113.83000183105469],[114.66000366210938],[113.05000305175781],[115.33000183105469],[116.33000183105469],[115.51000213623047],[113.47000122070312],[113.08000183105469],[114.0999984741211],[114.41999816894531],[114.36000061035156],[113.41999816894531],[113.97000122070312],[113.52999877929688],[114.5],[116.55000305175781],[117.18000030517578],[117.52999877929688],[117.5199966430664],[115.88999938964844],[116.08000183105469],[115.69000244140625],[115.5999984741211],[113.91000366210938],[113.88999938964844],[114.0199966430664],[114.0999984741211],[114.0],[114.45999908447266],[113.63999938964844],[112.83999633789062],[112.23999786376953],[112.56999969482422],[112.81999969482422],[113.77999877929688],[113.26000213623047],[113.2300033569336],[113.7300033569336],[113.31999969482422],[113.8499984741211],[115.31999969482422],[115.12000274658203],[113.63999938964844],[112.88999938964844],[112.58999633789062],[112.44000244140625],[112.55999755859375],[113.06999969482422],[112.37000274658203],[111.9800033569336],[111.76000213623047],[112.05999755859375],[110.76000213623047],[111.08999633789062],[111.36000061035156],[111.48999786376953],[110.98999786376953],[110.73999786376953],[110.16000366210938],[109.76000213623047],[108.6500015258789],[105.69999694824219],[105.37000274658203],[104.80000305175781],[104.33000183105469],[105.3499984741211],[104.86000061035156],[105.0199966430664],[105.16999816894531],[104.2699966430664],[104.93000030517578],[104.0999984741211],[104.30999755859375],[103.93000030517578],[104.38999938964844],[104.6500015258789],[105.72000122070312],[106.26000213623047],[107.75],[106.86000061035156],[106.8499984741211],[107.12999725341797],[107.11000061035156],[108.55000305175781],[110.44000244140625],[111.12999725341797],[110.52999877929688],[109.16000366210938],[107.66999816894531],[107.7300033569336],[108.69999694824219],[108.81999969482422],[109.19999694824219],[108.62000274658203],[107.83999633789062],[107.48999786376953],[107.5199966430664],[106.12999725341797],[106.37999725341797],[106.16000366210938],[106.22000122070312],[105.9000015258789],[107.30999755859375],[108.41000366210938],[109.20999908447266],[108.52999877929688],[107.79000091552734],[108.22000122070312],[110.48999786376953],[109.80999755859375],[108.41999816894531],[107.9800033569336],[106.86000061035156],[106.7300033569336],[108.98999786376953],[108.7699966430664],[109.86000061035156],[109.69999694824219],[109.13999938964844],[110.87000274658203],[111.30999755859375],[111.86000061035156],[113.80999755859375],[113.29000091552734],[112.48999786376953],[112.0199966430664],[112.7300033569336],[111.7300033569336],[111.69000244140625],[111.5],[111.43000030517578],[111.68000030517578],[110.77999877929688],[109.72000122070312],[109.30000305175781],[108.58999633789062],[106.9800033569336],[105.97000122070312],[105.63999938964844],[104.0999984741211],[104.4000015258789],[104.18000030517578],[103.83000183105469],[103.8499984741211],[103.55999755859375],[103.70999908447266],[102.33999633789062],[102.43000030517578],[103.55999755859375],[103.08999633789062],[102.26000213623047],[102.94000244140625],[102.45999908447266],[101.25],[101.91999816894531],[102.27999877929688],[100.69000244140625],[101.76000213623047],[104.0199966430664],[102.66999816894531],[102.83999633789062],[102.63999938964844],[102.55000305175781],[103.11000061035156],[101.79000091552734],[101.5199966430664],[102.75],[100.5],[102.04000091552734],[103.1500015258789],[102.61000061035156],[102.30999755859375],[103.05000305175781],[102.2699966430664],[102.19999694824219],[101.41999816894531],[101.45999908447266],[102.88999938964844],[103.18000030517578],[104.66999816894531],[106.1500015258789],[105.68000030517578],[104.73999786376953],[104.20999908447266],[104.72000122070312],[103.0199966430664],[104.08000183105469],[103.9800033569336],[105.37000274658203],[105.48999786376953],[105.0],[106.08000183105469],[107.29000091552734],[107.69000244140625],[106.54000091552734],[106.94999694824219],[108.05000305175781],[108.08999633789062],[109.25],[110.56999969482422],[112.31999969482422],[113.83000183105469],[113.58000183105469],[114.45999908447266],[119.05999755859375],[118.36000061035156],[114.7699966430664],[115.4800033569336],[118.29000091552734],[117.58000183105469],[115.48999786376953],[117.22000122070312],[117.61000061035156],[117.91999816894531],[117.11000061035156],[118.63999938964844],[117.7699966430664],[118.68000030517578],[120.7300033569336],[120.54000091552734],[121.13999938964844],[120.58000183105469],[119.58000183105469],[121.5],[119.41000366210938],[117.87000274658203],[117.95999908447266],[120.58999633789062],[120.12999725341797],[119.80000305175781],[118.95999908447266],[119.30999755859375],[116.61000061035156],[116.33000183105469],[116.5999984741211],[118.76000213623047],[117.0999984741211],[117.63999938964844],[116.93000030517578],[116.1500015258789],[117.66000366210938],[116.94000244140625],[118.61000061035156],[118.43000030517578],[120.02999877929688],[120.05000305175781],[118.7699966430664],[117.11000061035156],[117.91999816894531],[117.73999786376953],[119.58000183105469],[118.97000122070312],[119.41999816894531],[117.88999938964844],[118.2300033569336],[118.69999694824219],[119.04000091552734],[121.29000091552734],[123.6500015258789],[123.23999786376953],[122.95999908447266],[122.20999908447266],[122.06999969482422],[123.18000030517578],[120.6500015258789],[120.9800033569336],[122.12000274658203],[121.16000366210938],[121.70999908447266],[121.80000305175781],[122.22000122070312],[120.0999984741211],[119.87000274658203],[119.70999908447266],[119.37000274658203],[117.30000305175781],[116.9800033569336],[116.58000183105469],[115.62000274658203],[116.05999755859375],[115.94000244140625],[115.66999816894531],[118.87999725341797],[118.91999816894531],[118.81999969482422],[120.58000183105469],[121.25],[121.73999786376953],[122.63999938964844],[122.7699966430664],[123.68000030517578],[122.37999725341797],[123.94999694824219],[123.20999908447266],[120.83999633789062],[120.9000015258789],[120.11000061035156],[126.0],[126.68000030517578],[125.31999969482422],[125.83999633789062],[126.47000122070312],[128.41000366210938],[129.47000122070312],[130.22999572753906],[129.74000549316406],[130.52000427246094],[129.2899932861328],[127.1500015258789],[128.32000732421875],[127.33000183105469],[126.83999633789062],[127.04000091552734],[127.20999908447266],[125.38999938964844],[127.30000305175781],[126.3499984741211],[125.47000122070312],[126.0],[128.02999877929688],[127.66000366210938],[128.97999572753906],[129.22000122070312],[130.27000427246094],[129.64999389648438],[129.8699951171875],[127.55000305175781],[127.44000244140625],[127.95999908447266],[128.55999755859375],[127.66999816894531],[127.4000015258789],[127.83999633789062],[128.47000122070312],[128.5],[129.11000061035156],[127.97000122070312],[127.77999877929688],[127.76000213623047],[126.33999633789062],[126.2300033569336],[126.05000305175781],[126.30000305175781],[125.02999877929688],[124.77999877929688],[125.29000091552734],[126.56999969482422],[128.7100067138672],[128.27000427246094],[127.58999633789062],[126.75],[126.58999633789062],[125.75],[126.18000030517578],[125.37000274658203],[125.05999755859375],[125.31999969482422],[125.44000244140625],[127.2699966430664],[127.56999969482422],[127.6500015258789],[127.55000305175781],[126.62000274658203],[126.22000122070312],[126.06999969482422],[125.63999938964844],[125.31999969482422],[120.97000122070312],[120.77999877929688],[119.66000366210938],[119.73999786376953],[120.16000366210938],[119.55000305175781],[119.73999786376953],[120.02999877929688],[119.36000061035156],[119.68000030517578],[120.41999816894531],[121.11000061035156],[120.73999786376953],[120.83000183105469],[120.55999755859375],[121.47000122070312],[120.79000091552734],[121.01000213623047],[121.58000183105469],[121.94000244140625],[122.7300033569336],[123.63999938964844],[124.30000305175781],[124.38999938964844],[122.1500015258789],[121.63999938964844],[121.55999755859375],[119.75],[117.0999984741211],[116.11000061035156],[117.12000274658203],[116.7699966430664],[116.16999816894531],[115.1500015258789],[115.58000183105469],[115.54000091552734],[113.25],[112.61000061035156],[113.80000305175781],[113.2699966430664],[111.75],[111.54000091552734],[112.13999938964844],[111.54000091552734],[111.43000030517578],[111.83000183105469],[111.56999969482422],[110.4000015258789],[110.81999969482422],[110.44999694824219],[108.83000183105469],[107.33999633789062],[108.05000305175781],[108.58999633789062],[107.79000091552734],[107.8499984741211],[107.58999633789062],[107.93000030517578],[108.55999755859375],[108.86000061035156],[110.29000091552734],[109.61000061035156],[110.47000122070312],[110.86000061035156],[112.58000183105469],[111.75],[112.66999816894531],[113.1500015258789],[113.5],[113.91000366210938],[114.20999908447266],[115.8499984741211],[114.87000274658203],[114.7699966430664],[115.05000305175781],[115.79000091552734],[115.2699966430664],[114.31999969482422],[113.26000213623047],[113.48999786376953],[113.97000122070312],[115.55000305175781],[115.19999694824219],[115.83999633789062],[116.12999725341797],[117.69999694824219],[117.45999908447266],[118.19000244140625],[117.29000091552734],[117.5999984741211],[116.80000305175781],[116.93000030517578],[117.44999694824219],[118.08000183105469],[117.68000030517578],[117.75],[117.91000366210938],[118.94000244140625],[119.69999694824219],[119.12000274658203],[119.2300033569336],[119.05999755859375],[117.58000183105469],[117.51000213623047],[116.72000122070312],[115.77999877929688],[115.05999755859375],[114.47000122070312],[114.72000122070312],[114.73999786376953],[114.12000274658203],[116.25],[116.7300033569336],[116.98999786376953],[117.51000213623047],[118.54000091552734],[118.83000183105469],[118.66999816894531],[118.86000061035156],[119.52999877929688],[119.04000091552734],[119.33000183105469],[118.47000122070312],[118.72000122070312],[119.3499984741211],[119.62000274658203],[119.62000274658203],[119.18000030517578],[119.45999908447266],[119.45999908447266],[121.19000244140625],[122.0199966430664],[122.5999984741211],[122.23999786376953],[122.81999969482422],[121.7300033569336],[121.95999908447266],[122.30999755859375],[121.4800033569336],[120.25],[120.83999633789062],[120.38999938964844],[120.7699966430664],[119.66999816894531],[119.6500015258789],[117.9800033569336],[116.79000091552734],[117.01000213623047],[116.75],[116.05000305175781],[116.04000091552734],[116.5],[116.83000183105469],[117.13999938964844],[117.6500015258789],[119.79000091552734],[118.80999755859375],[119.4000015258789],[119.9000015258789],[119.13999938964844],[119.61000061035156],[119.4800033569336],[120.54000091552734],[120.13999938964844],[120.62000274658203],[120.72000122070312],[121.61000061035156],[121.7300033569336],[123.0999984741211],[122.44999694824219],[121.6500015258789],[120.54000091552734],[120.36000061035156],[120.4800033569336],[119.81999969482422],[119.31999969482422],[119.33999633789062],[118.43000030517578],[118.18000030517578],[118.5199966430664],[118.91999816894531],[119.43000030517578],[118.36000061035156],[118.80999755859375],[118.9000015258789],[118.31999969482422],[118.0199966430664],[116.08999633789062],[116.5199966430664],[116.47000122070312],[115.27999877929688],[115.47000122070312],[115.62000274658203],[116.02999877929688],[115.81999969482422],[116.7699966430664],[117.29000091552734],[118.11000061035156],[118.08000183105469],[118.23999786376953],[119.26000213623047],[119.30999755859375],[118.91999816894531],[119.87999725341797],[119.79000091552734],[120.69000244140625],[120.75],[120.6500015258789],[120.4000015258789],[120.58999633789062],[119.6500015258789],[119.51000213623047],[119.86000061035156],[121.30999755859375],[122.20999908447266],[122.79000091552734],[121.91999816894531],[120.9800033569336],[121.87000274658203],[122.48999786376953],[122.30000305175781],[122.76000213623047],[122.20999908447266],[122.66999816894531],[122.29000091552734],[122.73999786376953],[124.69000244140625],[124.41999816894531],[124.36000061035156],[125.81999969482422],[126.05999755859375],[127.45999908447266],[126.80999755859375],[128.1300048828125],[127.97000122070312],[126.19000244140625],[126.55999755859375],[125.61000061035156],[126.16000366210938],[125.52999877929688],[124.36000061035156],[124.62000274658203],[123.62000274658203],[122.68000030517578],[123.23999786376953],[124.52999877929688],[123.13999938964844],[121.9800033569336],[122.20999908447266],[121.58000183105469],[120.7699966430664],[120.83000183105469],[121.16999816894531],[120.5199966430664],[121.08999633789062],[122.08000183105469],[122.4000015258789],[122.79000091552734],[122.88999938964844],[123.81999969482422],[122.97000122070312],[122.12999725341797],[121.66999816894531],[122.38999938964844],[121.61000061035156],[121.80000305175781],[121.33000183105469],[121.3499984741211],[120.33000183105469],[120.9000015258789],[121.12999725341797],[120.66999816894531],[121.11000061035156],[121.19000244140625],[120.62000274658203],[121.6500015258789],[121.20999908447266],[121.62999725341797],[122.12999725341797],[121.12999725341797],[121.30999755859375],[121.55999755859375],[121.41000366210938],[121.4000015258789],[122.86000061035156],[121.30999755859375],[121.51000213623047],[122.62999725341797],[122.31999969482422],[122.83000183105469],[122.80999755859375],[122.04000091552734],[121.0999984741211],[121.58999633789062],[121.18000030517578],[120.31999969482422],[120.06999969482422],[118.48999786376953],[118.4800033569336],[118.01000213623047],[118.1500015258789],[119.16999816894531],[118.93000030517578],[119.18000030517578],[119.7300033569336],[119.81999969482422],[120.13999938964844],[120.30999755859375],[120.94000244140625],[121.7699966430664],[122.2300033569336],[122.8499984741211],[123.6500015258789],[125.1500015258789],[124.81999969482422],[125.45999908447266],[125.33000183105469],[125.30999755859375],[124.7300033569336],[125.02999877929688],[125.44000244140625],[126.95999908447266],[127.16999816894531],[126.13999938964844],[125.86000061035156],[126.41999816894531],[126.6500015258789],[127.27999877929688],[128.8300018310547],[127.97000122070312],[128.07000732421875],[127.3499984741211],[126.80000305175781],[127.6500015258789],[128.07000732421875],[126.38999938964844],[126.70999908447266],[125.37999725341797],[124.79000091552734],[124.9800033569336],[124.7699966430664],[125.37000274658203],[126.08000183105469],[128.22999572753906],[128.3800048828125],[127.95999908447266],[126.23999786376953],[125.66000366210938],[126.30000305175781],[126.13999938964844],[126.44999694824219],[125.12999725341797],[125.0],[124.72000122070312],[125.38999938964844],[125.18000030517578],[126.52999877929688],[125.72000122070312],[125.41999816894531],[125.54000091552734],[125.54000091552734],[125.77999877929688],[125.69999694824219],[124.9000015258789],[124.5999984741211],[124.87000274658203],[124.30999755859375],[126.4800033569336],[125.9800033569336],[127.61000061035156],[128.27999877929688],[127.48999786376953],[125.7300033569336],[125.79000091552734],[127.26000213623047],[126.30000305175781],[126.44999694824219],[125.80000305175781],[126.38999938964844],[126.81999969482422],[127.12000274658203],[128.11000061035156],[126.62000274658203],[127.44999694824219],[127.62999725341797],[127.75],[127.8499984741211],[127.5999984741211],[126.62999725341797],[125.62000274658203],[126.2300033569336],[125.41000366210938],[124.97000122070312],[125.5],[124.58999633789062],[123.70999908447266],[123.6500015258789],[124.27999877929688],[124.54000091552734],[124.56999969482422],[124.58999633789062],[124.33000183105469],[125.18000030517578],[125.0],[124.48999786376953],[122.4800033569336],[122.29000091552734],[122.36000061035156],[122.41000366210938],[122.4800033569336],[122.41000366210938],[122.54000091552734],[123.58999633789062],[123.20999908447266],[123.19000244140625],[123.37000274658203],[123.0999984741211],[122.48999786376953],[122.37000274658203],[122.8499984741211],[122.91999816894531],[122.86000061035156],[123.01000213623047],[123.2300033569336],[122.81999969482422],[123.19000244140625],[123.37999725341797],[121.33999633789062],[121.11000061035156],[120.80000305175781],[120.26000213623047],[120.05000305175781],[120.33999633789062],[119.88999938964844],[119.26000213623047],[118.58000183105469],[118.22000122070312],[118.6500015258789],[117.45999908447266],[118.6500015258789],[119.05000305175781],[118.86000061035156],[119.1500015258789],[118.93000030517578],[117.63999938964844],[118.12999725341797],[117.61000061035156],[117.55000305175781],[116.27999877929688],[116.30999755859375],[115.80999755859375],[116.55999755859375],[116.0],[116.04000091552734],[116.68000030517578],[115.7699966430664],[115.83000183105469],[115.6500015258789],[115.98999786376953],[115.13999938964844],[114.5199966430664],[114.91999816894531],[114.33000183105469],[114.58999633789062],[114.91000366210938],[114.73999786376953],[114.69000244140625],[112.95999908447266],[113.06999969482422],[111.19000244140625],[111.0999984741211],[112.12999725341797],[112.69000244140625],[113.0199966430664],[113.2699966430664],[112.19999694824219],[114.16000366210938],[114.58999633789062],[113.68000030517578],[114.19999694824219],[113.63999938964844],[113.51000213623047],[112.93000030517578],[113.31999969482422],[113.54000091552734],[113.2300033569336],[113.1500015258789],[113.22000122070312],[114.16999816894531],[113.76000213623047],[113.0199966430664],[113.61000061035156],[113.44000244140625],[113.87999725341797],[114.2699966430664],[113.48999786376953],[113.47000122070312],[113.6500015258789],[113.05000305175781],[112.05000305175781],[112.76000213623047],[112.56999969482422],[113.87000274658203],[113.41999816894531],[113.4800033569336],[113.80000305175781],[112.54000091552734],[112.5999984741211],[112.87999725341797],[115.77999877929688],[115.2300033569336],[116.0],[115.80000305175781],[115.79000091552734],[115.91999816894531],[116.01000213623047],[115.70999908447266],[116.38999938964844],[116.66000366210938],[116.4000015258789],[116.7699966430664],[116.30999755859375],[115.80000305175781],[115.1500015258789],[116.62999725341797],[116.6500015258789],[116.37000274658203],[116.04000091552734],[116.02999877929688],[115.77999877929688],[114.4800033569336],[113.66000366210938],[113.69999694824219],[114.63999938964844],[114.7699966430664],[115.62000274658203],[115.66999816894531],[115.66999816894531],[115.86000061035156],[115.7699966430664],[115.63999938964844],[114.94999694824219],[115.37999725341797],[115.73999786376953],[115.54000091552734],[116.41000366210938],[117.12000274658203],[117.13999938964844],[118.08999633789062],[117.68000030517578],[117.54000091552734],[117.79000091552734],[117.52999877929688],[117.05999755859375],[117.87000274658203],[118.1500015258789],[117.43000030517578],[119.23999786376953],[118.72000122070312],[120.0199966430664],[119.66000366210938],[120.56999969482422],[121.05999755859375],[121.25],[121.33000183105469],[122.43000030517578],[121.44000244140625],[121.86000061035156],[121.52999877929688],[122.30999755859375],[121.58999633789062],[121.80000305175781],[122.08999633789062],[121.87999725341797],[122.2699966430664],[122.11000061035156],[121.0199966430664],[121.44999694824219],[121.27999877929688],[121.08999633789062],[122.86000061035156],[123.29000091552734],[123.9800033569336],[124.69000244140625],[124.75],[124.5],[123.95999908447266],[124.27999877929688],[123.44000244140625],[123.73999786376953],[124.20999908447266],[123.5999984741211],[123.86000061035156],[123.37000274658203],[124.05999755859375],[124.80000305175781],[126.69999694824219],[126.4800033569336],[125.05000305175781],[125.5],[125.37000274658203],[125.58000183105469],[124.69000244140625],[123.98999786376953],[121.87999725341797],[121.55999755859375],[121.72000122070312],[121.61000061035156],[121.51000213623047],[122.83999633789062],[122.23999786376953],[122.9800033569336],[123.83999633789062],[122.41000366210938],[122.97000122070312],[123.04000091552734],[123.37999725341797],[124.18000030517578],[123.68000030517578],[123.97000122070312],[124.91999816894531],[124.30000305175781],[123.6500015258789],[121.9000015258789],[122.01000213623047],[121.52999877929688],[121.9800033569336],[121.80000305175781],[122.11000061035156],[121.9800033569336],[122.51000213623047],[123.1500015258789],[123.52999877929688],[121.94999694824219],[121.83000183105469],[121.5999984741211],[120.51000213623047],[120.27999877929688],[120.37000274658203],[120.37000274658203],[120.12000274658203],[120.47000122070312],[120.56999969482422],[121.37000274658203],[120.83000183105469],[121.19999694824219],[120.4000015258789],[119.94000244140625],[120.6500015258789],[120.80999755859375],[121.20999908447266],[120.91000366210938],[121.19999694824219],[121.43000030517578],[122.66999816894531],[122.45999908447266],[122.38999938964844],[121.51000213623047],[120.6500015258789],[120.63999938964844],[120.36000061035156],[120.23999786376953],[121.16999816894531],[121.30000305175781],[120.83000183105469],[120.87000274658203],[121.69000244140625],[123.33000183105469],[125.11000061035156],[125.1500015258789],[125.47000122070312],[125.87999725341797],[126.58999633789062],[125.33000183105469],[125.18000030517578],[125.83000183105469],[126.5999984741211],[126.55999755859375],[126.4800033569336],[127.12000274658203],[127.88999938964844],[131.11000061035156],[131.97999572753906],[133.94000244140625],[134.1999969482422],[132.97000122070312],[132.83999633789062],[133.1999969482422],[130.6199951171875],[133.41000366210938],[133.6300048828125],[132.13999938964844],[131.2899932861328],[131.75],[133.8300018310547],[132.6999969482422],[133.52999877929688],[133.52999877929688],[132.39999389648438],[134.5800018310547],[136.47999572753906],[134.47000122070312],[134.4499969482422],[133.69000244140625],[134.3699951171875],[133.4199981689453],[133.63999938964844],[134.52999877929688],[134.97999572753906],[133.2100067138672],[136.41000366210938],[135.88999938964844],[137.7899932861328],[138.91000366210938],[141.02000427246094],[141.72999572753906],[141.25999450683594],[142.6300048828125],[141.77999877929688],[142.75],[143.6999969482422],[142.77999877929688],[141.11000061035156],[142.2100067138672],[141.75999450683594],[141.39999389648438],[144.1699981689453],[144.19000244140625],[145.57000732421875],[145.16000366210938],[144.1199951171875],[143.75],[145.75],[146.66000366210938],[143.13999938964844],[141.9199981689453],[141.38999938964844],[140.17999267578125],[141.02999877929688],[141.32000732421875],[140.14999389648438],[141.32000732421875],[141.60000610351562],[140.7100067138672],[141.27999877929688],[142.9499969482422],[143.75],[144.50999450683594],[141.8300018310547],[141.7899932861328],[141.05999755859375],[138.8699951171875],[139.6300048828125],[141.25999450683594],[141.89999389648438],[141.89999389648438],[140.69000244140625],[141.9199981689453],[142.0500030517578],[140.80999755859375],[140.02999877929688],[140.58999633789062],[139.61000061035156],[140.41000366210938],[140.61000061035156],[140.4600067138672],[139.7899932861328],[140.1999969482422],[140.52999877929688],[141.52999877929688],[141.86000061035156],[140.63999938964844],[140.25],[141.02000427246094],[142.42999267578125],[142.55999755859375],[142.14999389648438],[139.85000610351562],[140.4499969482422],[138.27000427246094],[137.38999938964844],[137.05999755859375],[137.42999267578125],[137.97999572753906],[138.55999755859375],[138.2100067138672],[138.6199951171875],[138.69000244140625],[138.75999450683594],[138.0],[137.74000549316406],[137.0800018310547],[137.74000549316406],[137.00999450683594],[137.86000061035156],[137.7899932861328],[139.11000061035156],[138.9199981689453],[139.0],[137.6199951171875],[137.5800018310547],[137.97000122070312],[138.9199981689453],[138.42999267578125],[139.0500030517578],[139.0399932861328],[139.00999450683594],[139.02000427246094],[139.3800048828125],[139.52000427246094],[139.9499969482422],[141.27000427246094],[142.3800048828125],[142.3300018310547],[142.6300048828125],[142.89999389648438],[143.9499969482422],[145.86000061035156],[147.38999938964844],[147.97000122070312],[146.86000061035156],[146.02999877929688],[146.91000366210938],[145.82000732421875],[145.69000244140625],[146.5399932861328],[146.30999755859375],[146.5800018310547],[146.74000549316406],[146.7899932861328],[147.1199951171875],[147.97999572753906],[148.99000549316406],[147.66000366210938],[148.4600067138672],[148.47000122070312],[149.3300018310547],[148.36000061035156],[146.42999267578125],[146.61000061035156],[147.39999389648438],[147.7899932861328],[148.1699981689453],[147.66000366210938],[147.5399932861328],[148.3800048828125],[149.0],[150.91000366210938],[151.7899932861328],[152.41000366210938],[154.6999969482422],[156.08999633789062],[153.3000030517578],[153.97000122070312],[154.0],[148.3800048828125],[149.1999969482422],[153.88999938964844],[154.16000366210938],[157.49000549316406],[157.5500030517578],[157.80999755859375],[154.47999572753906],[153.92999267578125],[147.7899932861328],[143.27999877929688],[141.63999938964844],[143.55999755859375],[140.6999969482422],[138.0399932861328],[140.11000061035156],[146.3000030517578],[153.39999389648438],[151.3000030517578],[153.24000549316406],[152.25],[152.9199981689453],[148.0500030517578],[149.4499969482422],[151.89999389648438],[152.64999389648438],[156.8800048828125],[156.0399932861328],[154.64999389648438],[158.69000244140625],[161.41000366210938],[162.67999267578125],[161.85000610351562],[161.7100067138672],[158.57000732421875],[159.6999969482422],[158.61000061035156],[161.72999572753906],[163.33999633789062],[162.63999938964844],[161.55999755859375],[160.83999633789062],[161.72999572753906],[158.8000030517578],[159.77999877929688],[160.33999633789062],[161.02000427246094],[158.9499969482422],[161.38999938964844],[160.4199981689453],[159.4199981689453],[160.0399932861328],[161.5800018310547],[163.00999450683594],[163.92999267578125],[162.69000244140625],[164.25999450683594],[164.64999389648438],[162.25],[163.2100067138672],[160.88999938964844],[161.17999267578125],[161.72000122070312],[162.91000366210938],[163.66000366210938],[162.60000610351562],[159.60000610351562],[161.27999877929688],[158.00999450683594],[159.72000122070312],[161.25999450683594],[163.57000732421875],[162.38999938964844],[162.6199951171875],[162.3300018310547],[162.25],[162.55999755859375],[162.24000549316406],[164.02999877929688],[165.08999633789062],[166.47999572753906],[165.89999389648438],[165.8000030517578],[166.5399932861328],[166.6300048828125],[167.3699951171875],[166.6199951171875],[166.97999572753906],[167.97999572753906],[169.0399932861328],[170.08999633789062],[169.6300048828125],[169.19000244140625],[169.39999389648438],[170.19000244140625],[170.33999633789062],[168.72999572753906],[170.1199951171875],[170.94000244140625],[173.0],[175.6300048828125],[177.17999267578125],[178.6999969482422],[182.22999572753906],[183.75],[185.1300048828125],[183.75999450683594],[185.42999267578125],[185.63999938964844],[189.58999633789062],[191.35000610351562],[193.88999938964844],[190.80999755859375],[190.14999389648438],[179.94000244140625],[179.10000610351562],[183.3300018310547],[182.5399932861328],[186.5],[188.17999267578125],[182.24000549316406],[183.5],[182.02999877929688],[181.0],[181.22000122070312],[183.36000061035156],[181.24000549316406],[184.38999938964844],[184.8300018310547],[185.0500030517578],[182.6199951171875],[181.13999938964844],[181.63999938964844],[181.2899932861328],[183.0500030517578],[182.4600067138672],[182.4499969482422],[183.88999938964844],[183.4499969482422],[183.97000122070312],[182.9600067138672],[183.1999969482422],[179.52000427246094],[178.64999389648438],[174.7899932861328],[175.44000244140625],[174.94000244140625],[176.6999969482422],[178.19000244140625],[177.1199951171875],[178.6999969482422],[178.5399932861328],[179.41000366210938],[177.3000030517578],[177.22000122070312],[177.85000610351562],[181.0800018310547],[180.55999755859375],[177.72000122070312],[178.27000427246094],[178.9199981689453],[178.3000030517578],[178.38999938964844],[179.25],[180.60000610351562],[178.8300018310547],[178.63999938964844],[178.5500030517578],[179.02000427246094],[176.1300048828125],[175.39999389648438],[176.1999969482422],[177.91000366210938],[178.9199981689453],[178.82000732421875],[182.92999267578125],[183.19000244140625],[175.0800018310547],[175.66000366210938],[174.89999389648438],[175.9600067138672],[177.16000366210938],[177.14999389648438],[176.5],[175.49000549316406],[175.16000366210938],[175.69000244140625],[172.22999572753906],[169.58999633789062],[169.50999450683594],[167.7899932861328],[166.6699981689453],[170.17999267578125],[171.4600067138672],[172.80999755859375],[172.32000732421875],[174.88999938964844],[175.5],[172.5],[172.1699981689453],[172.49000549316406],[171.5399932861328],[173.94000244140625],[174.89999389648438],[176.74000549316406],[176.44000244140625],[175.8800048828125],[174.49000549316406],[175.64999389648438],[176.35000610351562],[175.7100067138672],[176.35000610351562],[177.6999969482422],[178.36000061035156],[182.3300018310547],[182.8699951171875],[179.89999389648438],[179.47999572753906],[173.33999633789062],[173.0],[174.1199951171875],[173.3699951171875],[173.27999877929688],[171.1300048828125],[172.5800018310547],[175.38999938964844],[175.27999877929688],[173.89999389648438],[174.0500030517578],[173.6199951171875],[172.52000427246094],[172.67999267578125],[172.61000061035156],[174.22999572753906],[172.11000061035156],[171.85000610351562],[168.14999389648438],[169.80999755859375],[171.52000427246094],[172.0800018310547],[172.7100067138672],[171.2100067138672],[170.69000244140625],[168.24000549316406],[166.3300018310547],[166.32000732421875],[167.00999450683594],[169.50999450683594],[169.1199951171875],[169.0],[165.82000732421875],[161.80999755859375],[161.52999877929688],[162.41000366210938],[160.6199951171875],[159.0399932861328],[159.13999938964844],[157.49000549316406],[160.83999633789062],[161.66000366210938],[161.52000427246094],[161.49000549316406],[162.1999969482422],[162.35000610351562],[163.50999450683594],[162.55999755859375],[163.24000549316406],[163.0],[161.80999755859375],[162.3699951171875],[161.77999877929688],[162.24000549316406],[160.30999755859375],[157.57000732421875],[159.9600067138672],[161.97999572753906],[161.9199981689453],[163.22000122070312],[162.75999450683594],[164.50999450683594],[163.27000427246094],[162.27999877929688],[163.42999267578125],[162.72000122070312],[165.35000610351562],[166.35000610351562],[165.88999938964844],[166.47999572753906],[168.1300048828125],[167.0399932861328],[166.39999389648438],[166.83999633789062],[166.4199981689453],[166.91000366210938],[166.22000122070312],[165.66000366210938],[167.80999755859375],[166.5800018310547],[167.27000427246094],[170.05999755859375],[171.58999633789062],[172.11000061035156],[172.13999938964844],[170.42999267578125],[171.1300048828125],[172.69000244140625],[174.6999969482422],[175.0399932861328],[175.16000366210938],[175.9600067138672],[176.0399932861328],[176.35000610351562],[177.9499969482422],[177.63999938964844],[177.7100067138672],[178.3800048828125],[177.89999389648438],[178.77000427246094],[175.27000427246094],[177.16000366210938],[177.8699951171875],[177.32000732421875],[176.97999572753906],[177.74000549316406],[175.74000549316406],[174.7100067138672],[174.0500030517578],[171.11000061035156],[165.85000610351562],[164.92999267578125],[166.9499969482422],[166.25],[166.13999938964844],[166.0399932861328],[166.58999633789062],[166.5800018310547],[164.8300018310547],[165.6300048828125],[166.1999969482422],[167.2899932861328],[168.1199951171875],[168.75999450683594],[168.64999389648438],[169.2100067138672],[169.0],[169.22000122070312],[171.0399932861328],[171.07000732421875],[169.41000366210938],[169.61000061035156],[169.38999938964844],[168.75999450683594],[169.08999633789062],[168.55999755859375],[168.16000366210938],[168.44000244140625],[169.2899932861328],[171.1699981689453],[169.82000732421875],[169.61000061035156],[169.49000549316406],[169.52999877929688],[168.86000061035156],[164.63999938964844],[161.72000122070312],[161.77000427246094],[164.0],[164.0399932861328],[166.38999938964844],[167.22000122070312],[166.97000122070312],[167.10000610351562],[166.61000061035156],[166.6999969482422],[168.72999572753906],[168.64999389648438],[167.47999572753906],[167.6699981689453],[170.19000244140625],[169.35000610351562],[169.69000244140625],[169.6999969482422],[169.25],[171.05999755859375],[167.7100067138672],[167.2899932861328],[168.02999877929688],[167.17999267578125],[167.74000549316406],[168.82000732421875],[167.8300018310547],[164.02999877929688],[163.77000427246094],[164.94000244140625],[166.0399932861328],[165.4199981689453],[163.50999450683594],[163.3000030517578],[163.63999938964844],[162.0500030517578],[161.32000732421875],[164.22000122070312],[164.58999633789062],[165.36000061035156],[164.58999633789062],[165.02999877929688],[164.16000366210938],[164.22999572753906],[163.9199981689453],[164.66000366210938],[167.58999633789062],[168.0],[165.3300018310547],[164.9199981689453],[165.4499969482422],[166.89999389648438],[166.75],[167.77000427246094],[168.92999267578125],[167.67999267578125],[168.1199951171875],[168.0800018310547],[166.64999389648438],[167.52000427246094],[167.16000366210938],[165.77000427246094],[167.64999389648438],[169.83999633789062],[170.4499969482422],[171.2899932861328],[173.14999389648438],[174.1199951171875],[174.4499969482422],[174.17999267578125],[172.9199981689453],[174.5],[173.94000244140625],[172.61000061035156],[168.74000549316406],[167.27999877929688],[167.1199951171875],[166.85000610351562],[166.6199951171875],[165.5],[166.16000366210938],[165.24000549316406],[166.6300048828125],[166.22000122070312],[166.80999755859375],[166.89999389648438],[165.8800048828125],[166.5800018310547],[167.0],[165.44000244140625],[166.14999389648438],[168.16000366210938],[167.8000030517578],[167.08999633789062],[167.02000427246094],[168.58999633789062],[168.97000122070312],[169.3699951171875],[168.63999938964844],[168.58999633789062],[169.8000030517578],[170.9600067138672],[168.3300018310547],[169.57000732421875],[169.05999755859375],[166.99000549316406],[167.75],[168.25999450683594],[170.2899932861328],[170.74000549316406],[170.16000366210938],[169.6699981689453],[169.38999938964844],[172.0800018310547],[171.64999389648438],[171.08999633789062],[172.02999877929688],[172.5800018310547],[169.7899932861328],[167.60000610351562],[167.10000610351562],[168.08999633789062],[168.22999572753906],[168.83999633789062],[168.60000610351562],[168.86000061035156],[170.11000061035156],[170.6300048828125],[171.2100067138672],[170.55999755859375],[173.80999755859375],[174.74000549316406],[173.0800018310547],[174.86000061035156],[177.25],[177.1199951171875],[177.49000549316406],[178.2899932861328],[177.13999938964844],[176.5500030517578],[178.3800048828125],[181.6199951171875],[179.72999572753906],[180.8000030517578],[183.67999267578125],[186.41000366210938],[191.50999450683594],[185.82000732421875],[186.39999389648438],[185.08999633789062],[182.3000030517578],[178.88999938964844],[180.00999450683594],[180.88999938964844],[179.3000030517578],[180.6699981689453],[179.36000061035156],[181.80999755859375],[183.1300048828125],[182.3800048828125],[179.05999755859375],[179.13999938964844],[180.5800018310547],[180.64999389648438],[179.5],[180.3699951171875],[179.24000549316406],[179.66000366210938],[180.33999633789062],[181.47000122070312],[182.3699951171875],[183.77000427246094],[184.64999389648438],[184.0399932861328],[184.61000061035156],[181.82000732421875],[182.7100067138672],[182.05999755859375],[180.2899932861328],[177.0500030517578],[177.32000732421875],[175.97999572753906],[176.92999267578125],[176.91000366210938],[173.6300048828125],[174.08999633789062],[175.8000030517578],[175.1300048828125],[175.4199981689453],[172.8800048828125],[171.4199981689453],[172.82000732421875],[170.1699981689453],[168.7899932861328],[170.39999389648438],[169.3300018310547],[169.4199981689453],[171.91000366210938],[172.02999877929688],[172.8300018310547],[174.1300048828125],[173.0800018310547],[172.75999450683594],[172.85000610351562],[171.13999938964844],[172.22999572753906],[174.35000610351562],[172.5800018310547],[171.82000732421875],[172.94000244140625],[172.77999877929688],[172.22999572753906],[174.5399932861328],[169.92999267578125],[168.57000732421875],[170.77000427246094],[172.69000244140625],[171.27000427246094],[170.6300048828125],[171.30999755859375],[170.25999450683594],[170.08999633789062],[169.89999389648438],[169.6199951171875],[169.49000549316406],[168.4600067138672],[168.32000732421875],[164.75],[162.13999938964844],[162.22999572753906],[162.3000030517578],[161.42999267578125],[160.8300018310547],[161.60000610351562],[159.3300018310547],[159.00999450683594],[159.16000366210938],[159.5399932861328],[158.0399932861328],[160.27000427246094],[160.6699981689453],[160.22999572753906],[160.0399932861328],[161.6699981689453],[163.63999938964844],[164.10000610351562],[165.02999877929688],[164.0500030517578],[164.4499969482422],[167.1699981689453],[165.2899932861328],[166.69000244140625],[167.1999969482422],[166.77999877929688],[166.33999633789062],[167.8699951171875],[165.7100067138672],[165.4199981689453],[164.35000610351562],[163.9199981689453],[162.72000122070312],[161.63999938964844],[162.77000427246094],[163.25],[163.75],[161.75999450683594],[161.86000061035156],[160.50999450683594],[159.27000427246094],[157.8699951171875],[159.25999450683594],[158.3300018310547],[159.94000244140625],[158.97999572753906],[159.82000732421875],[160.6300048828125],[158.5399932861328],[157.92999267578125],[154.97999572753906],[155.83999633789062],[155.9600067138672],[155.07000732421875],[155.7899932861328],[155.6999969482422],[153.00999450683594],[151.22999572753906],[151.5399932861328],[154.69000244140625],[154.66000366210938],[154.6699981689453],[158.42999267578125],[160.6999969482422],[159.80999755859375],[159.6300048828125],[157.8800048828125],[155.47999572753906],[155.16000366210938],[155.99000549316406],[154.91000366210938],[152.97999572753906],[153.4199981689453],[153.75],[151.69000244140625],[151.4499969482422],[154.14999389648438],[153.64999389648438],[154.0],[154.97999572753906],[154.74000549316406],[153.16000366210938],[151.91000366210938],[153.4600067138672],[152.38999938964844],[151.80999755859375],[156.47000122070312],[155.85000610351562],[159.4499969482422],[158.64999389648438],[163.47999572753906],[164.55999755859375],[164.9199981689453],[165.5],[165.1199951171875],[163.9199981689453],[162.7899932861328],[161.8800048828125],[162.07000732421875],[163.0800018310547],[163.22000122070312],[161.92999267578125],[162.72999572753906],[164.80999755859375],[167.83999633789062],[167.25999450683594],[164.38999938964844],[164.83999633789062],[166.3300018310547],[166.47000122070312],[167.05999755859375],[165.67999267578125],[168.50999450683594],[168.10000610351562],[165.35000610351562],[166.7899932861328],[166.32000732421875],[169.0800018310547],[168.8000030517578],[166.75999450683594],[167.25999450683594],[168.6699981689453],[167.91000366210938],[168.85000610351562],[169.63999938964844],[171.05999755859375],[172.6699981689453],[170.52000427246094],[173.7100067138672],[174.10000610351562],[174.74000549316406],[174.6199951171875],[176.63999938964844],[178.75999450683594],[177.58999633789062],[177.0800018310547],[179.88999938964844],[179.2899932861328],[179.6300048828125],[180.27999877929688],[181.11000061035156],[179.47000122070312],[179.22000122070312],[178.75999450683594],[179.41000366210938],[181.6699981689453],[177.89999389648438],[173.4600067138672],[173.82000732421875],[173.97999572753906],[174.41000366210938],[173.02999877929688],[173.36000061035156],[172.47999572753906],[172.61000061035156],[170.88999938964844],[170.75],[171.25999450683594],[170.6199951171875],[169.66000366210938],[169.57000732421875],[168.35000610351562],[169.00999450683594],[169.77999877929688],[170.75999450683594],[170.66000366210938],[172.49000549316406],[171.6199951171875],[168.6199951171875],[168.5399932861328],[170.1999969482422],[173.8699951171875],[177.86000061035156],[176.8300018310547],[178.2100067138672],[178.57000732421875],[183.77000427246094],[183.83999633789062],[180.3699951171875],[183.44000244140625],[185.74000549316406],[183.64999389648438],[181.9499969482422],[183.44000244140625],[182.52999877929688],[184.17999267578125],[183.22000122070312],[184.5399932861328],[187.97999572753906],[187.8300018310547],[186.49000549316406],[185.11000061035156],[186.27999877929688],[187.19000244140625],[189.72000122070312],[186.36000061035156],[185.52999877929688],[186.25],[185.36000061035156],[186.08999633789062],[184.25],[184.80999755859375],[185.75],[184.74000549316406],[184.75],[184.8000030517578],[183.97000122070312],[187.52000427246094],[189.11000061035156],[190.44000244140625],[187.4600067138672],[187.69000244140625],[189.02000427246094],[188.75],[187.1300048828125],[186.80999755859375],[187.2100067138672],[184.8699951171875],[184.22999572753906],[181.83999633789062],[183.63999938964844],[183.2100067138672],[183.42999267578125],[181.9499969482422],[180.1999969482422],[180.9199981689453],[182.0399932861328],[182.32000732421875],[183.75999450683594],[181.0500030517578],[182.13999938964844],[182.33999633789062],[180.14999389648438],[182.52999877929688],[182.0399932861328],[181.8800048828125],[180.5399932861328],[180.63999938964844],[181.91000366210938],[181.6300048828125],[179.75],[179.49000549316406],[177.7100067138672],[178.1999969482422],[178.50999450683594],[177.69000244140625],[177.27999877929688],[177.08999633789062],[178.27000427246094],[178.47000122070312],[177.83999633789062],[177.30999755859375],[178.63999938964844],[178.77999877929688],[179.4499969482422],[181.8800048828125],[182.00999450683594],[181.42999267578125],[181.55999755859375],[183.63999938964844],[183.6699981689453],[182.74000549316406],[182.17999267578125],[181.39999389648438],[182.41000366210938],[183.3000030517578],[180.4199981689453],[181.86000061035156],[182.35000610351562],[180.4600067138672],[179.60000610351562],[179.5399932861328],[180.19000244140625],[179.77999877929688],[178.63999938964844],[177.7899932861328],[177.60000610351562],[177.60000610351562],[177.05999755859375],[176.58999633789062],[175.57000732421875],[175.3000030517578],[175.3300018310547],[175.80999755859375],[176.10000610351562],[177.88999938964844],[177.85000610351562],[177.6199951171875],[178.1300048828125],[179.8699951171875],[180.32000732421875],[180.02000427246094],[180.11000061035156],[178.63999938964844],[177.8300018310547],[178.02000427246094],[178.0800018310547],[178.41000366210938],[177.49000549316406],[177.0800018310547],[177.1699981689453],[178.33999633789062],[179.38999938964844],[179.22000122070312],[179.35000610351562],[178.0500030517578],[178.6199951171875],[177.6999969482422],[176.27999877929688],[174.10000610351562],[173.22999572753906],[171.4499969482422],[169.64999389648438],[169.16000366210938],[169.13999938964844],[168.8300018310547],[169.6999969482422],[172.82000732421875],[172.52999877929688],[173.7899932861328],[173.25999450683594],[178.8300018310547],[177.9600067138672],[178.2899932861328],[180.8699951171875],[183.08999633789062],[183.58999633789062],[182.97000122070312],[182.9499969482422],[183.72000122070312],[184.00999450683594],[186.14999389648438],[185.10000610351562],[184.08999633789062],[183.50999450683594],[184.1199951171875],[184.7899932861328],[183.35000610351562],[182.58999633789062],[180.77000427246094],[181.49000549316406],[179.50999450683594],[180.50999450683594],[182.1199951171875],[181.63999938964844],[183.69000244140625],[183.6699981689453],[183.3699951171875],[185.35000610351562],[184.55999755859375],[185.52000427246094],[186.77000427246094],[189.25999450683594],[189.5399932861328],[188.75],[192.00999450683594],[187.86000061035156],[187.14999389648438],[187.83999633789062],[188.14999389648438],[185.63999938964844],[183.58999633789062],[183.49000549316406],[187.6300048828125],[188.72999572753906],[187.0],[187.85000610351562],[189.1300048828125],[188.10000610351562],[189.42999267578125],[190.27000427246094],[191.72000122070312],[192.58999633789062],[191.47000122070312],[191.1699981689453],[190.72000122070312],[189.1300048828125],[189.32000732421875],[189.35000610351562],[187.8699951171875],[187.92999267578125],[187.5],[187.8699951171875],[189.7100067138672],[187.91000366210938],[185.83999633789062],[187.3699951171875],[187.92999267578125],[187.22000122070312],[187.9499969482422],[186.39999389648438],[187.13999938964844],[187.00999450683594],[188.3300018310547],[188.58999633789062],[188.4499969482422],[190.41000366210938],[188.61000061035156],[187.57000732421875],[188.5500030517578],[188.5],[188.3300018310547],[187.60000610351562],[187.11000061035156],[184.52999877929688],[184.4199981689453],[185.66000366210938],[186.33999633789062],[187.47000122070312],[187.47999572753906],[187.55999755859375],[188.6199951171875],[188.1999969482422],[188.0],[188.33999633789062],[189.30999755859375],[192.88999938964844],[196.00999450683594],[197.19000244140625],[198.80999755859375],[199.94000244140625],[201.6300048828125],[202.0],[199.7899932861328],[201.19000244140625],[200.35000610351562],[199.7100067138672],[200.02999877929688],[199.8000030517578],[202.17999267578125],[201.97000122070312],[200.35000610351562],[200.99000549316406],[201.63999938964844],[203.10000610351562],[205.72000122070312],[207.82000732421875],[210.88999938964844],[212.74000549316406],[211.52000427246094],[215.13999938964844],[216.47999572753906],[217.6699981689453],[215.61000061035156],[219.8000030517578],[216.88999938964844],[220.9499969482422],[221.22000122070312],[219.58999633789062],[220.33999633789062],[221.02999877929688],[215.57000732421875],[215.0399932861328],[214.63999938964844],[215.9199981689453],[216.6199951171875],[216.17999267578125],[211.8699951171875],[213.7899932861328],[213.1300048828125],[212.9600067138672],[215.1999969482422],[214.2100067138672],[213.5800018310547],[216.9499969482422],[218.7100067138672],[216.25999450683594],[218.08999633789062],[220.88999938964844],[220.02999877929688],[223.66000366210938],[224.55999755859375],[224.22999572753906],[220.11000061035156],[215.72000122070312],[215.9199981689453],[218.19000244140625],[216.16000366210938],[216.57000732421875],[215.3000030517578],[217.22000122070312],[215.27000427246094],[217.82000732421875],[219.42999267578125],[211.60000610351562],[213.5399932861328],[214.14999389648438],[214.72000122070312],[212.97000122070312],[215.72999572753906],[214.61000061035156],[215.47000122070312],[218.16000366210938],[214.77999877929688],[215.6300048828125],[214.55999755859375],[212.5800018310547],[214.99000549316406],[215.00999450683594],[215.57000732421875],[215.55999755859375],[217.99000549316406],[220.92999267578125],[218.19000244140625],[218.55999755859375],[219.36000061035156],[223.25],[223.11000061035156],[223.8300018310547],[228.2899932861328],[227.22999572753906],[225.77999877929688],[221.72999572753906],[221.8000030517578],[222.5800018310547],[221.8000030517578],[218.3300018310547],[220.6300048828125],[220.32000732421875],[222.52000427246094],[226.5500030517578],[225.77000427246094],[225.33999633789062],[222.47999572753906],[220.6999969482422],[220.5500030517578],[224.00999450683594],[224.55999755859375],[228.41000366210938],[228.05999755859375],[226.1999969482422],[226.91000366210938],[231.99000549316406],[231.61000061035156],[232.4600067138672],[232.14999389648438],[229.3699951171875],[232.02000427246094],[232.75999450683594],[233.38999938964844],[231.75],[232.9499969482422],[231.2899932861328],[230.2899932861328],[230.42999267578125],[232.35000610351562],[230.6300048828125],[231.60000610351562],[232.6199951171875],[232.25],[236.3300018310547],[238.67999267578125],[238.66000366210938],[237.33999633789062],[235.50999450683594],[239.1699981689453],[242.2100067138672],[242.67999267578125],[246.07000732421875],[245.72999572753906],[246.97999572753906],[245.02000427246094],[243.05999755859375],[245.61000061035156],[245.66000366210938],[245.49000549316406],[245.0],[244.1699981689453],[242.3699951171875],[241.0500030517578],[242.82000732421875],[245.47000122070312],[245.07000732421875],[245.9199981689453],[247.14999389648438],[248.6300048828125],[251.27000427246094],[251.22000122070312],[253.92999267578125],[250.8699951171875],[252.8000030517578],[253.32000732421875],[253.3300018310547],[256.0899963378906],[257.5],[253.50999450683594],[252.47000122070312],[252.8300018310547],[253.39999389648438],[245.6999969482422],[249.64999389648438],[247.9600067138672],[242.13999938964844],[240.0500030517578],[237.6300048828125],[237.00999450683594],[236.58999633789062],[241.08999633789062],[243.25],[244.6199951171875],[246.66000366210938],[249.83999633789062],[242.47999572753906],[242.9499969482422],[243.49000549316406],[245.58999633789062],[243.44000244140625],[243.92999267578125],[244.6699981689453],[242.86000061035156],[242.9499969482422],[245.36000061035156],[248.58999633789062],[250.9600067138672],[247.27999877929688],[244.2899932861328],[244.8800048828125],[243.94000244140625],[239.25999450683594],[239.60000610351562],[242.10000610351562],[240.9600067138672],[241.44000244140625],[243.07000732421875],[241.39999389648438],[240.6300048828125],[242.1300048828125],[245.4199981689453],[243.49000549316406],[243.19000244140625],[244.55999755859375],[245.86000061035156],[248.2100067138672],[245.74000549316406],[247.02999877929688],[248.8800048828125],[250.60000610351562],[249.27000427246094],[253.1300048828125],[254.42999267578125],[254.07000732421875],[255.64999389648438],[252.99000549316406],[255.17999267578125],[254.1999969482422],[258.04998779296875],[258.55999755859375],[259.94000244140625],[262.5],[264.1300048828125],[263.42999267578125],[263.8999938964844],[268.3699951171875],[267.3900146484375],[267.6700134277344],[270.30999755859375],[266.2900085449219],[270.70001220703125],[270.8500061035156],[270.989990234375],[270.739990234375],[272.2099914550781],[268.6199951171875],[269.0299987792969],[264.92999267578125],[263.2699890136719],[266.739990234375],[269.05999755859375],[269.6199951171875],[268.25],[268.3900146484375],[266.0400085449219],[269.1600036621094],[270.3299865722656],[275.1300048828125],[275.239990234375],[276.7300109863281],[279.9599914550781],[281.1099853515625],[280.75],[278.489990234375],[277.25],[278.4700012207031],[278.239990234375],[281.9700012207031],[284.05999755859375],[288.1400146484375],[287.57000732421875],[288.1600036621094],[286.4200134277344],[279.7200012207031],[273.7099914550781],[275.20001220703125],[285.3800048828125],[292.3500061035156],[297.92999267578125],[296.2300109863281],[297.7799987792969],[307.4700012207031],[306.1199951171875],[315.5899963378906],[311.1099853515625],[303.6499938964844],[308.07000732421875],[304.7300109863281],[309.07000732421875],[306.05999755859375],[303.7699890136719],[297.4599914550781],[297.9800109863281],[306.8800048828125],[315.4800109863281],[310.75],[304.6300048828125],[306.8399963378906],[298.19000244140625],[299.4599914550781],[293.1600036621094],[297.8399963378906],[294.239990234375],[298.0299987792969],[303.5799865722656],[305.82000732421875],[303.1099853515625],[309.75],[304.5],[303.80999755859375],[305.6099853515625],[303.6000061035156],[311.6700134277344],[308.9100036621094],[310.8999938964844],[309.3299865722656],[305.17999267578125],[306.6199951171875],[306.7099914550781],[308.3699951171875],[312.20001220703125],[316.2900085449219],[311.7799987792969],[311.94000244140625],[310.260009765625],[310.1300048828125],[311.0799865722656],[306.19000244140625],[307.1199951171875],[306.7799987792969],[301.2200012207031],[304.8299865722656],[307.54998779296875],[309.25],[307.1400146484375],[307.3699951171875],[304.1600036621094],[305.5199890136719],[306.20001220703125],[309.1400146484375],[308.010009765625],[306.7300109863281],[308.260009765625],[307.5899963378906],[308.3900146484375],[313.1300048828125],[316.1000061035156],[312.17999267578125],[310.2699890136719],[307.3999938964844],[305.4100036621094],[306.25],[300.9599914550781],[302.9599914550781],[309.1099853515625],[310.9100036621094],[311.1600036621094],[310.5],[313.1199951171875],[313.04998779296875],[308.54998779296875],[308.2699890136719],[309.2099914550781],[307.25]],\"type\":\"scatter\",\"xaxis\":\"x\",\"yaxis\":\"y\"},{\"mode\":\"lines\",\"name\":\"Log Returns\",\"x\":[\"2015-02-02T00:00:00\",\"2015-02-03T00:00:00\",\"2015-02-04T00:00:00\",\"2015-02-05T00:00:00\",\"2015-02-06T00:00:00\",\"2015-02-09T00:00:00\",\"2015-02-10T00:00:00\",\"2015-02-11T00:00:00\",\"2015-02-12T00:00:00\",\"2015-02-13T00:00:00\",\"2015-02-17T00:00:00\",\"2015-02-18T00:00:00\",\"2015-02-19T00:00:00\",\"2015-02-20T00:00:00\",\"2015-02-23T00:00:00\",\"2015-02-24T00:00:00\",\"2015-02-25T00:00:00\",\"2015-02-26T00:00:00\",\"2015-02-27T00:00:00\",\"2015-03-02T00:00:00\",\"2015-03-03T00:00:00\",\"2015-03-04T00:00:00\",\"2015-03-05T00:00:00\",\"2015-03-06T00:00:00\",\"2015-03-09T00:00:00\",\"2015-03-10T00:00:00\",\"2015-03-11T00:00:00\",\"2015-03-12T00:00:00\",\"2015-03-13T00:00:00\",\"2015-03-16T00:00:00\",\"2015-03-17T00:00:00\",\"2015-03-18T00:00:00\",\"2015-03-19T00:00:00\",\"2015-03-20T00:00:00\",\"2015-03-23T00:00:00\",\"2015-03-24T00:00:00\",\"2015-03-25T00:00:00\",\"2015-03-26T00:00:00\",\"2015-03-27T00:00:00\",\"2015-03-30T00:00:00\",\"2015-03-31T00:00:00\",\"2015-04-01T00:00:00\",\"2015-04-02T00:00:00\",\"2015-04-06T00:00:00\",\"2015-04-07T00:00:00\",\"2015-04-08T00:00:00\",\"2015-04-09T00:00:00\",\"2015-04-10T00:00:00\",\"2015-04-13T00:00:00\",\"2015-04-14T00:00:00\",\"2015-04-15T00:00:00\",\"2015-04-16T00:00:00\",\"2015-04-17T00:00:00\",\"2015-04-20T00:00:00\",\"2015-04-21T00:00:00\",\"2015-04-22T00:00:00\",\"2015-04-23T00:00:00\",\"2015-04-24T00:00:00\",\"2015-04-27T00:00:00\",\"2015-04-28T00:00:00\",\"2015-04-29T00:00:00\",\"2015-04-30T00:00:00\",\"2015-05-01T00:00:00\",\"2015-05-04T00:00:00\",\"2015-05-05T00:00:00\",\"2015-05-06T00:00:00\",\"2015-05-07T00:00:00\",\"2015-05-08T00:00:00\",\"2015-05-11T00:00:00\",\"2015-05-12T00:00:00\",\"2015-05-13T00:00:00\",\"2015-05-14T00:00:00\",\"2015-05-15T00:00:00\",\"2015-05-18T00:00:00\",\"2015-05-19T00:00:00\",\"2015-05-20T00:00:00\",\"2015-05-21T00:00:00\",\"2015-05-22T00:00:00\",\"2015-05-26T00:00:00\",\"2015-05-27T00:00:00\",\"2015-05-28T00:00:00\",\"2015-05-29T00:00:00\",\"2015-06-01T00:00:00\",\"2015-06-02T00:00:00\",\"2015-06-03T00:00:00\",\"2015-06-04T00:00:00\",\"2015-06-05T00:00:00\",\"2015-06-08T00:00:00\",\"2015-06-09T00:00:00\",\"2015-06-10T00:00:00\",\"2015-06-11T00:00:00\",\"2015-06-12T00:00:00\",\"2015-06-15T00:00:00\",\"2015-06-16T00:00:00\",\"2015-06-17T00:00:00\",\"2015-06-18T00:00:00\",\"2015-06-19T00:00:00\",\"2015-06-22T00:00:00\",\"2015-06-23T00:00:00\",\"2015-06-24T00:00:00\",\"2015-06-25T00:00:00\",\"2015-06-26T00:00:00\",\"2015-06-29T00:00:00\",\"2015-06-30T00:00:00\",\"2015-07-01T00:00:00\",\"2015-07-02T00:00:00\",\"2015-07-06T00:00:00\",\"2015-07-07T00:00:00\",\"2015-07-08T00:00:00\",\"2015-07-09T00:00:00\",\"2015-07-10T00:00:00\",\"2015-07-13T00:00:00\",\"2015-07-14T00:00:00\",\"2015-07-15T00:00:00\",\"2015-07-16T00:00:00\",\"2015-07-17T00:00:00\",\"2015-07-20T00:00:00\",\"2015-07-21T00:00:00\",\"2015-07-22T00:00:00\",\"2015-07-23T00:00:00\",\"2015-07-24T00:00:00\",\"2015-07-27T00:00:00\",\"2015-07-28T00:00:00\",\"2015-07-29T00:00:00\",\"2015-07-30T00:00:00\",\"2015-07-31T00:00:00\",\"2015-08-03T00:00:00\",\"2015-08-04T00:00:00\",\"2015-08-05T00:00:00\",\"2015-08-06T00:00:00\",\"2015-08-07T00:00:00\",\"2015-08-10T00:00:00\",\"2015-08-11T00:00:00\",\"2015-08-12T00:00:00\",\"2015-08-13T00:00:00\",\"2015-08-14T00:00:00\",\"2015-08-17T00:00:00\",\"2015-08-18T00:00:00\",\"2015-08-19T00:00:00\",\"2015-08-20T00:00:00\",\"2015-08-21T00:00:00\",\"2015-08-24T00:00:00\",\"2015-08-25T00:00:00\",\"2015-08-26T00:00:00\",\"2015-08-27T00:00:00\",\"2015-08-28T00:00:00\",\"2015-08-31T00:00:00\",\"2015-09-01T00:00:00\",\"2015-09-02T00:00:00\",\"2015-09-03T00:00:00\",\"2015-09-04T00:00:00\",\"2015-09-08T00:00:00\",\"2015-09-09T00:00:00\",\"2015-09-10T00:00:00\",\"2015-09-11T00:00:00\",\"2015-09-14T00:00:00\",\"2015-09-15T00:00:00\",\"2015-09-16T00:00:00\",\"2015-09-17T00:00:00\",\"2015-09-18T00:00:00\",\"2015-09-21T00:00:00\",\"2015-09-22T00:00:00\",\"2015-09-23T00:00:00\",\"2015-09-24T00:00:00\",\"2015-09-25T00:00:00\",\"2015-09-28T00:00:00\",\"2015-09-29T00:00:00\",\"2015-09-30T00:00:00\",\"2015-10-01T00:00:00\",\"2015-10-02T00:00:00\",\"2015-10-05T00:00:00\",\"2015-10-06T00:00:00\",\"2015-10-07T00:00:00\",\"2015-10-08T00:00:00\",\"2015-10-09T00:00:00\",\"2015-10-12T00:00:00\",\"2015-10-13T00:00:00\",\"2015-10-14T00:00:00\",\"2015-10-15T00:00:00\",\"2015-10-16T00:00:00\",\"2015-10-19T00:00:00\",\"2015-10-20T00:00:00\",\"2015-10-21T00:00:00\",\"2015-10-22T00:00:00\",\"2015-10-23T00:00:00\",\"2015-10-26T00:00:00\",\"2015-10-27T00:00:00\",\"2015-10-28T00:00:00\",\"2015-10-29T00:00:00\",\"2015-10-30T00:00:00\",\"2015-11-02T00:00:00\",\"2015-11-03T00:00:00\",\"2015-11-04T00:00:00\",\"2015-11-05T00:00:00\",\"2015-11-06T00:00:00\",\"2015-11-09T00:00:00\",\"2015-11-10T00:00:00\",\"2015-11-11T00:00:00\",\"2015-11-12T00:00:00\",\"2015-11-13T00:00:00\",\"2015-11-16T00:00:00\",\"2015-11-17T00:00:00\",\"2015-11-18T00:00:00\",\"2015-11-19T00:00:00\",\"2015-11-20T00:00:00\",\"2015-11-23T00:00:00\",\"2015-11-24T00:00:00\",\"2015-11-25T00:00:00\",\"2015-11-27T00:00:00\",\"2015-11-30T00:00:00\",\"2015-12-01T00:00:00\",\"2015-12-02T00:00:00\",\"2015-12-03T00:00:00\",\"2015-12-04T00:00:00\",\"2015-12-07T00:00:00\",\"2015-12-08T00:00:00\",\"2015-12-09T00:00:00\",\"2015-12-10T00:00:00\",\"2015-12-11T00:00:00\",\"2015-12-14T00:00:00\",\"2015-12-15T00:00:00\",\"2015-12-16T00:00:00\",\"2015-12-17T00:00:00\",\"2015-12-18T00:00:00\",\"2015-12-21T00:00:00\",\"2015-12-22T00:00:00\",\"2015-12-23T00:00:00\",\"2015-12-24T00:00:00\",\"2015-12-28T00:00:00\",\"2015-12-29T00:00:00\",\"2015-12-30T00:00:00\",\"2015-12-31T00:00:00\",\"2016-01-04T00:00:00\",\"2016-01-05T00:00:00\",\"2016-01-06T00:00:00\",\"2016-01-07T00:00:00\",\"2016-01-08T00:00:00\",\"2016-01-11T00:00:00\",\"2016-01-12T00:00:00\",\"2016-01-13T00:00:00\",\"2016-01-14T00:00:00\",\"2016-01-15T00:00:00\",\"2016-01-19T00:00:00\",\"2016-01-20T00:00:00\",\"2016-01-21T00:00:00\",\"2016-01-22T00:00:00\",\"2016-01-25T00:00:00\",\"2016-01-26T00:00:00\",\"2016-01-27T00:00:00\",\"2016-01-28T00:00:00\",\"2016-01-29T00:00:00\",\"2016-02-01T00:00:00\",\"2016-02-02T00:00:00\",\"2016-02-03T00:00:00\",\"2016-02-04T00:00:00\",\"2016-02-05T00:00:00\",\"2016-02-08T00:00:00\",\"2016-02-09T00:00:00\",\"2016-02-10T00:00:00\",\"2016-02-11T00:00:00\",\"2016-02-12T00:00:00\",\"2016-02-16T00:00:00\",\"2016-02-17T00:00:00\",\"2016-02-18T00:00:00\",\"2016-02-19T00:00:00\",\"2016-02-22T00:00:00\",\"2016-02-23T00:00:00\",\"2016-02-24T00:00:00\",\"2016-02-25T00:00:00\",\"2016-02-26T00:00:00\",\"2016-02-29T00:00:00\",\"2016-03-01T00:00:00\",\"2016-03-02T00:00:00\",\"2016-03-03T00:00:00\",\"2016-03-04T00:00:00\",\"2016-03-07T00:00:00\",\"2016-03-08T00:00:00\",\"2016-03-09T00:00:00\",\"2016-03-10T00:00:00\",\"2016-03-11T00:00:00\",\"2016-03-14T00:00:00\",\"2016-03-15T00:00:00\",\"2016-03-16T00:00:00\",\"2016-03-17T00:00:00\",\"2016-03-18T00:00:00\",\"2016-03-21T00:00:00\",\"2016-03-22T00:00:00\",\"2016-03-23T00:00:00\",\"2016-03-24T00:00:00\",\"2016-03-28T00:00:00\",\"2016-03-29T00:00:00\",\"2016-03-30T00:00:00\",\"2016-03-31T00:00:00\",\"2016-04-01T00:00:00\",\"2016-04-04T00:00:00\",\"2016-04-05T00:00:00\",\"2016-04-06T00:00:00\",\"2016-04-07T00:00:00\",\"2016-04-08T00:00:00\",\"2016-04-11T00:00:00\",\"2016-04-12T00:00:00\",\"2016-04-13T00:00:00\",\"2016-04-14T00:00:00\",\"2016-04-15T00:00:00\",\"2016-04-18T00:00:00\",\"2016-04-19T00:00:00\",\"2016-04-20T00:00:00\",\"2016-04-21T00:00:00\",\"2016-04-22T00:00:00\",\"2016-04-25T00:00:00\",\"2016-04-26T00:00:00\",\"2016-04-27T00:00:00\",\"2016-04-28T00:00:00\",\"2016-04-29T00:00:00\",\"2016-05-02T00:00:00\",\"2016-05-03T00:00:00\",\"2016-05-04T00:00:00\",\"2016-05-05T00:00:00\",\"2016-05-06T00:00:00\",\"2016-05-09T00:00:00\",\"2016-05-10T00:00:00\",\"2016-05-11T00:00:00\",\"2016-05-12T00:00:00\",\"2016-05-13T00:00:00\",\"2016-05-16T00:00:00\",\"2016-05-17T00:00:00\",\"2016-05-18T00:00:00\",\"2016-05-19T00:00:00\",\"2016-05-20T00:00:00\",\"2016-05-23T00:00:00\",\"2016-05-24T00:00:00\",\"2016-05-25T00:00:00\",\"2016-05-26T00:00:00\",\"2016-05-27T00:00:00\",\"2016-05-31T00:00:00\",\"2016-06-01T00:00:00\",\"2016-06-02T00:00:00\",\"2016-06-03T00:00:00\",\"2016-06-06T00:00:00\",\"2016-06-07T00:00:00\",\"2016-06-08T00:00:00\",\"2016-06-09T00:00:00\",\"2016-06-10T00:00:00\",\"2016-06-13T00:00:00\",\"2016-06-14T00:00:00\",\"2016-06-15T00:00:00\",\"2016-06-16T00:00:00\",\"2016-06-17T00:00:00\",\"2016-06-20T00:00:00\",\"2016-06-21T00:00:00\",\"2016-06-22T00:00:00\",\"2016-06-23T00:00:00\",\"2016-06-24T00:00:00\",\"2016-06-27T00:00:00\",\"2016-06-28T00:00:00\",\"2016-06-29T00:00:00\",\"2016-06-30T00:00:00\",\"2016-07-01T00:00:00\",\"2016-07-05T00:00:00\",\"2016-07-06T00:00:00\",\"2016-07-07T00:00:00\",\"2016-07-08T00:00:00\",\"2016-07-11T00:00:00\",\"2016-07-12T00:00:00\",\"2016-07-13T00:00:00\",\"2016-07-14T00:00:00\",\"2016-07-15T00:00:00\",\"2016-07-18T00:00:00\",\"2016-07-19T00:00:00\",\"2016-07-20T00:00:00\",\"2016-07-21T00:00:00\",\"2016-07-22T00:00:00\",\"2016-07-25T00:00:00\",\"2016-07-26T00:00:00\",\"2016-07-27T00:00:00\",\"2016-07-28T00:00:00\",\"2016-07-29T00:00:00\",\"2016-08-01T00:00:00\",\"2016-08-02T00:00:00\",\"2016-08-03T00:00:00\",\"2016-08-04T00:00:00\",\"2016-08-05T00:00:00\",\"2016-08-08T00:00:00\",\"2016-08-09T00:00:00\",\"2016-08-10T00:00:00\",\"2016-08-11T00:00:00\",\"2016-08-12T00:00:00\",\"2016-08-15T00:00:00\",\"2016-08-16T00:00:00\",\"2016-08-17T00:00:00\",\"2016-08-18T00:00:00\",\"2016-08-19T00:00:00\",\"2016-08-22T00:00:00\",\"2016-08-23T00:00:00\",\"2016-08-24T00:00:00\",\"2016-08-25T00:00:00\",\"2016-08-26T00:00:00\",\"2016-08-29T00:00:00\",\"2016-08-30T00:00:00\",\"2016-08-31T00:00:00\",\"2016-09-01T00:00:00\",\"2016-09-02T00:00:00\",\"2016-09-06T00:00:00\",\"2016-09-07T00:00:00\",\"2016-09-08T00:00:00\",\"2016-09-09T00:00:00\",\"2016-09-12T00:00:00\",\"2016-09-13T00:00:00\",\"2016-09-14T00:00:00\",\"2016-09-15T00:00:00\",\"2016-09-16T00:00:00\",\"2016-09-19T00:00:00\",\"2016-09-20T00:00:00\",\"2016-09-21T00:00:00\",\"2016-09-22T00:00:00\",\"2016-09-23T00:00:00\",\"2016-09-26T00:00:00\",\"2016-09-27T00:00:00\",\"2016-09-28T00:00:00\",\"2016-09-29T00:00:00\",\"2016-09-30T00:00:00\",\"2016-10-03T00:00:00\",\"2016-10-04T00:00:00\",\"2016-10-05T00:00:00\",\"2016-10-06T00:00:00\",\"2016-10-07T00:00:00\",\"2016-10-10T00:00:00\",\"2016-10-11T00:00:00\",\"2016-10-12T00:00:00\",\"2016-10-13T00:00:00\",\"2016-10-14T00:00:00\",\"2016-10-17T00:00:00\",\"2016-10-18T00:00:00\",\"2016-10-19T00:00:00\",\"2016-10-20T00:00:00\",\"2016-10-21T00:00:00\",\"2016-10-24T00:00:00\",\"2016-10-25T00:00:00\",\"2016-10-26T00:00:00\",\"2016-10-27T00:00:00\",\"2016-10-28T00:00:00\",\"2016-10-31T00:00:00\",\"2016-11-01T00:00:00\",\"2016-11-02T00:00:00\",\"2016-11-03T00:00:00\",\"2016-11-04T00:00:00\",\"2016-11-07T00:00:00\",\"2016-11-08T00:00:00\",\"2016-11-09T00:00:00\",\"2016-11-10T00:00:00\",\"2016-11-11T00:00:00\",\"2016-11-14T00:00:00\",\"2016-11-15T00:00:00\",\"2016-11-16T00:00:00\",\"2016-11-17T00:00:00\",\"2016-11-18T00:00:00\",\"2016-11-21T00:00:00\",\"2016-11-22T00:00:00\",\"2016-11-23T00:00:00\",\"2016-11-25T00:00:00\",\"2016-11-28T00:00:00\",\"2016-11-29T00:00:00\",\"2016-11-30T00:00:00\",\"2016-12-01T00:00:00\",\"2016-12-02T00:00:00\",\"2016-12-05T00:00:00\",\"2016-12-06T00:00:00\",\"2016-12-07T00:00:00\",\"2016-12-08T00:00:00\",\"2016-12-09T00:00:00\",\"2016-12-12T00:00:00\",\"2016-12-13T00:00:00\",\"2016-12-14T00:00:00\",\"2016-12-15T00:00:00\",\"2016-12-16T00:00:00\",\"2016-12-19T00:00:00\",\"2016-12-20T00:00:00\",\"2016-12-21T00:00:00\",\"2016-12-22T00:00:00\",\"2016-12-23T00:00:00\",\"2016-12-27T00:00:00\",\"2016-12-28T00:00:00\",\"2016-12-29T00:00:00\",\"2016-12-30T00:00:00\",\"2017-01-03T00:00:00\",\"2017-01-04T00:00:00\",\"2017-01-05T00:00:00\",\"2017-01-06T00:00:00\",\"2017-01-09T00:00:00\",\"2017-01-10T00:00:00\",\"2017-01-11T00:00:00\",\"2017-01-12T00:00:00\",\"2017-01-13T00:00:00\",\"2017-01-17T00:00:00\",\"2017-01-18T00:00:00\",\"2017-01-19T00:00:00\",\"2017-01-20T00:00:00\",\"2017-01-23T00:00:00\",\"2017-01-24T00:00:00\",\"2017-01-25T00:00:00\",\"2017-01-26T00:00:00\",\"2017-01-27T00:00:00\",\"2017-01-30T00:00:00\",\"2017-01-31T00:00:00\",\"2017-02-01T00:00:00\",\"2017-02-02T00:00:00\",\"2017-02-03T00:00:00\",\"2017-02-06T00:00:00\",\"2017-02-07T00:00:00\",\"2017-02-08T00:00:00\",\"2017-02-09T00:00:00\",\"2017-02-10T00:00:00\",\"2017-02-13T00:00:00\",\"2017-02-14T00:00:00\",\"2017-02-15T00:00:00\",\"2017-02-16T00:00:00\",\"2017-02-17T00:00:00\",\"2017-02-21T00:00:00\",\"2017-02-22T00:00:00\",\"2017-02-23T00:00:00\",\"2017-02-24T00:00:00\",\"2017-02-27T00:00:00\",\"2017-02-28T00:00:00\",\"2017-03-01T00:00:00\",\"2017-03-02T00:00:00\",\"2017-03-03T00:00:00\",\"2017-03-06T00:00:00\",\"2017-03-07T00:00:00\",\"2017-03-08T00:00:00\",\"2017-03-09T00:00:00\",\"2017-03-10T00:00:00\",\"2017-03-13T00:00:00\",\"2017-03-14T00:00:00\",\"2017-03-15T00:00:00\",\"2017-03-16T00:00:00\",\"2017-03-17T00:00:00\",\"2017-03-20T00:00:00\",\"2017-03-21T00:00:00\",\"2017-03-22T00:00:00\",\"2017-03-23T00:00:00\",\"2017-03-24T00:00:00\",\"2017-03-27T00:00:00\",\"2017-03-28T00:00:00\",\"2017-03-29T00:00:00\",\"2017-03-30T00:00:00\",\"2017-03-31T00:00:00\",\"2017-04-03T00:00:00\",\"2017-04-04T00:00:00\",\"2017-04-05T00:00:00\",\"2017-04-06T00:00:00\",\"2017-04-07T00:00:00\",\"2017-04-10T00:00:00\",\"2017-04-11T00:00:00\",\"2017-04-12T00:00:00\",\"2017-04-13T00:00:00\",\"2017-04-17T00:00:00\",\"2017-04-18T00:00:00\",\"2017-04-19T00:00:00\",\"2017-04-20T00:00:00\",\"2017-04-21T00:00:00\",\"2017-04-24T00:00:00\",\"2017-04-25T00:00:00\",\"2017-04-26T00:00:00\",\"2017-04-27T00:00:00\",\"2017-04-28T00:00:00\",\"2017-05-01T00:00:00\",\"2017-05-02T00:00:00\",\"2017-05-03T00:00:00\",\"2017-05-04T00:00:00\",\"2017-05-05T00:00:00\",\"2017-05-08T00:00:00\",\"2017-05-09T00:00:00\",\"2017-05-10T00:00:00\",\"2017-05-11T00:00:00\",\"2017-05-12T00:00:00\",\"2017-05-15T00:00:00\",\"2017-05-16T00:00:00\",\"2017-05-17T00:00:00\",\"2017-05-18T00:00:00\",\"2017-05-19T00:00:00\",\"2017-05-22T00:00:00\",\"2017-05-23T00:00:00\",\"2017-05-24T00:00:00\",\"2017-05-25T00:00:00\",\"2017-05-26T00:00:00\",\"2017-05-30T00:00:00\",\"2017-05-31T00:00:00\",\"2017-06-01T00:00:00\",\"2017-06-02T00:00:00\",\"2017-06-05T00:00:00\",\"2017-06-06T00:00:00\",\"2017-06-07T00:00:00\",\"2017-06-08T00:00:00\",\"2017-06-09T00:00:00\",\"2017-06-12T00:00:00\",\"2017-06-13T00:00:00\",\"2017-06-14T00:00:00\",\"2017-06-15T00:00:00\",\"2017-06-16T00:00:00\",\"2017-06-19T00:00:00\",\"2017-06-20T00:00:00\",\"2017-06-21T00:00:00\",\"2017-06-22T00:00:00\",\"2017-06-23T00:00:00\",\"2017-06-26T00:00:00\",\"2017-06-27T00:00:00\",\"2017-06-28T00:00:00\",\"2017-06-29T00:00:00\",\"2017-06-30T00:00:00\",\"2017-07-03T00:00:00\",\"2017-07-05T00:00:00\",\"2017-07-06T00:00:00\",\"2017-07-07T00:00:00\",\"2017-07-10T00:00:00\",\"2017-07-11T00:00:00\",\"2017-07-12T00:00:00\",\"2017-07-13T00:00:00\",\"2017-07-14T00:00:00\",\"2017-07-17T00:00:00\",\"2017-07-18T00:00:00\",\"2017-07-19T00:00:00\",\"2017-07-20T00:00:00\",\"2017-07-21T00:00:00\",\"2017-07-24T00:00:00\",\"2017-07-25T00:00:00\",\"2017-07-26T00:00:00\",\"2017-07-27T00:00:00\",\"2017-07-28T00:00:00\",\"2017-07-31T00:00:00\",\"2017-08-01T00:00:00\",\"2017-08-02T00:00:00\",\"2017-08-03T00:00:00\",\"2017-08-04T00:00:00\",\"2017-08-07T00:00:00\",\"2017-08-08T00:00:00\",\"2017-08-09T00:00:00\",\"2017-08-10T00:00:00\",\"2017-08-11T00:00:00\",\"2017-08-14T00:00:00\",\"2017-08-15T00:00:00\",\"2017-08-16T00:00:00\",\"2017-08-17T00:00:00\",\"2017-08-18T00:00:00\",\"2017-08-21T00:00:00\",\"2017-08-22T00:00:00\",\"2017-08-23T00:00:00\",\"2017-08-24T00:00:00\",\"2017-08-25T00:00:00\",\"2017-08-28T00:00:00\",\"2017-08-29T00:00:00\",\"2017-08-30T00:00:00\",\"2017-08-31T00:00:00\",\"2017-09-01T00:00:00\",\"2017-09-05T00:00:00\",\"2017-09-06T00:00:00\",\"2017-09-07T00:00:00\",\"2017-09-08T00:00:00\",\"2017-09-11T00:00:00\",\"2017-09-12T00:00:00\",\"2017-09-13T00:00:00\",\"2017-09-14T00:00:00\",\"2017-09-15T00:00:00\",\"2017-09-18T00:00:00\",\"2017-09-19T00:00:00\",\"2017-09-20T00:00:00\",\"2017-09-21T00:00:00\",\"2017-09-22T00:00:00\",\"2017-09-25T00:00:00\",\"2017-09-26T00:00:00\",\"2017-09-27T00:00:00\",\"2017-09-28T00:00:00\",\"2017-09-29T00:00:00\",\"2017-10-02T00:00:00\",\"2017-10-03T00:00:00\",\"2017-10-04T00:00:00\",\"2017-10-05T00:00:00\",\"2017-10-06T00:00:00\",\"2017-10-09T00:00:00\",\"2017-10-10T00:00:00\",\"2017-10-11T00:00:00\",\"2017-10-12T00:00:00\",\"2017-10-13T00:00:00\",\"2017-10-16T00:00:00\",\"2017-10-17T00:00:00\",\"2017-10-18T00:00:00\",\"2017-10-19T00:00:00\",\"2017-10-20T00:00:00\",\"2017-10-23T00:00:00\",\"2017-10-24T00:00:00\",\"2017-10-25T00:00:00\",\"2017-10-26T00:00:00\",\"2017-10-27T00:00:00\",\"2017-10-30T00:00:00\",\"2017-10-31T00:00:00\",\"2017-11-01T00:00:00\",\"2017-11-02T00:00:00\",\"2017-11-03T00:00:00\",\"2017-11-06T00:00:00\",\"2017-11-07T00:00:00\",\"2017-11-08T00:00:00\",\"2017-11-09T00:00:00\",\"2017-11-10T00:00:00\",\"2017-11-13T00:00:00\",\"2017-11-14T00:00:00\",\"2017-11-15T00:00:00\",\"2017-11-16T00:00:00\",\"2017-11-17T00:00:00\",\"2017-11-20T00:00:00\",\"2017-11-21T00:00:00\",\"2017-11-22T00:00:00\",\"2017-11-24T00:00:00\",\"2017-11-27T00:00:00\",\"2017-11-28T00:00:00\",\"2017-11-29T00:00:00\",\"2017-11-30T00:00:00\",\"2017-12-01T00:00:00\",\"2017-12-04T00:00:00\",\"2017-12-05T00:00:00\",\"2017-12-06T00:00:00\",\"2017-12-07T00:00:00\",\"2017-12-08T00:00:00\",\"2017-12-11T00:00:00\",\"2017-12-12T00:00:00\",\"2017-12-13T00:00:00\",\"2017-12-14T00:00:00\",\"2017-12-15T00:00:00\",\"2017-12-18T00:00:00\",\"2017-12-19T00:00:00\",\"2017-12-20T00:00:00\",\"2017-12-21T00:00:00\",\"2017-12-22T00:00:00\",\"2017-12-26T00:00:00\",\"2017-12-27T00:00:00\",\"2017-12-28T00:00:00\",\"2017-12-29T00:00:00\",\"2018-01-02T00:00:00\",\"2018-01-03T00:00:00\",\"2018-01-04T00:00:00\",\"2018-01-05T00:00:00\",\"2018-01-08T00:00:00\",\"2018-01-09T00:00:00\",\"2018-01-10T00:00:00\",\"2018-01-11T00:00:00\",\"2018-01-12T00:00:00\",\"2018-01-16T00:00:00\",\"2018-01-17T00:00:00\",\"2018-01-18T00:00:00\",\"2018-01-19T00:00:00\",\"2018-01-22T00:00:00\",\"2018-01-23T00:00:00\",\"2018-01-24T00:00:00\",\"2018-01-25T00:00:00\",\"2018-01-26T00:00:00\",\"2018-01-29T00:00:00\",\"2018-01-30T00:00:00\",\"2018-01-31T00:00:00\",\"2018-02-01T00:00:00\",\"2018-02-02T00:00:00\",\"2018-02-05T00:00:00\",\"2018-02-06T00:00:00\",\"2018-02-07T00:00:00\",\"2018-02-08T00:00:00\",\"2018-02-09T00:00:00\",\"2018-02-12T00:00:00\",\"2018-02-13T00:00:00\",\"2018-02-14T00:00:00\",\"2018-02-15T00:00:00\",\"2018-02-16T00:00:00\",\"2018-02-20T00:00:00\",\"2018-02-21T00:00:00\",\"2018-02-22T00:00:00\",\"2018-02-23T00:00:00\",\"2018-02-26T00:00:00\",\"2018-02-27T00:00:00\",\"2018-02-28T00:00:00\",\"2018-03-01T00:00:00\",\"2018-03-02T00:00:00\",\"2018-03-05T00:00:00\",\"2018-03-06T00:00:00\",\"2018-03-07T00:00:00\",\"2018-03-08T00:00:00\",\"2018-03-09T00:00:00\",\"2018-03-12T00:00:00\",\"2018-03-13T00:00:00\",\"2018-03-14T00:00:00\",\"2018-03-15T00:00:00\",\"2018-03-16T00:00:00\",\"2018-03-19T00:00:00\",\"2018-03-20T00:00:00\",\"2018-03-21T00:00:00\",\"2018-03-22T00:00:00\",\"2018-03-23T00:00:00\",\"2018-03-26T00:00:00\",\"2018-03-27T00:00:00\",\"2018-03-28T00:00:00\",\"2018-03-29T00:00:00\",\"2018-04-02T00:00:00\",\"2018-04-03T00:00:00\",\"2018-04-04T00:00:00\",\"2018-04-05T00:00:00\",\"2018-04-06T00:00:00\",\"2018-04-09T00:00:00\",\"2018-04-10T00:00:00\",\"2018-04-11T00:00:00\",\"2018-04-12T00:00:00\",\"2018-04-13T00:00:00\",\"2018-04-16T00:00:00\",\"2018-04-17T00:00:00\",\"2018-04-18T00:00:00\",\"2018-04-19T00:00:00\",\"2018-04-20T00:00:00\",\"2018-04-23T00:00:00\",\"2018-04-24T00:00:00\",\"2018-04-25T00:00:00\",\"2018-04-26T00:00:00\",\"2018-04-27T00:00:00\",\"2018-04-30T00:00:00\",\"2018-05-01T00:00:00\",\"2018-05-02T00:00:00\",\"2018-05-03T00:00:00\",\"2018-05-04T00:00:00\",\"2018-05-07T00:00:00\",\"2018-05-08T00:00:00\",\"2018-05-09T00:00:00\",\"2018-05-10T00:00:00\",\"2018-05-11T00:00:00\",\"2018-05-14T00:00:00\",\"2018-05-15T00:00:00\",\"2018-05-16T00:00:00\",\"2018-05-17T00:00:00\",\"2018-05-18T00:00:00\",\"2018-05-21T00:00:00\",\"2018-05-22T00:00:00\",\"2018-05-23T00:00:00\",\"2018-05-24T00:00:00\",\"2018-05-25T00:00:00\",\"2018-05-29T00:00:00\",\"2018-05-30T00:00:00\",\"2018-05-31T00:00:00\",\"2018-06-01T00:00:00\",\"2018-06-04T00:00:00\",\"2018-06-05T00:00:00\",\"2018-06-06T00:00:00\",\"2018-06-07T00:00:00\",\"2018-06-08T00:00:00\",\"2018-06-11T00:00:00\",\"2018-06-12T00:00:00\",\"2018-06-13T00:00:00\",\"2018-06-14T00:00:00\",\"2018-06-15T00:00:00\",\"2018-06-18T00:00:00\",\"2018-06-19T00:00:00\",\"2018-06-20T00:00:00\",\"2018-06-21T00:00:00\",\"2018-06-22T00:00:00\",\"2018-06-25T00:00:00\",\"2018-06-26T00:00:00\",\"2018-06-27T00:00:00\",\"2018-06-28T00:00:00\",\"2018-06-29T00:00:00\",\"2018-07-02T00:00:00\",\"2018-07-03T00:00:00\",\"2018-07-05T00:00:00\",\"2018-07-06T00:00:00\",\"2018-07-09T00:00:00\",\"2018-07-10T00:00:00\",\"2018-07-11T00:00:00\",\"2018-07-12T00:00:00\",\"2018-07-13T00:00:00\",\"2018-07-16T00:00:00\",\"2018-07-17T00:00:00\",\"2018-07-18T00:00:00\",\"2018-07-19T00:00:00\",\"2018-07-20T00:00:00\",\"2018-07-23T00:00:00\",\"2018-07-24T00:00:00\",\"2018-07-25T00:00:00\",\"2018-07-26T00:00:00\",\"2018-07-27T00:00:00\",\"2018-07-30T00:00:00\",\"2018-07-31T00:00:00\",\"2018-08-01T00:00:00\",\"2018-08-02T00:00:00\",\"2018-08-03T00:00:00\",\"2018-08-06T00:00:00\",\"2018-08-07T00:00:00\",\"2018-08-08T00:00:00\",\"2018-08-09T00:00:00\",\"2018-08-10T00:00:00\",\"2018-08-13T00:00:00\",\"2018-08-14T00:00:00\",\"2018-08-15T00:00:00\",\"2018-08-16T00:00:00\",\"2018-08-17T00:00:00\",\"2018-08-20T00:00:00\",\"2018-08-21T00:00:00\",\"2018-08-22T00:00:00\",\"2018-08-23T00:00:00\",\"2018-08-24T00:00:00\",\"2018-08-27T00:00:00\",\"2018-08-28T00:00:00\",\"2018-08-29T00:00:00\",\"2018-08-30T00:00:00\",\"2018-08-31T00:00:00\",\"2018-09-04T00:00:00\",\"2018-09-05T00:00:00\",\"2018-09-06T00:00:00\",\"2018-09-07T00:00:00\",\"2018-09-10T00:00:00\",\"2018-09-11T00:00:00\",\"2018-09-12T00:00:00\",\"2018-09-13T00:00:00\",\"2018-09-14T00:00:00\",\"2018-09-17T00:00:00\",\"2018-09-18T00:00:00\",\"2018-09-19T00:00:00\",\"2018-09-20T00:00:00\",\"2018-09-21T00:00:00\",\"2018-09-24T00:00:00\",\"2018-09-25T00:00:00\",\"2018-09-26T00:00:00\",\"2018-09-27T00:00:00\",\"2018-09-28T00:00:00\",\"2018-10-01T00:00:00\",\"2018-10-02T00:00:00\",\"2018-10-03T00:00:00\",\"2018-10-04T00:00:00\",\"2018-10-05T00:00:00\",\"2018-10-08T00:00:00\",\"2018-10-09T00:00:00\",\"2018-10-10T00:00:00\",\"2018-10-11T00:00:00\",\"2018-10-12T00:00:00\",\"2018-10-15T00:00:00\",\"2018-10-16T00:00:00\",\"2018-10-17T00:00:00\",\"2018-10-18T00:00:00\",\"2018-10-19T00:00:00\",\"2018-10-22T00:00:00\",\"2018-10-23T00:00:00\",\"2018-10-24T00:00:00\",\"2018-10-25T00:00:00\",\"2018-10-26T00:00:00\",\"2018-10-29T00:00:00\",\"2018-10-30T00:00:00\",\"2018-10-31T00:00:00\",\"2018-11-01T00:00:00\",\"2018-11-02T00:00:00\",\"2018-11-05T00:00:00\",\"2018-11-06T00:00:00\",\"2018-11-07T00:00:00\",\"2018-11-08T00:00:00\",\"2018-11-09T00:00:00\",\"2018-11-12T00:00:00\",\"2018-11-13T00:00:00\",\"2018-11-14T00:00:00\",\"2018-11-15T00:00:00\",\"2018-11-16T00:00:00\",\"2018-11-19T00:00:00\",\"2018-11-20T00:00:00\",\"2018-11-21T00:00:00\",\"2018-11-23T00:00:00\",\"2018-11-26T00:00:00\",\"2018-11-27T00:00:00\",\"2018-11-28T00:00:00\",\"2018-11-29T00:00:00\",\"2018-11-30T00:00:00\",\"2018-12-03T00:00:00\",\"2018-12-04T00:00:00\",\"2018-12-06T00:00:00\",\"2018-12-07T00:00:00\",\"2018-12-10T00:00:00\",\"2018-12-11T00:00:00\",\"2018-12-12T00:00:00\",\"2018-12-13T00:00:00\",\"2018-12-14T00:00:00\",\"2018-12-17T00:00:00\",\"2018-12-18T00:00:00\",\"2018-12-19T00:00:00\",\"2018-12-20T00:00:00\",\"2018-12-21T00:00:00\",\"2018-12-24T00:00:00\",\"2018-12-26T00:00:00\",\"2018-12-27T00:00:00\",\"2018-12-28T00:00:00\",\"2018-12-31T00:00:00\",\"2019-01-02T00:00:00\",\"2019-01-03T00:00:00\",\"2019-01-04T00:00:00\",\"2019-01-07T00:00:00\",\"2019-01-08T00:00:00\",\"2019-01-09T00:00:00\",\"2019-01-10T00:00:00\",\"2019-01-11T00:00:00\",\"2019-01-14T00:00:00\",\"2019-01-15T00:00:00\",\"2019-01-16T00:00:00\",\"2019-01-17T00:00:00\",\"2019-01-18T00:00:00\",\"2019-01-22T00:00:00\",\"2019-01-23T00:00:00\",\"2019-01-24T00:00:00\",\"2019-01-25T00:00:00\",\"2019-01-28T00:00:00\",\"2019-01-29T00:00:00\",\"2019-01-30T00:00:00\",\"2019-01-31T00:00:00\",\"2019-02-01T00:00:00\",\"2019-02-04T00:00:00\",\"2019-02-05T00:00:00\",\"2019-02-06T00:00:00\",\"2019-02-07T00:00:00\",\"2019-02-08T00:00:00\",\"2019-02-11T00:00:00\",\"2019-02-12T00:00:00\",\"2019-02-13T00:00:00\",\"2019-02-14T00:00:00\",\"2019-02-15T00:00:00\",\"2019-02-19T00:00:00\",\"2019-02-20T00:00:00\",\"2019-02-21T00:00:00\",\"2019-02-22T00:00:00\",\"2019-02-25T00:00:00\",\"2019-02-26T00:00:00\",\"2019-02-27T00:00:00\",\"2019-02-28T00:00:00\",\"2019-03-01T00:00:00\",\"2019-03-04T00:00:00\",\"2019-03-05T00:00:00\",\"2019-03-06T00:00:00\",\"2019-03-07T00:00:00\",\"2019-03-08T00:00:00\",\"2019-03-11T00:00:00\",\"2019-03-12T00:00:00\",\"2019-03-13T00:00:00\",\"2019-03-14T00:00:00\",\"2019-03-15T00:00:00\",\"2019-03-18T00:00:00\",\"2019-03-19T00:00:00\",\"2019-03-20T00:00:00\",\"2019-03-21T00:00:00\",\"2019-03-22T00:00:00\",\"2019-03-25T00:00:00\",\"2019-03-26T00:00:00\",\"2019-03-27T00:00:00\",\"2019-03-28T00:00:00\",\"2019-03-29T00:00:00\",\"2019-04-01T00:00:00\",\"2019-04-02T00:00:00\",\"2019-04-03T00:00:00\",\"2019-04-04T00:00:00\",\"2019-04-05T00:00:00\",\"2019-04-08T00:00:00\",\"2019-04-09T00:00:00\",\"2019-04-10T00:00:00\",\"2019-04-11T00:00:00\",\"2019-04-12T00:00:00\",\"2019-04-15T00:00:00\",\"2019-04-16T00:00:00\",\"2019-04-17T00:00:00\",\"2019-04-18T00:00:00\",\"2019-04-22T00:00:00\",\"2019-04-23T00:00:00\",\"2019-04-24T00:00:00\",\"2019-04-25T00:00:00\",\"2019-04-26T00:00:00\",\"2019-04-29T00:00:00\",\"2019-04-30T00:00:00\",\"2019-05-01T00:00:00\",\"2019-05-02T00:00:00\",\"2019-05-03T00:00:00\",\"2019-05-06T00:00:00\",\"2019-05-07T00:00:00\",\"2019-05-08T00:00:00\",\"2019-05-09T00:00:00\",\"2019-05-10T00:00:00\",\"2019-05-13T00:00:00\",\"2019-05-14T00:00:00\",\"2019-05-15T00:00:00\",\"2019-05-16T00:00:00\",\"2019-05-17T00:00:00\",\"2019-05-20T00:00:00\",\"2019-05-21T00:00:00\",\"2019-05-22T00:00:00\",\"2019-05-23T00:00:00\",\"2019-05-24T00:00:00\",\"2019-05-28T00:00:00\",\"2019-05-29T00:00:00\",\"2019-05-30T00:00:00\",\"2019-05-31T00:00:00\",\"2019-06-03T00:00:00\",\"2019-06-04T00:00:00\",\"2019-06-05T00:00:00\",\"2019-06-06T00:00:00\",\"2019-06-07T00:00:00\",\"2019-06-10T00:00:00\",\"2019-06-11T00:00:00\",\"2019-06-12T00:00:00\",\"2019-06-13T00:00:00\",\"2019-06-14T00:00:00\",\"2019-06-17T00:00:00\",\"2019-06-18T00:00:00\",\"2019-06-19T00:00:00\",\"2019-06-20T00:00:00\",\"2019-06-21T00:00:00\",\"2019-06-24T00:00:00\",\"2019-06-25T00:00:00\",\"2019-06-26T00:00:00\",\"2019-06-27T00:00:00\",\"2019-06-28T00:00:00\",\"2019-07-01T00:00:00\",\"2019-07-02T00:00:00\",\"2019-07-03T00:00:00\",\"2019-07-05T00:00:00\",\"2019-07-08T00:00:00\",\"2019-07-09T00:00:00\",\"2019-07-10T00:00:00\",\"2019-07-11T00:00:00\",\"2019-07-12T00:00:00\",\"2019-07-15T00:00:00\",\"2019-07-16T00:00:00\",\"2019-07-17T00:00:00\",\"2019-07-18T00:00:00\",\"2019-07-19T00:00:00\",\"2019-07-22T00:00:00\",\"2019-07-23T00:00:00\",\"2019-07-24T00:00:00\",\"2019-07-25T00:00:00\",\"2019-07-26T00:00:00\",\"2019-07-29T00:00:00\",\"2019-07-30T00:00:00\",\"2019-07-31T00:00:00\",\"2019-08-01T00:00:00\",\"2019-08-02T00:00:00\",\"2019-08-05T00:00:00\",\"2019-08-06T00:00:00\",\"2019-08-07T00:00:00\",\"2019-08-08T00:00:00\",\"2019-08-09T00:00:00\",\"2019-08-12T00:00:00\",\"2019-08-13T00:00:00\",\"2019-08-14T00:00:00\",\"2019-08-15T00:00:00\",\"2019-08-16T00:00:00\",\"2019-08-19T00:00:00\",\"2019-08-20T00:00:00\",\"2019-08-21T00:00:00\",\"2019-08-22T00:00:00\",\"2019-08-23T00:00:00\",\"2019-08-26T00:00:00\",\"2019-08-27T00:00:00\",\"2019-08-28T00:00:00\",\"2019-08-29T00:00:00\",\"2019-08-30T00:00:00\",\"2019-09-03T00:00:00\",\"2019-09-04T00:00:00\",\"2019-09-05T00:00:00\",\"2019-09-06T00:00:00\",\"2019-09-09T00:00:00\",\"2019-09-10T00:00:00\",\"2019-09-11T00:00:00\",\"2019-09-12T00:00:00\",\"2019-09-13T00:00:00\",\"2019-09-16T00:00:00\",\"2019-09-17T00:00:00\",\"2019-09-18T00:00:00\",\"2019-09-19T00:00:00\",\"2019-09-20T00:00:00\",\"2019-09-23T00:00:00\",\"2019-09-24T00:00:00\",\"2019-09-25T00:00:00\",\"2019-09-26T00:00:00\",\"2019-09-27T00:00:00\",\"2019-09-30T00:00:00\",\"2019-10-01T00:00:00\",\"2019-10-02T00:00:00\",\"2019-10-03T00:00:00\",\"2019-10-04T00:00:00\",\"2019-10-07T00:00:00\",\"2019-10-08T00:00:00\",\"2019-10-09T00:00:00\",\"2019-10-10T00:00:00\",\"2019-10-11T00:00:00\",\"2019-10-14T00:00:00\",\"2019-10-15T00:00:00\",\"2019-10-16T00:00:00\",\"2019-10-17T00:00:00\",\"2019-10-18T00:00:00\",\"2019-10-21T00:00:00\",\"2019-10-22T00:00:00\",\"2019-10-23T00:00:00\",\"2019-10-24T00:00:00\",\"2019-10-25T00:00:00\",\"2019-10-28T00:00:00\",\"2019-10-29T00:00:00\",\"2019-10-30T00:00:00\",\"2019-10-31T00:00:00\",\"2019-11-01T00:00:00\",\"2019-11-04T00:00:00\",\"2019-11-05T00:00:00\",\"2019-11-06T00:00:00\",\"2019-11-07T00:00:00\",\"2019-11-08T00:00:00\",\"2019-11-11T00:00:00\",\"2019-11-12T00:00:00\",\"2019-11-13T00:00:00\",\"2019-11-14T00:00:00\",\"2019-11-15T00:00:00\",\"2019-11-18T00:00:00\",\"2019-11-19T00:00:00\",\"2019-11-20T00:00:00\",\"2019-11-21T00:00:00\",\"2019-11-22T00:00:00\",\"2019-11-25T00:00:00\",\"2019-11-26T00:00:00\",\"2019-11-27T00:00:00\",\"2019-11-29T00:00:00\",\"2019-12-02T00:00:00\",\"2019-12-03T00:00:00\",\"2019-12-04T00:00:00\",\"2019-12-05T00:00:00\",\"2019-12-06T00:00:00\",\"2019-12-09T00:00:00\",\"2019-12-10T00:00:00\",\"2019-12-11T00:00:00\",\"2019-12-12T00:00:00\",\"2019-12-13T00:00:00\",\"2019-12-16T00:00:00\",\"2019-12-17T00:00:00\",\"2019-12-18T00:00:00\",\"2019-12-19T00:00:00\",\"2019-12-20T00:00:00\",\"2019-12-23T00:00:00\",\"2019-12-24T00:00:00\",\"2019-12-26T00:00:00\",\"2019-12-27T00:00:00\",\"2019-12-30T00:00:00\",\"2019-12-31T00:00:00\",\"2020-01-02T00:00:00\",\"2020-01-03T00:00:00\",\"2020-01-06T00:00:00\",\"2020-01-07T00:00:00\",\"2020-01-08T00:00:00\",\"2020-01-09T00:00:00\",\"2020-01-10T00:00:00\",\"2020-01-13T00:00:00\",\"2020-01-14T00:00:00\",\"2020-01-15T00:00:00\",\"2020-01-16T00:00:00\",\"2020-01-17T00:00:00\",\"2020-01-21T00:00:00\",\"2020-01-22T00:00:00\",\"2020-01-23T00:00:00\",\"2020-01-24T00:00:00\",\"2020-01-27T00:00:00\",\"2020-01-28T00:00:00\",\"2020-01-29T00:00:00\",\"2020-01-30T00:00:00\",\"2020-01-31T00:00:00\",\"2020-02-03T00:00:00\",\"2020-02-04T00:00:00\",\"2020-02-05T00:00:00\",\"2020-02-06T00:00:00\",\"2020-02-07T00:00:00\",\"2020-02-10T00:00:00\",\"2020-02-11T00:00:00\",\"2020-02-12T00:00:00\",\"2020-02-13T00:00:00\",\"2020-02-14T00:00:00\",\"2020-02-18T00:00:00\",\"2020-02-19T00:00:00\",\"2020-02-20T00:00:00\",\"2020-02-21T00:00:00\",\"2020-02-24T00:00:00\",\"2020-02-25T00:00:00\",\"2020-02-26T00:00:00\",\"2020-02-27T00:00:00\",\"2020-02-28T00:00:00\",\"2020-03-02T00:00:00\",\"2020-03-03T00:00:00\",\"2020-03-04T00:00:00\",\"2020-03-05T00:00:00\",\"2020-03-06T00:00:00\",\"2020-03-09T00:00:00\",\"2020-03-10T00:00:00\",\"2020-03-11T00:00:00\",\"2020-03-12T00:00:00\",\"2020-03-13T00:00:00\",\"2020-03-16T00:00:00\",\"2020-03-17T00:00:00\",\"2020-03-18T00:00:00\",\"2020-03-19T00:00:00\",\"2020-03-20T00:00:00\",\"2020-03-23T00:00:00\",\"2020-03-24T00:00:00\",\"2020-03-25T00:00:00\",\"2020-03-26T00:00:00\",\"2020-03-27T00:00:00\",\"2020-03-30T00:00:00\",\"2020-03-31T00:00:00\",\"2020-04-01T00:00:00\",\"2020-04-02T00:00:00\",\"2020-04-03T00:00:00\",\"2020-04-06T00:00:00\",\"2020-04-07T00:00:00\",\"2020-04-08T00:00:00\",\"2020-04-09T00:00:00\",\"2020-04-13T00:00:00\",\"2020-04-14T00:00:00\",\"2020-04-15T00:00:00\",\"2020-04-16T00:00:00\",\"2020-04-17T00:00:00\",\"2020-04-20T00:00:00\",\"2020-04-21T00:00:00\",\"2020-04-22T00:00:00\",\"2020-04-23T00:00:00\",\"2020-04-24T00:00:00\",\"2020-04-27T00:00:00\",\"2020-04-28T00:00:00\",\"2020-04-29T00:00:00\",\"2020-04-30T00:00:00\",\"2020-05-01T00:00:00\",\"2020-05-04T00:00:00\",\"2020-05-05T00:00:00\",\"2020-05-06T00:00:00\",\"2020-05-07T00:00:00\",\"2020-05-08T00:00:00\",\"2020-05-11T00:00:00\",\"2020-05-12T00:00:00\",\"2020-05-13T00:00:00\",\"2020-05-14T00:00:00\",\"2020-05-15T00:00:00\",\"2020-05-18T00:00:00\",\"2020-05-19T00:00:00\",\"2020-05-20T00:00:00\",\"2020-05-21T00:00:00\",\"2020-05-22T00:00:00\",\"2020-05-26T00:00:00\",\"2020-05-27T00:00:00\",\"2020-05-28T00:00:00\",\"2020-05-29T00:00:00\",\"2020-06-01T00:00:00\",\"2020-06-02T00:00:00\",\"2020-06-03T00:00:00\",\"2020-06-04T00:00:00\",\"2020-06-05T00:00:00\",\"2020-06-08T00:00:00\",\"2020-06-09T00:00:00\",\"2020-06-10T00:00:00\",\"2020-06-11T00:00:00\",\"2020-06-12T00:00:00\",\"2020-06-15T00:00:00\",\"2020-06-16T00:00:00\",\"2020-06-17T00:00:00\",\"2020-06-18T00:00:00\",\"2020-06-19T00:00:00\",\"2020-06-22T00:00:00\",\"2020-06-23T00:00:00\",\"2020-06-24T00:00:00\",\"2020-06-25T00:00:00\",\"2020-06-26T00:00:00\",\"2020-06-29T00:00:00\",\"2020-06-30T00:00:00\",\"2020-07-01T00:00:00\",\"2020-07-02T00:00:00\",\"2020-07-06T00:00:00\",\"2020-07-07T00:00:00\",\"2020-07-08T00:00:00\",\"2020-07-09T00:00:00\",\"2020-07-10T00:00:00\",\"2020-07-13T00:00:00\",\"2020-07-14T00:00:00\",\"2020-07-15T00:00:00\",\"2020-07-16T00:00:00\",\"2020-07-17T00:00:00\",\"2020-07-20T00:00:00\",\"2020-07-21T00:00:00\",\"2020-07-22T00:00:00\",\"2020-07-23T00:00:00\",\"2020-07-24T00:00:00\",\"2020-07-27T00:00:00\",\"2020-07-28T00:00:00\",\"2020-07-29T00:00:00\",\"2020-07-30T00:00:00\",\"2020-07-31T00:00:00\",\"2020-08-03T00:00:00\",\"2020-08-04T00:00:00\",\"2020-08-05T00:00:00\",\"2020-08-06T00:00:00\",\"2020-08-07T00:00:00\",\"2020-08-10T00:00:00\",\"2020-08-11T00:00:00\",\"2020-08-12T00:00:00\",\"2020-08-13T00:00:00\",\"2020-08-14T00:00:00\",\"2020-08-17T00:00:00\",\"2020-08-18T00:00:00\",\"2020-08-19T00:00:00\",\"2020-08-20T00:00:00\",\"2020-08-21T00:00:00\",\"2020-08-24T00:00:00\",\"2020-08-25T00:00:00\",\"2020-08-26T00:00:00\",\"2020-08-27T00:00:00\",\"2020-08-28T00:00:00\",\"2020-08-31T00:00:00\",\"2020-09-01T00:00:00\",\"2020-09-02T00:00:00\",\"2020-09-03T00:00:00\",\"2020-09-04T00:00:00\",\"2020-09-08T00:00:00\",\"2020-09-09T00:00:00\",\"2020-09-10T00:00:00\",\"2020-09-11T00:00:00\",\"2020-09-14T00:00:00\",\"2020-09-15T00:00:00\",\"2020-09-16T00:00:00\",\"2020-09-17T00:00:00\",\"2020-09-18T00:00:00\",\"2020-09-21T00:00:00\",\"2020-09-22T00:00:00\",\"2020-09-23T00:00:00\",\"2020-09-24T00:00:00\",\"2020-09-25T00:00:00\",\"2020-09-28T00:00:00\",\"2020-09-29T00:00:00\",\"2020-09-30T00:00:00\",\"2020-10-01T00:00:00\",\"2020-10-02T00:00:00\",\"2020-10-05T00:00:00\",\"2020-10-06T00:00:00\",\"2020-10-07T00:00:00\",\"2020-10-08T00:00:00\",\"2020-10-09T00:00:00\",\"2020-10-12T00:00:00\",\"2020-10-13T00:00:00\",\"2020-10-14T00:00:00\",\"2020-10-15T00:00:00\",\"2020-10-16T00:00:00\",\"2020-10-19T00:00:00\",\"2020-10-20T00:00:00\",\"2020-10-21T00:00:00\",\"2020-10-22T00:00:00\",\"2020-10-23T00:00:00\",\"2020-10-26T00:00:00\",\"2020-10-27T00:00:00\",\"2020-10-28T00:00:00\",\"2020-10-29T00:00:00\",\"2020-10-30T00:00:00\",\"2020-11-02T00:00:00\",\"2020-11-03T00:00:00\",\"2020-11-04T00:00:00\",\"2020-11-05T00:00:00\",\"2020-11-06T00:00:00\",\"2020-11-09T00:00:00\",\"2020-11-10T00:00:00\",\"2020-11-11T00:00:00\",\"2020-11-12T00:00:00\",\"2020-11-13T00:00:00\",\"2020-11-16T00:00:00\",\"2020-11-17T00:00:00\",\"2020-11-18T00:00:00\",\"2020-11-19T00:00:00\",\"2020-11-20T00:00:00\",\"2020-11-23T00:00:00\",\"2020-11-24T00:00:00\",\"2020-11-25T00:00:00\",\"2020-11-27T00:00:00\",\"2020-11-30T00:00:00\",\"2020-12-01T00:00:00\",\"2020-12-02T00:00:00\",\"2020-12-03T00:00:00\",\"2020-12-04T00:00:00\",\"2020-12-07T00:00:00\",\"2020-12-08T00:00:00\",\"2020-12-09T00:00:00\",\"2020-12-10T00:00:00\",\"2020-12-11T00:00:00\",\"2020-12-14T00:00:00\",\"2020-12-15T00:00:00\",\"2020-12-16T00:00:00\",\"2020-12-17T00:00:00\",\"2020-12-18T00:00:00\",\"2020-12-21T00:00:00\",\"2020-12-22T00:00:00\",\"2020-12-23T00:00:00\",\"2020-12-24T00:00:00\",\"2020-12-28T00:00:00\",\"2020-12-29T00:00:00\",\"2020-12-30T00:00:00\",\"2020-12-31T00:00:00\",\"2021-01-04T00:00:00\",\"2021-01-05T00:00:00\",\"2021-01-06T00:00:00\",\"2021-01-07T00:00:00\",\"2021-01-08T00:00:00\",\"2021-01-11T00:00:00\",\"2021-01-12T00:00:00\",\"2021-01-13T00:00:00\",\"2021-01-14T00:00:00\",\"2021-01-15T00:00:00\",\"2021-01-19T00:00:00\",\"2021-01-20T00:00:00\",\"2021-01-21T00:00:00\",\"2021-01-22T00:00:00\",\"2021-01-25T00:00:00\",\"2021-01-26T00:00:00\",\"2021-01-27T00:00:00\",\"2021-01-28T00:00:00\",\"2021-01-29T00:00:00\",\"2021-02-01T00:00:00\",\"2021-02-02T00:00:00\",\"2021-02-03T00:00:00\",\"2021-02-04T00:00:00\",\"2021-02-05T00:00:00\",\"2021-02-08T00:00:00\",\"2021-02-09T00:00:00\",\"2021-02-10T00:00:00\",\"2021-02-11T00:00:00\",\"2021-02-12T00:00:00\",\"2021-02-16T00:00:00\",\"2021-02-17T00:00:00\",\"2021-02-18T00:00:00\",\"2021-02-19T00:00:00\",\"2021-02-22T00:00:00\",\"2021-02-23T00:00:00\",\"2021-02-24T00:00:00\",\"2021-02-25T00:00:00\",\"2021-02-26T00:00:00\",\"2021-03-01T00:00:00\",\"2021-03-02T00:00:00\",\"2021-03-03T00:00:00\",\"2021-03-04T00:00:00\",\"2021-03-05T00:00:00\",\"2021-03-08T00:00:00\",\"2021-03-09T00:00:00\",\"2021-03-10T00:00:00\",\"2021-03-11T00:00:00\",\"2021-03-12T00:00:00\",\"2021-03-15T00:00:00\",\"2021-03-16T00:00:00\",\"2021-03-17T00:00:00\",\"2021-03-18T00:00:00\",\"2021-03-19T00:00:00\",\"2021-03-22T00:00:00\",\"2021-03-23T00:00:00\",\"2021-03-24T00:00:00\",\"2021-03-25T00:00:00\",\"2021-03-26T00:00:00\",\"2021-03-29T00:00:00\",\"2021-03-30T00:00:00\",\"2021-03-31T00:00:00\",\"2021-04-01T00:00:00\",\"2021-04-05T00:00:00\",\"2021-04-06T00:00:00\",\"2021-04-07T00:00:00\",\"2021-04-08T00:00:00\",\"2021-04-09T00:00:00\",\"2021-04-12T00:00:00\",\"2021-04-13T00:00:00\",\"2021-04-14T00:00:00\",\"2021-04-15T00:00:00\",\"2021-04-16T00:00:00\",\"2021-04-19T00:00:00\",\"2021-04-20T00:00:00\",\"2021-04-21T00:00:00\",\"2021-04-22T00:00:00\",\"2021-04-23T00:00:00\",\"2021-04-26T00:00:00\",\"2021-04-27T00:00:00\",\"2021-04-28T00:00:00\",\"2021-04-29T00:00:00\",\"2021-04-30T00:00:00\",\"2021-05-03T00:00:00\",\"2021-05-04T00:00:00\",\"2021-05-05T00:00:00\",\"2021-05-06T00:00:00\",\"2021-05-07T00:00:00\",\"2021-05-10T00:00:00\",\"2021-05-11T00:00:00\",\"2021-05-12T00:00:00\",\"2021-05-13T00:00:00\",\"2021-05-14T00:00:00\",\"2021-05-17T00:00:00\",\"2021-05-18T00:00:00\",\"2021-05-19T00:00:00\",\"2021-05-20T00:00:00\",\"2021-05-21T00:00:00\",\"2021-05-24T00:00:00\",\"2021-05-25T00:00:00\",\"2021-05-26T00:00:00\",\"2021-05-27T00:00:00\",\"2021-05-28T00:00:00\",\"2021-06-01T00:00:00\",\"2021-06-02T00:00:00\",\"2021-06-03T00:00:00\",\"2021-06-04T00:00:00\",\"2021-06-07T00:00:00\",\"2021-06-08T00:00:00\",\"2021-06-09T00:00:00\",\"2021-06-10T00:00:00\",\"2021-06-11T00:00:00\",\"2021-06-14T00:00:00\",\"2021-06-15T00:00:00\",\"2021-06-16T00:00:00\",\"2021-06-17T00:00:00\",\"2021-06-18T00:00:00\",\"2021-06-21T00:00:00\",\"2021-06-22T00:00:00\",\"2021-06-23T00:00:00\",\"2021-06-24T00:00:00\",\"2021-06-25T00:00:00\",\"2021-06-28T00:00:00\",\"2021-06-29T00:00:00\",\"2021-06-30T00:00:00\",\"2021-07-01T00:00:00\",\"2021-07-02T00:00:00\",\"2021-07-06T00:00:00\",\"2021-07-07T00:00:00\",\"2021-07-08T00:00:00\",\"2021-07-09T00:00:00\",\"2021-07-12T00:00:00\",\"2021-07-13T00:00:00\",\"2021-07-14T00:00:00\",\"2021-07-15T00:00:00\",\"2021-07-16T00:00:00\",\"2021-07-19T00:00:00\",\"2021-07-20T00:00:00\",\"2021-07-21T00:00:00\",\"2021-07-22T00:00:00\",\"2021-07-23T00:00:00\",\"2021-07-26T00:00:00\",\"2021-07-27T00:00:00\",\"2021-07-28T00:00:00\",\"2021-07-29T00:00:00\",\"2021-07-30T00:00:00\",\"2021-08-02T00:00:00\",\"2021-08-03T00:00:00\",\"2021-08-04T00:00:00\",\"2021-08-05T00:00:00\",\"2021-08-06T00:00:00\",\"2021-08-09T00:00:00\",\"2021-08-10T00:00:00\",\"2021-08-11T00:00:00\",\"2021-08-12T00:00:00\",\"2021-08-13T00:00:00\",\"2021-08-16T00:00:00\",\"2021-08-17T00:00:00\",\"2021-08-18T00:00:00\",\"2021-08-19T00:00:00\",\"2021-08-20T00:00:00\",\"2021-08-23T00:00:00\",\"2021-08-24T00:00:00\",\"2021-08-25T00:00:00\",\"2021-08-26T00:00:00\",\"2021-08-27T00:00:00\",\"2021-08-30T00:00:00\",\"2021-08-31T00:00:00\",\"2021-09-01T00:00:00\",\"2021-09-02T00:00:00\",\"2021-09-03T00:00:00\",\"2021-09-07T00:00:00\",\"2021-09-08T00:00:00\",\"2021-09-09T00:00:00\",\"2021-09-10T00:00:00\",\"2021-09-13T00:00:00\",\"2021-09-14T00:00:00\",\"2021-09-15T00:00:00\",\"2021-09-16T00:00:00\",\"2021-09-17T00:00:00\",\"2021-09-20T00:00:00\",\"2021-09-21T00:00:00\",\"2021-09-22T00:00:00\",\"2021-09-23T00:00:00\",\"2021-09-24T00:00:00\",\"2021-09-27T00:00:00\",\"2021-09-28T00:00:00\",\"2021-09-29T00:00:00\",\"2021-09-30T00:00:00\",\"2021-10-01T00:00:00\",\"2021-10-04T00:00:00\",\"2021-10-05T00:00:00\",\"2021-10-06T00:00:00\",\"2021-10-07T00:00:00\",\"2021-10-08T00:00:00\",\"2021-10-11T00:00:00\",\"2021-10-12T00:00:00\",\"2021-10-13T00:00:00\",\"2021-10-14T00:00:00\",\"2021-10-15T00:00:00\",\"2021-10-18T00:00:00\",\"2021-10-19T00:00:00\",\"2021-10-20T00:00:00\",\"2021-10-21T00:00:00\",\"2021-10-22T00:00:00\",\"2021-10-25T00:00:00\",\"2021-10-26T00:00:00\",\"2021-10-27T00:00:00\",\"2021-10-28T00:00:00\",\"2021-10-29T00:00:00\",\"2021-11-01T00:00:00\",\"2021-11-02T00:00:00\",\"2021-11-03T00:00:00\",\"2021-11-04T00:00:00\",\"2021-11-05T00:00:00\",\"2021-11-08T00:00:00\",\"2021-11-09T00:00:00\",\"2021-11-10T00:00:00\",\"2021-11-11T00:00:00\",\"2021-11-12T00:00:00\",\"2021-11-15T00:00:00\",\"2021-11-16T00:00:00\",\"2021-11-17T00:00:00\",\"2021-11-18T00:00:00\",\"2021-11-19T00:00:00\",\"2021-11-22T00:00:00\",\"2021-11-23T00:00:00\",\"2021-11-24T00:00:00\",\"2021-11-26T00:00:00\",\"2021-11-29T00:00:00\",\"2021-11-30T00:00:00\",\"2021-12-01T00:00:00\",\"2021-12-02T00:00:00\",\"2021-12-03T00:00:00\",\"2021-12-06T00:00:00\",\"2021-12-07T00:00:00\",\"2021-12-08T00:00:00\",\"2021-12-09T00:00:00\",\"2021-12-10T00:00:00\",\"2021-12-13T00:00:00\",\"2021-12-14T00:00:00\",\"2021-12-15T00:00:00\",\"2021-12-16T00:00:00\",\"2021-12-17T00:00:00\",\"2021-12-20T00:00:00\",\"2021-12-21T00:00:00\",\"2021-12-22T00:00:00\",\"2021-12-23T00:00:00\",\"2021-12-27T00:00:00\",\"2021-12-28T00:00:00\",\"2021-12-29T00:00:00\",\"2021-12-30T00:00:00\",\"2021-12-31T00:00:00\",\"2022-01-03T00:00:00\",\"2022-01-04T00:00:00\",\"2022-01-05T00:00:00\",\"2022-01-06T00:00:00\",\"2022-01-07T00:00:00\",\"2022-01-10T00:00:00\",\"2022-01-11T00:00:00\",\"2022-01-12T00:00:00\",\"2022-01-13T00:00:00\",\"2022-01-14T00:00:00\",\"2022-01-18T00:00:00\",\"2022-01-19T00:00:00\",\"2022-01-20T00:00:00\",\"2022-01-21T00:00:00\",\"2022-01-24T00:00:00\",\"2022-01-25T00:00:00\",\"2022-01-26T00:00:00\",\"2022-01-27T00:00:00\",\"2022-01-28T00:00:00\",\"2022-01-31T00:00:00\",\"2022-02-01T00:00:00\",\"2022-02-02T00:00:00\",\"2022-02-03T00:00:00\",\"2022-02-04T00:00:00\",\"2022-02-07T00:00:00\",\"2022-02-08T00:00:00\",\"2022-02-09T00:00:00\",\"2022-02-10T00:00:00\",\"2022-02-11T00:00:00\",\"2022-02-14T00:00:00\",\"2022-02-15T00:00:00\",\"2022-02-16T00:00:00\",\"2022-02-17T00:00:00\",\"2022-02-18T00:00:00\",\"2022-02-22T00:00:00\",\"2022-02-23T00:00:00\",\"2022-02-24T00:00:00\",\"2022-02-25T00:00:00\",\"2022-02-28T00:00:00\",\"2022-03-01T00:00:00\",\"2022-03-02T00:00:00\",\"2022-03-03T00:00:00\",\"2022-03-04T00:00:00\",\"2022-03-07T00:00:00\",\"2022-03-08T00:00:00\",\"2022-03-09T00:00:00\",\"2022-03-10T00:00:00\",\"2022-03-11T00:00:00\",\"2022-03-14T00:00:00\",\"2022-03-15T00:00:00\",\"2022-03-16T00:00:00\",\"2022-03-17T00:00:00\",\"2022-03-18T00:00:00\",\"2022-03-21T00:00:00\",\"2022-03-22T00:00:00\",\"2022-03-23T00:00:00\",\"2022-03-24T00:00:00\",\"2022-03-25T00:00:00\",\"2022-03-28T00:00:00\",\"2022-03-29T00:00:00\",\"2022-03-30T00:00:00\",\"2022-03-31T00:00:00\",\"2022-04-01T00:00:00\",\"2022-04-04T00:00:00\",\"2022-04-05T00:00:00\",\"2022-04-06T00:00:00\",\"2022-04-07T00:00:00\",\"2022-04-08T00:00:00\",\"2022-04-11T00:00:00\",\"2022-04-12T00:00:00\",\"2022-04-13T00:00:00\",\"2022-04-14T00:00:00\",\"2022-04-18T00:00:00\",\"2022-04-19T00:00:00\",\"2022-04-20T00:00:00\",\"2022-04-21T00:00:00\",\"2022-04-22T00:00:00\",\"2022-04-25T00:00:00\",\"2022-04-26T00:00:00\",\"2022-04-27T00:00:00\",\"2022-04-28T00:00:00\",\"2022-04-29T00:00:00\",\"2022-05-02T00:00:00\",\"2022-05-03T00:00:00\",\"2022-05-04T00:00:00\",\"2022-05-05T00:00:00\",\"2022-05-06T00:00:00\",\"2022-05-09T00:00:00\",\"2022-05-10T00:00:00\",\"2022-05-11T00:00:00\",\"2022-05-12T00:00:00\",\"2022-05-13T00:00:00\",\"2022-05-16T00:00:00\",\"2022-05-17T00:00:00\",\"2022-05-18T00:00:00\",\"2022-05-19T00:00:00\",\"2022-05-20T00:00:00\",\"2022-05-23T00:00:00\",\"2022-05-24T00:00:00\",\"2022-05-25T00:00:00\",\"2022-05-26T00:00:00\",\"2022-05-27T00:00:00\",\"2022-05-31T00:00:00\",\"2022-06-01T00:00:00\",\"2022-06-02T00:00:00\",\"2022-06-03T00:00:00\",\"2022-06-06T00:00:00\",\"2022-06-07T00:00:00\",\"2022-06-08T00:00:00\",\"2022-06-09T00:00:00\",\"2022-06-10T00:00:00\",\"2022-06-13T00:00:00\",\"2022-06-14T00:00:00\",\"2022-06-15T00:00:00\",\"2022-06-16T00:00:00\",\"2022-06-17T00:00:00\",\"2022-06-21T00:00:00\",\"2022-06-22T00:00:00\",\"2022-06-23T00:00:00\",\"2022-06-24T00:00:00\",\"2022-06-27T00:00:00\",\"2022-06-28T00:00:00\",\"2022-06-29T00:00:00\",\"2022-06-30T00:00:00\",\"2022-07-01T00:00:00\",\"2022-07-05T00:00:00\",\"2022-07-06T00:00:00\",\"2022-07-07T00:00:00\",\"2022-07-08T00:00:00\",\"2022-07-11T00:00:00\",\"2022-07-12T00:00:00\",\"2022-07-13T00:00:00\",\"2022-07-14T00:00:00\",\"2022-07-15T00:00:00\",\"2022-07-18T00:00:00\",\"2022-07-19T00:00:00\",\"2022-07-20T00:00:00\",\"2022-07-21T00:00:00\",\"2022-07-22T00:00:00\",\"2022-07-25T00:00:00\",\"2022-07-26T00:00:00\",\"2022-07-27T00:00:00\",\"2022-07-28T00:00:00\",\"2022-07-29T00:00:00\",\"2022-08-01T00:00:00\",\"2022-08-02T00:00:00\",\"2022-08-03T00:00:00\",\"2022-08-04T00:00:00\",\"2022-08-05T00:00:00\",\"2022-08-08T00:00:00\",\"2022-08-09T00:00:00\",\"2022-08-10T00:00:00\",\"2022-08-11T00:00:00\",\"2022-08-12T00:00:00\",\"2022-08-15T00:00:00\",\"2022-08-16T00:00:00\",\"2022-08-17T00:00:00\",\"2022-08-18T00:00:00\",\"2022-08-19T00:00:00\",\"2022-08-22T00:00:00\",\"2022-08-23T00:00:00\",\"2022-08-24T00:00:00\",\"2022-08-25T00:00:00\",\"2022-08-26T00:00:00\",\"2022-08-29T00:00:00\",\"2022-08-30T00:00:00\",\"2022-08-31T00:00:00\",\"2022-09-01T00:00:00\",\"2022-09-02T00:00:00\",\"2022-09-06T00:00:00\",\"2022-09-07T00:00:00\",\"2022-09-08T00:00:00\",\"2022-09-09T00:00:00\",\"2022-09-12T00:00:00\",\"2022-09-13T00:00:00\",\"2022-09-14T00:00:00\",\"2022-09-15T00:00:00\",\"2022-09-16T00:00:00\",\"2022-09-19T00:00:00\",\"2022-09-20T00:00:00\",\"2022-09-21T00:00:00\",\"2022-09-22T00:00:00\",\"2022-09-23T00:00:00\",\"2022-09-26T00:00:00\",\"2022-09-27T00:00:00\",\"2022-09-28T00:00:00\",\"2022-09-29T00:00:00\",\"2022-09-30T00:00:00\",\"2022-10-03T00:00:00\",\"2022-10-04T00:00:00\",\"2022-10-05T00:00:00\",\"2022-10-06T00:00:00\",\"2022-10-07T00:00:00\",\"2022-10-10T00:00:00\",\"2022-10-11T00:00:00\",\"2022-10-12T00:00:00\",\"2022-10-13T00:00:00\",\"2022-10-14T00:00:00\",\"2022-10-17T00:00:00\",\"2022-10-18T00:00:00\",\"2022-10-19T00:00:00\",\"2022-10-20T00:00:00\",\"2022-10-21T00:00:00\",\"2022-10-24T00:00:00\",\"2022-10-25T00:00:00\",\"2022-10-26T00:00:00\",\"2022-10-27T00:00:00\",\"2022-10-28T00:00:00\",\"2022-10-31T00:00:00\",\"2022-11-01T00:00:00\",\"2022-11-02T00:00:00\",\"2022-11-03T00:00:00\",\"2022-11-04T00:00:00\",\"2022-11-07T00:00:00\",\"2022-11-08T00:00:00\",\"2022-11-09T00:00:00\",\"2022-11-10T00:00:00\",\"2022-11-11T00:00:00\",\"2022-11-14T00:00:00\",\"2022-11-15T00:00:00\",\"2022-11-16T00:00:00\",\"2022-11-17T00:00:00\",\"2022-11-18T00:00:00\",\"2022-11-21T00:00:00\",\"2022-11-22T00:00:00\",\"2022-11-23T00:00:00\",\"2022-11-25T00:00:00\",\"2022-11-28T00:00:00\",\"2022-11-29T00:00:00\",\"2022-11-30T00:00:00\",\"2022-12-01T00:00:00\",\"2022-12-02T00:00:00\",\"2022-12-05T00:00:00\",\"2022-12-06T00:00:00\",\"2022-12-07T00:00:00\",\"2022-12-08T00:00:00\",\"2022-12-09T00:00:00\",\"2022-12-12T00:00:00\",\"2022-12-13T00:00:00\",\"2022-12-14T00:00:00\",\"2022-12-15T00:00:00\",\"2022-12-16T00:00:00\",\"2022-12-19T00:00:00\",\"2022-12-20T00:00:00\",\"2022-12-21T00:00:00\",\"2022-12-22T00:00:00\",\"2022-12-23T00:00:00\",\"2022-12-27T00:00:00\",\"2022-12-28T00:00:00\",\"2022-12-29T00:00:00\",\"2022-12-30T00:00:00\",\"2023-01-03T00:00:00\",\"2023-01-04T00:00:00\",\"2023-01-05T00:00:00\",\"2023-01-06T00:00:00\",\"2023-01-09T00:00:00\",\"2023-01-10T00:00:00\",\"2023-01-11T00:00:00\",\"2023-01-12T00:00:00\",\"2023-01-13T00:00:00\",\"2023-01-17T00:00:00\",\"2023-01-18T00:00:00\",\"2023-01-19T00:00:00\",\"2023-01-20T00:00:00\",\"2023-01-23T00:00:00\",\"2023-01-24T00:00:00\",\"2023-01-25T00:00:00\",\"2023-01-26T00:00:00\",\"2023-01-27T00:00:00\",\"2023-01-30T00:00:00\",\"2023-01-31T00:00:00\",\"2023-02-01T00:00:00\",\"2023-02-02T00:00:00\",\"2023-02-03T00:00:00\",\"2023-02-06T00:00:00\",\"2023-02-07T00:00:00\",\"2023-02-08T00:00:00\",\"2023-02-09T00:00:00\",\"2023-02-10T00:00:00\",\"2023-02-13T00:00:00\",\"2023-02-14T00:00:00\",\"2023-02-15T00:00:00\",\"2023-02-16T00:00:00\",\"2023-02-17T00:00:00\",\"2023-02-21T00:00:00\",\"2023-02-22T00:00:00\",\"2023-02-23T00:00:00\",\"2023-02-24T00:00:00\",\"2023-02-27T00:00:00\",\"2023-02-28T00:00:00\",\"2023-03-01T00:00:00\",\"2023-03-02T00:00:00\",\"2023-03-03T00:00:00\",\"2023-03-06T00:00:00\",\"2023-03-07T00:00:00\",\"2023-03-08T00:00:00\",\"2023-03-09T00:00:00\",\"2023-03-10T00:00:00\",\"2023-03-13T00:00:00\",\"2023-03-14T00:00:00\",\"2023-03-15T00:00:00\",\"2023-03-16T00:00:00\",\"2023-03-17T00:00:00\",\"2023-03-20T00:00:00\",\"2023-03-21T00:00:00\",\"2023-03-22T00:00:00\",\"2023-03-23T00:00:00\",\"2023-03-24T00:00:00\",\"2023-03-27T00:00:00\",\"2023-03-28T00:00:00\",\"2023-03-29T00:00:00\",\"2023-03-30T00:00:00\",\"2023-03-31T00:00:00\",\"2023-04-03T00:00:00\",\"2023-04-04T00:00:00\",\"2023-04-05T00:00:00\",\"2023-04-06T00:00:00\",\"2023-04-10T00:00:00\",\"2023-04-11T00:00:00\",\"2023-04-12T00:00:00\",\"2023-04-13T00:00:00\",\"2023-04-14T00:00:00\",\"2023-04-17T00:00:00\",\"2023-04-18T00:00:00\",\"2023-04-19T00:00:00\",\"2023-04-20T00:00:00\",\"2023-04-21T00:00:00\",\"2023-04-24T00:00:00\",\"2023-04-25T00:00:00\",\"2023-04-26T00:00:00\",\"2023-04-27T00:00:00\",\"2023-04-28T00:00:00\",\"2023-05-01T00:00:00\",\"2023-05-02T00:00:00\",\"2023-05-03T00:00:00\",\"2023-05-04T00:00:00\",\"2023-05-05T00:00:00\",\"2023-05-08T00:00:00\",\"2023-05-09T00:00:00\",\"2023-05-10T00:00:00\",\"2023-05-11T00:00:00\",\"2023-05-12T00:00:00\",\"2023-05-15T00:00:00\",\"2023-05-16T00:00:00\",\"2023-05-17T00:00:00\",\"2023-05-18T00:00:00\",\"2023-05-19T00:00:00\",\"2023-05-22T00:00:00\",\"2023-05-23T00:00:00\",\"2023-05-24T00:00:00\",\"2023-05-25T00:00:00\",\"2023-05-26T00:00:00\",\"2023-05-30T00:00:00\",\"2023-05-31T00:00:00\",\"2023-06-01T00:00:00\",\"2023-06-02T00:00:00\",\"2023-06-05T00:00:00\",\"2023-06-06T00:00:00\",\"2023-06-07T00:00:00\",\"2023-06-08T00:00:00\",\"2023-06-09T00:00:00\",\"2023-06-12T00:00:00\",\"2023-06-13T00:00:00\",\"2023-06-14T00:00:00\",\"2023-06-15T00:00:00\",\"2023-06-16T00:00:00\",\"2023-06-20T00:00:00\",\"2023-06-21T00:00:00\",\"2023-06-22T00:00:00\",\"2023-06-23T00:00:00\",\"2023-06-26T00:00:00\",\"2023-06-27T00:00:00\",\"2023-06-28T00:00:00\",\"2023-06-29T00:00:00\",\"2023-06-30T00:00:00\",\"2023-07-03T00:00:00\",\"2023-07-05T00:00:00\",\"2023-07-06T00:00:00\",\"2023-07-07T00:00:00\",\"2023-07-10T00:00:00\",\"2023-07-11T00:00:00\",\"2023-07-12T00:00:00\",\"2023-07-13T00:00:00\",\"2023-07-14T00:00:00\",\"2023-07-17T00:00:00\",\"2023-07-18T00:00:00\",\"2023-07-19T00:00:00\",\"2023-07-20T00:00:00\",\"2023-07-21T00:00:00\",\"2023-07-24T00:00:00\",\"2023-07-25T00:00:00\",\"2023-07-26T00:00:00\",\"2023-07-27T00:00:00\",\"2023-07-28T00:00:00\",\"2023-07-31T00:00:00\",\"2023-08-01T00:00:00\",\"2023-08-02T00:00:00\",\"2023-08-03T00:00:00\",\"2023-08-04T00:00:00\",\"2023-08-07T00:00:00\",\"2023-08-08T00:00:00\",\"2023-08-09T00:00:00\",\"2023-08-10T00:00:00\",\"2023-08-11T00:00:00\",\"2023-08-14T00:00:00\",\"2023-08-15T00:00:00\",\"2023-08-16T00:00:00\",\"2023-08-17T00:00:00\",\"2023-08-18T00:00:00\",\"2023-08-21T00:00:00\",\"2023-08-22T00:00:00\",\"2023-08-23T00:00:00\",\"2023-08-24T00:00:00\",\"2023-08-25T00:00:00\",\"2023-08-28T00:00:00\",\"2023-08-29T00:00:00\",\"2023-08-30T00:00:00\",\"2023-08-31T00:00:00\",\"2023-09-01T00:00:00\",\"2023-09-05T00:00:00\",\"2023-09-06T00:00:00\",\"2023-09-07T00:00:00\",\"2023-09-08T00:00:00\",\"2023-09-11T00:00:00\",\"2023-09-12T00:00:00\",\"2023-09-13T00:00:00\",\"2023-09-14T00:00:00\",\"2023-09-15T00:00:00\",\"2023-09-18T00:00:00\",\"2023-09-19T00:00:00\",\"2023-09-20T00:00:00\",\"2023-09-21T00:00:00\",\"2023-09-22T00:00:00\",\"2023-09-25T00:00:00\",\"2023-09-26T00:00:00\",\"2023-09-27T00:00:00\",\"2023-09-28T00:00:00\",\"2023-09-29T00:00:00\",\"2023-10-02T00:00:00\",\"2023-10-03T00:00:00\",\"2023-10-04T00:00:00\",\"2023-10-05T00:00:00\",\"2023-10-06T00:00:00\",\"2023-10-09T00:00:00\",\"2023-10-10T00:00:00\",\"2023-10-11T00:00:00\",\"2023-10-12T00:00:00\",\"2023-10-13T00:00:00\",\"2023-10-16T00:00:00\",\"2023-10-17T00:00:00\",\"2023-10-18T00:00:00\",\"2023-10-19T00:00:00\",\"2023-10-20T00:00:00\",\"2023-10-23T00:00:00\",\"2023-10-24T00:00:00\",\"2023-10-25T00:00:00\",\"2023-10-26T00:00:00\",\"2023-10-27T00:00:00\",\"2023-10-30T00:00:00\",\"2023-10-31T00:00:00\",\"2023-11-01T00:00:00\",\"2023-11-02T00:00:00\",\"2023-11-03T00:00:00\",\"2023-11-06T00:00:00\",\"2023-11-07T00:00:00\",\"2023-11-08T00:00:00\",\"2023-11-09T00:00:00\",\"2023-11-10T00:00:00\",\"2023-11-13T00:00:00\",\"2023-11-14T00:00:00\",\"2023-11-15T00:00:00\",\"2023-11-16T00:00:00\",\"2023-11-17T00:00:00\",\"2023-11-20T00:00:00\",\"2023-11-21T00:00:00\",\"2023-11-22T00:00:00\",\"2023-11-24T00:00:00\",\"2023-11-27T00:00:00\",\"2023-11-28T00:00:00\",\"2023-11-29T00:00:00\",\"2023-11-30T00:00:00\",\"2023-12-01T00:00:00\",\"2023-12-04T00:00:00\",\"2023-12-05T00:00:00\",\"2023-12-06T00:00:00\",\"2023-12-07T00:00:00\",\"2023-12-08T00:00:00\",\"2023-12-11T00:00:00\",\"2023-12-12T00:00:00\",\"2023-12-13T00:00:00\",\"2023-12-14T00:00:00\",\"2023-12-15T00:00:00\",\"2023-12-18T00:00:00\",\"2023-12-19T00:00:00\",\"2023-12-20T00:00:00\",\"2023-12-21T00:00:00\",\"2023-12-22T00:00:00\",\"2023-12-26T00:00:00\",\"2023-12-27T00:00:00\",\"2023-12-28T00:00:00\",\"2023-12-29T00:00:00\",\"2024-01-02T00:00:00\",\"2024-01-03T00:00:00\",\"2024-01-04T00:00:00\",\"2024-01-05T00:00:00\",\"2024-01-08T00:00:00\",\"2024-01-09T00:00:00\",\"2024-01-10T00:00:00\",\"2024-01-11T00:00:00\",\"2024-01-12T00:00:00\",\"2024-01-16T00:00:00\",\"2024-01-17T00:00:00\",\"2024-01-18T00:00:00\",\"2024-01-19T00:00:00\",\"2024-01-22T00:00:00\",\"2024-01-23T00:00:00\",\"2024-01-24T00:00:00\",\"2024-01-25T00:00:00\",\"2024-01-26T00:00:00\",\"2024-01-29T00:00:00\",\"2024-01-30T00:00:00\",\"2024-01-31T00:00:00\",\"2024-02-01T00:00:00\",\"2024-02-02T00:00:00\",\"2024-02-05T00:00:00\",\"2024-02-06T00:00:00\",\"2024-02-07T00:00:00\",\"2024-02-08T00:00:00\",\"2024-02-09T00:00:00\",\"2024-02-12T00:00:00\",\"2024-02-13T00:00:00\",\"2024-02-14T00:00:00\",\"2024-02-15T00:00:00\",\"2024-02-16T00:00:00\",\"2024-02-20T00:00:00\",\"2024-02-21T00:00:00\",\"2024-02-22T00:00:00\",\"2024-02-23T00:00:00\",\"2024-02-26T00:00:00\",\"2024-02-27T00:00:00\",\"2024-02-28T00:00:00\",\"2024-02-29T00:00:00\",\"2024-03-01T00:00:00\",\"2024-03-04T00:00:00\",\"2024-03-05T00:00:00\",\"2024-03-06T00:00:00\",\"2024-03-07T00:00:00\",\"2024-03-08T00:00:00\",\"2024-03-11T00:00:00\",\"2024-03-12T00:00:00\",\"2024-03-13T00:00:00\",\"2024-03-14T00:00:00\",\"2024-03-15T00:00:00\",\"2024-03-18T00:00:00\",\"2024-03-19T00:00:00\",\"2024-03-20T00:00:00\",\"2024-03-21T00:00:00\",\"2024-03-22T00:00:00\",\"2024-03-25T00:00:00\",\"2024-03-26T00:00:00\",\"2024-03-27T00:00:00\",\"2024-03-28T00:00:00\",\"2024-04-01T00:00:00\",\"2024-04-02T00:00:00\",\"2024-04-03T00:00:00\",\"2024-04-04T00:00:00\",\"2024-04-05T00:00:00\",\"2024-04-08T00:00:00\",\"2024-04-09T00:00:00\",\"2024-04-10T00:00:00\",\"2024-04-11T00:00:00\",\"2024-04-12T00:00:00\",\"2024-04-15T00:00:00\",\"2024-04-16T00:00:00\",\"2024-04-17T00:00:00\",\"2024-04-18T00:00:00\",\"2024-04-19T00:00:00\",\"2024-04-22T00:00:00\",\"2024-04-23T00:00:00\",\"2024-04-24T00:00:00\",\"2024-04-25T00:00:00\",\"2024-04-26T00:00:00\",\"2024-04-29T00:00:00\",\"2024-04-30T00:00:00\",\"2024-05-01T00:00:00\",\"2024-05-02T00:00:00\",\"2024-05-03T00:00:00\",\"2024-05-06T00:00:00\",\"2024-05-07T00:00:00\",\"2024-05-08T00:00:00\",\"2024-05-09T00:00:00\",\"2024-05-10T00:00:00\",\"2024-05-13T00:00:00\",\"2024-05-14T00:00:00\",\"2024-05-15T00:00:00\",\"2024-05-16T00:00:00\",\"2024-05-17T00:00:00\",\"2024-05-20T00:00:00\",\"2024-05-21T00:00:00\",\"2024-05-22T00:00:00\",\"2024-05-23T00:00:00\",\"2024-05-24T00:00:00\",\"2024-05-28T00:00:00\",\"2024-05-29T00:00:00\",\"2024-05-30T00:00:00\",\"2024-05-31T00:00:00\",\"2024-06-03T00:00:00\",\"2024-06-04T00:00:00\",\"2024-06-05T00:00:00\",\"2024-06-06T00:00:00\",\"2024-06-07T00:00:00\",\"2024-06-10T00:00:00\",\"2024-06-11T00:00:00\",\"2024-06-12T00:00:00\",\"2024-06-13T00:00:00\",\"2024-06-14T00:00:00\",\"2024-06-17T00:00:00\",\"2024-06-18T00:00:00\",\"2024-06-20T00:00:00\",\"2024-06-21T00:00:00\",\"2024-06-24T00:00:00\",\"2024-06-25T00:00:00\",\"2024-06-26T00:00:00\",\"2024-06-27T00:00:00\",\"2024-06-28T00:00:00\",\"2024-07-01T00:00:00\",\"2024-07-02T00:00:00\",\"2024-07-03T00:00:00\",\"2024-07-05T00:00:00\",\"2024-07-08T00:00:00\",\"2024-07-09T00:00:00\",\"2024-07-10T00:00:00\",\"2024-07-11T00:00:00\",\"2024-07-12T00:00:00\",\"2024-07-15T00:00:00\",\"2024-07-16T00:00:00\",\"2024-07-17T00:00:00\",\"2024-07-18T00:00:00\",\"2024-07-19T00:00:00\",\"2024-07-22T00:00:00\",\"2024-07-23T00:00:00\",\"2024-07-24T00:00:00\",\"2024-07-25T00:00:00\",\"2024-07-26T00:00:00\",\"2024-07-29T00:00:00\",\"2024-07-30T00:00:00\",\"2024-07-31T00:00:00\",\"2024-08-01T00:00:00\",\"2024-08-02T00:00:00\",\"2024-08-05T00:00:00\",\"2024-08-06T00:00:00\",\"2024-08-07T00:00:00\",\"2024-08-08T00:00:00\",\"2024-08-09T00:00:00\",\"2024-08-12T00:00:00\",\"2024-08-13T00:00:00\",\"2024-08-14T00:00:00\",\"2024-08-15T00:00:00\",\"2024-08-16T00:00:00\",\"2024-08-19T00:00:00\",\"2024-08-20T00:00:00\",\"2024-08-21T00:00:00\",\"2024-08-22T00:00:00\",\"2024-08-23T00:00:00\",\"2024-08-26T00:00:00\",\"2024-08-27T00:00:00\",\"2024-08-28T00:00:00\",\"2024-08-29T00:00:00\",\"2024-08-30T00:00:00\",\"2024-09-03T00:00:00\",\"2024-09-04T00:00:00\",\"2024-09-05T00:00:00\",\"2024-09-06T00:00:00\",\"2024-09-09T00:00:00\",\"2024-09-10T00:00:00\",\"2024-09-11T00:00:00\",\"2024-09-12T00:00:00\",\"2024-09-13T00:00:00\",\"2024-09-16T00:00:00\",\"2024-09-17T00:00:00\",\"2024-09-18T00:00:00\",\"2024-09-19T00:00:00\",\"2024-09-20T00:00:00\",\"2024-09-23T00:00:00\",\"2024-09-24T00:00:00\",\"2024-09-25T00:00:00\",\"2024-09-26T00:00:00\",\"2024-09-27T00:00:00\",\"2024-09-30T00:00:00\",\"2024-10-01T00:00:00\",\"2024-10-02T00:00:00\",\"2024-10-03T00:00:00\",\"2024-10-04T00:00:00\",\"2024-10-07T00:00:00\",\"2024-10-08T00:00:00\",\"2024-10-09T00:00:00\",\"2024-10-10T00:00:00\",\"2024-10-11T00:00:00\",\"2024-10-14T00:00:00\",\"2024-10-15T00:00:00\",\"2024-10-16T00:00:00\",\"2024-10-17T00:00:00\",\"2024-10-18T00:00:00\",\"2024-10-21T00:00:00\",\"2024-10-22T00:00:00\",\"2024-10-23T00:00:00\",\"2024-10-24T00:00:00\",\"2024-10-25T00:00:00\",\"2024-10-28T00:00:00\",\"2024-10-29T00:00:00\",\"2024-10-30T00:00:00\",\"2024-10-31T00:00:00\",\"2024-11-01T00:00:00\",\"2024-11-04T00:00:00\",\"2024-11-05T00:00:00\",\"2024-11-06T00:00:00\",\"2024-11-07T00:00:00\",\"2024-11-08T00:00:00\",\"2024-11-11T00:00:00\",\"2024-11-12T00:00:00\",\"2024-11-13T00:00:00\",\"2024-11-14T00:00:00\",\"2024-11-15T00:00:00\",\"2024-11-18T00:00:00\",\"2024-11-19T00:00:00\",\"2024-11-20T00:00:00\",\"2024-11-21T00:00:00\",\"2024-11-22T00:00:00\",\"2024-11-25T00:00:00\",\"2024-11-26T00:00:00\",\"2024-11-27T00:00:00\",\"2024-11-29T00:00:00\",\"2024-12-02T00:00:00\",\"2024-12-03T00:00:00\",\"2024-12-04T00:00:00\",\"2024-12-05T00:00:00\",\"2024-12-06T00:00:00\",\"2024-12-09T00:00:00\",\"2024-12-10T00:00:00\",\"2024-12-11T00:00:00\",\"2024-12-12T00:00:00\",\"2024-12-13T00:00:00\",\"2024-12-16T00:00:00\",\"2024-12-17T00:00:00\",\"2024-12-18T00:00:00\",\"2024-12-19T00:00:00\",\"2024-12-20T00:00:00\",\"2024-12-23T00:00:00\",\"2024-12-24T00:00:00\",\"2024-12-26T00:00:00\",\"2024-12-27T00:00:00\",\"2024-12-30T00:00:00\",\"2024-12-31T00:00:00\",\"2025-01-02T00:00:00\",\"2025-01-03T00:00:00\",\"2025-01-06T00:00:00\",\"2025-01-07T00:00:00\",\"2025-01-08T00:00:00\",\"2025-01-10T00:00:00\",\"2025-01-13T00:00:00\",\"2025-01-14T00:00:00\",\"2025-01-15T00:00:00\",\"2025-01-16T00:00:00\",\"2025-01-17T00:00:00\",\"2025-01-21T00:00:00\",\"2025-01-22T00:00:00\",\"2025-01-23T00:00:00\",\"2025-01-24T00:00:00\",\"2025-01-27T00:00:00\",\"2025-01-28T00:00:00\",\"2025-01-29T00:00:00\",\"2025-01-30T00:00:00\",\"2025-01-31T00:00:00\",\"2025-02-03T00:00:00\",\"2025-02-04T00:00:00\",\"2025-02-05T00:00:00\",\"2025-02-06T00:00:00\",\"2025-02-07T00:00:00\",\"2025-02-10T00:00:00\",\"2025-02-11T00:00:00\",\"2025-02-12T00:00:00\",\"2025-02-13T00:00:00\",\"2025-02-14T00:00:00\",\"2025-02-18T00:00:00\",\"2025-02-19T00:00:00\",\"2025-02-20T00:00:00\",\"2025-02-21T00:00:00\",\"2025-02-24T00:00:00\",\"2025-02-25T00:00:00\",\"2025-02-26T00:00:00\",\"2025-02-27T00:00:00\",\"2025-02-28T00:00:00\",\"2025-03-03T00:00:00\",\"2025-03-04T00:00:00\",\"2025-03-05T00:00:00\",\"2025-03-06T00:00:00\",\"2025-03-07T00:00:00\",\"2025-03-10T00:00:00\",\"2025-03-11T00:00:00\",\"2025-03-12T00:00:00\",\"2025-03-13T00:00:00\",\"2025-03-14T00:00:00\",\"2025-03-17T00:00:00\",\"2025-03-18T00:00:00\",\"2025-03-19T00:00:00\",\"2025-03-20T00:00:00\",\"2025-03-21T00:00:00\",\"2025-03-24T00:00:00\",\"2025-03-25T00:00:00\",\"2025-03-26T00:00:00\",\"2025-03-27T00:00:00\",\"2025-03-28T00:00:00\",\"2025-03-31T00:00:00\",\"2025-04-01T00:00:00\",\"2025-04-02T00:00:00\",\"2025-04-03T00:00:00\",\"2025-04-04T00:00:00\",\"2025-04-07T00:00:00\",\"2025-04-08T00:00:00\",\"2025-04-09T00:00:00\",\"2025-04-10T00:00:00\",\"2025-04-11T00:00:00\",\"2025-04-14T00:00:00\",\"2025-04-15T00:00:00\",\"2025-04-16T00:00:00\",\"2025-04-17T00:00:00\",\"2025-04-21T00:00:00\",\"2025-04-22T00:00:00\",\"2025-04-23T00:00:00\",\"2025-04-24T00:00:00\",\"2025-04-25T00:00:00\",\"2025-04-28T00:00:00\",\"2025-04-29T00:00:00\",\"2025-04-30T00:00:00\",\"2025-05-01T00:00:00\",\"2025-05-02T00:00:00\",\"2025-05-05T00:00:00\",\"2025-05-06T00:00:00\",\"2025-05-07T00:00:00\",\"2025-05-08T00:00:00\",\"2025-05-09T00:00:00\",\"2025-05-12T00:00:00\",\"2025-05-13T00:00:00\",\"2025-05-14T00:00:00\",\"2025-05-15T00:00:00\",\"2025-05-16T00:00:00\",\"2025-05-19T00:00:00\",\"2025-05-20T00:00:00\",\"2025-05-21T00:00:00\",\"2025-05-22T00:00:00\",\"2025-05-23T00:00:00\",\"2025-05-27T00:00:00\",\"2025-05-28T00:00:00\",\"2025-05-29T00:00:00\",\"2025-05-30T00:00:00\",\"2025-06-02T00:00:00\",\"2025-06-03T00:00:00\",\"2025-06-04T00:00:00\",\"2025-06-05T00:00:00\",\"2025-06-06T00:00:00\",\"2025-06-09T00:00:00\",\"2025-06-10T00:00:00\",\"2025-06-11T00:00:00\",\"2025-06-12T00:00:00\",\"2025-06-13T00:00:00\",\"2025-06-16T00:00:00\",\"2025-06-17T00:00:00\",\"2025-06-18T00:00:00\",\"2025-06-20T00:00:00\",\"2025-06-23T00:00:00\",\"2025-06-24T00:00:00\",\"2025-06-25T00:00:00\",\"2025-06-26T00:00:00\",\"2025-06-27T00:00:00\",\"2025-06-30T00:00:00\",\"2025-07-01T00:00:00\",\"2025-07-02T00:00:00\",\"2025-07-03T00:00:00\",\"2025-07-07T00:00:00\",\"2025-07-08T00:00:00\",\"2025-07-09T00:00:00\",\"2025-07-10T00:00:00\",\"2025-07-11T00:00:00\",\"2025-07-14T00:00:00\",\"2025-07-15T00:00:00\",\"2025-07-16T00:00:00\",\"2025-07-17T00:00:00\",\"2025-07-18T00:00:00\",\"2025-07-21T00:00:00\",\"2025-07-22T00:00:00\",\"2025-07-23T00:00:00\",\"2025-07-24T00:00:00\",\"2025-07-25T00:00:00\",\"2025-07-28T00:00:00\",\"2025-07-29T00:00:00\",\"2025-07-30T00:00:00\",\"2025-07-31T00:00:00\",\"2025-08-01T00:00:00\",\"2025-08-04T00:00:00\",\"2025-08-05T00:00:00\",\"2025-08-06T00:00:00\",\"2025-08-07T00:00:00\",\"2025-08-08T00:00:00\",\"2025-08-11T00:00:00\",\"2025-08-12T00:00:00\",\"2025-08-13T00:00:00\",\"2025-08-14T00:00:00\"],\"y\":[-0.008378450604819716,-0.011254031870982083,0.004368788786280421,0.0017257602352123193,-0.026204564931172653,0.004457337052542182,-0.005891255467082124,-0.01188773038576783,0.0023036284035265445,0.005439474740014081,-0.016838734326833547,0.0028404943034609498,-0.003444070035884628,-0.005708895866845205,0.0013003471683988895,-0.0014738237281034486,0.003810143280624359,0.003192846928133665,0.000775127851616969,-0.004140821554351363,-0.0018169945131893267,-0.0031225683060647487,-0.0009560698660537595,-0.027684033513420175,0.0009828943243309087,-0.004924161015297649,-0.006031419233618076,-0.0002709060307489861,0.0014440077763354022,-0.0006315097549614711,-0.005429372519536195,0.019409393965783985,-0.0007122036244302048,0.011334565478751316,0.006319701703631724,0.002446901321801825,0.001395583828601838,0.006515812793653495,-0.0036436736475295383,-0.011450652385538355,-0.000791489742224147,0.016924374949796855,-0.002772001936393702,0.012156925637931892,-0.004982843844589143,-0.005527256360212914,-0.006952344453191623,0.011273125412459931,-0.007182773547924921,-0.006098084431298223,0.008613598755223903,-0.0034713349747602833,0.004942989742755055,-0.007641555546604684,0.005736617532052148,-0.013524881601083907,0.007265135996097461,-0.014141033700353254,0.01996737439576267,0.008633395454348151,-0.007073870774361553,-0.01781862923365432,-0.003442946542885586,0.0089796944769085,0.0028006293425995657,-0.0005245000462393765,-0.008253646349355704,0.0048375401365222245,-0.003868158154194018,0.008507714570103646,0.017745568671579635,0.005390825055101934,0.0029823930374759115,-0.00008510645761585739,-0.013967043221181913,0.0016381642703537944,-0.0033654032062089196,-0.0007782781051664031,-0.014727247977664972,-0.00017563013383993815,0.0011407772346871212,0.0007014013330434771,-0.0008767951003625541,0.0040269605877943865,-0.0071898573672245485,-0.0070646979352704175,-0.005331436918291504,0.0029358308942225293,0.002218377951124773,0.008473122987024092,-0.00458066904691928,-0.0002649015739743867,0.004406069740065375,-0.0036115754437751487,0.004666106837939518,0.012829091016651683,-0.0017357836863243674,-0.012939534822473103,-0.006621663748214055,-0.002661018577875129,-0.0013331015376761225,0.0010666233650124298,0.004520702131842665,-0.006210070886037382,-0.003476708463396305,-0.0019665798355693646,0.002680686287387427,-0.011668702760757443,0.0029749330386005784,0.002427551438613741,0.001166679551747385,-0.004494793701909413,-0.00225499581251802,-0.005251204440368454,-0.0036377042236319986,-0.010164462693893107,-0.02752685674211234,-0.003126872326802464,-0.005424190670740339,-0.00449483097628429,0.009729155735813993,-0.004661992801277996,0.0015246432799856059,0.0014272948765040416,-0.00859441451463339,0.006309807471318708,-0.007941503115089978,0.002015250319480653,-0.003649612745895922,0.004416281036678492,0.0024875838994236877,0.010172637809864738,0.005094839843947383,0.013924787857253812,-0.008294156742538458,-0.0000936047567321894,0.0026170571520377807,-0.00018667516172391786,0.013354574963244535,0.017261484729986225,0.006228253314387141,-0.005413696203742859,-0.012472236890549283,-0.013743752566773907,0.0005571512452685862,0.00896363798539372,0.0011033722012558356,0.00348589711093372,-0.005325457471451406,-0.00720696468758582,-0.0032508130940551347,0.0002790454421465056,-0.013012113659039884,0.002352831601258748,-0.002070138975493721,0.0005650019663848919,-0.003017159470430642,0.013226552172031262,0.01019855026531129,0.007352256373074212,-0.006246004616141289,-0.006841722923155944,0.00398130520726097,0.02075879629651289,-0.006173422414314381,-0.012739020432957309,-0.004066501065043471,-0.010426483637297347,-0.0012172598628681067,0.020953802922526705,-0.0020205850578978056,0.009971303227116472,-0.001457494008134859,-0.005117883296347929,0.015726912391542485,0.0039607110144831365,0.004929015278091239,0.017282274992371418,-0.004579458875531695,-0.007086601152338509,-0.004186912999915291,0.006318212020552837,-0.008910332230671142,-0.00035807819279052113,-0.0017026075113336088,-0.0006279971024889811,0.002241047948969033,-0.008091400160860905,-0.009614564390769178,-0.0038352540915993893,-0.006517134598801595,-0.014937356022442439,-0.009485885776108033,-0.0031189650547963797,-0.014685120688170974,0.0028777291011320622,-0.002109514817878502,-0.00336521129587392,0.00019257167853245404,-0.002796404320479703,0.001447402465342363,-0.013297966180688193,0.0008790738346113607,0.010971489880734318,-0.004548773723664315,-0.008083747042833161,0.006627707399357638,-0.004673848365801943,-0.011879763588946619,0.006595467871597316,0.0035259646298247574,-0.015667624313787498,0.010570606410359536,0.021966035488281806,-0.013063212596420425,0.0016544033114080684,-0.0019466324270582696,-0.0008772000837340084,0.0054458711721541595,-0.012884508990749449,-0.0026560861191144095,0.012043063036934096,-0.022141125877213518,0.015207174746719882,0.010819352064225785,-0.0052488544876924,-0.002928003794366426,0.007206940922791017,-0.007597994957113434,-0.0006846940847352253,-0.007661355596264362,0.0003943308023186173,0.013995827340626326,0.00281458831856644,0.014337487598989632,0.014040676150811138,-0.0044375394222030354,-0.008934594646018349,-0.0050729832368576954,0.004882048039545079,-0.016367021706295802,0.01023674024483427,-0.0009612465570264486,0.013279386437522704,0.00113814976565955,-0.004655791285644273,0.010233193541102439,0.011341913483231932,0.0037212948296183107,-0.0107362419293496,0.0038408969118528882,0.010232704202856196,0.00037006835108891606,0.010674654427775114,0.012009967818587527,0.015703135766193033,0.013354185862515874,-0.002198672852432284,0.007717958411726099,0.03940213823727399,-0.00589671453081662,-0.030800736245396157,0.006167287420776475,0.024041860433202913,-0.006020275750380445,-0.01793504091705753,0.014868593832169054,0.003321549590506587,0.002632341860518043,-0.006892743647260338,0.012980023419282503,-0.007360151335800538,0.007697256644730053,0.017125877155555313,-0.0015750194994792542,0.004965240864288737,-0.0046334482677505085,-0.00832782948151173,0.015928644015462578,-0.01735128256694606,-0.012980634673388813,0.0007632306454701139,0.02205075556149502,-0.0038218648773646413,-0.002750755714748547,-0.007036416699314462,0.0029378329691904675,-0.02289008865862743,-0.00240404319751751,0.0023182652611009025,0.01835540705340136,-0.014076410310244578,0.004600850924385841,-0.006053640735366039,-0.006692995408569699,0.012916668207256437,-0.0061381369358647206,0.014179801562102948,-0.0015187338768047718,0.013419630057020864,0.00016664672071527165,-0.010719526565990727,-0.014075152256168354,0.006892743647260424,-0.0015276274565966695,0.015506833308651099,-0.005114248016109923,0.003775305036917395,-0.012894694659209222,0.0028799271415296556,0.003967367637514969,0.002860302869919961,0.018724801093336303,0.019270626438691787,-0.0033213499131697927,-0.0022745646099545844,-0.006118222826125519,-0.0011462207767798868,0.009052054554673597,-0.02075289801818274,0.002731465708414251,0.009378919930915114,-0.007892173973086844,0.004529141979827091,0.0007392219670169126,0.003442329123242772,-0.017497993073654197,-0.0019168712488535215,-0.001335701516612647,-0.002844207499474105,-0.017493154439807392,-0.002731772964595234,-0.003425260387699169,-0.008268772914245718,0.003798302317157037,-0.0010344407576528966,-0.002331543491761781,0.027373264388307245,0.0003364248669020046,-0.0008412423733233627,0.014703707887444253,0.005541081570940133,0.004033075700703472,0.007365624068488461,0.0010594292626908233,0.0073849284570991006,-0.01056665171524312,0.01274729826898987,-0.005988024654369792,-0.01942288299292089,0.000496444028716167,-0.0065557755937431204,0.047873912303474195,0.0053823171279899626,-0.01079376043064916,0.004140765999889028,0.0049939058952932335,0.015223162818061162,0.008220905136956962,0.005852881673551483,-0.0037695950478742334,0.005994014334570738,-0.00946861312154938,-0.016690387468968386,0.009159697327218079,-0.007745045230236175,-0.003855735167465888,0.0015755839071671933,0.0013372522657107563,-0.01441038163632243,0.015117654201499693,-0.0074907077787214,-0.006989125856947095,0.004215211050825792,0.01598269497210111,-0.00289409340924044,0.010286811942904156,0.0018590671194806466,0.008092864929715934,-0.004770787598632875,0.0016954476164976306,-0.018025444010511534,-0.0008627837547004024,0.004072023167431496,0.004677994512329687,-0.006946906948684773,-0.0021170403750345335,0.003447698256792746,0.004915970173444719,0.00023348078990268189,0.004735854578729188,-0.008868887925520175,-0.0014858453674488508,-0.0001565049936259337,-0.011176864142998198,-0.0008709901258544955,-0.0014269885139346196,0.001981375674593548,-0.01010635477558835,-0.0020015218438290436,0.004078880664929754,0.010164454828507231,0.016766351430797802,-0.0034244132039321193,-0.005315481388614766,-0.006605326760192751,-0.0012631537514554386,-0.006657679739988439,0.0034136523813896856,-0.006440074325495675,-0.002475784418470438,0.002076861031546589,0.0009571124160199947,0.014483211562644741,0.0023544435304930274,0.0006269244831308528,-0.0007836871273146296,-0.00731797170627855,-0.0031640709801869947,-0.001189120004834333,-0.0034166360099868506,-0.002550206163687112,-0.03532787258610445,-0.0015718922897908132,-0.009316280206747919,0.0006682890904551575,0.003501510836135576,-0.005089499061391432,0.0015879882252557648,0.0024189937106391113,-0.005597559798283797,0.0026773752071126027,0.006164100054633751,0.005713611741873303,-0.0030597728971403517,0.0007451585177257722,-0.002237080125500534,0.007519794693909835,-0.0056138205649168835,0.0018196962666161048,0.004699292917769531,0.0029566431199742503,0.006457707460557924,0.0073872643657927,0.005323910740822675,0.0007237632468994597,-0.01817197611952108,-0.004183952404118774,-0.0006579098268444278,-0.015001711673606965,-0.022377978717915834,-0.008490234677527317,0.008661050768427549,-0.002992914324639575,-0.00515153957584098,-0.008818980245606272,0.0037273072140238833,-0.00034614845492716306,-0.020019033913875547,-0.005667237234161627,0.01051202138010083,-0.004668228933024833,-0.013510086082379656,-0.0018809543242076046,0.005364806083291903,-0.005364806083291772,-0.0009866853717861235,0.003583283615967707,-0.0023276835438490475,-0.010542046205441346,0.003797113021044969,-0.003344358449500988,-0.01477585370302796,-0.013785715901107913,0.006592778565065687,0.004985177307786946,-0.007394390217464912,0.0005564603998491446,-0.0024136861188265224,0.003155199096609045,0.00582012137282036,0.002759665575201272,0.01305061000633585,-0.006184651823121631,0.00781538513824579,0.0035241475629946054,0.015395946803090798,-0.007399862806678017,0.008198942430912352,0.004251209640407789,0.003088451356458922,0.0036058581395100996,0.002630155985373185,0.014257386660884261,-0.008495159639561354,-0.0008709816243124942,0.0024367465635149513,0.006411370524106662,-0.00450104004040464,-0.00827564253844338,-0.00931545140516917,0.002028628943019752,0.004220558088409409,0.013768096552717091,-0.003033641360264487,0.005540175253055282,0.002500332582847749,0.013428758731216857,-0.002041146037959061,0.006195677380773958,-0.0076440113416854985,0.0026395141502793757,-0.00682592596717586,0.0011123712399388251,0.0044372173593291335,0.005349691237603948,-0.0033932974726115484,0.0005946540100771037,0.0013579197505681978,0.00869753215772035,0.006369402264058673,-0.004857175635850916,0.0009230175401251751,-0.0014268817535848305,-0.012508578672613836,-0.0005955140219629334,-0.006745539852068352,-0.008086086565359004,-0.006238117890961693,-0.005140919622256575,0.0021815968976861885,0.00017429306368713733,-0.005418130142925278,0.018492494054676123,0.004120559955210867,0.0022248383768926597,0.004435011725417898,0.008727009558066982,0.0024434516279076965,-0.001347399463717088,0.0015998188263156232,0.005621040603803889,-0.0041077969016607725,0.0024332009503229184,-0.007233005455458062,0.002108015430704589,0.005292550298656713,0.0022597345773738855,0.0,-0.003685116697841802,0.002346621760815808,0.0,0.014378002485395934,0.006825356086692966,0.0047420728437496,-0.0029407031136137306,0.004733558474010278,-0.008914361418128501,0.001887609614885789,0.002865670925194773,-0.006809117727285548,-0.010176758825308857,0.004894417227160271,-0.003730858335881937,0.003151414614046289,-0.009149943206636764,-0.00016711217732273407,-0.014055680078894413,-0.010137688898777003,0.0018819613581217375,-0.0022245229386793674,-0.006013737531638919,-0.00008619187440805963,0.003956305862795571,0.0028286293961141936,0.00264989304932151,0.004344332691827055,0.018026089242991115,-0.008214659464641129,0.0049536558166890015,0.004178861021674379,-0.006358807682167539,0.003937188086656905,-0.0010874337201151904,0.008832634206008617,-0.0033239313084347183,0.003987406451696997,0.0008286937780719529,0.007345383440385594,0.0009862969865506888,0.011191515796581182,-0.005294262319270497,-0.006554676702975053,-0.009166426122606205,-0.0014943988172197275,0.0009965350816834196,-0.005493177805750778,-0.00418165701990386,0.00016757431865917162,-0.00765446009733337,-0.0021131828104241023,0.002872805881766109,0.0033692883509404193,0.004279445503073095,-0.00899959554685728,0.003794725232620457,0.000757258608664271,-0.004890000706728738,-0.002538742638049931,-0.01648835238074312,0.0036971824767883434,-0.0004291636859008885,-0.010269798493159019,0.0016468254331296226,0.0012982088742114774,0.0035397924292921755,-0.0018115086761426493,0.008168900176639902,0.004443348999716993,0.006966890452323186,-0.0002540224323477312,0.00135406277392805,0.008589562474350264,0.0004191258176561492,-0.0032741446924645485,0.008040236804836134,-0.0007510021513585564,0.00748507747253413,0.0004969976741389874,-0.0008284878144892227,-0.002074259170059369,0.0015767861990997622,-0.007825504639997654,-0.0011707593535363761,0.0029243323685439523,0.012024832535234332,0.007391636301004261,0.004734717669981235,-0.007110509708619983,-0.007739806493235807,0.007329654945785988,0.005074451187161252,-0.0015523089133794997,0.003754179507042542,-0.004490378194735464,0.003756939159508119,-0.003102527430184758,0.0036729988686282277,0.015762397031869272,-0.002167752218151974,-0.0004823342716563527,0.011671721617894353,0.0019056530015576626,0.011044617985341777,-0.005112698708954078,0.010355527635419215,-0.0012495406412696415,-0.014007143976598416,0.0029277577169540335,-0.007534611170577271,0.004369098124020519,-0.005006207576558888,-0.009364174007229185,0.002088539057238403,-0.008056762706663206,-0.007633024715442955,0.0045543146609353605,0.01041298453601274,-0.011224726404076811,-0.009464790137827282,0.0018837445698112896,-0.0051683715774128456,-0.006684614889873803,0.0004967317019956395,0.0028098889387879367,-0.005378816723625571,0.0047183541150492775,0.008142542011554031,0.002617800009600174,0.0031812040839063376,0.0008140547013934963,0.007539254296557061,-0.006888462515220647,-0.006854404417199568,-0.0037735819439878113,0.005900215657301968,-0.006393454395473306,0.0015611723194451613,-0.0038662591759729935,0.0001647984431062872,-0.008440935931398883,0.0047257865747334146,0.0019005561122998722,-0.0038047944426046506,0.0036396966611634005,0.0006603535530684753,-0.0047144513322975885,0.008502950979344039,-0.0036235108435323914,0.003459056119704665,0.004102401645100611,-0.008221702339946372,0.0014849063034307734,0.002058715307154061,-0.001234670245587114,-0.00008238652462762423,0.011954609509226865,-0.012696268046166224,0.001647348843739489,0.009175087875408043,-0.0025311102507151856,0.004160741332319787,-0.00016287471547679085,-0.006289558392421287,-0.007732229391441411,0.0040380612309282235,-0.003377653154607993,-0.007122188370048705,-0.002079954164184071,-0.013246352701112026,-0.0000843525069872456,-0.003974813553107367,0.0011856318079057743,0.008596013189973703,-0.002015942432484809,0.00209987057429634,0.004604277886820867,0.0007513783425439744,0.0026671102328525206,0.0014140004111240193,0.005222850279184247,0.006839416919106556,0.003770551302149118,0.0050595432932777126,0.006490919761210391,0.012058023762451863,-0.0026403330092135157,0.005114278310262769,-0.001036702137934486,-0.0001596255390370604,-0.004639219643041588,0.002402270692406848,0.003273877321212141,0.012044492942167013,0.001652690627169873,-0.008132363237354055,-0.002222213448585594,0.0044394996120163946,0.0018177059354296304,0.004961985943158681,0.012104345577545294,-0.006697849027902464,0.0007811756386790387,-0.005637857183470335,-0.004328123373076199,0.00668108957049156,0.0032848909860550284,-0.013204686797240324,0.0025286437555192493,-0.01055189964568088,-0.004716772083453344,0.001521419504394612,-0.0016817358427458674,0.0047973715177869495,0.005647253596785453,0.0169088525197643,0.0011691607653979673,-0.0032769459911664296,-0.013532867750937797,-0.004604964057785746,0.005080177401414419,-0.0012676571223934087,0.0024545525850455277,-0.010493774054732095,-0.0010394376248337527,-0.0022425027652310265,0.005357640797750738,-0.0016761714003699012,0.010726720619181963,-0.006422202914569186,-0.002389131123572836,0.000956349666608725,0.0,0.001909899228192024,-0.0006362480921955626,-0.0063846619697597,-0.002404835241203122,0.0021646240154515875,-0.0044947919586221805,0.017305793278474,-0.0039610286020946425,0.01285555168848731,0.005236622780197456,-0.006177451915059315,-0.013901136089334824,0.0004770798243684067,0.01161839746199109,-0.0075722010717776825,0.0011868954626521053,-0.005153580456720969,0.004678991304775993,0.0033963960355940744,0.002362787969159084,0.007757730797944395,-0.011698777825105413,0.00653361006986455,0.0014113245973425364,0.000939797609092718,0.0007824607184664891,-0.001957330849889553,-0.007630932179694891,-0.008007927882251619,0.004844167468111617,-0.006517267321502421,-0.0035146807713917604,0.0042320403061771,-0.00727744165435215,-0.007088207443339079,-0.00048510316641562344,0.005082068394914099,0.0020898820929316714,0.00024084765259023235,0.0001605124693187213,-0.002088981225264128,0.006813368242228766,-0.0014389666321499815,-0.0040883630684626394,-0.016277595476396185,-0.0015524980696371136,0.0005722435830601718,0.00040857173330558584,0.0005716827532715196,-0.0005716827532715781,0.0010614187645907496,0.00853209120176816,-0.0030793967645780895,-0.00016231041385129715,0.001460093554237964,-0.0021909715513725716,-0.004967644235411557,-0.0009801121170807511,0.003914822104047846,0.0005696358194504353,-0.0004882216623280107,0.0012201695433653895,0.0017868849442266759,-0.003332688774722517,0.003008032375587246,0.0015411027282310494,-0.016672509186741995,-0.0018972637609840908,-0.0025629178089953803,-0.0044802273887545,-0.0017477352868705306,0.0024126912728642744,-0.003746388732216758,-0.0052686490212925504,-0.005718147886604777,-0.003040547998821346,0.0036306900201949913,-0.010080153442110952,0.010080153442110855,0.0033656028250155126,-0.0015972634935638506,0.002436881277559937,-0.0018481290459546572,-0.010905978807671088,0.0041565812124297165,-0.004411618657356192,-0.0005102701051305093,-0.010862735754725461,0.00025795416772476286,-0.004308123245285948,0.006455244826308788,-0.004815949835095058,0.00034477603659500224,0.00550018047205447,-0.00782971239395345,0.0005181795313150905,-0.001555212880989931,0.0029355602050311473,-0.007355188129705078,-0.0053993230298752665,0.003486767260953241,-0.005147198608389075,0.002271488910587502,0.002788736658924094,-0.0014805645831976347,-0.00043582289228197795,-0.015199092023381782,0.000973327608104041,-0.016766621575930757,-0.0008097887609237462,0.009228205066865915,0.0049818196508907165,0.0029240568705197916,0.0022095550764809732,-0.009491353686729823,0.017318039357996126,0.0037595032326643405,-0.007973022006627225,0.0045637840256251986,-0.004915718883921124,-0.0011445940280617694,-0.005122797149079999,0.003447511831347845,0.0019395335367870974,-0.0027340278330774677,-0.000706792407982718,0.0006184538252070439,0.008355710260063364,-0.0035975648169408914,-0.006526220333750846,0.005206771454576303,-0.0014974516487718237,0.0038711539862427546,0.0034188014897895418,-0.0068493312914384265,-0.00017621292914007548,0.0015850681638403528,-0.005293338005935142,-0.008884998236125718,0.0063164577082286105,-0.0016864375351172442,0.011482223287117932,-0.003959744500981412,0.0005289130805079614,0.0028159089867124108,-0.011133826368821452,0.0005329800140063239,0.0024835810584159217,0.025366544894876334,-0.0047616679491750925,0.006660030947980057,-0.0017255996137757622,-0.00008637796161615032,0.001122068685606197,0.0007761304849288288,-0.0025893597255193914,0.005859562733875961,0.0023171370069294235,-0.002231204310531111,0.0031736109331066205,-0.003947139978932357,-0.004394427867848015,-0.005628951974666804,0.01277086763550321,0.0001715043948444399,-0.0024032178261358607,-0.002839826579174042,-0.0000861993040877103,-0.002156939731312277,-0.011291663536045476,-0.007188596482678694,0.00035180582721631255,0.008233404279793029,0.0011333182475063862,0.0073788789662288,0.0004323180677422659,0.0,0.001641277459165227,-0.0007771357154266267,-0.0011235233509469095,-0.005984687209490868,0.00373378036345705,0.003115272664463216,-0.001729479411524255,0.007501675441848404,0.006080599945141696,0.00017072178718187972,0.008077219150826301,-0.003477935715567025,-0.0011903699128753065,0.00212467676965701,-0.0022097759847801487,-0.004007006751401848,0.0068957425332182515,0.0023726710074086807,-0.0061126025718981495,0.015295836918707156,-0.004370461193212718,0.01089057789030817,-0.003003949025405859,0.0075760760319352385,0.004055775698519239,0.0015682595209626012,0.000659591337713554,0.00902531942317299,-0.008119106827353268,0.0034525160778516237,-0.0027117139907279018,0.006397649700215412,-0.005904086348646452,0.0017256811414607263,0.002378067354322114,-0.0017215161032263467,0.0031947551186356582,-0.0013094038577051105,-0.008966489387798326,0.0035468368649853345,-0.0014007184915951448,-0.0015678713054947328,0.014511460180241248,0.0034938106026215594,0.005580978043920208,0.005710387238117351,0.00048105804332541224,-0.002006018726865743,-0.0043467903708823,0.0025781491687657575,-0.006781846869660092,0.0024273450059934865,0.003791101346321012,-0.004923141507008373,0.0021013677593768472,-0.003963908091330168,0.005577307519395154,0.005947180522781207,0.015109582852092095,-0.0017378437981698566,-0.011370537714508392,0.0035920768439101198,-0.0010363715360959395,0.0016736332310033522,-0.00711234367844341,-0.005629776625606553,-0.017163968380321165,-0.0026289836177433583,0.0013153870929190252,-0.0009041270457165541,-0.0008226265106168819,0.010886084259377201,-0.004896357818091546,0.006035459879402026,0.006968612448215201,-0.011614284265949192,0.00456433710702197,0.0005690800870331783,0.0027594883221057557,0.006463126873942885,-0.004034541087699915,0.0023420233902432335,0.007633907060241407,-0.0049754946888428755,-0.005243016760484571,-0.014253957303041619,0.0009019770912032663,-0.003941890257643701,0.003695988550420936,-0.0014767440573913667,0.0025419025120261784,-0.001065158454634802,0.004335552354601057,0.005210460213684454,0.0030808947099307334,-0.012872932029622242,-0.0009844542413608548,-0.0018896884121835308,-0.009004202217837268,-0.0019104067944000637,0.0007480072379889946,0.0,-0.0020790892290242957,0.002909503431152912,0.0008297251865102907,0.006613259149985578,-0.004459139554905491,0.003057434262503009,-0.0066225029075604345,-0.003827907452540267,0.005902166622599615,0.0013252386046357174,0.0033055276063594123,-0.002478073455137969,0.002395550981643927,0.0018959191232165698,0.010159840539079522,-0.0017133695443152437,-0.0005717761663673002,-0.007216080906090217,-0.007102776783024275,-0.00008290551782707826,-0.0023236423674714048,-0.0009975291545631813,0.007704775453647589,0.0010723379767872785,-0.0038822269155751525,0.0003309964016131658,0.006761236816409685,0.013386857013473643,0.014329650783140814,0.00031967486235552026,0.002553665830468566,0.0032623544765036684,0.005624438342681366,-0.010003215486538885,-0.0011975692988471266,0.005179100221238763,0.0061006935016299476,-0.0003160129284807664,-0.0006322652864021801,0.005047324392238259,0.006038970838080658,0.024866155493817887,0.00661369341666817,0.014741593126273352,0.0019392450876947497,-0.009207653748305768,-0.0009781791081800058,0.0027063662544696662,-0.019559428102497136,0.02113481354805423,0.0016477026920105947,-0.011212861349998495,-0.006453396174434407,0.0034976216131429347,0.015664164068756106,-0.008479433149487648,0.006235244213343071,0.0,-0.008498565150237166,0.01633123396202252,0.01401922107283276,-0.01483691752503857,-0.0001487748968767623,-0.005668654760058427,0.005073447292028362,-0.007095118991376651,0.00164757936404381,0.006637600502192369,0.0033393742390960437,-0.013199706898717264,0.0237382025873749,-0.003819352910475418,0.013885007839557597,0.008095529492025941,0.01507548681526026,0.005022054446004403,-0.003321683939870917,0.009651773675578623,-0.005977346952418699,0.00681829671908825,0.006632923311853109,-0.00642279632319684,-0.011765243129746363,0.007765153200510364,-0.0031694374885161206,-0.002542737809443374,0.0194004358255685,0.00013874512727632068,0.009525229640210546,-0.002820513317677276,-0.007190355573252848,-0.0025705723222454796,0.013817145553141903,0.006224182405113975,-0.02429383958928248,-0.008559662387184017,-0.0037414803722944866,-0.008594766463448816,0.0060453662250154515,0.0020542492696135994,-0.008313640257218174,0.008313640257218249,0.001979350045407386,-0.006305141849164153,0.004042645700960864,0.011751169204553406,0.005580782257567522,0.00527299162043293,-0.018719501081169466,-0.0002821278180384957,-0.005161727926224835,-0.015647105922203676,0.005457893373498284,0.011606023170116823,0.004520416059329575,0.0,-0.00856363541098911,0.00870459991703739,0.0009156241246349503,-0.008767683192965708,-0.005554769940672898,0.003991150393420187,-0.0069950016712766044,0.005713914835703777,0.0014233647353723328,-0.001067306413452129,-0.004781550075213642,0.0029287043785159624,0.002351027592914482,0.007090719694468963,0.0023289599557340403,-0.008637230479381003,-0.002776885194246242,0.005475210184932403,0.009948844935468628,0.0009123470738276627,-0.0028801514371747305,-0.016312331868591004,0.004281068530555171,-0.015643205521891117,-0.0063847338065501705,-0.0024048241483873045,0.002695874927586959,0.003994072881030811,0.004194711040663475,-0.0025291110010524226,0.002962025072169786,0.0005049030061831341,0.0005045382424530197,-0.005492097356825017,-0.0018857951599790925,-0.004803179633254922,0.004803179633255016,-0.005314014225370608,0.006184806112979683,-0.0005079436043828876,0.009534253178573626,-0.0013667767637935283,0.0005757184354598549,-0.009977704836757457,-0.0002906488870483782,0.002830699660654389,0.006861935627691577,-0.0035334849047766476,0.004468872836715887,-0.00007198939739749056,-0.00021577975709612248,0.00007200493236905694,0.0025862126377012157,0.0010039397404910592,0.003077203372165587,0.009387789011397068,0.00782659080315549,-0.0003512560225688557,0.0021055808220621446,0.001891143454574884,0.007320953634035891,0.013181265882528811,0.010434868967011986,0.003927428056507489,-0.007529802584635164,-0.0056676844863565315,0.006008107616788398,-0.007447144703816297,-0.0008919411826434922,0.005817289492435278,-0.0015707412123407796,0.0018437252860089575,0.0010909837309721073,0.0003405975107135845,0.002245598875511729,0.0058285535187767275,0.006802125843070944,-0.00896686803661793,0.005403248480831511,0.00006731894098032181,0.005775708477189364,-0.006516877595597702,-0.013094308186782415,0.0012285555646719122,0.005373934234125879,0.002642363450658169,0.0025679490647931946,-0.0034478924308700464,-0.000813078481224605,0.005677303718111386,0.0041697222765956264,0.012737350951843347,0.005814285510176441,0.0040763395182913265,0.014913455926308593,0.008945002656717951,-0.01803593472393269,0.004360980385151266,0.00019481624361363943,-0.03717601874476565,0.005511083646655957,0.030950390194086085,0.001752990351755443,0.021370951204574475,0.0003808885074389379,0.0016488747161249012,-0.02132715182628954,-0.0035667044227174947,-0.04070560424243849,-0.03099155256530076,-0.011512126298224866,0.01346442633870517,-0.02012310684271081,-0.019086492837834465,0.014884383146683595,0.043231496146295734,0.047389520259250466,-0.013784208180364264,0.012740714714697083,-0.006481449089244015,0.004390990264267052,-0.032364821693651916,0.009411793149400162,0.01626050111056189,0.004925309776577716,0.02733353381543522,-0.005368871400719198,-0.008947881947437637,0.025788169295063085,0.01699510551392902,0.007837301543346824,-0.005115017933585634,-0.0008653689753940822,-0.019608466717140425,0.007100853720992193,-0.006848673348053854,0.019479888950845802,0.009905643795524405,-0.004294729942651925,-0.00666258998355511,-0.004466516323334757,0.005518192454017435,-0.018282683683788697,0.0061522933833428935,0.003498676361159418,0.004232069630406605,-0.012938939248234135,0.015234124108560072,-0.006028427741239837,-0.006253147010599243,0.0038815245238018456,0.009576645345897673,0.008811127536123346,0.005627947839551041,-0.007592898231851983,0.009603940342589153,0.0023714668825757603,-0.014683616168536867,0.005899400714775776,-0.014316858429627,0.001800809585778032,0.0033447448656947374,0.007331471236597383,0.004593203918142176,-0.006497892824854574,-0.01862251139241922,0.010471254055873179,-0.02048368991541374,0.010764002439043798,0.009595645355064148,0.014223142854853236,-0.007240232329265166,0.0014153150353447643,-0.0017848491512042477,-0.0004929560183834836,0.0019087937874243815,-0.0019703951105462295,0.010972576221366465,0.006441427074830093,0.008384398864595731,-0.0034899960158010397,-0.0006028992986150158,0.0044532193863769335,0.0005403343600226875,0.004431086497931087,-0.004491160110102202,0.0021582779375089872,0.005970880083946397,0.0062904343270385864,0.006192353605402356,-0.002708063902871328,-0.0025972650920347735,0.0012403879870823364,0.004652728164010819,0.0008809438623464781,-0.009496639325154646,0.008204262794308569,0.004808590336846309,0.011978962477666387,0.015087942737564556,0.008786586410813348,0.008542281441677423,0.019561196964697856,0.008306536040413818,0.007482169283186,-0.007427778888433271,0.00904688435302792,0.0011318982444248418,0.021054515412853636,0.009240417270834574,0.013186741026147062,-0.016012829047696152,-0.0034649534714480275,-0.0551897267189793,-0.004679132411383586,0.023343474417206588,-0.004318527254207777,0.02146194877539166,0.008967673573403242,-0.03207438281593019,0.006890137653281628,-0.008043165542872153,-0.005674470685927035,0.0012147382641175607,0.011739667325137685,-0.011629286747359606,0.01723092629924,0.00238341719432408,0.001189581722410416,-0.013218610873058246,-0.008137254873336977,0.0027564932922231992,-0.0019287808618004912,0.009661434230238847,-0.0032283485242562797,-0.000054861557792618405,0.00786160327773618,-0.0023956152677241513,0.0028305733071044763,-0.005505121062685115,0.001310849171618332,-0.020291789448272826,-0.004858095828927072,-0.021843335368817322,0.0037119030895910897,-0.0028540460781505306,0.010010290107421884,0.008397048385655496,-0.006022969047958764,0.008880963695329078,-0.0008957769408936138,0.004861081696310086,-0.011830479550692698,-0.00045132478533539146,0.0035486272055745486,0.017998399966815504,-0.002875813691634357,-0.01585383405158326,0.0030899939936110464,0.003639489400711449,-0.0034712263457632483,0.0005046193567768562,0.004809318137998378,0.00750319529892231,-0.009849030639627157,-0.0010630400237792174,-0.0005039129828936211,0.002628864176270774,-0.01627516884164325,-0.004153341326592121,0.004550651041840146,0.00965812884851217,0.0056609432999779495,-0.0005590140649358909,0.022723771699055755,0.0014203529597109255,-0.045280856143465276,0.0033073065556014952,-0.00433598220930235,0.006042387508780373,0.006796565090032186,-0.00005650286865533134,-0.0036759204841880807,-0.005738783845972931,-0.0018822296869570197,0.003021229432643738,-0.019890324232127853,-0.015447030279527764,-0.0004718480371509017,-0.010198732236165305,-0.006697358920117144,0.02084085881536413,0.007493385024315116,0.007842668530553789,-0.00283945502654119,0.014803945459514797,0.003481841534737405,-0.017241806434506103,-0.0019148863181888906,0.001856945469586849,-0.005522859199322822,0.013893989774039692,0.005503920929853093,0.01046541004295572,-0.0016988680965652808,-0.0031789169989821435,-0.007934507183398202,0.006625879072275585,0.003977347328631379,-0.003635744312567208,0.003635744312567162,0.007626026694655132,0.0037072651943418997,0.02201425891234798,0.0029572490918935946,-0.016374384156319522,-0.0023373497260989994,-0.03480879472366203,-0.001963368081678198,0.006453094143516468,-0.004316677807613859,-0.0005192346256867747,-0.012485246085867416,0.008437377567923208,0.016151154600027997,-0.0006273739671711188,-0.007904302060517928,0.0008622455288576803,-0.002473656951145883,-0.006355778295441206,0.000926931727635592,-0.0004054103376829626,0.00934152297824149,-0.012242430084677477,-0.0015117720158050482,-0.021765636924135134,0.009823748692690917,0.01001975221091292,0.0032595928083516256,0.003654430629279855,-0.008723013798522866,-0.003041852351548402,-0.014457496034195686,-0.011417786234196115,-0.000060090224343136566,0.004139970385631239,0.014858231751961605,-0.0023033964742125187,-0.0007097783269727351,-0.018995808065307287,-0.024480114534154506,-0.0017319159550744983,0.005433148366520264,-0.011082728374520621,-0.00988559566723337,0.0006286134207733884,-0.010422315048141234,0.02104806019448947,0.005085327698430273,-0.0008663865026826478,-0.00018574519969141986,0.004386867610048303,0.0009244132771239594,0.0071195808075622735,-0.0058269675795917875,0.004174394816826358,-0.0014713433816878438,-0.007327408483150656,0.003454859203276189,-0.0036402714825327686,0.002839374216722469,-0.011967328788777756,-0.01723957501602924,0.015053975494509144,0.012549018493591777,-0.00037046965366193687,0.007996616729269289,-0.0028223021365765604,0.010694635856861524,-0.007566026934120144,-0.006082067490100263,0.007061488473290135,-0.0043537794872208335,0.0160335365383925,0.0060295628147861114,-0.0027691247303623773,0.003550241996940974,0.009862362310853667,-0.00650425423162094,-0.0038387727937765547,0.002640755671589698,-0.0025205449092440876,0.002940064461277065,-0.004142547462168167,-0.003374702192485256,0.01289485518814097,-0.007356686965198023,0.00413361336698124,0.016542002735280385,0.00895658735382193,0.0030259218728549953,0.0001742848474817966,-0.009983483413452903,0.004098917859921596,0.009074563611959028,0.011572105937362132,0.0019442812059788442,0.0006853819629941132,0.004556871795741219,0.00045446916842239933,0.001759487487714246,0.009031903514378268,-0.0017435678186662285,0.0003940189892895408,0.0037630876338542248,-0.0026945732480542135,0.004878526963101577,-0.019772420864664846,0.010725633264657355,0.003999619209610979,-0.003096867753862795,-0.0019193434836643904,0.004285131517665339,-0.011316177890912231,-0.005878166410042197,-0.0037848631237422004,-0.01703600368035545,-0.03122282591641038,-0.005562705142465907,0.012173251058176099,-0.00420166857422807,-0.0006618767987564016,-0.0006021199876096117,0.003306999189259349,-0.00005999643961855651,-0.010561034647227364,0.004841763592293601,0.0034354496150826534,0.0065369291506959725,0.004949187883217545,0.0037995736126820853,-0.0006520293887520076,0.0033150614410246745,-0.0012418718351821449,0.0013009357869861221,0.010697757313475486,0.00017546425482688882,-0.009751038308664079,0.001179853512608669,-0.0012979424872485647,-0.003726190289074976,0.0019535411866020086,-0.003139340880551927,-0.0023758261058627853,0.0016636888817755746,0.0050335632022407,0.011044023020098688,-0.007918108309762988,-0.0012374082182159806,-0.0007077270423842932,0.00023593466942563418,-0.003959922253451811,-0.025308704477345147,-0.017894816057729707,0.00030914743149373187,0.01369082807188368,0.00024383177142714218,0.014224167163591615,0.004975891262677384,-0.001496155150116038,0.0007783092556947036,-0.0029367165231408677,0.0005400158455303154,0.012104007439095057,-0.0004742535717267673,-0.006961609676564189,0.001133835388463418,0.014917723322635659,-0.004947859047149437,0.00200564206756742,0.0000588968847449306,-0.002655242464544409,0.010637446088029513,-0.019778020504279115,-0.002507544166051433,0.004413734414974538,-0.005071495164425335,0.0033441618437189445,0.006417907636002404,-0.005881528710091136,-0.022902242747818987,-0.0015862999324902439,0.007118755657039398,0.00664689654260444,-0.0037409995549623856,-0.011613566243419594,-0.0012850982867509395,0.0020798706668898187,-0.009763940911599527,-0.0045149330127863515,0.01781698430701417,0.0022505110921036547,0.004667408258473528,-0.004667408258473519,0.002669757352534067,-0.005285683868044846,0.00042627404378714777,-0.0018893655741350408,0.004504271350483098,0.01763773443447277,0.0024434808580754102,-0.0160204917648545,-0.002482990902389477,0.003208519186409284,0.008725778175468667,-0.0008991093021597419,0.006098334452755203,0.006890365329616705,-0.007427027125168416,0.0026206236403640355,-0.00023791366260843256,-0.008544299301700552,0.005207004497418708,-0.0021513131388870075,-0.0083501482773226,0.011277125295739413,0.012978359326946427,0.003585184846901929,0.004916006634195484,0.010800248284572371,0.005586453042738802,0.0018934614978916627,-0.00154894492430588,-0.007260156004477963,0.009095692432078762,-0.0032143154449525086,-0.007675708262916443,-0.02267561664312034,-0.008690053468478977,-0.0009569597921073518,-0.0016168462526691021,-0.0013795005365548109,-0.006744546424564762,0.003980006790395922,-0.005552205835401061,0.008376819081740972,-0.0024635953850727986,0.0035432060613326127,0.0005393685677794685,-0.006130129283900702,0.004211020685246302,0.002518126917516811,-0.009385206339641532,0.004282351988516796,0.012024970840539904,-0.002143116686188639,-0.004240244730917084,-0.00041897618344674124,0.00935611880010715,0.002251481491211197,0.002364450476828884,-0.004319380340024978,-0.0002965516280151311,0.007151581744182501,0.006808358432551388,-0.015503300973700684,0.007339514803169255,-0.003012197052209778,-0.012319703780209438,0.004540812572282988,0.0030355936239956378,0.01199245713664559,0.0026391371424113854,-0.003402771341298051,-0.002883829150556528,-0.0016516182679313014,0.015755750605134237,-0.0025020112544038944,-0.003267771913809988,0.005479160681096094,0.003192034576976311,-0.01629856790431354,-0.01298211532059733,-0.002987752337666492,0.005907056331230696,0.0008325368758188378,0.00361943388995412,-0.0014224174555621005,0.0015408910869810946,0.007375317353577323,0.0030522079460774463,0.003393414275398407,-0.0038037857675304026,0.018875607865561438,0.005336451777182292,-0.009545260370239185,0.01023173130733765,0.013575508168976262,-0.000733724019731723,0.002086858856896338,0.004497100140272996,-0.006471023453826176,-0.0033362372759372606,0.010311993951243732,0.01800043176575384,-0.010460864384517259,0.005935763844875876,0.015803608419049087,0.014753495270293054,0.026991429368426304,-0.030161495266205762,0.003116366878477797,-0.007052696024243029,-0.01518847505814139,-0.018882610033681094,0.006241285995487705,0.004876733952655098,-0.008828710707897394,0.00761175501954624,-0.007277189924242526,0.013567209576051467,0.007234137513108609,-0.004103860537691329,-0.018371517706821095,0.00044668806848975184,0.008006283379257595,0.00038752078804877134,-0.00638621587890147,0.004835061682683925,-0.006284549046099261,0.0023404756196963713,0.0037777415804506904,0.006246419748615932,0.004947206140849894,0.007647435301758943,0.004777109287769396,-0.0033090194372706765,0.0030924062818564585,-0.015228268112133887,0.0048830061930919995,-0.003563943502360224,-0.009769661352400816,-0.018134432520229594,0.0015238553873300224,-0.007585723242633687,0.0053838047894630165,-0.00011298334784093811,-0.01871452290294498,0.0026457593569150124,0.009774616775434711,-0.0038184194446891804,0.0016545049194706565,-0.014585347642546313,-0.00848106565352078,0.008133958004822058,-0.015452706170676834,-0.008142627698810948,0.009493279652076629,-0.006299094085683991,0.000531343704844183,0.014590277160260899,0.000697767757192036,0.004639589893868967,0.007493711725538028,-0.006048248796558386,-0.001850609639927292,0.0005208853826908474,-0.009942270255165302,0.0063488366174163004,0.012234040087981134,-0.010203900438868029,-0.004413447852864014,0.006497267812168451,-0.0009256257836888652,-0.0031883338247287547,0.013323135228160962,-0.02676735882447253,-0.008035407203286724,0.012966509676610984,0.011180446816136464,-0.008256810144045654,-0.0037437854344901486,0.003977268335422712,-0.006148118298448717,-0.0009989609969459391,-0.0011176944418580068,-0.0016493806069405818,-0.0007666517068580592,-0.006095587698335223,-0.0008313996785857856,-0.021437799680384485,-0.01596901758740465,0.0005548992912700342,0.00043143823725389326,-0.0053749265251639535,-0.0037236489059839332,0.004776265963686179,-0.014146649261641277,-0.0020104758163567997,0.000942949789432323,0.002384623832616704,-0.009446509339211243,0.01401179660226555,0.0024926409954947677,-0.0027423043036363935,-0.001186514317386386,0.010133467249785824,0.01211168004371747,0.0028071459585694595,0.005651232868696488,-0.005955990148902209,0.002435276067987767,0.016404693683584038,-0.011309781450742627,0.008434348290836127,0.003054867797077557,-0.0025151110588634198,-0.002641706914863643,0.009155976822720392,-0.012950528089989187,-0.0017516299628300418,-0.006489345947105167,-0.0026198444873023344,-0.007347552958114958,-0.00665930336783302,0.006966551217581505,0.002944580504679446,0.0030581063588208724,-0.012227153201929956,0.0006180465249853886,-0.008375556136480044,-0.0077553096129762645,-0.00882902347465035,0.00876617372318804,-0.005856578259356107,0.010117286090114818,-0.006020378897494643,0.005269846503477033,0.005055386193321507,-0.013096728906648173,-0.003855034555311845,-0.018855801737618274,0.005533767627080334,0.0007697907679810017,-0.005722932055293624,0.004632228320962459,-0.0005778441890031698,-0.017427816406674814,-0.01170141432179742,0.0020477436877313054,0.020573557832177892,-0.0001939471718055397,0.00006462035224685361,0.024019005945363412,0.014226444596111972,-0.005553659432976476,-0.0011269264553861384,-0.011023386142689101,-0.015318203217156916,-0.002060212330939929,0.005335071671709423,-0.006947611087114204,-0.012537160793022467,0.0028720806307473926,0.002148660090392182,-0.013488925988338462,-0.0015834633753089122,0.01767059741452654,-0.0032488658845126403,0.002275353560635257,0.006343446354353355,-0.0015497241473593686,-0.01026317410117862,-0.008194886192774814,0.010151726172797497,-0.006996970202892216,-0.003813297433937162,0.0302345832528433,-0.003970260739379374,0.022836328940686813,-0.005029894759161607,0.029990153003992607,0.00658459794711783,0.0021852662272774694,0.0035106980811025834,-0.0022987420952167376,-0.007293959961673216,-0.006917507382313755,-0.0056056352070885974,0.0011730356909015207,0.006212503317279542,0.000858102340972588,-0.007934893665371402,0.004928261563008794,0.012700921015012894,0.01821784239630758,-0.0034616677176241193,-0.01730780530272015,0.0027336344458788004,0.008998493556537802,0.0008413425277820795,0.0035378943750204003,-0.008294841833501867,0.016936889733695327,-0.0024359858905979824,-0.016494600382901816,0.008671019495160068,-0.0028218082489996433,0.016458298941440037,-0.0016573862871153066,-0.012158980168932585,0.002993835039254722,0.008394677302769623,-0.004515989032750605,0.005582639597805041,0.004667758029330661,0.008335816871946341,0.009367889939565922,-0.01252963086748756,0.01853466381119925,0.0022426010679794787,0.003669304474491391,-0.0006870298860052756,0.011501603213231942,0.011930333702592914,-0.006566591290624395,-0.0028758838411488395,0.015743931377470842,-0.0033409804213138158,0.0018946378029897782,0.0036119840879409123,0.004593393795208086,-0.009096515003608066,-0.0013939615756237058,-0.002570014931290955,0.0036296165072691286,0.012518134528387544,-0.0209702840085377,-0.025274496401227434,0.002073259184240806,0.0009200023760844002,0.002468544755507998,-0.007943887464013586,0.0019053779351280687,-0.005089097798950408,0.000753454984742333,-0.010014646847400324,-0.0008195726363130796,0.002982339072148569,-0.0037440046605545256,-0.0056423768979153,-0.0005305918526508475,-0.0072206822499255125,0.003912670406128105,0.004545621851780495,0.005755555600934512,-0.000585735153896139,0.010666001055863707,-0.0050565936951402655,-0.017635068390636166,-0.0004745630282821619,0.00980112770009771,0.021333667247723984,0.022688861946558777,-0.005807897981361377,0.007773838437142398,0.0020180543660701534,0.028704276731304653,0.0003807952240648717,-0.01905552456933767,0.016877382247649345,0.012460224063675791,-0.011316136891165252,-0.009299831745516636,0.008155744573006158,-0.0049731154716589265,0.008998964139577773,-0.0052258772770236855,0.00717858251921089,0.018469345695108493,-0.0007982432900847153,-0.007159660374899705,-0.007427401530065852,0.00630066529229045,0.0048732452945133,0.013425150587981827,-0.017869017219899228,-0.00446370276447651,0.0038732698004284223,-0.004789973842758077,0.003930524556986942,-0.009936876904451757,0.0030347260178608367,0.005073426510561733,-0.005452222698837164,0.000054098929279836664,0.0002706158931134578,-0.004501468248394752,0.01911282169964576,0.00844333039400089,0.007008337579460111,-0.015771672012865213,0.0012261535425393925,0.007061173494320752,-0.0014294640409972018,-0.008619799546280105,-0.001711544099310757,0.0021389727993926496,-0.01257816833072297,-0.003467895133703326,-0.013057794413406836,0.009850156652287684,-0.002344243508491738,0.0012000108481294142,-0.008101176111367243,-0.00966457904681634,0.003987606250000357,0.006171471778321201,0.001537018842589403,0.007867103377943253,-0.014857275420164701,0.0060023657211361265,0.0010974372841257363,-0.012083252758880945,0.013124733073092816,-0.002688130119841765,-0.0008792504640156504,-0.00739483312084137,0.0005537743402144653,0.007005982383036308,-0.0015404017609150433,-0.010404681043488588,-0.0014474699268161662,-0.009966480697039254,0.0027534519339434175,0.0017380933759117798,-0.00460411859047838,-0.002310076023493695,-0.0010723394318449203,0.006641221688667137,0.001121247777740352,-0.003536277643963551,-0.002984649764026069,0.007473004815488796,0.0007833887164984092,0.003740607755698653,0.013450555215707776,0.0007144446386035077,-0.0031917364290746223,0.0007163001287566721,0.011391151915954547,0.00016334311378929522,-0.005076251540707524,-0.003069238517008006,-0.0042906650791519445,0.0055524167407640206,0.0048672507195615744,-0.015836715414990758,0.007949707574281263,0.002690787072192315,-0.010418766955581948,-0.004776993918500052,-0.00033420291832367705,0.003613876354074006,-0.002277988932518744,-0.006361270240024672,-0.00476956334967285,-0.0010691758408616784,0.0,-0.003045220530389694,-0.0026580037072091345,-0.005792775189194925,-0.0015390561619561794,0.0001711135895520659,0.00273392964256731,0.0016481975934526548,0.010113328144583607,-0.0002248455933195227,-0.0012941233726573686,0.002867238875764686,0.00972069237763269,0.002498750315822613,-0.001665111347163996,0.0004997991755412262,-0.008195174622491511,-0.004544556063018457,0.0010678794784509471,0.0003369702787594387,0.0018513951035425602,-0.005169992663578624,-0.002312682045193072,0.0005080950731221542,0.00658210689497754,0.00587038313631886,-0.0009480950413542692,0.0007251297423292754,-0.0072748111459232075,0.0031961900557462815,-0.005163898932470834,-0.008023084937964609,-0.012443751217319037,-0.005009715204337903,-0.010328505518099336,-0.0105542058560987,-0.002892421000056923,-0.00011826350756014561,-0.0018344684108627424,0.005139851922273756,0.018218478536943455,-0.0016795054754092334,0.007276507826110017,-0.0030543103873241243,0.03164231938177581,-0.004876800474351656,0.0018525567250013085,0.014367113783494704,0.012199301049654077,0.0027271753020748097,-0.0033827788768209456,-0.00010933686369138149,0.004199991317574014,0.00157720800379265,0.011562693424814757,-0.0056565149769635704,-0.005471503988171267,-0.0031556165767174377,0.0033185604405963163,0.0036323164276059108,-0.00782308105070571,-0.004153745714032089,-0.010017653470627112,0.003975057413790778,-0.010969699953245399,0.005555261386915847,0.008879636186604733,-0.0026390807860946154,0.011222864579353571,-0.00010890827769753537,-0.0016347162383040547,0.010740019593542038,-0.004271361889171939,0.005188115339681599,0.006715220224108336,0.013243765854618068,0.0014783465644929395,-0.004176660491012712,0.0171240372669512,-0.021850417580745678,-0.003786606077863042,0.003680115406357525,0.001648967455985853,-0.013430173514668298,-0.011104320560253362,-0.0005447904909059331,0.02231176448891427,0.005845435089187853,-0.009208782757507668,0.004535187656823467,0.006790830606181505,-0.005460866362358439,0.007045755720440373,0.004424614031362936,0.007591842151508473,0.0045275772625212145,-0.005832413160524644,-0.001568069797763166,-0.0023566846852945507,-0.008371755159892112,0.0010041086074332737,0.00015844285681933427,-0.00784697829301582,0.0003193058065587502,-0.0022906686849215973,0.001971362878362661,0.009746417465784744,-0.009533481464917172,-0.011077075533253638,0.0081991767942437,0.0029842685447011067,-0.003785111631635069,0.0038915513093621982,-0.008281084265806402,0.003962127078988696,-0.0006949345993064864,0.007033690942252051,0.0013795741766668092,-0.0007426235867567754,0.010346957700093572,-0.009498266920115546,-0.005529246178959096,0.0052110917695982265,-0.0002652330017039186,-0.0009022539588233346,-0.003883683822386861,-0.0026153866387210066,-0.01388463719494907,-0.0005962900909107332,0.00670130851432818,0.0036558786728406838,0.006045896751115412,0.00005331114505738622,0.0004266309391015458,0.005635602023986148,-0.002229172292928307,-0.0010632481058260926,0.001806857807827473,0.0051370494877010335,0.018734204946424127,0.016045575240364,0.006002093012312608,0.008181839163568716,0.005667751261581818,0.008417025116951235,0.0018333385345244608,-0.011000916093968595,0.006982966028737541,-0.004183879789555109,-0.003199519647615261,0.0016010012977577042,-0.0011504677080451668,0.011841472011166752,-0.0010391759354036452,-0.008053310017860683,0.0031893153617754324,0.0032287432792988957,0.007214572450621008,0.01281752820240996,0.01015632882706488,0.014664311961913869,0.008734121015036823,-0.005751211782367559,0.01696939930469014,0.006209168519561672,0.005482001328254476,-0.009508923035404604,0.01924683287449554,-0.013327746093360097,0.01854610800435578,0.0012212692273934644,-0.007395532411290297,0.0034096367107846366,0.0031266420969041134,-0.025012716627157542,-0.0024616906480957905,-0.0018618228395408355,0.005945756955740473,0.0032366836371748075,-0.002033283758808563,-0.02013850411793736,0.009021337418355644,-0.003091862325121168,-0.0007979449099420573,0.010463427933373832,-0.00461094049941965,-0.0029453952906236033,0.01565541986116323,0.008079783894319735,-0.011265319955387511,0.008426442720749588,0.012757032448187955,-0.003900942141432421,0.016363162829441925,0.004015863208074463,-0.0014706294501547247,-0.018544867564565665,-0.02014614803918644,0.0009266841017383871,0.01045829379441463,-0.009347362870368763,0.0018949634848045166,-0.005881436093592545,0.008878251926791354,-0.00901759641821021,0.011775993219294973,0.0073641743967564136,-0.036335512840658196,0.009126408480625946,0.0028525382508942246,0.002658183908153708,-0.008183543017197694,0.012876289526632455,-0.005205175700450875,0.0039992641040523845,0.012407060942233438,-0.015614512577113812,0.0039497558204108826,-0.004974590412272679,-0.009271011435783051,0.011273144249924162,0.00009297215668029186,0.0026012036358740546,-0.00004643502198142268,0.01120993363706169,0.013396660734694752,-0.012479622087256387,0.00169431118809057,0.003653653384415314,0.017578001160184497,-0.0006272936376368344,0.0032219172131206842,0.01972987782004887,-0.0046540195707980275,-0.006401633154546632,-0.018100662230646155,0.0003156824791686295,0.003510507096461622,-0.0035105070964615765,-0.015768400613655725,0.010479424389843233,-0.0014060442276131696,0.009935936183544776,0.017948680176279857,-0.003448883709883457,-0.0019064443892985788,-0.01277316576262444,-0.008032891286850252,-0.0006798590470787476,0.01556622880577821,0.002452251987911254,0.01699935451192235,-0.0015335341694870399,-0.008189191333501105,0.0031339290416113642,0.0221408117352879,-0.0016393656726291592,0.003663270802502215,-0.0013345079227065216,-0.012047289256477975,0.011487194343258993,0.0031842629268953445,0.00270301522962425,-0.007051666972008083,0.005164620716356872,-0.0071515197828322195,-0.00433295027353233,0.0006077417877377091,0.008297784905920138,-0.007430165851405754,0.004197056104325384,0.004394427867847918,-0.0015918222264343484,0.01741476344611925,0.009894570827460453,-0.00008375168155570817,-0.005546263478781612,-0.007740344731775493,0.015421236419487627,0.012630557682531525,0.00193852671610104,0.013872405171650835,-0.0013827232563758825,0.005073989582052931,-0.00796748708764577,-0.008031540905021974,0.01043659814331518,0.000203566476664949,-0.0006922454344502302,-0.00199802503899798,-0.0033935140367649104,-0.007399232494344503,-0.0054610705017173605,0.007316064767089658,0.01085428686886074,-0.0016308312397319176,0.0034623584364339233,0.0049891427128232555,0.005970452161761758,0.010562207979593495,-0.0001990210805239133,0.010729555523637746,-0.012123752431615111,0.007663817134299539,0.0020548662166116312,0.00003945329776617785,0.010835937036952448,0.005490789207931537,-0.01561647178727062,-0.004110813705942248,0.0014248987496042703,0.0022519104403696992,-0.030857976694085517,0.01594864539186116,-0.006792442588197375,-0.02375140115119195,-0.008668821068980244,-0.010132384997697268,-0.002612551531378293,-0.0017736414154014318,0.01884162282592499,0.00891942849470824,0.005616245032295766,0.008304918886222272,0.012809813332372074,-0.029901483187305778,0.001936433160954421,0.0022202481870022992,0.008587567442534243,-0.008792948302693988,0.0020107532444556663,0.00302908748607766,-0.0074252082091734815,0.0003705001517975754,0.009870874002918592,0.013078415980993926,0.009488652360594872,-0.014772297747821581,-0.01216527622337442,0.00241229791280552,-0.003846011153453628,-0.01937149963953244,0.0014200879312812307,0.01037999743966833,-0.004719916680210798,0.001990032656870636,0.0067284927019149185,-0.006894214453703814,-0.0031947790408758405,0.006214287831739849,0.013496228917030742,-0.007895124609843816,-0.0012328556129918074,0.0056176267350635505,0.005301603121984425,0.009512918374949771,-0.01000110030367562,0.005235693007988435,0.007461090407550896,0.0068871946090514665,-0.005321403332684962,0.015366546556984287,0.005122510213068569,-0.0014158718257654048,0.006199449222329872,-0.010459313683880304,0.008619165823801737,-0.0038478030414185464,0.015031970539815968,0.0019744486005825435,0.005323078655223283,0.00980023748604468,0.00619034264242983,-0.0026537744373774834,0.001782570144409176,0.01679638680250656,-0.003658285589870855,0.001046607072714827,0.009814510830150894,-0.014983466926549421,0.01642526914447792,0.0005539429240083393,0.000516699154436362,-0.0009229691054979344,0.0054148811569904014,-0.013276072540975698,0.0015251697060953886,-0.015357280506670757,-0.006285532695668532,0.01309428477593445,0.008660029400338953,0.0020791481693780457,-0.005094160642131142,0.0005218196474086795,-0.008794495623060066,0.01165930639065754,0.004337373317600702,0.01760034574283983,0.0003996778676249641,0.005398932434643415,0.011604364010877142,0.00409929439969153,-0.0012814060805390753,-0.008082476604942154,-0.004462490783133984,0.004390711790074645,-0.0008263225124260293,0.013316671121389569,0.007384788228782128,0.014261049112946074,-0.0019801896396476866,0.0020495598046479263,-0.0060565822044141146,-0.02367020473214484,-0.021719986685703737,0.0054290299021522185,0.036323492196158734,0.02413009288681445,0.01890679950058093,-0.005722318290653523,0.005218738019025799,0.032022570753676,-0.004400359490663115,0.030466725196562627,-0.014297390879940051,-0.024270798064606143,0.014451351409752674,-0.010900878955956528,0.014141637459613693,-0.009786658970495412,-0.007510353244041899,-0.02099106650379782,0.0017466735903771576,0.029430400577679455,0.027638515747736927,-0.015106592963135799,-0.019890788928179075,0.007228485693538802,-0.028595551740996136,0.004249948759953267,-0.02126227662564288,0.015837869719407486,-0.012160689602209927,0.012798420816745652,0.018450974483986242,0.007351594562024017,-0.008900989925318167,0.021669792905121613,-0.017094433359300068,-0.002268589173612519,0.0059072333619440654,-0.006598665713002106,0.026233913208447007,-0.008894994642019345,0.0064213132412345815,-0.005062672644074125,-0.01350688232494814,0.004707437493749117,0.00029346792267399537,0.005397696978330561,0.01234370232269246,0.01301549409169947,-0.014361734303802328,0.0005130624809404316,-0.00540018233840262,-0.0004191069541604869,0.003058490504208936,-0.015844238391270016,0.0030327025232496515,-0.0011076604529502278,-0.018289975504647085,0.011913301279755133,0.008883435847179964,0.00551237530942954,-0.006846293882020621,0.0007485003525817282,-0.010498326962963742,0.004461316177625558,0.002223316131965108,0.00955577301886398,-0.0036620144241214002,-0.004164364075514542,0.004975696789391886,-0.0021758989541098375,0.0025975477973482998,0.015253192127432761,0.0094401831613078,-0.012478717461642091,-0.006137070328856787,-0.009293039490678532,-0.006494663067578282,0.002746613677307996,-0.017424424698434752,0.006623418228251275,0.020096397826572604,0.005806339793967675,0.0008037680984962059,-0.0021233597342562006,0.008402586680171171,-0.00022360485625666846,-0.014479017992943764,-0.0009078785028290671,0.003044643380447489,-0.006358881635978504],\"type\":\"scatter\",\"xaxis\":\"x2\",\"yaxis\":\"y2\"}],                        {\"template\":{\"data\":{\"histogram2dcontour\":[{\"type\":\"histogram2dcontour\",\"colorbar\":{\"outlinewidth\":0,\"ticks\":\"\"},\"colorscale\":[[0.0,\"#0d0887\"],[0.1111111111111111,\"#46039f\"],[0.2222222222222222,\"#7201a8\"],[0.3333333333333333,\"#9c179e\"],[0.4444444444444444,\"#bd3786\"],[0.5555555555555556,\"#d8576b\"],[0.6666666666666666,\"#ed7953\"],[0.7777777777777778,\"#fb9f3a\"],[0.8888888888888888,\"#fdca26\"],[1.0,\"#f0f921\"]]}],\"choropleth\":[{\"type\":\"choropleth\",\"colorbar\":{\"outlinewidth\":0,\"ticks\":\"\"}}],\"histogram2d\":[{\"type\":\"histogram2d\",\"colorbar\":{\"outlinewidth\":0,\"ticks\":\"\"},\"colorscale\":[[0.0,\"#0d0887\"],[0.1111111111111111,\"#46039f\"],[0.2222222222222222,\"#7201a8\"],[0.3333333333333333,\"#9c179e\"],[0.4444444444444444,\"#bd3786\"],[0.5555555555555556,\"#d8576b\"],[0.6666666666666666,\"#ed7953\"],[0.7777777777777778,\"#fb9f3a\"],[0.8888888888888888,\"#fdca26\"],[1.0,\"#f0f921\"]]}],\"heatmap\":[{\"type\":\"heatmap\",\"colorbar\":{\"outlinewidth\":0,\"ticks\":\"\"},\"colorscale\":[[0.0,\"#0d0887\"],[0.1111111111111111,\"#46039f\"],[0.2222222222222222,\"#7201a8\"],[0.3333333333333333,\"#9c179e\"],[0.4444444444444444,\"#bd3786\"],[0.5555555555555556,\"#d8576b\"],[0.6666666666666666,\"#ed7953\"],[0.7777777777777778,\"#fb9f3a\"],[0.8888888888888888,\"#fdca26\"],[1.0,\"#f0f921\"]]}],\"heatmapgl\":[{\"type\":\"heatmapgl\",\"colorbar\":{\"outlinewidth\":0,\"ticks\":\"\"},\"colorscale\":[[0.0,\"#0d0887\"],[0.1111111111111111,\"#46039f\"],[0.2222222222222222,\"#7201a8\"],[0.3333333333333333,\"#9c179e\"],[0.4444444444444444,\"#bd3786\"],[0.5555555555555556,\"#d8576b\"],[0.6666666666666666,\"#ed7953\"],[0.7777777777777778,\"#fb9f3a\"],[0.8888888888888888,\"#fdca26\"],[1.0,\"#f0f921\"]]}],\"contourcarpet\":[{\"type\":\"contourcarpet\",\"colorbar\":{\"outlinewidth\":0,\"ticks\":\"\"}}],\"contour\":[{\"type\":\"contour\",\"colorbar\":{\"outlinewidth\":0,\"ticks\":\"\"},\"colorscale\":[[0.0,\"#0d0887\"],[0.1111111111111111,\"#46039f\"],[0.2222222222222222,\"#7201a8\"],[0.3333333333333333,\"#9c179e\"],[0.4444444444444444,\"#bd3786\"],[0.5555555555555556,\"#d8576b\"],[0.6666666666666666,\"#ed7953\"],[0.7777777777777778,\"#fb9f3a\"],[0.8888888888888888,\"#fdca26\"],[1.0,\"#f0f921\"]]}],\"surface\":[{\"type\":\"surface\",\"colorbar\":{\"outlinewidth\":0,\"ticks\":\"\"},\"colorscale\":[[0.0,\"#0d0887\"],[0.1111111111111111,\"#46039f\"],[0.2222222222222222,\"#7201a8\"],[0.3333333333333333,\"#9c179e\"],[0.4444444444444444,\"#bd3786\"],[0.5555555555555556,\"#d8576b\"],[0.6666666666666666,\"#ed7953\"],[0.7777777777777778,\"#fb9f3a\"],[0.8888888888888888,\"#fdca26\"],[1.0,\"#f0f921\"]]}],\"mesh3d\":[{\"type\":\"mesh3d\",\"colorbar\":{\"outlinewidth\":0,\"ticks\":\"\"}}],\"scatter\":[{\"fillpattern\":{\"fillmode\":\"overlay\",\"size\":10,\"solidity\":0.2},\"type\":\"scatter\"}],\"parcoords\":[{\"type\":\"parcoords\",\"line\":{\"colorbar\":{\"outlinewidth\":0,\"ticks\":\"\"}}}],\"scatterpolargl\":[{\"type\":\"scatterpolargl\",\"marker\":{\"colorbar\":{\"outlinewidth\":0,\"ticks\":\"\"}}}],\"bar\":[{\"error_x\":{\"color\":\"#2a3f5f\"},\"error_y\":{\"color\":\"#2a3f5f\"},\"marker\":{\"line\":{\"color\":\"#E5ECF6\",\"width\":0.5},\"pattern\":{\"fillmode\":\"overlay\",\"size\":10,\"solidity\":0.2}},\"type\":\"bar\"}],\"scattergeo\":[{\"type\":\"scattergeo\",\"marker\":{\"colorbar\":{\"outlinewidth\":0,\"ticks\":\"\"}}}],\"scatterpolar\":[{\"type\":\"scatterpolar\",\"marker\":{\"colorbar\":{\"outlinewidth\":0,\"ticks\":\"\"}}}],\"histogram\":[{\"marker\":{\"pattern\":{\"fillmode\":\"overlay\",\"size\":10,\"solidity\":0.2}},\"type\":\"histogram\"}],\"scattergl\":[{\"type\":\"scattergl\",\"marker\":{\"colorbar\":{\"outlinewidth\":0,\"ticks\":\"\"}}}],\"scatter3d\":[{\"type\":\"scatter3d\",\"line\":{\"colorbar\":{\"outlinewidth\":0,\"ticks\":\"\"}},\"marker\":{\"colorbar\":{\"outlinewidth\":0,\"ticks\":\"\"}}}],\"scattermapbox\":[{\"type\":\"scattermapbox\",\"marker\":{\"colorbar\":{\"outlinewidth\":0,\"ticks\":\"\"}}}],\"scatterternary\":[{\"type\":\"scatterternary\",\"marker\":{\"colorbar\":{\"outlinewidth\":0,\"ticks\":\"\"}}}],\"scattercarpet\":[{\"type\":\"scattercarpet\",\"marker\":{\"colorbar\":{\"outlinewidth\":0,\"ticks\":\"\"}}}],\"carpet\":[{\"aaxis\":{\"endlinecolor\":\"#2a3f5f\",\"gridcolor\":\"white\",\"linecolor\":\"white\",\"minorgridcolor\":\"white\",\"startlinecolor\":\"#2a3f5f\"},\"baxis\":{\"endlinecolor\":\"#2a3f5f\",\"gridcolor\":\"white\",\"linecolor\":\"white\",\"minorgridcolor\":\"white\",\"startlinecolor\":\"#2a3f5f\"},\"type\":\"carpet\"}],\"table\":[{\"cells\":{\"fill\":{\"color\":\"#EBF0F8\"},\"line\":{\"color\":\"white\"}},\"header\":{\"fill\":{\"color\":\"#C8D4E3\"},\"line\":{\"color\":\"white\"}},\"type\":\"table\"}],\"barpolar\":[{\"marker\":{\"line\":{\"color\":\"#E5ECF6\",\"width\":0.5},\"pattern\":{\"fillmode\":\"overlay\",\"size\":10,\"solidity\":0.2}},\"type\":\"barpolar\"}],\"pie\":[{\"automargin\":true,\"type\":\"pie\"}]},\"layout\":{\"autotypenumbers\":\"strict\",\"colorway\":[\"#636efa\",\"#EF553B\",\"#00cc96\",\"#ab63fa\",\"#FFA15A\",\"#19d3f3\",\"#FF6692\",\"#B6E880\",\"#FF97FF\",\"#FECB52\"],\"font\":{\"color\":\"#2a3f5f\"},\"hovermode\":\"closest\",\"hoverlabel\":{\"align\":\"left\"},\"paper_bgcolor\":\"white\",\"plot_bgcolor\":\"#E5ECF6\",\"polar\":{\"bgcolor\":\"#E5ECF6\",\"angularaxis\":{\"gridcolor\":\"white\",\"linecolor\":\"white\",\"ticks\":\"\"},\"radialaxis\":{\"gridcolor\":\"white\",\"linecolor\":\"white\",\"ticks\":\"\"}},\"ternary\":{\"bgcolor\":\"#E5ECF6\",\"aaxis\":{\"gridcolor\":\"white\",\"linecolor\":\"white\",\"ticks\":\"\"},\"baxis\":{\"gridcolor\":\"white\",\"linecolor\":\"white\",\"ticks\":\"\"},\"caxis\":{\"gridcolor\":\"white\",\"linecolor\":\"white\",\"ticks\":\"\"}},\"coloraxis\":{\"colorbar\":{\"outlinewidth\":0,\"ticks\":\"\"}},\"colorscale\":{\"sequential\":[[0.0,\"#0d0887\"],[0.1111111111111111,\"#46039f\"],[0.2222222222222222,\"#7201a8\"],[0.3333333333333333,\"#9c179e\"],[0.4444444444444444,\"#bd3786\"],[0.5555555555555556,\"#d8576b\"],[0.6666666666666666,\"#ed7953\"],[0.7777777777777778,\"#fb9f3a\"],[0.8888888888888888,\"#fdca26\"],[1.0,\"#f0f921\"]],\"sequentialminus\":[[0.0,\"#0d0887\"],[0.1111111111111111,\"#46039f\"],[0.2222222222222222,\"#7201a8\"],[0.3333333333333333,\"#9c179e\"],[0.4444444444444444,\"#bd3786\"],[0.5555555555555556,\"#d8576b\"],[0.6666666666666666,\"#ed7953\"],[0.7777777777777778,\"#fb9f3a\"],[0.8888888888888888,\"#fdca26\"],[1.0,\"#f0f921\"]],\"diverging\":[[0,\"#8e0152\"],[0.1,\"#c51b7d\"],[0.2,\"#de77ae\"],[0.3,\"#f1b6da\"],[0.4,\"#fde0ef\"],[0.5,\"#f7f7f7\"],[0.6,\"#e6f5d0\"],[0.7,\"#b8e186\"],[0.8,\"#7fbc41\"],[0.9,\"#4d9221\"],[1,\"#276419\"]]},\"xaxis\":{\"gridcolor\":\"white\",\"linecolor\":\"white\",\"ticks\":\"\",\"title\":{\"standoff\":15},\"zerolinecolor\":\"white\",\"automargin\":true,\"zerolinewidth\":2},\"yaxis\":{\"gridcolor\":\"white\",\"linecolor\":\"white\",\"ticks\":\"\",\"title\":{\"standoff\":15},\"zerolinecolor\":\"white\",\"automargin\":true,\"zerolinewidth\":2},\"scene\":{\"xaxis\":{\"backgroundcolor\":\"#E5ECF6\",\"gridcolor\":\"white\",\"linecolor\":\"white\",\"showbackground\":true,\"ticks\":\"\",\"zerolinecolor\":\"white\",\"gridwidth\":2},\"yaxis\":{\"backgroundcolor\":\"#E5ECF6\",\"gridcolor\":\"white\",\"linecolor\":\"white\",\"showbackground\":true,\"ticks\":\"\",\"zerolinecolor\":\"white\",\"gridwidth\":2},\"zaxis\":{\"backgroundcolor\":\"#E5ECF6\",\"gridcolor\":\"white\",\"linecolor\":\"white\",\"showbackground\":true,\"ticks\":\"\",\"zerolinecolor\":\"white\",\"gridwidth\":2}},\"shapedefaults\":{\"line\":{\"color\":\"#2a3f5f\"}},\"annotationdefaults\":{\"arrowcolor\":\"#2a3f5f\",\"arrowhead\":0,\"arrowwidth\":1},\"geo\":{\"bgcolor\":\"white\",\"landcolor\":\"#E5ECF6\",\"subunitcolor\":\"white\",\"showland\":true,\"showlakes\":true,\"lakecolor\":\"white\"},\"title\":{\"x\":0.05},\"mapbox\":{\"style\":\"light\"}}},\"xaxis\":{\"anchor\":\"y\",\"domain\":[0.0,1.0]},\"yaxis\":{\"anchor\":\"x\",\"domain\":[0.625,1.0]},\"xaxis2\":{\"anchor\":\"y2\",\"domain\":[0.0,1.0]},\"yaxis2\":{\"anchor\":\"x2\",\"domain\":[0.0,0.375]},\"annotations\":[{\"font\":{\"size\":16},\"showarrow\":false,\"text\":\"Gold Close Price vs Date\",\"x\":0.5,\"xanchor\":\"center\",\"xref\":\"paper\",\"y\":1.0,\"yanchor\":\"bottom\",\"yref\":\"paper\"},{\"font\":{\"size\":16},\"showarrow\":false,\"text\":\"Gold Log Returns vs Date\",\"x\":0.5,\"xanchor\":\"center\",\"xref\":\"paper\",\"y\":0.375,\"yanchor\":\"bottom\",\"yref\":\"paper\"}],\"height\":800,\"showlegend\":false},                        {\"responsive\": true}                    ).then(function(){\n",
              "                            \n",
              "var gd = document.getElementById('603f6901-aba8-4e66-881c-8a51a8beb30f');\n",
              "var x = new MutationObserver(function (mutations, observer) {{\n",
              "        var display = window.getComputedStyle(gd).display;\n",
              "        if (!display || display === 'none') {{\n",
              "            console.log([gd, 'removed!']);\n",
              "            Plotly.purge(gd);\n",
              "            observer.disconnect();\n",
              "        }}\n",
              "}});\n",
              "\n",
              "// Listen for the removal of the full notebook cells\n",
              "var notebookContainer = gd.closest('#notebook-container');\n",
              "if (notebookContainer) {{\n",
              "    x.observe(notebookContainer, {childList: true});\n",
              "}}\n",
              "\n",
              "// Listen for the clearing of the current output cell\n",
              "var outputEl = gd.closest('.output');\n",
              "if (outputEl) {{\n",
              "    x.observe(outputEl, {childList: true});\n",
              "}}\n",
              "\n",
              "                        })                };                            </script>        </div>\n",
              "</body>\n",
              "</html>"
            ]
          },
          "metadata": {}
        }
      ]
    },
    {
      "cell_type": "markdown",
      "source": [
        "Test Train Split Block"
      ],
      "metadata": {
        "id": "P7jTqarKWiwb"
      }
    },
    {
      "cell_type": "code",
      "source": [
        "from sklearn.metrics import mean_squared_error, mean_absolute_error, r2_score\n",
        "import numpy as np\n",
        "\n",
        "# Split: Train on 2015-2024 (9 years), Test on 2024-2025 (1 year)\n",
        "split_date = '2024-08-11'  # One year ago from your end date\n",
        "\n",
        "train_data = gold[gold.index < split_date].copy()\n",
        "test_data = gold[gold.index >= split_date].copy()\n",
        "\n",
        "print(f\"Training period: {train_data.index.min()} to {train_data.index.max()}\")\n",
        "print(f\"Testing period: {test_data.index.min()} to {test_data.index.max()}\")\n",
        "print(f\"Train samples: {len(train_data)}\")\n",
        "print(f\"Test samples: {len(test_data)}\")\n",
        "\n",
        "# Create features for both sets\n",
        "def create_features(data):\n",
        "    data = data.copy()\n",
        "    data['vol_lag1'] = data['realized_vol'].shift(1)\n",
        "    data['return_lag1'] = data['log_return'].shift(1)\n",
        "    data.dropna(inplace=True)\n",
        "    return data\n",
        "\n",
        "train_data = create_features(train_data)\n",
        "test_data = create_features(test_data)\n",
        "\n",
        "# Prepare X, y\n",
        "X_train = train_data[['vol_lag1', 'return_lag1']]\n",
        "y_train = train_data['realized_vol']\n",
        "X_test = test_data[['vol_lag1', 'return_lag1']]\n",
        "y_test = test_data['realized_vol']"
      ],
      "metadata": {
        "colab": {
          "base_uri": "https://localhost:8080/"
        },
        "id": "xcMhLSw8WGgW",
        "outputId": "a2e8c86a-2d96-4da5-e30a-3210f3e1d4d4"
      },
      "execution_count": 4,
      "outputs": [
        {
          "output_type": "stream",
          "name": "stdout",
          "text": [
            "Training period: 2015-02-02 00:00:00 to 2024-08-09 00:00:00\n",
            "Testing period: 2024-08-12 00:00:00 to 2025-08-14 00:00:00\n",
            "Train samples: 2397\n",
            "Test samples: 253\n"
          ]
        }
      ]
    },
    {
      "cell_type": "markdown",
      "source": [
        "Calculating Metrics"
      ],
      "metadata": {
        "id": "JhwPWcJWYfSs"
      }
    },
    {
      "cell_type": "code",
      "source": [
        "def calculate_metrics(y_true, y_pred, model_name):\n",
        "    \"\"\"Calculate all metrics\"\"\"\n",
        "    rmse = np.sqrt(mean_squared_error(y_true, y_pred))\n",
        "    mae = mean_absolute_error(y_true, y_pred)\n",
        "    r2 = r2_score(y_true, y_pred)\n",
        "\n",
        "    # MAPE calculation (handle division by zero)\n",
        "    mape = np.mean(np.abs((y_true - y_pred) / y_true)) * 100\n",
        "\n",
        "    print(f\"\\n{model_name} Results:\")\n",
        "    print(f\"RMSE: {rmse:.6f}\")\n",
        "    print(f\"MAE: {mae:.6f}\")\n",
        "    print(f\"MAPE: {mape:.2f}%\")\n",
        "    print(f\"R²: {r2:.4f}\")\n",
        "\n",
        "    return {'RMSE': rmse, 'MAE': mae, 'MAPE': mape, 'R2': r2}"
      ],
      "metadata": {
        "id": "etIBFlvvYdqk"
      },
      "execution_count": 5,
      "outputs": []
    },
    {
      "cell_type": "markdown",
      "source": [],
      "metadata": {
        "id": "uvdnGuWdYeBI"
      }
    },
    {
      "cell_type": "markdown",
      "source": [
        "Volatility Forecasting"
      ],
      "metadata": {
        "id": "1bZIBZ00nRMv"
      }
    },
    {
      "cell_type": "code",
      "source": [
        "##Volatility Forecasting:\n",
        "#Model 1: Implement Random Forests\n",
        "from sklearn.ensemble import RandomForestRegressor\n",
        "from sklearn.model_selection import RandomizedSearchCV,TimeSeriesSplit\n"
      ],
      "metadata": {
        "id": "V4yeoRFNmQQE"
      },
      "execution_count": 6,
      "outputs": []
    },
    {
      "cell_type": "code",
      "source": [
        "\n",
        "\n",
        "# Random Forest hyperparameters\n",
        "rf_params = {\n",
        "    'n_estimators': [100, 200, 300, 500],\n",
        "    'max_depth': [5, 10, 15, 20, None],\n",
        "    'min_samples_split': [2, 5, 10, 15],\n",
        "    'min_samples_leaf': [1, 2, 4, 8],\n",
        "    'max_features': ['sqrt', 'log2', None, 0.5],\n",
        "    'max_samples': [0.7, 0.8, 0.9, None]\n",
        "}\n",
        "\n",
        "# Time series CV\n",
        "tscv = TimeSeriesSplit(n_splits=5, gap=1)\n",
        "\n",
        "# Random Forest model\n",
        "rf = RandomForestRegressor(random_state=44, n_jobs=-1, oob_score=True)\n",
        "\n",
        "# Hyperparameter tuning\n",
        "rf_search = RandomizedSearchCV(\n",
        "    rf, rf_params, n_iter=50, cv=tscv,\n",
        "    scoring='neg_mean_squared_error',\n",
        "    random_state=44, n_jobs=-1, verbose=1\n",
        ")\n",
        "\n",
        "# Train\n",
        "print(\"Training Random Forest...\")\n",
        "rf_search.fit(X_train, y_train)\n",
        "\n",
        "print(f\"Best RF params: {rf_search.best_params_}\")\n",
        "\n",
        "# Predict and evaluate\n",
        "rf_pred = rf_search.predict(X_test)\n",
        "rf_metrics = calculate_metrics(y_test, rf_pred, \"Random Forest\")\n",
        "\n",
        "# Feature importance\n",
        "rf_importance = rf_search.best_estimator_.feature_importances_\n",
        "print(f\"Feature Importance - vol_lag1: {rf_importance[0]:.3f}, return_lag1: {rf_importance[1]:.3f}\")"
      ],
      "metadata": {
        "colab": {
          "base_uri": "https://localhost:8080/"
        },
        "id": "a3APmnpsnWKv",
        "outputId": "e2d9a1a7-1a3a-40d4-8e3d-b391221204b2"
      },
      "execution_count": 7,
      "outputs": [
        {
          "output_type": "stream",
          "name": "stdout",
          "text": [
            "Training Random Forest...\n",
            "Fitting 5 folds for each of 50 candidates, totalling 250 fits\n",
            "Best RF params: {'n_estimators': 100, 'min_samples_split': 5, 'min_samples_leaf': 4, 'max_samples': 0.8, 'max_features': None, 'max_depth': 15}\n",
            "\n",
            "Random Forest Results:\n",
            "RMSE: 0.009707\n",
            "MAE: 0.006589\n",
            "MAPE: 4.02%\n",
            "R²: 0.9693\n",
            "Feature Importance - vol_lag1: 0.993, return_lag1: 0.007\n"
          ]
        }
      ]
    },
    {
      "cell_type": "code",
      "source": [],
      "metadata": {
        "id": "JGHjNAv0O7QR"
      },
      "execution_count": null,
      "outputs": []
    },
    {
      "cell_type": "code",
      "source": [
        "#Model2:Naive Forecast\n",
        "\n",
        "\n",
        "# Naive Model: Tomorrow's volatility = Today's volatility\n",
        "\n",
        "\n",
        "# Create naive predictions for test set\n",
        "# Use the last available volatility from each point to predict next\n",
        "naive_predictions = []\n",
        "\n",
        "for i in range(len(test_data)):\n",
        "    if i == 0:\n",
        "        # For first test prediction, use last training volatility\n",
        "        naive_pred = train_data['realized_vol'].iloc[-1]\n",
        "    else:\n",
        "        # Use previous day's actual volatility\n",
        "        naive_pred = test_data['realized_vol'].iloc[i-1]\n",
        "\n",
        "    naive_predictions.append(naive_pred)\n",
        "\n",
        "naive_predictions = np.array(naive_predictions)\n",
        "\n",
        "# Calculate metrics\n",
        "naive_metrics = calculate_metrics(y_test, naive_predictions, \"Naive Model\")"
      ],
      "metadata": {
        "id": "iH8qGuuGYjA8",
        "colab": {
          "base_uri": "https://localhost:8080/"
        },
        "outputId": "9e2c63e4-0efc-41da-e373-edc6e6bfffd8"
      },
      "execution_count": 8,
      "outputs": [
        {
          "output_type": "stream",
          "name": "stdout",
          "text": [
            "\n",
            "Naive Model Results:\n",
            "RMSE: 0.009039\n",
            "MAE: 0.005705\n",
            "MAPE: 3.46%\n",
            "R²: 0.9733\n"
          ]
        }
      ]
    },
    {
      "cell_type": "code",
      "source": [
        "#Model3: Rolling Mean(-5 day,10 day, 20 day)\n",
        "# Test different window sizes\n",
        "window_sizes = [5, 10, 20, 30]\n",
        "rolling_results = {}\n",
        "\n",
        "for window in window_sizes:\n",
        "    print(f\"\\nTesting window size: {window} days\")\n",
        "\n",
        "    # Combine train and test for continuous rolling calculation\n",
        "    full_data = pd.concat([train_data, test_data])\n",
        "\n",
        "    # Calculate rolling average\n",
        "    full_data['vol_rolling'] = full_data['realized_vol'].rolling(window=window).mean()\n",
        "\n",
        "    # Get predictions for test period\n",
        "    test_start_idx = len(train_data)\n",
        "    rolling_predictions = full_data['vol_rolling'].iloc[test_start_idx:test_start_idx + len(test_data)].values\n",
        "\n",
        "    # Handle any NaN values\n",
        "    if np.any(np.isnan(rolling_predictions)):\n",
        "        print(f\"Warning: NaN values found for window {window}\")\n",
        "        continue\n",
        "\n",
        "    # Calculate metrics\n",
        "    metrics = calculate_metrics(y_test, rolling_predictions, f\"Rolling Average ({window} days)\")\n",
        "    rolling_results[window] = {\n",
        "        'metrics': metrics,\n",
        "        'predictions': rolling_predictions\n",
        "    }\n",
        "\n",
        "# Find best rolling average model\n",
        "best_window = min(rolling_results.keys(), key=lambda x: rolling_results[x]['metrics']['RMSE'])\n",
        "best_rolling_metrics = rolling_results[best_window]['metrics']\n",
        "best_rolling_predictions = rolling_results[best_window]['predictions']\n",
        "\n",
        "print(f\"\\nBest Rolling Average: {best_window} days window\")\n",
        "print(f\"Best Rolling RMSE: {best_rolling_metrics['RMSE']:.6f}\")"
      ],
      "metadata": {
        "id": "5x5QtfQ1YjFU",
        "colab": {
          "base_uri": "https://localhost:8080/"
        },
        "outputId": "076a8fea-18cf-454b-e13b-d6f4a346757d"
      },
      "execution_count": 9,
      "outputs": [
        {
          "output_type": "stream",
          "name": "stdout",
          "text": [
            "\n",
            "Testing window size: 5 days\n",
            "\n",
            "Rolling Average (5 days) Results:\n",
            "RMSE: 0.010591\n",
            "MAE: 0.007576\n",
            "MAPE: 4.55%\n",
            "R²: 0.9634\n",
            "\n",
            "Testing window size: 10 days\n",
            "\n",
            "Rolling Average (10 days) Results:\n",
            "RMSE: 0.018862\n",
            "MAE: 0.013567\n",
            "MAPE: 7.84%\n",
            "R²: 0.8839\n",
            "\n",
            "Testing window size: 20 days\n",
            "\n",
            "Rolling Average (20 days) Results:\n",
            "RMSE: 0.032680\n",
            "MAE: 0.024699\n",
            "MAPE: 13.95%\n",
            "R²: 0.6516\n",
            "\n",
            "Testing window size: 30 days\n",
            "\n",
            "Rolling Average (30 days) Results:\n",
            "RMSE: 0.042826\n",
            "MAE: 0.032396\n",
            "MAPE: 18.33%\n",
            "R²: 0.4017\n",
            "\n",
            "Best Rolling Average: 5 days window\n",
            "Best Rolling RMSE: 0.010591\n"
          ]
        }
      ]
    },
    {
      "cell_type": "markdown",
      "source": [
        "GARCH(1,1) Baby!"
      ],
      "metadata": {
        "id": "1Na-WHzOelgg"
      }
    },
    {
      "cell_type": "code",
      "source": [
        "pip install arch"
      ],
      "metadata": {
        "id": "WGQgqjULYjJf",
        "colab": {
          "base_uri": "https://localhost:8080/"
        },
        "outputId": "c7225d0e-af83-4a62-d04d-68c69ae8112b"
      },
      "execution_count": 11,
      "outputs": [
        {
          "output_type": "stream",
          "name": "stdout",
          "text": [
            "Collecting arch\n",
            "  Downloading arch-7.2.0-cp311-cp311-manylinux_2_17_x86_64.manylinux2014_x86_64.whl.metadata (13 kB)\n",
            "Requirement already satisfied: numpy>=1.22.3 in /usr/local/lib/python3.11/dist-packages (from arch) (2.0.2)\n",
            "Requirement already satisfied: scipy>=1.8 in /usr/local/lib/python3.11/dist-packages (from arch) (1.16.1)\n",
            "Requirement already satisfied: pandas>=1.4 in /usr/local/lib/python3.11/dist-packages (from arch) (2.2.2)\n",
            "Requirement already satisfied: statsmodels>=0.12 in /usr/local/lib/python3.11/dist-packages (from arch) (0.14.5)\n",
            "Requirement already satisfied: python-dateutil>=2.8.2 in /usr/local/lib/python3.11/dist-packages (from pandas>=1.4->arch) (2.9.0.post0)\n",
            "Requirement already satisfied: pytz>=2020.1 in /usr/local/lib/python3.11/dist-packages (from pandas>=1.4->arch) (2025.2)\n",
            "Requirement already satisfied: tzdata>=2022.7 in /usr/local/lib/python3.11/dist-packages (from pandas>=1.4->arch) (2025.2)\n",
            "Requirement already satisfied: patsy>=0.5.6 in /usr/local/lib/python3.11/dist-packages (from statsmodels>=0.12->arch) (1.0.1)\n",
            "Requirement already satisfied: packaging>=21.3 in /usr/local/lib/python3.11/dist-packages (from statsmodels>=0.12->arch) (25.0)\n",
            "Requirement already satisfied: six>=1.5 in /usr/local/lib/python3.11/dist-packages (from python-dateutil>=2.8.2->pandas>=1.4->arch) (1.17.0)\n",
            "Downloading arch-7.2.0-cp311-cp311-manylinux_2_17_x86_64.manylinux2014_x86_64.whl (985 kB)\n",
            "\u001b[2K   \u001b[90m━━━━━━━━━━━━━━━━━━━━━━━━━━━━━━━━━━━━━━━━\u001b[0m \u001b[32m985.3/985.3 kB\u001b[0m \u001b[31m12.5 MB/s\u001b[0m eta \u001b[36m0:00:00\u001b[0m\n",
            "\u001b[?25hInstalling collected packages: arch\n",
            "Successfully installed arch-7.2.0\n"
          ]
        }
      ]
    },
    {
      "cell_type": "code",
      "source": [
        "from arch import arch_model\n",
        "import matplotlib.pyplot as plt\n",
        "from scipy import stats"
      ],
      "metadata": {
        "id": "9ztxIGlTeui5"
      },
      "execution_count": 13,
      "outputs": []
    },
    {
      "cell_type": "code",
      "source": [
        "# Get returns\n",
        "train_returns = train_data['log_return'].dropna()\n",
        "test_returns = test_data['log_return'].dropna()\n",
        "\n",
        "print(f\"Training returns: {len(train_returns)} observations\")\n",
        "print(f\"Test returns: {len(test_returns)} observations\")\n",
        "print(f\"Training period: {train_returns.index[0]} to {train_returns.index[-1]}\")\n",
        "print(f\"Test period: {test_returns.index[0]} to {test_returns.index[-1]}\")\n",
        "\n",
        "# Convert to percentage returns for GARCH\n",
        "train_returns_pct = train_returns * 100\n",
        "test_returns_pct = test_returns * 100\n",
        "\n",
        "print(f\"\\nReturn statistics (%):\")\n",
        "print(f\"Mean: {train_returns_pct.mean():.4f}\")\n",
        "print(f\"Std: {train_returns_pct.std():.4f}\")\n",
        "print(f\"Skewness: {stats.skew(train_returns_pct):.4f}\")\n",
        "print(f\"Kurtosis: {stats.kurtosis(train_returns_pct):.4f}\")"
      ],
      "metadata": {
        "colab": {
          "base_uri": "https://localhost:8080/"
        },
        "id": "n8X9oCiJeupY",
        "outputId": "36d5b2b1-1379-4f32-eec2-c8e8a7fb27b9"
      },
      "execution_count": 14,
      "outputs": [
        {
          "output_type": "stream",
          "name": "stdout",
          "text": [
            "Training returns: 2396 observations\n",
            "Test returns: 252 observations\n",
            "Training period: 2015-02-03 00:00:00 to 2024-08-09 00:00:00\n",
            "Test period: 2024-08-13 00:00:00 to 2025-08-14 00:00:00\n",
            "\n",
            "Return statistics (%):\n",
            "Mean: 0.0253\n",
            "Std: 0.8831\n",
            "Skewness: -0.1535\n",
            "Kurtosis: 2.9463\n"
          ]
        }
      ]
    },
    {
      "cell_type": "markdown",
      "source": [
        "Retruns are changed to Percentages for biggerf numbers, else smaller numbers will result in tiny gradients and pose problems in numerical optimisation"
      ],
      "metadata": {
        "id": "vOzPR6TufhD8"
      }
    },
    {
      "cell_type": "code",
      "source": [
        "# Define the model\n",
        "garch_model = arch_model(\n",
        "    train_returns_pct,\n",
        "    vol='GARCH',\n",
        "    p=1,  # GARCH lag\n",
        "    q=1,  # ARCH lag\n",
        "    mean='constant',  # Constant mean model\n",
        "    dist='normal',    # Normal distribution assumption\n",
        "    rescale=False     # Don't rescale (we already converted to %)\n",
        ")\n",
        "\n",
        "# Fit the model\n",
        "garch_fitted = garch_model.fit(disp='off', show_warning=False)\n",
        "\n",
        "print(\"GARCH(1,1) Model fitted successfully!\")\n",
        "print(\"\\nModel Summary:\")\n",
        "print(garch_fitted.summary())"
      ],
      "metadata": {
        "colab": {
          "base_uri": "https://localhost:8080/"
        },
        "id": "DvH5sJ8Reurq",
        "outputId": "0f0e2299-6622-4628-f34e-da56764cb65a"
      },
      "execution_count": 15,
      "outputs": [
        {
          "output_type": "stream",
          "name": "stdout",
          "text": [
            "GARCH(1,1) Model fitted successfully!\n",
            "\n",
            "Model Summary:\n",
            "                     Constant Mean - GARCH Model Results                      \n",
            "==============================================================================\n",
            "Dep. Variable:             log_return   R-squared:                       0.000\n",
            "Mean Model:             Constant Mean   Adj. R-squared:                  0.000\n",
            "Vol Model:                      GARCH   Log-Likelihood:               -3007.59\n",
            "Distribution:                  Normal   AIC:                           6023.19\n",
            "Method:            Maximum Likelihood   BIC:                           6046.31\n",
            "                                        No. Observations:                 2396\n",
            "Date:                Sat, Aug 16 2025   Df Residuals:                     2395\n",
            "Time:                        07:32:58   Df Model:                            1\n",
            "                                  Mean Model                                 \n",
            "=============================================================================\n",
            "                 coef    std err          t      P>|t|       95.0% Conf. Int.\n",
            "-----------------------------------------------------------------------------\n",
            "mu             0.0114  1.712e-02      0.669      0.504 [-2.210e-02,4.499e-02]\n",
            "                               Volatility Model                              \n",
            "=============================================================================\n",
            "                 coef    std err          t      P>|t|       95.0% Conf. Int.\n",
            "-----------------------------------------------------------------------------\n",
            "omega          0.0128  1.070e-02      1.192      0.233 [-8.222e-03,3.373e-02]\n",
            "alpha[1]       0.0427  1.814e-02      2.353  1.861e-02  [7.137e-03,7.826e-02]\n",
            "beta[1]        0.9412  3.032e-02     31.045 1.314e-211      [  0.882,  1.001]\n",
            "=============================================================================\n",
            "\n",
            "Covariance estimator: robust\n"
          ]
        }
      ]
    },
    {
      "cell_type": "code",
      "source": [
        "# Extract parameters\n",
        "params = garch_fitted.params\n",
        "\n",
        "# Mean equation parameter\n",
        "mu = params['mu']\n",
        "\n",
        "# Volatility equation parameters\n",
        "omega = params['omega']\n",
        "alpha = params['alpha[1]']  # ARCH parameter\n",
        "beta = params['beta[1]']    # GARCH parameter\n",
        "\n",
        "print(\"=\"*40)\n",
        "print(\"GARCH PARAMETERS\")\n",
        "print(f\"Mean (μ): {mu:.6f}\")\n",
        "print(f\"Omega (ω): {omega:.8f}\")\n",
        "print(f\"Alpha (α): {alpha:.6f}\")\n",
        "print(f\"Beta (β): {beta:.6f}\")\n",
        "\n",
        "# Parameter significance\n",
        "print(\"\\nParameter Significance (t-stats):\")\n",
        "print(f\"Omega t-stat: {garch_fitted.tvalues['omega']:.3f}\")\n",
        "print(f\"Alpha t-stat: {garch_fitted.tvalues['alpha[1]']:.3f}\")\n",
        "print(f\"Beta t-stat: {garch_fitted.tvalues['beta[1]']:.3f}\")"
      ],
      "metadata": {
        "colab": {
          "base_uri": "https://localhost:8080/"
        },
        "id": "V04B7N4eeuuA",
        "outputId": "fdcdf39d-3dc0-425a-e13f-e5d4964f6ec6"
      },
      "execution_count": 16,
      "outputs": [
        {
          "output_type": "stream",
          "name": "stdout",
          "text": [
            "========================================\n",
            "GARCH PARAMETERS\n",
            "Mean (μ): 0.011448\n",
            "Omega (ω): 0.01275382\n",
            "Alpha (α): 0.042699\n",
            "Beta (β): 0.941177\n",
            "\n",
            "Parameter Significance (t-stats):\n",
            "Omega t-stat: 1.192\n",
            "Alpha t-stat: 2.353\n",
            "Beta t-stat: 31.045\n"
          ]
        }
      ]
    },
    {
      "cell_type": "code",
      "source": [
        "def assess_garch_properties(omega, alpha, beta):\n",
        "    \"\"\"Comprehensive GARCH diagnostics\"\"\"\n",
        "    print(\"=\"*40)\n",
        "    print(\"GARCH MODEL DIAGNOSTICS\")\n",
        "    print(\"=\"*40)\n",
        "\n",
        "    # 1. Parameter constraints\n",
        "    print(\"1. Parameter Constraints:\")\n",
        "    print(f\"   ω > 0: {omega > 0} (ω = {omega:.8f})\")\n",
        "    print(f\"   α ≥ 0: {alpha >= 0} (α = {alpha:.6f})\")\n",
        "    print(f\"   β ≥ 0: {beta >= 0} (β = {beta:.6f})\")\n",
        "\n",
        "    # 2. Mean reversion test\n",
        "    persistence = alpha + beta\n",
        "    mean_reverting = persistence < 1\n",
        "\n",
        "    print(f\"\\n2. Mean Reversion Analysis:\")\n",
        "    print(f\"   Persistence (α + β): {persistence:.6f}\")\n",
        "    print(f\"   Mean reverting: {mean_reverting}\")\n",
        "    print(f\"   Distance from unit root: {1 - persistence:.6f}\")\n",
        "\n",
        "    if mean_reverting:\n",
        "        # 3. Long-term volatility\n",
        "        long_term_vol_pct = np.sqrt(omega / (1 - persistence))\n",
        "        long_term_vol_decimal = long_term_vol_pct / 100  # Convert back to decimal\n",
        "\n",
        "        print(f\"\\n3. Long-term Volatility:\")\n",
        "        print(f\"   VL = √(ω/(1-α-β)) = {long_term_vol_pct:.4f}% daily\")\n",
        "        print(f\"   VL (decimal): {long_term_vol_decimal:.6f}\")\n",
        "        print(f\"   VL (annualized): {long_term_vol_decimal * np.sqrt(252):.4f}\")\n",
        "\n",
        "        # 4. Half-life of shocks\n",
        "        half_life = np.log(0.5) / np.log(persistence)\n",
        "        print(f\"\\n4. Shock Persistence:\")\n",
        "        print(f\"   Half-life: {half_life:.1f} days\")\n",
        "        print(f\"   95% decay time: {np.log(0.05) / np.log(persistence):.1f} days\")\n",
        "\n",
        "        # 5. Persistence classification\n",
        "        print(f\"\\n5. Persistence Classification:\")\n",
        "        if persistence > 0.99:\n",
        "            classification = \"Very high persistence (near I-GARCH)\"\n",
        "        elif persistence > 0.95:\n",
        "            classification = \"High persistence\"\n",
        "        elif persistence > 0.90:\n",
        "            classification = \"Moderate-high persistence\"\n",
        "        elif persistence > 0.80:\n",
        "            classification = \"Moderate persistence\"\n",
        "        else:\n",
        "            classification = \"Low persistence (fast mean reversion)\"\n",
        "        print(f\"   {classification}\")\n",
        "\n",
        "        # 6. Unconditional moments\n",
        "        print(f\"\\n6. Unconditional Moments:\")\n",
        "        print(f\"   E[r²] = VL² = {long_term_vol_decimal**2:.8f}\")\n",
        "        if persistence < 0.5:  # Fourth moment exists\n",
        "            print(f\"   Unconditional kurtosis exists\")\n",
        "        else:\n",
        "            print(f\"   Unconditional kurtosis may be infinite (high persistence)\")\n",
        "\n",
        "    else:\n",
        "        print(\"\\n   WARNING: Process is NOT mean-reverting!\")\n",
        "        print(\"   This violates stationarity assumptions!\")\n",
        "        long_term_vol_decimal = None\n",
        "        half_life = None\n",
        "\n",
        "    return {\n",
        "        'persistence': persistence,\n",
        "        'mean_reverting': mean_reverting,\n",
        "        'long_term_vol': long_term_vol_decimal,\n",
        "        'half_life': half_life,\n",
        "        'omega': omega,\n",
        "        'alpha': alpha,\n",
        "        'beta': beta\n",
        "    }\n",
        "\n",
        "# Analyze the fitted model\n",
        "garch_properties = assess_garch_properties(omega, alpha, beta)"
      ],
      "metadata": {
        "colab": {
          "base_uri": "https://localhost:8080/"
        },
        "id": "Xbb_6mUKeuwX",
        "outputId": "f99a05f4-4da8-4900-fc16-32462e51c809"
      },
      "execution_count": 17,
      "outputs": [
        {
          "output_type": "stream",
          "name": "stdout",
          "text": [
            "========================================\n",
            "GARCH MODEL DIAGNOSTICS\n",
            "========================================\n",
            "1. Parameter Constraints:\n",
            "   ω > 0: True (ω = 0.01275382)\n",
            "   α ≥ 0: True (α = 0.042699)\n",
            "   β ≥ 0: True (β = 0.941177)\n",
            "\n",
            "2. Mean Reversion Analysis:\n",
            "   Persistence (α + β): 0.983876\n",
            "   Mean reverting: True\n",
            "   Distance from unit root: 0.016124\n",
            "\n",
            "3. Long-term Volatility:\n",
            "   VL = √(ω/(1-α-β)) = 0.8894% daily\n",
            "   VL (decimal): 0.008894\n",
            "   VL (annualized): 0.1412\n",
            "\n",
            "4. Shock Persistence:\n",
            "   Half-life: 42.6 days\n",
            "   95% decay time: 184.3 days\n",
            "\n",
            "5. Persistence Classification:\n",
            "   High persistence\n",
            "\n",
            "6. Unconditional Moments:\n",
            "   E[r²] = VL² = 0.00007910\n",
            "   Unconditional kurtosis may be infinite (high persistence)\n"
          ]
        }
      ]
    },
    {
      "cell_type": "code",
      "source": [
        "print(\"=\"*40)\n",
        "print(\"MODEL FIT DIAGNOSTICS\")\n",
        "print(\"=\"*40)\n",
        "\n",
        "# Information criteria\n",
        "print(f\"Log-likelihood: {garch_fitted.loglikelihood:.2f}\")\n",
        "print(f\"AIC: {garch_fitted.aic:.2f}\")\n",
        "print(f\"BIC: {garch_fitted.bic:.2f}\")\n",
        "\n",
        "# Residual analysis\n",
        "standardized_residuals = garch_fitted.std_resid\n",
        "print(f\"\\nStandardized Residuals:\")\n",
        "print(f\"Mean: {standardized_residuals.mean():.4f}\")\n",
        "print(f\"Std: {standardized_residuals.std():.4f}\")\n",
        "print(f\"Skewness: {stats.skew(standardized_residuals):.4f}\")\n",
        "print(f\"Kurtosis: {stats.kurtosis(standardized_residuals):.4f}\")\n",
        "\n",
        "# Ljung-Box test on squared standardized residuals (test for remaining ARCH effects)\n",
        "from statsmodels.stats.diagnostic import acorr_ljungbox\n",
        "\n",
        "lb_test = acorr_ljungbox(standardized_residuals**2, lags=10, return_df=True)\n",
        "print(f\"\\nLjung-Box test (squared residuals):\")\n",
        "print(f\"P-value (lag 10): {lb_test['lb_pvalue'].iloc[-1]:.4f}\")\n",
        "if lb_test['lb_pvalue'].iloc[-1] > 0.05:\n",
        "    print(\"✓ No significant remaining ARCH effects\")\n",
        "else:\n",
        "    print(\"⚠ Significant remaining ARCH effects detected\")"
      ],
      "metadata": {
        "id": "_ZRTGt82YjMm",
        "colab": {
          "base_uri": "https://localhost:8080/"
        },
        "outputId": "5b3a9d53-5049-430b-83b4-fab25096b3c1"
      },
      "execution_count": 18,
      "outputs": [
        {
          "output_type": "stream",
          "name": "stdout",
          "text": [
            "========================================\n",
            "MODEL FIT DIAGNOSTICS\n",
            "========================================\n",
            "Log-likelihood: -3007.59\n",
            "AIC: 6023.19\n",
            "BIC: 6046.31\n",
            "\n",
            "Standardized Residuals:\n",
            "Mean: 0.0153\n",
            "Std: 1.0007\n",
            "Skewness: -0.1955\n",
            "Kurtosis: 2.0338\n",
            "\n",
            "Ljung-Box test (squared residuals):\n",
            "P-value (lag 10): 0.7356\n",
            "✓ No significant remaining ARCH effects\n"
          ]
        }
      ]
    },
    {
      "cell_type": "code",
      "source": [
        "print(\"=\"*40)\n",
        "print(\"GENERATING GARCH FORECASTS\")\n",
        "print(\"=\"*40)\n",
        "\n",
        "# Method 1: One-step ahead forecasts (rolling)\n",
        "garch_predictions_pct = []\n",
        "actual_vol_for_garch = []\n",
        "\n",
        "# We'll do rolling one-step forecasts\n",
        "print(\"Generating rolling one-step forecasts...\")\n",
        "\n",
        "for i in range(len(test_returns_pct)):\n",
        "    # Use all available training data + test data up to point i\n",
        "    if i == 0:\n",
        "        # First prediction uses only training data\n",
        "        current_returns = train_returns_pct\n",
        "    else:\n",
        "        # Add previous test observations\n",
        "        current_returns = pd.concat([\n",
        "            train_returns_pct,\n",
        "            test_returns_pct.iloc[:i]\n",
        "        ])\n",
        "\n",
        "    # Fit GARCH on current data\n",
        "    temp_model = arch_model(current_returns, vol='GARCH', p=1, q=1, mean='constant')\n",
        "    temp_fit = temp_model.fit(disp='off', show_warning=False, last_obs=len(current_returns))\n",
        "\n",
        "    # Forecast next period volatility\n",
        "    forecast = temp_fit.forecast(horizon=1, start=len(current_returns)-1)\n",
        "    vol_forecast_pct = np.sqrt(forecast.variance.iloc[-1, 0])\n",
        "\n",
        "    garch_predictions_pct.append(vol_forecast_pct)\n",
        "\n",
        "    # Get corresponding actual volatility (convert to match)\n",
        "    actual_vol_pct = test_data['realized_vol'].iloc[i] * 100\n",
        "    actual_vol_for_garch.append(actual_vol_pct)\n",
        "\n",
        "    if (i + 1) % 50 == 0:\n",
        "        print(f\"Generated {i + 1}/{len(test_returns_pct)} forecasts\")\n",
        "\n",
        "print(f\"Generated {len(garch_predictions_pct)} GARCH forecasts\")"
      ],
      "metadata": {
        "id": "06y2NqEJYjPv",
        "colab": {
          "base_uri": "https://localhost:8080/"
        },
        "outputId": "4106bd14-a115-4148-b251-58fd487eeb46"
      },
      "execution_count": 19,
      "outputs": [
        {
          "output_type": "stream",
          "name": "stdout",
          "text": [
            "========================================\n",
            "GENERATING GARCH FORECASTS\n",
            "========================================\n",
            "Generating rolling one-step forecasts...\n",
            "Generated 50/252 forecasts\n",
            "Generated 100/252 forecasts\n",
            "Generated 150/252 forecasts\n",
            "Generated 200/252 forecasts\n",
            "Generated 250/252 forecasts\n",
            "Generated 252 GARCH forecasts\n"
          ]
        }
      ]
    },
    {
      "cell_type": "code",
      "source": [
        "# Convert predictions back to decimal scale (to match other models)\n",
        "garch_predictions_decimal = np.array(garch_predictions_pct) / 100\n",
        "actual_vol_decimal = test_data['realized_vol'].values\n",
        "\n",
        "print(\"=\"*40)\n",
        "print(\"GARCH MODEL EVALUATION\")\n",
        "print(\"=\"*40)\n",
        "\n",
        "#Your realized_vol is: daily_std * √252 (annualized)\n",
        "# So GARCH should predict annualized volatility too\n",
        "\n",
        "# Convert GARCH daily predictions to annualized\n",
        "garch_predictions_annualized = garch_predictions_decimal * np.sqrt(252)\n",
        "\n",
        "print(\"GARCH(1,1) - Properly Scaled\")\n",
        "garch_metrics_fixed = calculate_metrics(actual_vol_decimal, garch_predictions_annualized, \"GARCH(1,1) - Annualized\")\n",
        "# Additional GARCH-specific metrics\n"
      ],
      "metadata": {
        "id": "hHZnT9BUYjS3",
        "colab": {
          "base_uri": "https://localhost:8080/"
        },
        "outputId": "ebaab523-e286-4d85-af56-8dcc696079ed"
      },
      "execution_count": 20,
      "outputs": [
        {
          "output_type": "stream",
          "name": "stdout",
          "text": [
            "========================================\n",
            "GARCH MODEL EVALUATION\n",
            "========================================\n",
            "GARCH(1,1) - Properly Scaled\n",
            "\n",
            "GARCH(1,1) - Annualized Results:\n",
            "RMSE: 0.023179\n",
            "MAE: 0.017012\n",
            "MAPE: 9.47%\n",
            "R²: 0.8247\n"
          ]
        }
      ]
    },
    {
      "cell_type": "code",
      "source": [
        "\n",
        "# Show the GARCH properties we calculated earlier\n",
        "print(f\"\\nModel Properties Recap:\")\n",
        "print(f\"Persistence (α + β): {garch_properties['persistence']:.6f}\")\n",
        "print(f\"Long-term volatility: {garch_properties['long_term_vol']:.6f}\")\n",
        "print(f\"Half-life: {garch_properties['half_life']:.1f} days\")"
      ],
      "metadata": {
        "colab": {
          "base_uri": "https://localhost:8080/"
        },
        "id": "1twjOL_fl_ff",
        "outputId": "73f2411f-f05b-4839-b24f-48fcfd045d4f"
      },
      "execution_count": 21,
      "outputs": [
        {
          "output_type": "stream",
          "name": "stdout",
          "text": [
            "\n",
            "Model Properties Recap:\n",
            "Persistence (α + β): 0.983876\n",
            "Long-term volatility: 0.008894\n",
            "Half-life: 42.6 days\n"
          ]
        }
      ]
    },
    {
      "cell_type": "code",
      "source": [
        "# Compare your current GARCH with the enhanced versions\n",
        "models_to_compare = ['Enhanced GARCH(1,1)', 'GARCH(1,1) - Targeted']\n",
        "\n",
        "# Run the enhanced blocks from before, then:\n",
        "garch_comparison = {\n",
        "    'Original GARCH(1,1)': 0.023304,\n",
        "    'Random Forest': 0.009764,\n",
        "    'Rolling Average': 0.010649\n",
        "}\n",
        "\n",
        "print(\"Current standings:\")\n",
        "for model, rmse in sorted(garch_comparison.items(), key=lambda x: x[1]):\n",
        "    print(f\"{model}: {rmse:.6f}\")"
      ],
      "metadata": {
        "id": "tF6uWUuBYjWQ",
        "colab": {
          "base_uri": "https://localhost:8080/"
        },
        "outputId": "82c2bf32-d7ff-44cf-95a1-72002f912668"
      },
      "execution_count": 22,
      "outputs": [
        {
          "output_type": "stream",
          "name": "stdout",
          "text": [
            "Current standings:\n",
            "Random Forest: 0.009764\n",
            "Rolling Average: 0.010649\n",
            "Original GARCH(1,1): 0.023304\n"
          ]
        }
      ]
    },
    {
      "cell_type": "markdown",
      "source": [
        "XGBOOST IMPLEMENTATION!"
      ],
      "metadata": {
        "id": "oggW4M2H2QVi"
      }
    },
    {
      "cell_type": "code",
      "source": [
        "import xgboost as xgb\n"
      ],
      "metadata": {
        "id": "ITauqVxoYjZp"
      },
      "execution_count": 23,
      "outputs": []
    },
    {
      "cell_type": "code",
      "source": [
        "##Feature Engineering For XGBOOST\n",
        "def create_xgb_features(data, lookback_periods=[1, 2, 3, 5, 10]):\n",
        "    \"\"\"Create comprehensive features for XGBoost volatility prediction\"\"\"\n",
        "    features_df = pd.DataFrame(index=data.index)  # Start fresh!\n",
        "\n",
        "    # 1. Lagged volatility features (most important)\n",
        "    for lag in lookback_periods:\n",
        "        features_df[f'vol_lag_{lag}'] = data['realized_vol'].shift(lag)\n",
        "\n",
        "    # 2. Lagged return features\n",
        "    for lag in lookback_periods:\n",
        "        features_df[f'return_lag_{lag}'] = data['log_return'].shift(lag)\n",
        "\n",
        "    # 3. Rolling statistics features\n",
        "    for window in [5, 10, 20]:\n",
        "        features_df[f'vol_ma_{window}'] = data['realized_vol'].rolling(window).mean()\n",
        "        features_df[f'vol_std_{window}'] = data['realized_vol'].rolling(window).std()\n",
        "        features_df[f'return_ma_{window}'] = data['log_return'].rolling(window).mean()\n",
        "        features_df[f'return_std_{window}'] = data['log_return'].rolling(window).std()\n",
        "\n",
        "    # 4. Volatility momentum features\n",
        "    features_df['vol_change_1'] = data['realized_vol'] - data['realized_vol'].shift(1)\n",
        "    features_df['vol_change_5'] = data['realized_vol'] - data['realized_vol'].shift(5)\n",
        "    features_df['vol_ratio_ma20'] = data['realized_vol'] / features_df['vol_ma_20']\n",
        "\n",
        "    # 5. Return-based features\n",
        "    features_df['return_squared_lag1'] = data['log_return'].shift(1) ** 2\n",
        "    features_df['return_abs_lag1'] = np.abs(data['log_return'].shift(1))\n",
        "\n",
        "    # 6. Interaction features\n",
        "    features_df['vol_return_interaction'] = (features_df['vol_lag_1'] *\n",
        "                                           np.abs(features_df['return_lag_1']))\n",
        "\n",
        "    # Add the target variable separately (not as a feature!)\n",
        "    features_df['realized_vol'] = data['realized_vol']\n",
        "\n",
        "    return features_df\n",
        "\n",
        "# Apply feature engineering\n",
        "train_features = create_xgb_features(train_data)\n",
        "\n",
        "test_features = create_xgb_features(test_data)\n",
        "\n",
        "# Remove NaN values\n",
        "train_features.dropna(inplace=True)\n",
        "test_features.dropna(inplace=True)\n",
        "\n",
        "print(f\"Training samples after feature engineering: {len(train_features)}\")\n",
        "print(f\"Test samples after feature engineering: {len(test_features)}\")\n",
        "\n",
        "# List all feature columns (exclude target and original columns)\n",
        "feature_columns = [col for col in train_features.columns\n",
        "                  if col not in ['realized_vol', 'log_return', 'Close']]\n",
        "\n",
        "print(f\"Created {len(feature_columns)} features:\")\n",
        "print(feature_columns[:10], \"...\")  # Show first 10"
      ],
      "metadata": {
        "id": "efa3i8YJYjdC",
        "colab": {
          "base_uri": "https://localhost:8080/"
        },
        "outputId": "67ef389d-77a2-444c-8b5f-f9e025e70c65"
      },
      "execution_count": 24,
      "outputs": [
        {
          "output_type": "stream",
          "name": "stdout",
          "text": [
            "Training samples after feature engineering: 2377\n",
            "Test samples after feature engineering: 233\n",
            "Created 28 features:\n",
            "['vol_lag_1', 'vol_lag_2', 'vol_lag_3', 'vol_lag_5', 'vol_lag_10', 'return_lag_1', 'return_lag_2', 'return_lag_3', 'return_lag_5', 'return_lag_10'] ...\n"
          ]
        }
      ]
    },
    {
      "cell_type": "code",
      "source": [
        "print(\"\\nPREPARING XGBOOST DATA\")\n",
        "print(\"=\"*30)\n",
        "\n",
        "# Separate features and target\n",
        "X_train_xgb = train_features[feature_columns]\n",
        "y_train_xgb = train_features['realized_vol']\n",
        "X_test_xgb = test_features[feature_columns]\n",
        "y_test_xgb = test_features['realized_vol']\n",
        "\n",
        "print(f\"Feature matrix shape: {X_train_xgb.shape}\")\n",
        "print(f\"Target vector shape: {y_train_xgb.shape}\")\n",
        "\n",
        "# Check for any remaining NaN values\n",
        "print(f\"NaN values in X_train: {X_train_xgb.isnull().sum().sum()}\")\n",
        "print(f\"NaN values in y_train: {y_train_xgb.isnull().sum()}\")\n",
        "\n",
        "# Basic statistics\n",
        "print(f\"\\nTarget variable (realized_vol) stats:\")\n",
        "print(f\"Mean: {y_train_xgb.mean():.6f}\")\n",
        "print(f\"Std: {y_train_xgb.std():.6f}\")\n",
        "print(f\"Min: {y_train_xgb.min():.6f}\")\n",
        "print(f\"Max: {y_train_xgb.max():.6f}\")\n",
        "\n",
        "# Feature correlation check (avoid perfect multicollinearity)\n",
        "high_corr_pairs = []\n",
        "corr_matrix = X_train_xgb.corr()\n",
        "for i in range(len(corr_matrix.columns)):\n",
        "    for j in range(i+1, len(corr_matrix.columns)):\n",
        "        if abs(corr_matrix.iloc[i, j]) > 0.95:\n",
        "            high_corr_pairs.append((corr_matrix.columns[i], corr_matrix.columns[j], corr_matrix.iloc[i, j]))\n",
        "\n",
        "if high_corr_pairs:\n",
        "    print(f\"\\nHigh correlation pairs (>0.95): {len(high_corr_pairs)}\")\n",
        "    for pair in high_corr_pairs[:3]:  # Show first 3\n",
        "        print(f\"  {pair[0]} vs {pair[1]}: {pair[2]:.3f}\")"
      ],
      "metadata": {
        "id": "pM7T9Ys1Yjgv",
        "colab": {
          "base_uri": "https://localhost:8080/"
        },
        "outputId": "6bff2aa6-fd1c-49ba-d2c3-75adba075e07"
      },
      "execution_count": 25,
      "outputs": [
        {
          "output_type": "stream",
          "name": "stdout",
          "text": [
            "\n",
            "PREPARING XGBOOST DATA\n",
            "==============================\n",
            "Feature matrix shape: (2377, 28)\n",
            "Target vector shape: (2377,)\n",
            "NaN values in X_train: 0\n",
            "NaN values in y_train: 0\n",
            "\n",
            "Target variable (realized_vol) stats:\n",
            "Mean: 0.132472\n",
            "Std: 0.045902\n",
            "Min: 0.045533\n",
            "Max: 0.393733\n",
            "\n",
            "High correlation pairs (>0.95): 15\n",
            "  vol_lag_1 vs vol_lag_2: 0.978\n",
            "  vol_lag_1 vs vol_lag_3: 0.957\n",
            "  vol_lag_1 vs vol_ma_5: 0.987\n"
          ]
        }
      ]
    },
    {
      "cell_type": "code",
      "source": [
        "print(\"\\nXGBOOST HYPERPARAMETER GRID\")\n",
        "print(\"=\"*30)\n",
        "\n",
        "# Comprehensive hyperparameter space for volatility forecasting\n",
        "xgb_param_grid = {\n",
        "    # Tree Structure Parameters\n",
        "    'n_estimators': [100, 200, 300, 500, 800],\n",
        "    'max_depth': [3, 4, 5, 6, 7, 8],\n",
        "    'min_child_weight': [1, 3, 5, 7],\n",
        "\n",
        "    # Learning Parameters\n",
        "    'learning_rate': [0.01, 0.05, 0.1, 0.15, 0.2],\n",
        "    'subsample': [0.7, 0.8, 0.9, 1.0],\n",
        "    'colsample_bytree': [0.7, 0.8, 0.9, 1.0],\n",
        "    'colsample_bylevel': [0.7, 0.8, 0.9, 1.0],\n",
        "\n",
        "    # Regularization Parameters\n",
        "    'reg_alpha': [0, 0.01, 0.1, 1, 10],      # L1 regularization\n",
        "    'reg_lambda': [0.1, 1, 10, 100],         # L2 regularization\n",
        "    'gamma': [0, 0.1, 0.5, 1, 2],            # Minimum split loss\n",
        "\n",
        "    # Advanced Parameters\n",
        "    'max_delta_step': [0, 1, 5, 10],         # Helps with imbalanced data\n",
        "    'tree_method': ['hist'],                  # Faster algorithm\n",
        "    'grow_policy': ['depthwise', 'lossguide'] # Tree growing strategy\n",
        "}\n",
        "\n",
        "print(f\"Total parameter combinations: {np.prod([len(v) for v in xgb_param_grid.values()]):,}\")\n",
        "print(\"We'll use RandomizedSearchCV to efficiently explore this space\")\n",
        "\n",
        "# Reduced grid for faster initial testing\n",
        "xgb_param_grid_fast = {\n",
        "    'n_estimators': [200, 300, 400,500],\n",
        "    'max_depth': [2, 3,4],\n",
        "    'min_child_weight': [1, 3, 5],\n",
        "    'learning_rate': [0.05, 0.1],\n",
        "    'subsample': [0.6,0.8, 0.9],\n",
        "    'colsample_bytree': [0.6,0.8, 0.9],\n",
        "    'reg_alpha': [1, 5],\n",
        "    'reg_lambda': [1,5, 10],\n",
        "    'gamma': [0, 0.1, 0.5]\n",
        "}\n",
        "\n",
        "print(f\"Fast grid combinations: {np.prod([len(v) for v in xgb_param_grid_fast.values()]):,}\")"
      ],
      "metadata": {
        "colab": {
          "base_uri": "https://localhost:8080/"
        },
        "id": "Lm6s_f72Caz4",
        "outputId": "4b0d6789-6676-40a5-bd47-e426b6534b2a"
      },
      "execution_count": 26,
      "outputs": [
        {
          "output_type": "stream",
          "name": "stdout",
          "text": [
            "\n",
            "XGBOOST HYPERPARAMETER GRID\n",
            "==============================\n",
            "Total parameter combinations: 30,720,000\n",
            "We'll use RandomizedSearchCV to efficiently explore this space\n",
            "Fast grid combinations: 11,664\n"
          ]
        }
      ]
    },
    {
      "cell_type": "code",
      "source": [
        "print(\"\\nTIME SERIES CROSS-VALIDATION SETUP\")\n",
        "print(\"=\"*30)\n",
        "\n",
        "# Time series split for proper validation\n",
        "tscv = TimeSeriesSplit(n_splits=5, gap=5)\n",
        "\n",
        "print(\"Cross-validation folds:\")\n",
        "for i, (train_idx, val_idx) in enumerate(tscv.split(X_train_xgb)):\n",
        "    train_start = X_train_xgb.index[train_idx[0]]\n",
        "    train_end = X_train_xgb.index[train_idx[-1]]\n",
        "    val_start = X_train_xgb.index[val_idx[0]]\n",
        "    val_end = X_train_xgb.index[val_idx[-1]]\n",
        "\n",
        "    print(f\"Fold {i+1}:\")\n",
        "    print(f\"  Train: {train_start} to {train_end} ({len(train_idx)} samples)\")\n",
        "    print(f\"  Val:   {val_start} to {val_end} ({len(val_idx)} samples)\")\n",
        "\n",
        "# Base XGBoost model with good defaults\n",
        "xgb_base = xgb.XGBRegressor(\n",
        "    objective='reg:squarederror',  # MSE loss (perfect for RMSE optimization)\n",
        "    random_state=42,\n",
        "    n_jobs=-1,                     # Use all cores\n",
        "    verbosity=0,                   # Quiet training\n",
        "    early_stopping_rounds=50,      # Stop if no improvement\n",
        "    eval_metric='rmse'             # Monitor RMSE during training\n",
        ")\n",
        "\n",
        "print(f\"\\nBase model configured with early stopping\")"
      ],
      "metadata": {
        "colab": {
          "base_uri": "https://localhost:8080/"
        },
        "id": "Ch4UGGMBCa2a",
        "outputId": "a099d3a6-d75d-47c6-901a-5de067cb555b"
      },
      "execution_count": 27,
      "outputs": [
        {
          "output_type": "stream",
          "name": "stdout",
          "text": [
            "\n",
            "TIME SERIES CROSS-VALIDATION SETUP\n",
            "==============================\n",
            "Cross-validation folds:\n",
            "Fold 1:\n",
            "  Train: 2015-03-03 00:00:00 to 2016-09-19 00:00:00 (392 samples)\n",
            "  Val:   2016-09-27 00:00:00 to 2018-04-24 00:00:00 (396 samples)\n",
            "Fold 2:\n",
            "  Train: 2015-03-03 00:00:00 to 2018-04-17 00:00:00 (788 samples)\n",
            "  Val:   2018-04-25 00:00:00 to 2019-11-18 00:00:00 (396 samples)\n",
            "Fold 3:\n",
            "  Train: 2015-03-03 00:00:00 to 2019-11-11 00:00:00 (1184 samples)\n",
            "  Val:   2019-11-19 00:00:00 to 2021-06-16 00:00:00 (396 samples)\n",
            "Fold 4:\n",
            "  Train: 2015-03-03 00:00:00 to 2021-06-09 00:00:00 (1580 samples)\n",
            "  Val:   2021-06-17 00:00:00 to 2023-01-11 00:00:00 (396 samples)\n",
            "Fold 5:\n",
            "  Train: 2015-03-03 00:00:00 to 2023-01-04 00:00:00 (1976 samples)\n",
            "  Val:   2023-01-12 00:00:00 to 2024-08-09 00:00:00 (396 samples)\n",
            "\n",
            "Base model configured with early stopping\n"
          ]
        }
      ]
    },
    {
      "cell_type": "code",
      "source": [
        "print(\"HYPERPARAMETER OPTIMIZATION\")\n",
        "print(\"=\"*30)\n",
        "\n",
        "# RandomizedSearchCV for efficient hyperparameter search\n",
        "xgb_random_search = RandomizedSearchCV(\n",
        "    estimator=xgb_base,\n",
        "    param_distributions=xgb_param_grid_fast,  # Start with fast grid\n",
        "    n_iter=500,                               # Test 500 combinations\n",
        "    cv=tscv,                                  # Time series CV\n",
        "    scoring='neg_mean_squared_error',         # Optimize RMSE\n",
        "    verbose=1,                                # Show progress\n",
        "    random_state=42,\n",
        "    n_jobs=-1,\n",
        "    return_train_score=True                   # Monitor overfitting\n",
        ")\n",
        "\n",
        "print(\"Starting hyperparameter search...\")\n",
        "print(\"This may take 5-10 minutes depending on your machine...\")\n",
        "\n",
        "# Fit with early stopping\n",
        "xgb_random_search.fit(\n",
        "    X_train_xgb, y_train_xgb,\n",
        "    eval_set=[(X_train_xgb.iloc[-500:], y_train_xgb.iloc[-500:])],  # Validation set for early stopping\n",
        "    verbose=False\n",
        ")\n",
        "\n",
        "print(\"Hyperparameter search completed!\")\n",
        "\n",
        "# Best parameters found\n",
        "print(f\"\\nBest XGBoost Parameters:\")\n",
        "for param, value in xgb_random_search.best_params_.items():\n",
        "    print(f\"  {param}: {value}\")\n",
        "\n",
        "print(f\"\\nBest CV Score (RMSE): {np.sqrt(-xgb_random_search.best_score_):.6f}\")\n",
        "\n",
        "# Check for overfitting\n",
        "cv_results = pd.DataFrame(xgb_random_search.cv_results_)\n",
        "best_idx = xgb_random_search.best_index_\n",
        "\n",
        "train_score = -cv_results.loc[best_idx, 'mean_train_score']\n",
        "val_score = -cv_results.loc[best_idx, 'mean_test_score']\n",
        "\n",
        "print(f\"Training RMSE: {np.sqrt(train_score):.6f}\")\n",
        "print(f\"Validation RMSE: {np.sqrt(val_score):.6f}\")\n",
        "print(f\"Overfitting ratio: {np.sqrt(val_score)/np.sqrt(train_score):.3f}\")\n",
        "\n",
        "if np.sqrt(val_score)/np.sqrt(train_score) > 1.1:\n",
        "    print(\"⚠️  Potential overfitting detected\")\n",
        "else:\n",
        "    print(\"✅ Overfitting looks controlled\")"
      ],
      "metadata": {
        "colab": {
          "base_uri": "https://localhost:8080/"
        },
        "id": "6l8OWp4cCbAB",
        "outputId": "105377f7-9782-4ffa-8609-2fe80b85dfe6"
      },
      "execution_count": 28,
      "outputs": [
        {
          "output_type": "stream",
          "name": "stdout",
          "text": [
            "HYPERPARAMETER OPTIMIZATION\n",
            "==============================\n",
            "Starting hyperparameter search...\n",
            "This may take 5-10 minutes depending on your machine...\n",
            "Fitting 5 folds for each of 500 candidates, totalling 2500 fits\n",
            "Hyperparameter search completed!\n",
            "\n",
            "Best XGBoost Parameters:\n",
            "  subsample: 0.9\n",
            "  reg_lambda: 1\n",
            "  reg_alpha: 1\n",
            "  n_estimators: 500\n",
            "  min_child_weight: 5\n",
            "  max_depth: 2\n",
            "  learning_rate: 0.05\n",
            "  gamma: 0\n",
            "  colsample_bytree: 0.9\n",
            "\n",
            "Best CV Score (RMSE): 0.021757\n",
            "Training RMSE: 0.008000\n",
            "Validation RMSE: 0.021757\n",
            "Overfitting ratio: 2.720\n",
            "⚠️  Potential overfitting detected\n"
          ]
        }
      ]
    },
    {
      "cell_type": "code",
      "source": [
        "print(\"\\nBEST MODEL ANALYSIS\")\n",
        "print(\"=\"*30)\n",
        "\n",
        "# Get the best model\n",
        "best_xgb = xgb_random_search.best_estimator_\n",
        "\n",
        "# Model complexity analysis\n",
        "print(f\"Model Complexity:\")\n",
        "print(f\"  Number of trees: {best_xgb.n_estimators}\")\n",
        "print(f\"  Max depth: {best_xgb.max_depth}\")\n",
        "print(f\"  Learning rate: {best_xgb.learning_rate}\")\n",
        "print(f\"  Regularization (L1): {best_xgb.reg_alpha}\")\n",
        "print(f\"  Regularization (L2): {best_xgb.reg_lambda}\")\n",
        "\n",
        "# Check if early stopping was triggered\n",
        "if hasattr(best_xgb, 'best_iteration'):\n",
        "    print(f\"  Early stopping at iteration: {best_xgb.best_iteration}\")\n",
        "    print(f\"  Used {best_xgb.best_iteration}/{best_xgb.n_estimators} trees\")\n",
        "\n",
        "# Feature importance analysis\n",
        "feature_importance = best_xgb.feature_importances_\n",
        "importance_df = pd.DataFrame({\n",
        "    'feature': feature_columns,\n",
        "    'importance': feature_importance\n",
        "}).sort_values('importance', ascending=False)\n",
        "\n",
        "print(f\"\\nTop 10 Most Important Features:\")\n",
        "print(importance_df.head(10).to_string(index=False))\n",
        "\n",
        "# Check if vol_lag_1 is most important (it should be!)\n",
        "top_feature = importance_df.iloc[0]['feature']\n",
        "top_importance = importance_df.iloc[0]['importance']\n",
        "print(f\"\\nMost important feature: {top_feature} ({top_importance:.3f})\")\n",
        "\n",
        "if 'vol_lag' in top_feature:\n",
        "    print(\"✅ Volatility lag features are most important (good!)\")\n",
        "else:\n",
        "    print(\"⚠️  Unexpected most important feature\")"
      ],
      "metadata": {
        "colab": {
          "base_uri": "https://localhost:8080/"
        },
        "id": "ZC3-UJtMHNPd",
        "outputId": "bbe62f75-5955-4fa7-8f3b-6ba78f342f49"
      },
      "execution_count": 29,
      "outputs": [
        {
          "output_type": "stream",
          "name": "stdout",
          "text": [
            "\n",
            "BEST MODEL ANALYSIS\n",
            "==============================\n",
            "Model Complexity:\n",
            "  Number of trees: 500\n",
            "  Max depth: 2\n",
            "  Learning rate: 0.05\n",
            "  Regularization (L1): 1\n",
            "  Regularization (L2): 1\n",
            "  Early stopping at iteration: 496\n",
            "  Used 496/500 trees\n",
            "\n",
            "Top 10 Most Important Features:\n",
            "       feature  importance\n",
            "     vol_lag_1    0.617077\n",
            " return_std_20    0.334202\n",
            "      vol_ma_5    0.045554\n",
            " return_std_10    0.001552\n",
            "     vol_ma_10    0.000552\n",
            "  return_std_5    0.000409\n",
            "vol_ratio_ma20    0.000148\n",
            "  vol_change_1    0.000103\n",
            "    vol_std_10    0.000093\n",
            "     vol_lag_5    0.000078\n",
            "\n",
            "Most important feature: vol_lag_1 (0.617)\n",
            "✅ Volatility lag features are most important (good!)\n"
          ]
        }
      ]
    },
    {
      "cell_type": "code",
      "source": [
        "print(\"\\nGENERATING XGBOOST PREDICTIONS\")\n",
        "print(\"=\"*30)\n",
        "\n",
        "# Generate predictions on test set\n",
        "xgb_predictions = best_xgb.predict(X_test_xgb)\n",
        "\n",
        "print(f\"Generated {len(xgb_predictions)} predictions\")\n",
        "print(f\"Prediction range: {xgb_predictions.min():.6f} to {xgb_predictions.max():.6f}\")\n",
        "print(f\"Actual range: {y_test_xgb.min():.6f} to {y_test_xgb.max():.6f}\")\n",
        "\n",
        "# Ensure predictions are positive (volatility can't be negative)\n",
        "if np.any(xgb_predictions < 0):\n",
        "    print(f\"⚠️  {np.sum(xgb_predictions < 0)} negative predictions found, clipping to 0.001\")\n",
        "    xgb_predictions = np.maximum(xgb_predictions, 0.001)\n",
        "\n",
        "# Calculate comprehensive metrics\n",
        "xgb_metrics = calculate_metrics(y_test_xgb, xgb_predictions, \"XGBoost\")\n",
        "\n",
        "# Additional XGBoost-specific analysis\n",
        "prediction_errors = y_test_xgb.values - xgb_predictions\n",
        "print(f\"\\nPrediction Error Analysis:\")\n",
        "print(f\"Mean error: {prediction_errors.mean():.6f}\")\n",
        "print(f\"Error std: {prediction_errors.std():.6f}\")\n",
        "print(f\"Max absolute error: {np.abs(prediction_errors).max():.6f}\")\n",
        "\n",
        "# Check prediction distribution\n",
        "print(f\"\\nPrediction Distribution:\")\n",
        "print(f\"Mean prediction: {xgb_predictions.mean():.6f}\")\n",
        "print(f\"Std prediction: {xgb_predictions.std():.6f}\")\n",
        "print(f\"Prediction/Actual mean ratio: {xgb_predictions.mean()/y_test_xgb.mean():.3f}\")"
      ],
      "metadata": {
        "colab": {
          "base_uri": "https://localhost:8080/"
        },
        "id": "uz7haP5VHNSO",
        "outputId": "ea75764c-92be-401d-8e85-8d2472e51900"
      },
      "execution_count": 30,
      "outputs": [
        {
          "output_type": "stream",
          "name": "stdout",
          "text": [
            "\n",
            "GENERATING XGBOOST PREDICTIONS\n",
            "==============================\n",
            "Generated 233 predictions\n",
            "Prediction range: 0.102589 to 0.306226\n",
            "Actual range: 0.102296 to 0.314801\n",
            "\n",
            "XGBoost Results:\n",
            "RMSE: 0.002478\n",
            "MAE: 0.001341\n",
            "MAPE: 0.68%\n",
            "R²: 0.9981\n",
            "\n",
            "Prediction Error Analysis:\n",
            "Mean error: 0.000050\n",
            "Error std: 0.002478\n",
            "Max absolute error: 0.016532\n",
            "\n",
            "Prediction Distribution:\n",
            "Mean prediction: 0.169839\n",
            "Std prediction: 0.057398\n",
            "Prediction/Actual mean ratio: 1.000\n"
          ]
        }
      ]
    },
    {
      "cell_type": "code",
      "source": [
        "print(\"\\nMODEL PERFORMANCE DEEP DIVE\")\n",
        "print(\"=\"*30)\n",
        "\n",
        "# Performance across different volatility levels\n",
        "def analyze_performance_by_regime(actual, predicted, quantiles=[0.33, 0.67]):\n",
        "    \"\"\"Analyze model performance in different volatility regimes\"\"\"\n",
        "\n",
        "    # Define regimes based on actual volatility quantiles\n",
        "    q_low = np.quantile(actual, quantiles[0])\n",
        "    q_high = np.quantile(actual, quantiles[1])\n",
        "\n",
        "    low_vol_mask = actual <= q_low\n",
        "    med_vol_mask = (actual > q_low) & (actual <= q_high)\n",
        "    high_vol_mask = actual > q_high\n",
        "\n",
        "    regimes = {\n",
        "        'Low Vol': (low_vol_mask, f\"≤ {q_low:.4f}\"),\n",
        "        'Medium Vol': (med_vol_mask, f\"{q_low:.4f} - {q_high:.4f}\"),\n",
        "        'High Vol': (high_vol_mask, f\"> {q_high:.4f}\")\n",
        "    }\n",
        "\n",
        "    print(\"Performance by Volatility Regime:\")\n",
        "    for regime_name, (mask, range_desc) in regimes.items():\n",
        "        if np.sum(mask) > 5:  # Ensure enough samples\n",
        "            regime_rmse = np.sqrt(np.mean((actual[mask] - predicted[mask])**2))\n",
        "            regime_mae = np.mean(np.abs(actual[mask] - predicted[mask]))\n",
        "            print(f\"  {regime_name} ({range_desc}): RMSE={regime_rmse:.6f}, MAE={regime_mae:.6f}, n={np.sum(mask)}\")\n",
        "\n",
        "analyze_performance_by_regime(y_test_xgb.values, xgb_predictions)\n",
        "\n",
        "# Compare with Random Forest performance\n",
        "print(f\"\\nModel Comparison:\")\n",
        "print(f\"  Random Forest RMSE: 0.009764\")\n",
        "print(f\"  XGBoost RMSE: {xgb_metrics['RMSE']:.6f}\")\n",
        "print(f\"  Improvement: {((0.009764 - xgb_metrics['RMSE'])/0.009764)*100:.1f}%\")\n",
        "\n",
        "if xgb_metrics['RMSE'] < 0.009764:\n",
        "    print(\"🎉 XGBoost beats Random Forest!\")\n",
        "elif xgb_metrics['RMSE'] < 0.010:\n",
        "    print(\"👍 XGBoost performs competitively\")\n",
        "else:\n",
        "    print(\"🤔 XGBoost underperforming - may need more tuning\")"
      ],
      "metadata": {
        "colab": {
          "base_uri": "https://localhost:8080/"
        },
        "id": "FMNsYCmUHNVD",
        "outputId": "774230a7-329e-4f84-e247-4cbef31ab243"
      },
      "execution_count": 31,
      "outputs": [
        {
          "output_type": "stream",
          "name": "stdout",
          "text": [
            "\n",
            "MODEL PERFORMANCE DEEP DIVE\n",
            "==============================\n",
            "Performance by Volatility Regime:\n",
            "  Low Vol (≤ 0.1328): RMSE=0.000632, MAE=0.000525, n=77\n",
            "  Medium Vol (0.1328 - 0.1765): RMSE=0.001064, MAE=0.000791, n=79\n",
            "  High Vol (> 0.1765): RMSE=0.004126, MAE=0.002721, n=77\n",
            "\n",
            "Model Comparison:\n",
            "  Random Forest RMSE: 0.009764\n",
            "  XGBoost RMSE: 0.002478\n",
            "  Improvement: 74.6%\n",
            "🎉 XGBoost beats Random Forest!\n"
          ]
        }
      ]
    },
    {
      "cell_type": "code",
      "source": [
        "print(\"\\nFEATURE IMPORTANCE INSIGHTS\")\n",
        "print(\"=\"*30)\n",
        "\n",
        "# Detailed feature importance analysis\n",
        "top_15_features = importance_df.head(15)\n",
        "\n",
        "print(\"Top 15 Features:\")\n",
        "for idx, row in top_15_features.iterrows():\n",
        "    print(f\"  {row['feature']:25s}: {row['importance']:.4f}\")\n",
        "\n",
        "# Analyze feature types\n",
        "feature_types = {\n",
        "    'vol_lag': [f for f in feature_columns if 'vol_lag' in f],\n",
        "    'return_lag': [f for f in feature_columns if 'return_lag' in f],\n",
        "    'vol_ma': [f for f in feature_columns if 'vol_ma' in f],\n",
        "    'vol_std': [f for f in feature_columns if 'vol_std' in f],\n",
        "    'return_ma': [f for f in feature_columns if 'return_ma' in f],\n",
        "    'interaction': [f for f in feature_columns if 'interaction' in f],\n",
        "    'momentum': [f for f in feature_columns if 'change' in f or 'ratio' in f]\n",
        "}\n",
        "\n",
        "print(f\"\\nFeature Type Importance:\")\n",
        "for ftype, features in feature_types.items():\n",
        "    if features:\n",
        "        type_importance = importance_df[importance_df['feature'].isin(features)]['importance'].sum()\n",
        "        print(f\"  {ftype:15s}: {type_importance:.4f} ({len(features)} features)\")\n",
        "\n",
        "# Key insights\n",
        "vol_lag_importance = sum([imp for feat, imp in zip(feature_columns, feature_importance) if 'vol_lag' in feat])\n",
        "print(f\"\\nKey Insights:\")\n",
        "print(f\"  Total volatility lag importance: {vol_lag_importance:.4f}\")\n",
        "print(f\"  vol_lag_1 relative importance: {importance_df.iloc[0]['importance']/vol_lag_importance:.3f}\")\n",
        "\n",
        "if vol_lag_importance > 0.5:\n",
        "    print(\"✅ Model properly focuses on volatility persistence\")\n",
        "else:\n",
        "    print(\"⚠️  Model may be overfitting to other features\")"
      ],
      "metadata": {
        "colab": {
          "base_uri": "https://localhost:8080/"
        },
        "id": "gn-UcujhHNX9",
        "outputId": "14bae653-f674-4730-b3dc-a5652d75c731"
      },
      "execution_count": 32,
      "outputs": [
        {
          "output_type": "stream",
          "name": "stdout",
          "text": [
            "\n",
            "FEATURE IMPORTANCE INSIGHTS\n",
            "==============================\n",
            "Top 15 Features:\n",
            "  vol_lag_1                : 0.6171\n",
            "  return_std_20            : 0.3342\n",
            "  vol_ma_5                 : 0.0456\n",
            "  return_std_10            : 0.0016\n",
            "  vol_ma_10                : 0.0006\n",
            "  return_std_5             : 0.0004\n",
            "  vol_ratio_ma20           : 0.0001\n",
            "  vol_change_1             : 0.0001\n",
            "  vol_std_10               : 0.0001\n",
            "  vol_lag_5                : 0.0001\n",
            "  vol_lag_3                : 0.0001\n",
            "  vol_lag_2                : 0.0001\n",
            "  vol_lag_10               : 0.0001\n",
            "  vol_change_5             : 0.0000\n",
            "  vol_std_5                : 0.0000\n",
            "\n",
            "Feature Type Importance:\n",
            "  vol_lag        : 0.6173 (5 features)\n",
            "  return_lag     : 0.0000 (5 features)\n",
            "  vol_ma         : 0.0461 (3 features)\n",
            "  vol_std        : 0.0001 (3 features)\n",
            "  return_ma      : 0.0000 (3 features)\n",
            "  interaction    : 0.0000 (1 features)\n",
            "  momentum       : 0.0003 (3 features)\n",
            "\n",
            "Key Insights:\n",
            "  Total volatility lag importance: 0.6173\n",
            "  vol_lag_1 relative importance: 1.000\n",
            "✅ Model properly focuses on volatility persistence\n"
          ]
        }
      ]
    },
    {
      "cell_type": "code",
      "source": [],
      "metadata": {
        "id": "_OS0efJLHNai"
      },
      "execution_count": null,
      "outputs": []
    },
    {
      "cell_type": "markdown",
      "source": [
        "LSTM"
      ],
      "metadata": {
        "id": "jjB0elJHSZRH"
      }
    },
    {
      "cell_type": "code",
      "source": [
        "from sklearn.preprocessing import MinMaxScaler\n",
        "\n",
        "\n",
        "# 3️⃣ Compute realized volatility (30-day rolling std, annualized)\n",
        "gold['realized_vol_30'] = gold['log_return'].rolling(window=30).std() * np.sqrt(252)\n",
        "\n",
        "# Drop NaN values from rolling calc\n",
        "gold.dropna(inplace=True)\n",
        "\n",
        "# 4️⃣ Normalize the realized volatility for LSTM training\n",
        "scaler = MinMaxScaler(feature_range=(0, 1))\n",
        "gold['scaled_vol_30'] = scaler.fit_transform(gold[['realized_vol_30']])\n",
        "\n",
        "# 5️⃣ Create sequences for LSTM\n",
        "lookback = 30  # past 30 days\n",
        "X, y = [], []\n",
        "vol_values = gold['scaled_vol_30'].values\n",
        "\n",
        "for i in range(len(vol_values) - lookback):\n",
        "    X.append(vol_values[i:i+lookback])  # input: last 30 days\n",
        "    y.append(vol_values[i+lookback])    # output: next day\n",
        "\n",
        "# Convert to numpy arrays\n",
        "X, y = np.array(X), np.array(y)\n",
        "\n",
        "# Reshape X for LSTM input (samples, time steps, features)\n",
        "X = np.reshape(X, (X.shape[0], X.shape[1], 1))\n",
        "\n",
        "print(\"Shape of X:\", X.shape)\n",
        "print(\"Shape of y:\", y.shape)\n"
      ],
      "metadata": {
        "colab": {
          "base_uri": "https://localhost:8080/"
        },
        "id": "uTrrVlUNHNc4",
        "outputId": "cdcc5496-2867-44eb-9447-1cc18a34d10b"
      },
      "execution_count": 33,
      "outputs": [
        {
          "output_type": "stream",
          "name": "stdout",
          "text": [
            "Shape of X: (2591, 30, 1)\n",
            "Shape of y: (2591,)\n"
          ]
        }
      ]
    },
    {
      "cell_type": "code",
      "source": [
        "import tensorflow as tf\n",
        "from tensorflow.keras.models import Sequential\n",
        "from tensorflow.keras.layers import LSTM, Dense, Dropout\n",
        "\n",
        "# Train-test split (last ~252 days for test)\n",
        "train_size = len(X) - 252\n",
        "X_train, X_test = X[:train_size], X[train_size:]\n",
        "y_train, y_test = y[:train_size], y[train_size:]\n",
        "\n",
        "# LSTM\n",
        "model = Sequential()\n",
        "model.add(LSTM(64, return_sequences=True, input_shape=(lookback, 1)))\n",
        "model.add(Dropout(0.2))\n",
        "model.add(LSTM(32, return_sequences=False))\n",
        "model.add(Dropout(0.2))\n",
        "model.add(Dense(1))\n",
        "# 3️⃣ Compile model\n",
        "model.compile(optimizer='adam', loss='mse')\n",
        "from tensorflow.keras.callbacks import EarlyStopping\n",
        "es = EarlyStopping(monitor='val_loss', patience=10, restore_best_weights=True)\n",
        "\n",
        "# 4️⃣ Train model\n",
        "history = model.fit(\n",
        "    X_train, y_train,\n",
        "    epochs=50,\n",
        "    batch_size=32,\n",
        "    validation_data=(X_test, y_test),\n",
        "    verbose=1\n",
        ")\n"
      ],
      "metadata": {
        "colab": {
          "base_uri": "https://localhost:8080/"
        },
        "id": "IXCP4-cXHNfh",
        "outputId": "ad4edc67-d7ba-4e25-9a32-196a45c82491"
      },
      "execution_count": 34,
      "outputs": [
        {
          "output_type": "stream",
          "name": "stderr",
          "text": [
            "/usr/local/lib/python3.11/dist-packages/keras/src/layers/rnn/rnn.py:199: UserWarning:\n",
            "\n",
            "Do not pass an `input_shape`/`input_dim` argument to a layer. When using Sequential models, prefer using an `Input(shape)` object as the first layer in the model instead.\n",
            "\n"
          ]
        },
        {
          "output_type": "stream",
          "name": "stdout",
          "text": [
            "Epoch 1/50\n",
            "\u001b[1m74/74\u001b[0m \u001b[32m━━━━━━━━━━━━━━━━━━━━\u001b[0m\u001b[37m\u001b[0m \u001b[1m7s\u001b[0m 38ms/step - loss: 0.0170 - val_loss: 0.0046\n",
            "Epoch 2/50\n",
            "\u001b[1m74/74\u001b[0m \u001b[32m━━━━━━━━━━━━━━━━━━━━\u001b[0m\u001b[37m\u001b[0m \u001b[1m3s\u001b[0m 40ms/step - loss: 0.0036 - val_loss: 0.0020\n",
            "Epoch 3/50\n",
            "\u001b[1m74/74\u001b[0m \u001b[32m━━━━━━━━━━━━━━━━━━━━\u001b[0m\u001b[37m\u001b[0m \u001b[1m2s\u001b[0m 30ms/step - loss: 0.0031 - val_loss: 0.0021\n",
            "Epoch 4/50\n",
            "\u001b[1m74/74\u001b[0m \u001b[32m━━━━━━━━━━━━━━━━━━━━\u001b[0m\u001b[37m\u001b[0m \u001b[1m2s\u001b[0m 29ms/step - loss: 0.0027 - val_loss: 0.0014\n",
            "Epoch 5/50\n",
            "\u001b[1m74/74\u001b[0m \u001b[32m━━━━━━━━━━━━━━━━━━━━\u001b[0m\u001b[37m\u001b[0m \u001b[1m3s\u001b[0m 29ms/step - loss: 0.0021 - val_loss: 0.0021\n",
            "Epoch 6/50\n",
            "\u001b[1m74/74\u001b[0m \u001b[32m━━━━━━━━━━━━━━━━━━━━\u001b[0m\u001b[37m\u001b[0m \u001b[1m2s\u001b[0m 33ms/step - loss: 0.0018 - val_loss: 0.0013\n",
            "Epoch 7/50\n",
            "\u001b[1m74/74\u001b[0m \u001b[32m━━━━━━━━━━━━━━━━━━━━\u001b[0m\u001b[37m\u001b[0m \u001b[1m3s\u001b[0m 39ms/step - loss: 0.0019 - val_loss: 0.0015\n",
            "Epoch 8/50\n",
            "\u001b[1m74/74\u001b[0m \u001b[32m━━━━━━━━━━━━━━━━━━━━\u001b[0m\u001b[37m\u001b[0m \u001b[1m2s\u001b[0m 29ms/step - loss: 0.0019 - val_loss: 0.0012\n",
            "Epoch 9/50\n",
            "\u001b[1m74/74\u001b[0m \u001b[32m━━━━━━━━━━━━━━━━━━━━\u001b[0m\u001b[37m\u001b[0m \u001b[1m2s\u001b[0m 30ms/step - loss: 0.0017 - val_loss: 0.0012\n",
            "Epoch 10/50\n",
            "\u001b[1m74/74\u001b[0m \u001b[32m━━━━━━━━━━━━━━━━━━━━\u001b[0m\u001b[37m\u001b[0m \u001b[1m2s\u001b[0m 29ms/step - loss: 0.0019 - val_loss: 9.6929e-04\n",
            "Epoch 11/50\n",
            "\u001b[1m74/74\u001b[0m \u001b[32m━━━━━━━━━━━━━━━━━━━━\u001b[0m\u001b[37m\u001b[0m \u001b[1m2s\u001b[0m 30ms/step - loss: 0.0016 - val_loss: 9.3142e-04\n",
            "Epoch 12/50\n",
            "\u001b[1m74/74\u001b[0m \u001b[32m━━━━━━━━━━━━━━━━━━━━\u001b[0m\u001b[37m\u001b[0m \u001b[1m3s\u001b[0m 44ms/step - loss: 0.0017 - val_loss: 9.0761e-04\n",
            "Epoch 13/50\n",
            "\u001b[1m74/74\u001b[0m \u001b[32m━━━━━━━━━━━━━━━━━━━━\u001b[0m\u001b[37m\u001b[0m \u001b[1m2s\u001b[0m 30ms/step - loss: 0.0015 - val_loss: 0.0012\n",
            "Epoch 14/50\n",
            "\u001b[1m74/74\u001b[0m \u001b[32m━━━━━━━━━━━━━━━━━━━━\u001b[0m\u001b[37m\u001b[0m \u001b[1m2s\u001b[0m 30ms/step - loss: 0.0017 - val_loss: 0.0012\n",
            "Epoch 15/50\n",
            "\u001b[1m74/74\u001b[0m \u001b[32m━━━━━━━━━━━━━━━━━━━━\u001b[0m\u001b[37m\u001b[0m \u001b[1m2s\u001b[0m 30ms/step - loss: 0.0016 - val_loss: 0.0013\n",
            "Epoch 16/50\n",
            "\u001b[1m74/74\u001b[0m \u001b[32m━━━━━━━━━━━━━━━━━━━━\u001b[0m\u001b[37m\u001b[0m \u001b[1m2s\u001b[0m 29ms/step - loss: 0.0013 - val_loss: 7.8335e-04\n",
            "Epoch 17/50\n",
            "\u001b[1m74/74\u001b[0m \u001b[32m━━━━━━━━━━━━━━━━━━━━\u001b[0m\u001b[37m\u001b[0m \u001b[1m4s\u001b[0m 43ms/step - loss: 0.0012 - val_loss: 7.8114e-04\n",
            "Epoch 18/50\n",
            "\u001b[1m74/74\u001b[0m \u001b[32m━━━━━━━━━━━━━━━━━━━━\u001b[0m\u001b[37m\u001b[0m \u001b[1m2s\u001b[0m 30ms/step - loss: 0.0013 - val_loss: 8.5348e-04\n",
            "Epoch 19/50\n",
            "\u001b[1m74/74\u001b[0m \u001b[32m━━━━━━━━━━━━━━━━━━━━\u001b[0m\u001b[37m\u001b[0m \u001b[1m2s\u001b[0m 29ms/step - loss: 0.0011 - val_loss: 8.7925e-04\n",
            "Epoch 20/50\n",
            "\u001b[1m74/74\u001b[0m \u001b[32m━━━━━━━━━━━━━━━━━━━━\u001b[0m\u001b[37m\u001b[0m \u001b[1m2s\u001b[0m 30ms/step - loss: 0.0012 - val_loss: 9.9480e-04\n",
            "Epoch 21/50\n",
            "\u001b[1m74/74\u001b[0m \u001b[32m━━━━━━━━━━━━━━━━━━━━\u001b[0m\u001b[37m\u001b[0m \u001b[1m2s\u001b[0m 30ms/step - loss: 0.0011 - val_loss: 6.8804e-04\n",
            "Epoch 22/50\n",
            "\u001b[1m74/74\u001b[0m \u001b[32m━━━━━━━━━━━━━━━━━━━━\u001b[0m\u001b[37m\u001b[0m \u001b[1m3s\u001b[0m 41ms/step - loss: 0.0012 - val_loss: 8.4450e-04\n",
            "Epoch 23/50\n",
            "\u001b[1m74/74\u001b[0m \u001b[32m━━━━━━━━━━━━━━━━━━━━\u001b[0m\u001b[37m\u001b[0m \u001b[1m2s\u001b[0m 32ms/step - loss: 0.0012 - val_loss: 6.5377e-04\n",
            "Epoch 24/50\n",
            "\u001b[1m74/74\u001b[0m \u001b[32m━━━━━━━━━━━━━━━━━━━━\u001b[0m\u001b[37m\u001b[0m \u001b[1m2s\u001b[0m 29ms/step - loss: 0.0010 - val_loss: 6.9271e-04\n",
            "Epoch 25/50\n",
            "\u001b[1m74/74\u001b[0m \u001b[32m━━━━━━━━━━━━━━━━━━━━\u001b[0m\u001b[37m\u001b[0m \u001b[1m3s\u001b[0m 29ms/step - loss: 9.9941e-04 - val_loss: 6.6992e-04\n",
            "Epoch 26/50\n",
            "\u001b[1m74/74\u001b[0m \u001b[32m━━━━━━━━━━━━━━━━━━━━\u001b[0m\u001b[37m\u001b[0m \u001b[1m2s\u001b[0m 30ms/step - loss: 0.0011 - val_loss: 8.0205e-04\n",
            "Epoch 27/50\n",
            "\u001b[1m74/74\u001b[0m \u001b[32m━━━━━━━━━━━━━━━━━━━━\u001b[0m\u001b[37m\u001b[0m \u001b[1m3s\u001b[0m 40ms/step - loss: 0.0011 - val_loss: 7.8713e-04\n",
            "Epoch 28/50\n",
            "\u001b[1m74/74\u001b[0m \u001b[32m━━━━━━━━━━━━━━━━━━━━\u001b[0m\u001b[37m\u001b[0m \u001b[1m2s\u001b[0m 31ms/step - loss: 0.0011 - val_loss: 5.5297e-04\n",
            "Epoch 29/50\n",
            "\u001b[1m74/74\u001b[0m \u001b[32m━━━━━━━━━━━━━━━━━━━━\u001b[0m\u001b[37m\u001b[0m \u001b[1m2s\u001b[0m 30ms/step - loss: 0.0011 - val_loss: 6.8049e-04\n",
            "Epoch 30/50\n",
            "\u001b[1m74/74\u001b[0m \u001b[32m━━━━━━━━━━━━━━━━━━━━\u001b[0m\u001b[37m\u001b[0m \u001b[1m2s\u001b[0m 30ms/step - loss: 9.2845e-04 - val_loss: 6.4712e-04\n",
            "Epoch 31/50\n",
            "\u001b[1m74/74\u001b[0m \u001b[32m━━━━━━━━━━━━━━━━━━━━\u001b[0m\u001b[37m\u001b[0m \u001b[1m3s\u001b[0m 30ms/step - loss: 9.1394e-04 - val_loss: 7.4813e-04\n",
            "Epoch 32/50\n",
            "\u001b[1m74/74\u001b[0m \u001b[32m━━━━━━━━━━━━━━━━━━━━\u001b[0m\u001b[37m\u001b[0m \u001b[1m3s\u001b[0m 41ms/step - loss: 0.0011 - val_loss: 5.3259e-04\n",
            "Epoch 33/50\n",
            "\u001b[1m74/74\u001b[0m \u001b[32m━━━━━━━━━━━━━━━━━━━━\u001b[0m\u001b[37m\u001b[0m \u001b[1m2s\u001b[0m 32ms/step - loss: 8.1961e-04 - val_loss: 6.3193e-04\n",
            "Epoch 34/50\n",
            "\u001b[1m74/74\u001b[0m \u001b[32m━━━━━━━━━━━━━━━━━━━━\u001b[0m\u001b[37m\u001b[0m \u001b[1m2s\u001b[0m 29ms/step - loss: 0.0010 - val_loss: 8.6694e-04\n",
            "Epoch 35/50\n",
            "\u001b[1m74/74\u001b[0m \u001b[32m━━━━━━━━━━━━━━━━━━━━\u001b[0m\u001b[37m\u001b[0m \u001b[1m2s\u001b[0m 29ms/step - loss: 8.7461e-04 - val_loss: 6.2684e-04\n",
            "Epoch 36/50\n",
            "\u001b[1m74/74\u001b[0m \u001b[32m━━━━━━━━━━━━━━━━━━━━\u001b[0m\u001b[37m\u001b[0m \u001b[1m3s\u001b[0m 30ms/step - loss: 9.2779e-04 - val_loss: 8.6490e-04\n",
            "Epoch 37/50\n",
            "\u001b[1m74/74\u001b[0m \u001b[32m━━━━━━━━━━━━━━━━━━━━\u001b[0m\u001b[37m\u001b[0m \u001b[1m3s\u001b[0m 41ms/step - loss: 0.0010 - val_loss: 4.9946e-04\n",
            "Epoch 38/50\n",
            "\u001b[1m74/74\u001b[0m \u001b[32m━━━━━━━━━━━━━━━━━━━━\u001b[0m\u001b[37m\u001b[0m \u001b[1m4s\u001b[0m 30ms/step - loss: 8.2927e-04 - val_loss: 4.8378e-04\n",
            "Epoch 39/50\n",
            "\u001b[1m74/74\u001b[0m \u001b[32m━━━━━━━━━━━━━━━━━━━━\u001b[0m\u001b[37m\u001b[0m \u001b[1m3s\u001b[0m 30ms/step - loss: 0.0010 - val_loss: 5.4338e-04\n",
            "Epoch 40/50\n",
            "\u001b[1m74/74\u001b[0m \u001b[32m━━━━━━━━━━━━━━━━━━━━\u001b[0m\u001b[37m\u001b[0m \u001b[1m2s\u001b[0m 30ms/step - loss: 9.7225e-04 - val_loss: 7.2959e-04\n",
            "Epoch 41/50\n",
            "\u001b[1m74/74\u001b[0m \u001b[32m━━━━━━━━━━━━━━━━━━━━\u001b[0m\u001b[37m\u001b[0m \u001b[1m3s\u001b[0m 38ms/step - loss: 8.2185e-04 - val_loss: 0.0020\n",
            "Epoch 42/50\n",
            "\u001b[1m74/74\u001b[0m \u001b[32m━━━━━━━━━━━━━━━━━━━━\u001b[0m\u001b[37m\u001b[0m \u001b[1m3s\u001b[0m 38ms/step - loss: 0.0013 - val_loss: 4.9207e-04\n",
            "Epoch 43/50\n",
            "\u001b[1m74/74\u001b[0m \u001b[32m━━━━━━━━━━━━━━━━━━━━\u001b[0m\u001b[37m\u001b[0m \u001b[1m2s\u001b[0m 31ms/step - loss: 7.8597e-04 - val_loss: 5.1877e-04\n",
            "Epoch 44/50\n",
            "\u001b[1m74/74\u001b[0m \u001b[32m━━━━━━━━━━━━━━━━━━━━\u001b[0m\u001b[37m\u001b[0m \u001b[1m2s\u001b[0m 29ms/step - loss: 8.1434e-04 - val_loss: 5.0484e-04\n",
            "Epoch 45/50\n",
            "\u001b[1m74/74\u001b[0m \u001b[32m━━━━━━━━━━━━━━━━━━━━\u001b[0m\u001b[37m\u001b[0m \u001b[1m2s\u001b[0m 29ms/step - loss: 7.4554e-04 - val_loss: 5.0398e-04\n",
            "Epoch 46/50\n",
            "\u001b[1m74/74\u001b[0m \u001b[32m━━━━━━━━━━━━━━━━━━━━\u001b[0m\u001b[37m\u001b[0m \u001b[1m3s\u001b[0m 37ms/step - loss: 9.0063e-04 - val_loss: 4.6497e-04\n",
            "Epoch 47/50\n",
            "\u001b[1m74/74\u001b[0m \u001b[32m━━━━━━━━━━━━━━━━━━━━\u001b[0m\u001b[37m\u001b[0m \u001b[1m3s\u001b[0m 36ms/step - loss: 7.6119e-04 - val_loss: 5.9171e-04\n",
            "Epoch 48/50\n",
            "\u001b[1m74/74\u001b[0m \u001b[32m━━━━━━━━━━━━━━━━━━━━\u001b[0m\u001b[37m\u001b[0m \u001b[1m5s\u001b[0m 29ms/step - loss: 7.7864e-04 - val_loss: 5.6292e-04\n",
            "Epoch 49/50\n",
            "\u001b[1m74/74\u001b[0m \u001b[32m━━━━━━━━━━━━━━━━━━━━\u001b[0m\u001b[37m\u001b[0m \u001b[1m2s\u001b[0m 29ms/step - loss: 7.8566e-04 - val_loss: 4.9824e-04\n",
            "Epoch 50/50\n",
            "\u001b[1m74/74\u001b[0m \u001b[32m━━━━━━━━━━━━━━━━━━━━\u001b[0m\u001b[37m\u001b[0m \u001b[1m5s\u001b[0m 64ms/step - loss: 7.9345e-04 - val_loss: 5.6863e-04\n"
          ]
        }
      ]
    },
    {
      "cell_type": "code",
      "source": [
        "from sklearn.metrics import mean_squared_error, mean_absolute_error\n",
        "import numpy as np\n",
        "import pandas as pd\n",
        "\n",
        "# --- 1) Predict on test ---\n",
        "y_pred_test_scaled = model.predict(X_test).ravel()\n",
        "\n",
        "# --- 2) Inverse-scale predictions and targets back to *annualized volatility* ---\n",
        "# We used MinMaxScaler() named `scaler` fit on df[['realized_vol']]\n",
        "y_pred_test = scaler.inverse_transform(y_pred_test_scaled.reshape(-1,1)).ravel()\n",
        "y_true_test = scaler.inverse_transform(y_test.reshape(-1,1)).ravel()\n",
        "\n",
        "# --- 3) Align with calendar dates ---\n",
        "# Each sample i predicts the target at df.index[lookback + i]\n",
        "dates_all = gold.index[lookback:]                 # length == len(y)\n",
        "dates_test = dates_all[train_size:]             # align with y_test / y_pred_test\n",
        "\n",
        "pred_series = pd.Series(y_pred_test, index=dates_test, name=\"vol_lstm\")\n",
        "true_series = pd.Series(y_true_test, index=dates_test, name=\"realized_vol_next\")\n",
        "\n",
        "# --- 4) Metrics ---\n",
        "rmse = np.sqrt(mean_squared_error(true_series, pred_series))\n",
        "mae  = mean_absolute_error(true_series, pred_series)\n",
        "corr = np.corrcoef(true_series.values, pred_series.values)[0,1]\n",
        "\n",
        "print(f\"LSTM Test — RMSE: {rmse:.6f}, MAE: {mae:.6f}, Corr: {corr:.3f}\")\n",
        "\n",
        "# --- 5) (Optional) quick look at last few predictions ---\n",
        "print(pred_series.tail(5))\n",
        "print(true_series.tail(5))\n"
      ],
      "metadata": {
        "colab": {
          "base_uri": "https://localhost:8080/"
        },
        "id": "d7yCgVeeHNiG",
        "outputId": "3fb2b975-7701-4172-c7e8-10ed50c7276e"
      },
      "execution_count": 57,
      "outputs": [
        {
          "output_type": "stream",
          "name": "stdout",
          "text": [
            "\u001b[1m8/8\u001b[0m \u001b[32m━━━━━━━━━━━━━━━━━━━━\u001b[0m\u001b[37m\u001b[0m \u001b[1m0s\u001b[0m 14ms/step\n",
            "LSTM Test — RMSE: 0.006973, MAE: 0.005229, Corr: 0.992\n",
            "Date\n",
            "2025-08-08    0.147861\n",
            "2025-08-11    0.148303\n",
            "2025-08-12    0.145494\n",
            "2025-08-13    0.141415\n",
            "2025-08-14    0.138648\n",
            "Name: vol_lstm, dtype: float32\n",
            "Date\n",
            "2025-08-08    0.145164\n",
            "2025-08-11    0.141204\n",
            "2025-08-12    0.137271\n",
            "2025-08-13    0.135153\n",
            "2025-08-14    0.135461\n",
            "Name: realized_vol_next, dtype: float64\n"
          ]
        }
      ]
    },
    {
      "cell_type": "code",
      "source": [],
      "metadata": {
        "id": "e-YDh9lU6Xpw"
      },
      "execution_count": null,
      "outputs": []
    },
    {
      "cell_type": "code",
      "source": [
        "LSTM_metrics = calculate_metrics(true_series, pred_series, \"LSTM\")"
      ],
      "metadata": {
        "colab": {
          "base_uri": "https://localhost:8080/"
        },
        "id": "pyorCUJSWuwC",
        "outputId": "73987146-ff9f-4fee-c063-15546c9e5332"
      },
      "execution_count": 36,
      "outputs": [
        {
          "output_type": "stream",
          "name": "stdout",
          "text": [
            "\n",
            "LSTM Results:\n",
            "RMSE: 0.006973\n",
            "MAE: 0.005229\n",
            "MAPE: 3.29%\n",
            "R²: 0.9811\n"
          ]
        }
      ]
    },
    {
      "cell_type": "code",
      "source": [],
      "metadata": {
        "id": "dva81GcZ3kJI"
      },
      "execution_count": null,
      "outputs": []
    },
    {
      "cell_type": "code",
      "source": [
        "import matplotlib.pyplot as plt\n",
        "\n",
        "plt.figure(figsize=(10,4))\n",
        "plt.plot(true_series.index, true_series.values, label=\"Actual next-day vol (annualized)\")\n",
        "plt.plot(pred_series.index, pred_series.values, label=\"LSTM forecast (annualized)\")\n",
        "plt.legend()\n",
        "plt.title(\"GLD — Next-day Annualized Volatility: Actual vs LSTM Forecast (Test Set)\")\n",
        "plt.xlabel(\"Date\"); plt.ylabel(\"Annualized σ\")\n",
        "plt.tight_layout()\n",
        "plt.show()\n"
      ],
      "metadata": {
        "colab": {
          "base_uri": "https://localhost:8080/",
          "height": 265
        },
        "id": "gJrKh4uLHNkb",
        "outputId": "52624285-f10e-426b-d262-96cecff3c3d5"
      },
      "execution_count": 37,
      "outputs": [
        {
          "output_type": "display_data",
          "data": {
            "text/plain": [
              "<Figure size 1000x400 with 1 Axes>"
            ],
            "image/png": "[encoded data removed]"
          },
          "metadata": {}
        }
      ]
    },
    {
      "cell_type": "markdown",
      "source": [
        "XGBOOST+LSTM(HYBRID)"
      ],
      "metadata": {
        "id": "EGvQDOoPbJmC"
      }
    },
    {
      "cell_type": "code",
      "source": [],
      "metadata": {
        "id": "ideRYL7ceX12"
      },
      "execution_count": null,
      "outputs": []
    },
    {
      "cell_type": "markdown",
      "source": [
        "# **Module 3 -Options Pricig Implementation**"
      ],
      "metadata": {
        "id": "i7VlSiAgGyGI"
      }
    },
    {
      "cell_type": "code",
      "source": [
        "import numpy as np\n",
        "import pandas as pd\n",
        "from scipy.stats import norm\n",
        "from datetime import datetime\n",
        "import yfinance as yf\n",
        "from scipy.stats import norm\n",
        "from sklearn.metrics import mean_absolute_error, mean_squared_error"
      ],
      "metadata": {
        "id": "uZqFQpX0eX4w"
      },
      "execution_count": 38,
      "outputs": []
    },
    {
      "cell_type": "code",
      "source": [
        "# Parameters\n",
        "asof = pd.Timestamp(\"2025-08-15\")  # day we benchmark\n",
        "last_train = pd.Timestamp(\"2024-08-09\")  # last day in vol training data\n",
        "\n",
        "# Pull GLD price as of asof date\n",
        "ticker = yf.Ticker(\"GLD\")\n",
        "hist = ticker.history(start=(asof - pd.Timedelta(days=5)).strftime(\"%Y-%m-%d\"),\n",
        "                      end=(asof + pd.Timedelta(days=1)).strftime(\"%Y-%m-%d\"))\n",
        "\n",
        "if hist.empty:\n",
        "    raise ValueError(\"No price data found for GLD around evaluation date.\")\n",
        "\n",
        "S0 = float(hist[\"Close\"].iloc[-1])  # spot price on asof\n",
        "print(f\"As of {asof.date()}, GLD spot price = {S0:.2f}\")\n"
      ],
      "metadata": {
        "colab": {
          "base_uri": "https://localhost:8080/"
        },
        "id": "yOBJVdzciEgD",
        "outputId": "014fd5ba-46d5-4357-8452-9496d50a022a"
      },
      "execution_count": 40,
      "outputs": [
        {
          "output_type": "stream",
          "name": "stdout",
          "text": [
            "As of 2025-08-15, GLD spot price = 307.43\n"
          ]
        }
      ]
    },
    {
      "cell_type": "code",
      "source": [
        "# Get all available expiries\n",
        "expiries = ticker.options\n",
        "exp_dates = sorted(pd.Timestamp(e) for e in expiries if pd.Timestamp(e) > asof)\n",
        "\n",
        "def pick_horizons(exp_dates, asof, targets=[30, 90, 180]):\n",
        "    chosen = []\n",
        "    for t in targets:\n",
        "        target_date = asof + pd.Timedelta(days=t)\n",
        "        cand = [d for d in exp_dates if d >= target_date]\n",
        "        if cand:\n",
        "            chosen.append(cand[0])\n",
        "    return sorted(set(chosen))\n",
        "\n",
        "chosen_expiries = pick_horizons(exp_dates, asof)\n",
        "print(\"Chosen expiries:\", chosen_expiries)\n"
      ],
      "metadata": {
        "colab": {
          "base_uri": "https://localhost:8080/"
        },
        "id": "AadKE_wViXlh",
        "outputId": "676002f9-9521-4940-9fa9-87e7361a6817"
      },
      "execution_count": 41,
      "outputs": [
        {
          "output_type": "stream",
          "name": "stdout",
          "text": [
            "Chosen expiries: [Timestamp('2025-09-19 00:00:00'), Timestamp('2025-11-21 00:00:00'), Timestamp('2026-03-20 00:00:00')]\n"
          ]
        }
      ]
    },
    {
      "cell_type": "code",
      "source": [
        "def black_scholes_price(S, K, T, r, sigma, option_type=\"call\", q=0.0):\n",
        "    if T <= 0 or sigma <= 0:\n",
        "        return max(S - K, 0) if option_type == \"call\" else max(K - S, 0)\n",
        "    d1 = (np.log(S/K) + (r - q + 0.5*sigma**2)*T) / (sigma*np.sqrt(T))\n",
        "    d2 = d1 - sigma*np.sqrt(T)\n",
        "    if option_type == \"call\": ##call price\n",
        "        return S*np.exp(-q*T)*norm.cdf(d1) - K*np.exp(-r*T)*norm.cdf(d2)\n",
        "    else: ##for put price\n",
        "        return K*np.exp(-r*T)*norm.cdf(-d2) - S*np.exp(-q*T)*norm.cdf(-d1)\n",
        "\n",
        "def yearfrac(start, end):\n",
        "    return (end - start).days / 365.0\n"
      ],
      "metadata": {
        "id": "eB892hxIeX-p"
      },
      "execution_count": 42,
      "outputs": []
    },
    {
      "cell_type": "code",
      "source": [
        "pred_series"
      ],
      "metadata": {
        "colab": {
          "base_uri": "https://localhost:8080/",
          "height": 490
        },
        "id": "zDuKUmCZ51os",
        "outputId": "2521b8e3-abe9-4674-e993-364b1310b953"
      },
      "execution_count": 71,
      "outputs": [
        {
          "output_type": "execute_result",
          "data": {
            "text/plain": [
              "Date\n",
              "2024-08-13    0.164475\n",
              "2024-08-14    0.166332\n",
              "2024-08-15    0.168481\n",
              "2024-08-16    0.167035\n",
              "2024-08-19    0.172340\n",
              "                ...   \n",
              "2025-08-08    0.147861\n",
              "2025-08-11    0.148303\n",
              "2025-08-12    0.145494\n",
              "2025-08-13    0.141415\n",
              "2025-08-14    0.138648\n",
              "Name: vol_lstm, Length: 252, dtype: float32"
            ],
            "text/html": [
              "<div>\n",
              "<style scoped>\n",
              "    .dataframe tbody tr th:only-of-type {\n",
              "        vertical-align: middle;\n",
              "    }\n",
              "\n",
              "    .dataframe tbody tr th {\n",
              "        vertical-align: top;\n",
              "    }\n",
              "\n",
              "    .dataframe thead th {\n",
              "        text-align: right;\n",
              "    }\n",
              "</style>\n",
              "<table border=\"1\" class=\"dataframe\">\n",
              "  <thead>\n",
              "    <tr style=\"text-align: right;\">\n",
              "      <th></th>\n",
              "      <th>vol_lstm</th>\n",
              "    </tr>\n",
              "    <tr>\n",
              "      <th>Date</th>\n",
              "      <th></th>\n",
              "    </tr>\n",
              "  </thead>\n",
              "  <tbody>\n",
              "    <tr>\n",
              "      <th>2024-08-13</th>\n",
              "      <td>0.164475</td>\n",
              "    </tr>\n",
              "    <tr>\n",
              "      <th>2024-08-14</th>\n",
              "      <td>0.166332</td>\n",
              "    </tr>\n",
              "    <tr>\n",
              "      <th>2024-08-15</th>\n",
              "      <td>0.168481</td>\n",
              "    </tr>\n",
              "    <tr>\n",
              "      <th>2024-08-16</th>\n",
              "      <td>0.167035</td>\n",
              "    </tr>\n",
              "    <tr>\n",
              "      <th>2024-08-19</th>\n",
              "      <td>0.172340</td>\n",
              "    </tr>\n",
              "    <tr>\n",
              "      <th>...</th>\n",
              "      <td>...</td>\n",
              "    </tr>\n",
              "    <tr>\n",
              "      <th>2025-08-08</th>\n",
              "      <td>0.147861</td>\n",
              "    </tr>\n",
              "    <tr>\n",
              "      <th>2025-08-11</th>\n",
              "      <td>0.148303</td>\n",
              "    </tr>\n",
              "    <tr>\n",
              "      <th>2025-08-12</th>\n",
              "      <td>0.145494</td>\n",
              "    </tr>\n",
              "    <tr>\n",
              "      <th>2025-08-13</th>\n",
              "      <td>0.141415</td>\n",
              "    </tr>\n",
              "    <tr>\n",
              "      <th>2025-08-14</th>\n",
              "      <td>0.138648</td>\n",
              "    </tr>\n",
              "  </tbody>\n",
              "</table>\n",
              "<p>252 rows × 1 columns</p>\n",
              "</div><br><label><b>dtype:</b> float32</label>"
            ]
          },
          "metadata": {},
          "execution_count": 71
        }
      ]
    },
    {
      "cell_type": "code",
      "source": [
        "pred_series.values"
      ],
      "metadata": {
        "colab": {
          "base_uri": "https://localhost:8080/"
        },
        "id": "P8ffse_T6Ahg",
        "outputId": "09fc54e6-9a29-4832-cb16-ba7d277a4db7"
      },
      "execution_count": 67,
      "outputs": [
        {
          "output_type": "execute_result",
          "data": {
            "text/plain": [
              "array([0.16447467, 0.16633211, 0.16848147, 0.16703482, 0.17234048,\n",
              "       0.17019074, 0.16898768, 0.1690319 , 0.1674611 , 0.16915397,\n",
              "       0.1698445 , 0.16240948, 0.16059268, 0.16008349, 0.15331802,\n",
              "       0.15176147, 0.1518766 , 0.1526238 , 0.14774546, 0.14430195,\n",
              "       0.14361347, 0.14238888, 0.14162351, 0.14252414, 0.14270847,\n",
              "       0.13877815, 0.13722076, 0.14101881, 0.14099701, 0.14055791,\n",
              "       0.13846879, 0.13776383, 0.13498333, 0.13689925, 0.13034971,\n",
              "       0.12931235, 0.1297343 , 0.12992051, 0.12516536, 0.12163779,\n",
              "       0.12293506, 0.1250176 , 0.12475217, 0.12630212, 0.1251402 ,\n",
              "       0.12348261, 0.1231404 , 0.12263609, 0.12153196, 0.1213607 ,\n",
              "       0.123063  , 0.12905665, 0.12597828, 0.12243246, 0.12145168,\n",
              "       0.12187517, 0.11935623, 0.12261279, 0.12186672, 0.12113877,\n",
              "       0.11650334, 0.13979208, 0.15440266, 0.15619281, 0.16618586,\n",
              "       0.16830651, 0.16970997, 0.17003132, 0.16999495, 0.17777692,\n",
              "       0.1807409 , 0.18058662, 0.18043323, 0.18122214, 0.19881366,\n",
              "       0.20343271, 0.20229171, 0.20223787, 0.20116091, 0.20098701,\n",
              "       0.19866379, 0.1964195 , 0.19449021, 0.19620514, 0.20040156,\n",
              "       0.20071083, 0.20301609, 0.20195273, 0.20147853, 0.20147507,\n",
              "       0.20708202, 0.19238754, 0.18473691, 0.18368237, 0.17336069,\n",
              "       0.16954339, 0.1682091 , 0.16823547, 0.16888463, 0.16558318,\n",
              "       0.16434711, 0.16371286, 0.1628759 , 0.15964852, 0.1398877 ,\n",
              "       0.1360752 , 0.13757977, 0.13815987, 0.13689189, 0.13726659,\n",
              "       0.142509  , 0.14292277, 0.14268097, 0.14146958, 0.14076921,\n",
              "       0.14037591, 0.1349586 , 0.13313001, 0.13312845, 0.13278893,\n",
              "       0.12126089, 0.11701601, 0.11619283, 0.11477595, 0.11931137,\n",
              "       0.1223093 , 0.1202055 , 0.11877484, 0.12743644, 0.13278608,\n",
              "       0.13068898, 0.1289355 , 0.1289817 , 0.12927324, 0.13504606,\n",
              "       0.13308251, 0.13953422, 0.14316818, 0.14605258, 0.14622882,\n",
              "       0.14189816, 0.14128235, 0.14137055, 0.14351583, 0.14307757,\n",
              "       0.14169931, 0.14591165, 0.14386974, 0.14285709, 0.14454979,\n",
              "       0.14402756, 0.14351739, 0.14526913, 0.14685163, 0.14178205,\n",
              "       0.13929285, 0.14234123, 0.14293084, 0.13920628, 0.13328095,\n",
              "       0.13147698, 0.13309069, 0.14884448, 0.16479146, 0.1646345 ,\n",
              "       0.1877741 , 0.19762175, 0.20044577, 0.20039955, 0.19974715,\n",
              "       0.21409273, 0.21760535, 0.2280011 , 0.23317567, 0.24629089,\n",
              "       0.25015303, 0.25002462, 0.25115314, 0.2540871 , 0.25495017,\n",
              "       0.26313454, 0.26413208, 0.27265042, 0.28139368, 0.28718036,\n",
              "       0.29474354, 0.2938205 , 0.3062125 , 0.3054381 , 0.31092188,\n",
              "       0.31457967, 0.3159697 , 0.30848745, 0.30235636, 0.30224347,\n",
              "       0.28815392, 0.28452745, 0.2854499 , 0.28507164, 0.28478256,\n",
              "       0.27027735, 0.27806914, 0.26771516, 0.26306725, 0.2543746 ,\n",
              "       0.2530086 , 0.2520969 , 0.24888483, 0.24737701, 0.2486732 ,\n",
              "       0.24320047, 0.24636081, 0.23448123, 0.21940349, 0.21344434,\n",
              "       0.20641582, 0.20909551, 0.19513068, 0.19108677, 0.18918273,\n",
              "       0.1871811 , 0.18464993, 0.18202317, 0.17661859, 0.17441955,\n",
              "       0.17511953, 0.16622649, 0.15736714, 0.1572618 , 0.15803389,\n",
              "       0.15774682, 0.14232214, 0.13532375, 0.13379206, 0.13910651,\n",
              "       0.13811144, 0.14110187, 0.14341849, 0.14541458, 0.14295726,\n",
              "       0.13756111, 0.13819754, 0.14052998, 0.15074894, 0.15484937,\n",
              "       0.15487885, 0.14866486, 0.14786115, 0.14830329, 0.14549391,\n",
              "       0.1414154 , 0.13864763], dtype=float32)"
            ]
          },
          "metadata": {},
          "execution_count": 67
        }
      ]
    },
    {
      "cell_type": "code",
      "source": [
        "# Let's say you have:\n",
        "# vol_naive, vol_roll, vol_garch, vol_rf, vol_lstm\n",
        "vol_df=pd.DataFrame()\n",
        "vol_df['naive']=pd.Series(naive_predictions)\n",
        "vol_df['rolling']=pd.Series(best_rolling_predictions)\n",
        "vol_df['garch']=pd.Series(garch_predictions_annualized)\n",
        "vol_df['rf']=pd.Series(rf_pred)\n",
        "vol_df['xgboost']=pd.Series(xgb_predictions)\n",
        "#vol_df['lstm']= pred_series.values\n",
        "# Step 1: Put them into a DataFrame aligned on their dates\n",
        "\n",
        "vol_df"
      ],
      "metadata": {
        "colab": {
          "base_uri": "https://localhost:8080/",
          "height": 424
        },
        "id": "pbhD2u7B4dBU",
        "outputId": "8ac1dee3-31e1-484e-eb45-e6703447e7ae"
      },
      "execution_count": 109,
      "outputs": [
        {
          "output_type": "execute_result",
          "data": {
            "text/plain": [
              "        naive   rolling     garch        rf   xgboost\n",
              "0    0.166329  0.166490  0.154854  0.173218  0.125833\n",
              "1    0.162037  0.165429  0.151304  0.159910  0.124405\n",
              "2    0.163845  0.164189  0.150336  0.160846  0.132363\n",
              "3    0.162570  0.163968  0.147165  0.161356  0.134991\n",
              "4    0.165060  0.163805  0.161355  0.166482  0.116186\n",
              "..        ...       ...       ...       ...       ...\n",
              "247  0.147727  0.146793  0.148548  0.146627       NaN\n",
              "248  0.144358  0.147246  0.144460  0.143586       NaN\n",
              "249  0.153442  0.148700  0.150459  0.151266       NaN\n",
              "250  0.152679  0.150049  0.146351  0.154395       NaN\n",
              "251  0.152039  0.151225  0.142754  0.155018       NaN\n",
              "\n",
              "[252 rows x 5 columns]"
            ],
            "text/html": [
              "\n",
              "  <div id=\"df-0aed9e9d-001b-4e9c-9d79-c519164347ae\" class=\"colab-df-container\">\n",
              "    <div>\n",
              "<style scoped>\n",
              "    .dataframe tbody tr th:only-of-type {\n",
              "        vertical-align: middle;\n",
              "    }\n",
              "\n",
              "    .dataframe tbody tr th {\n",
              "        vertical-align: top;\n",
              "    }\n",
              "\n",
              "    .dataframe thead th {\n",
              "        text-align: right;\n",
              "    }\n",
              "</style>\n",
              "<table border=\"1\" class=\"dataframe\">\n",
              "  <thead>\n",
              "    <tr style=\"text-align: right;\">\n",
              "      <th></th>\n",
              "      <th>naive</th>\n",
              "      <th>rolling</th>\n",
              "      <th>garch</th>\n",
              "      <th>rf</th>\n",
              "      <th>xgboost</th>\n",
              "    </tr>\n",
              "  </thead>\n",
              "  <tbody>\n",
              "    <tr>\n",
              "      <th>0</th>\n",
              "      <td>0.166329</td>\n",
              "      <td>0.166490</td>\n",
              "      <td>0.154854</td>\n",
              "      <td>0.173218</td>\n",
              "      <td>0.125833</td>\n",
              "    </tr>\n",
              "    <tr>\n",
              "      <th>1</th>\n",
              "      <td>0.162037</td>\n",
              "      <td>0.165429</td>\n",
              "      <td>0.151304</td>\n",
              "      <td>0.159910</td>\n",
              "      <td>0.124405</td>\n",
              "    </tr>\n",
              "    <tr>\n",
              "      <th>2</th>\n",
              "      <td>0.163845</td>\n",
              "      <td>0.164189</td>\n",
              "      <td>0.150336</td>\n",
              "      <td>0.160846</td>\n",
              "      <td>0.132363</td>\n",
              "    </tr>\n",
              "    <tr>\n",
              "      <th>3</th>\n",
              "      <td>0.162570</td>\n",
              "      <td>0.163968</td>\n",
              "      <td>0.147165</td>\n",
              "      <td>0.161356</td>\n",
              "      <td>0.134991</td>\n",
              "    </tr>\n",
              "    <tr>\n",
              "      <th>4</th>\n",
              "      <td>0.165060</td>\n",
              "      <td>0.163805</td>\n",
              "      <td>0.161355</td>\n",
              "      <td>0.166482</td>\n",
              "      <td>0.116186</td>\n",
              "    </tr>\n",
              "    <tr>\n",
              "      <th>...</th>\n",
              "      <td>...</td>\n",
              "      <td>...</td>\n",
              "      <td>...</td>\n",
              "      <td>...</td>\n",
              "      <td>...</td>\n",
              "    </tr>\n",
              "    <tr>\n",
              "      <th>247</th>\n",
              "      <td>0.147727</td>\n",
              "      <td>0.146793</td>\n",
              "      <td>0.148548</td>\n",
              "      <td>0.146627</td>\n",
              "      <td>NaN</td>\n",
              "    </tr>\n",
              "    <tr>\n",
              "      <th>248</th>\n",
              "      <td>0.144358</td>\n",
              "      <td>0.147246</td>\n",
              "      <td>0.144460</td>\n",
              "      <td>0.143586</td>\n",
              "      <td>NaN</td>\n",
              "    </tr>\n",
              "    <tr>\n",
              "      <th>249</th>\n",
              "      <td>0.153442</td>\n",
              "      <td>0.148700</td>\n",
              "      <td>0.150459</td>\n",
              "      <td>0.151266</td>\n",
              "      <td>NaN</td>\n",
              "    </tr>\n",
              "    <tr>\n",
              "      <th>250</th>\n",
              "      <td>0.152679</td>\n",
              "      <td>0.150049</td>\n",
              "      <td>0.146351</td>\n",
              "      <td>0.154395</td>\n",
              "      <td>NaN</td>\n",
              "    </tr>\n",
              "    <tr>\n",
              "      <th>251</th>\n",
              "      <td>0.152039</td>\n",
              "      <td>0.151225</td>\n",
              "      <td>0.142754</td>\n",
              "      <td>0.155018</td>\n",
              "      <td>NaN</td>\n",
              "    </tr>\n",
              "  </tbody>\n",
              "</table>\n",
              "<p>252 rows × 5 columns</p>\n",
              "</div>\n",
              "    <div class=\"colab-df-buttons\">\n",
              "\n",
              "  <div class=\"colab-df-container\">\n",
              "    <button class=\"colab-df-convert\" onclick=\"convertToInteractive('df-0aed9e9d-001b-4e9c-9d79-c519164347ae')\"\n",
              "            title=\"Convert this dataframe to an interactive table.\"\n",
              "            style=\"display:none;\">\n",
              "\n",
              "  <svg xmlns=\"http://www.w3.org/2000/svg\" height=\"24px\" viewBox=\"0 -960 960 960\">\n",
              "    <path d=\"M120-120v-720h720v720H120Zm60-500h600v-160H180v160Zm220 220h160v-160H400v160Zm0 220h160v-160H400v160ZM180-400h160v-160H180v160Zm440 0h160v-160H620v160ZM180-180h160v-160H180v160Zm440 0h160v-160H620v160Z\"/>\n",
              "  </svg>\n",
              "    </button>\n",
              "\n",
              "  <style>\n",
              "    .colab-df-container {\n",
              "      display:flex;\n",
              "      gap: 12px;\n",
              "    }\n",
              "\n",
              "    .colab-df-convert {\n",
              "      background-color: #E8F0FE;\n",
              "      border: none;\n",
              "      border-radius: 50%;\n",
              "      cursor: pointer;\n",
              "      display: none;\n",
              "      fill: #1967D2;\n",
              "      height: 32px;\n",
              "      padding: 0 0 0 0;\n",
              "      width: 32px;\n",
              "    }\n",
              "\n",
              "    .colab-df-convert:hover {\n",
              "      background-color: #E2EBFA;\n",
              "      box-shadow: 0px 1px 2px rgba(60, 64, 67, 0.3), 0px 1px 3px 1px rgba(60, 64, 67, 0.15);\n",
              "      fill: #174EA6;\n",
              "    }\n",
              "\n",
              "    .colab-df-buttons div {\n",
              "      margin-bottom: 4px;\n",
              "    }\n",
              "\n",
              "    [theme=dark] .colab-df-convert {\n",
              "      background-color: #3B4455;\n",
              "      fill: #D2E3FC;\n",
              "    }\n",
              "\n",
              "    [theme=dark] .colab-df-convert:hover {\n",
              "      background-color: #434B5C;\n",
              "      box-shadow: 0px 1px 3px 1px rgba(0, 0, 0, 0.15);\n",
              "      filter: drop-shadow(0px 1px 2px rgba(0, 0, 0, 0.3));\n",
              "      fill: #FFFFFF;\n",
              "    }\n",
              "  </style>\n",
              "\n",
              "    <script>\n",
              "      const buttonEl =\n",
              "        document.querySelector('#df-0aed9e9d-001b-4e9c-9d79-c519164347ae button.colab-df-convert');\n",
              "      buttonEl.style.display =\n",
              "        google.colab.kernel.accessAllowed ? 'block' : 'none';\n",
              "\n",
              "      async function convertToInteractive(key) {\n",
              "        const element = document.querySelector('#df-0aed9e9d-001b-4e9c-9d79-c519164347ae');\n",
              "        const dataTable =\n",
              "          await google.colab.kernel.invokeFunction('convertToInteractive',\n",
              "                                                    [key], {});\n",
              "        if (!dataTable) return;\n",
              "\n",
              "        const docLinkHtml = 'Like what you see? Visit the ' +\n",
              "          '<a target=\"_blank\" href=https://colab.research.google.com/notebooks/data_table.ipynb>data table notebook</a>'\n",
              "          + ' to learn more about interactive tables.';\n",
              "        element.innerHTML = '';\n",
              "        dataTable['output_type'] = 'display_data';\n",
              "        await google.colab.output.renderOutput(dataTable, element);\n",
              "        const docLink = document.createElement('div');\n",
              "        docLink.innerHTML = docLinkHtml;\n",
              "        element.appendChild(docLink);\n",
              "      }\n",
              "    </script>\n",
              "  </div>\n",
              "\n",
              "\n",
              "    <div id=\"df-5a9cdc79-a186-4dbd-bbc0-365b12a7d326\">\n",
              "      <button class=\"colab-df-quickchart\" onclick=\"quickchart('df-5a9cdc79-a186-4dbd-bbc0-365b12a7d326')\"\n",
              "                title=\"Suggest charts\"\n",
              "                style=\"display:none;\">\n",
              "\n",
              "<svg xmlns=\"http://www.w3.org/2000/svg\" height=\"24px\"viewBox=\"0 0 24 24\"\n",
              "     width=\"24px\">\n",
              "    <g>\n",
              "        <path d=\"M19 3H5c-1.1 0-2 .9-2 2v14c0 1.1.9 2 2 2h14c1.1 0 2-.9 2-2V5c0-1.1-.9-2-2-2zM9 17H7v-7h2v7zm4 0h-2V7h2v10zm4 0h-2v-4h2v4z\"/>\n",
              "    </g>\n",
              "</svg>\n",
              "      </button>\n",
              "\n",
              "<style>\n",
              "  .colab-df-quickchart {\n",
              "      --bg-color: #E8F0FE;\n",
              "      --fill-color: #1967D2;\n",
              "      --hover-bg-color: #E2EBFA;\n",
              "      --hover-fill-color: #174EA6;\n",
              "      --disabled-fill-color: #AAA;\n",
              "      --disabled-bg-color: #DDD;\n",
              "  }\n",
              "\n",
              "  [theme=dark] .colab-df-quickchart {\n",
              "      --bg-color: #3B4455;\n",
              "      --fill-color: #D2E3FC;\n",
              "      --hover-bg-color: #434B5C;\n",
              "      --hover-fill-color: #FFFFFF;\n",
              "      --disabled-bg-color: #3B4455;\n",
              "      --disabled-fill-color: #666;\n",
              "  }\n",
              "\n",
              "  .colab-df-quickchart {\n",
              "    background-color: var(--bg-color);\n",
              "    border: none;\n",
              "    border-radius: 50%;\n",
              "    cursor: pointer;\n",
              "    display: none;\n",
              "    fill: var(--fill-color);\n",
              "    height: 32px;\n",
              "    padding: 0;\n",
              "    width: 32px;\n",
              "  }\n",
              "\n",
              "  .colab-df-quickchart:hover {\n",
              "    background-color: var(--hover-bg-color);\n",
              "    box-shadow: 0 1px 2px rgba(60, 64, 67, 0.3), 0 1px 3px 1px rgba(60, 64, 67, 0.15);\n",
              "    fill: var(--button-hover-fill-color);\n",
              "  }\n",
              "\n",
              "  .colab-df-quickchart-complete:disabled,\n",
              "  .colab-df-quickchart-complete:disabled:hover {\n",
              "    background-color: var(--disabled-bg-color);\n",
              "    fill: var(--disabled-fill-color);\n",
              "    box-shadow: none;\n",
              "  }\n",
              "\n",
              "  .colab-df-spinner {\n",
              "    border: 2px solid var(--fill-color);\n",
              "    border-color: transparent;\n",
              "    border-bottom-color: var(--fill-color);\n",
              "    animation:\n",
              "      spin 1s steps(1) infinite;\n",
              "  }\n",
              "\n",
              "  @keyframes spin {\n",
              "    0% {\n",
              "      border-color: transparent;\n",
              "      border-bottom-color: var(--fill-color);\n",
              "      border-left-color: var(--fill-color);\n",
              "    }\n",
              "    20% {\n",
              "      border-color: transparent;\n",
              "      border-left-color: var(--fill-color);\n",
              "      border-top-color: var(--fill-color);\n",
              "    }\n",
              "    30% {\n",
              "      border-color: transparent;\n",
              "      border-left-color: var(--fill-color);\n",
              "      border-top-color: var(--fill-color);\n",
              "      border-right-color: var(--fill-color);\n",
              "    }\n",
              "    40% {\n",
              "      border-color: transparent;\n",
              "      border-right-color: var(--fill-color);\n",
              "      border-top-color: var(--fill-color);\n",
              "    }\n",
              "    60% {\n",
              "      border-color: transparent;\n",
              "      border-right-color: var(--fill-color);\n",
              "    }\n",
              "    80% {\n",
              "      border-color: transparent;\n",
              "      border-right-color: var(--fill-color);\n",
              "      border-bottom-color: var(--fill-color);\n",
              "    }\n",
              "    90% {\n",
              "      border-color: transparent;\n",
              "      border-bottom-color: var(--fill-color);\n",
              "    }\n",
              "  }\n",
              "</style>\n",
              "\n",
              "      <script>\n",
              "        async function quickchart(key) {\n",
              "          const quickchartButtonEl =\n",
              "            document.querySelector('#' + key + ' button');\n",
              "          quickchartButtonEl.disabled = true;  // To prevent multiple clicks.\n",
              "          quickchartButtonEl.classList.add('colab-df-spinner');\n",
              "          try {\n",
              "            const charts = await google.colab.kernel.invokeFunction(\n",
              "                'suggestCharts', [key], {});\n",
              "          } catch (error) {\n",
              "            console.error('Error during call to suggestCharts:', error);\n",
              "          }\n",
              "          quickchartButtonEl.classList.remove('colab-df-spinner');\n",
              "          quickchartButtonEl.classList.add('colab-df-quickchart-complete');\n",
              "        }\n",
              "        (() => {\n",
              "          let quickchartButtonEl =\n",
              "            document.querySelector('#df-5a9cdc79-a186-4dbd-bbc0-365b12a7d326 button');\n",
              "          quickchartButtonEl.style.display =\n",
              "            google.colab.kernel.accessAllowed ? 'block' : 'none';\n",
              "        })();\n",
              "      </script>\n",
              "    </div>\n",
              "\n",
              "  <div id=\"id_9c70d411-0712-47f2-9e5b-d84390c5c66c\">\n",
              "    <style>\n",
              "      .colab-df-generate {\n",
              "        background-color: #E8F0FE;\n",
              "        border: none;\n",
              "        border-radius: 50%;\n",
              "        cursor: pointer;\n",
              "        display: none;\n",
              "        fill: #1967D2;\n",
              "        height: 32px;\n",
              "        padding: 0 0 0 0;\n",
              "        width: 32px;\n",
              "      }\n",
              "\n",
              "      .colab-df-generate:hover {\n",
              "        background-color: #E2EBFA;\n",
              "        box-shadow: 0px 1px 2px rgba(60, 64, 67, 0.3), 0px 1px 3px 1px rgba(60, 64, 67, 0.15);\n",
              "        fill: #174EA6;\n",
              "      }\n",
              "\n",
              "      [theme=dark] .colab-df-generate {\n",
              "        background-color: #3B4455;\n",
              "        fill: #D2E3FC;\n",
              "      }\n",
              "\n",
              "      [theme=dark] .colab-df-generate:hover {\n",
              "        background-color: #434B5C;\n",
              "        box-shadow: 0px 1px 3px 1px rgba(0, 0, 0, 0.15);\n",
              "        filter: drop-shadow(0px 1px 2px rgba(0, 0, 0, 0.3));\n",
              "        fill: #FFFFFF;\n",
              "      }\n",
              "    </style>\n",
              "    <button class=\"colab-df-generate\" onclick=\"generateWithVariable('vol_df')\"\n",
              "            title=\"Generate code using this dataframe.\"\n",
              "            style=\"display:none;\">\n",
              "\n",
              "  <svg xmlns=\"http://www.w3.org/2000/svg\" height=\"24px\"viewBox=\"0 0 24 24\"\n",
              "       width=\"24px\">\n",
              "    <path d=\"M7,19H8.4L18.45,9,17,7.55,7,17.6ZM5,21V16.75L18.45,3.32a2,2,0,0,1,2.83,0l1.4,1.43a1.91,1.91,0,0,1,.58,1.4,1.91,1.91,0,0,1-.58,1.4L9.25,21ZM18.45,9,17,7.55Zm-12,3A5.31,5.31,0,0,0,4.9,8.1,5.31,5.31,0,0,0,1,6.5,5.31,5.31,0,0,0,4.9,4.9,5.31,5.31,0,0,0,6.5,1,5.31,5.31,0,0,0,8.1,4.9,5.31,5.31,0,0,0,12,6.5,5.46,5.46,0,0,0,6.5,12Z\"/>\n",
              "  </svg>\n",
              "    </button>\n",
              "    <script>\n",
              "      (() => {\n",
              "      const buttonEl =\n",
              "        document.querySelector('#id_9c70d411-0712-47f2-9e5b-d84390c5c66c button.colab-df-generate');\n",
              "      buttonEl.style.display =\n",
              "        google.colab.kernel.accessAllowed ? 'block' : 'none';\n",
              "\n",
              "      buttonEl.onclick = () => {\n",
              "        google.colab.notebook.generateWithVariable('vol_df');\n",
              "      }\n",
              "      })();\n",
              "    </script>\n",
              "  </div>\n",
              "\n",
              "    </div>\n",
              "  </div>\n"
            ],
            "application/vnd.google.colaboratory.intrinsic+json": {
              "type": "dataframe",
              "variable_name": "vol_df",
              "summary": "{\n  \"name\": \"vol_df\",\n  \"rows\": 252,\n  \"fields\": [\n    {\n      \"column\": \"naive\",\n      \"properties\": {\n        \"dtype\": \"number\",\n        \"std\": 0.05546787737964072,\n        \"min\": 0.10229576330744009,\n        \"max\": 0.3148009877059696,\n        \"num_unique_values\": 252,\n        \"samples\": [\n          0.20957585623628625,\n          0.16552871549050985,\n          0.11589279601027382\n        ],\n        \"semantic_type\": \"\",\n        \"description\": \"\"\n      }\n    },\n    {\n      \"column\": \"rolling\",\n      \"properties\": {\n        \"dtype\": \"number\",\n        \"std\": 0.05481196031045869,\n        \"min\": 0.10711890422867718,\n        \"max\": 0.3080691177839773,\n        \"num_unique_values\": 252,\n        \"samples\": [\n          0.18404819391830343,\n          0.16467729350625948,\n          0.12105981885552701\n        ],\n        \"semantic_type\": \"\",\n        \"description\": \"\"\n      }\n    },\n    {\n      \"column\": \"garch\",\n      \"properties\": {\n        \"dtype\": \"number\",\n        \"std\": 0.03645878010760033,\n        \"min\": 0.12291463045482305,\n        \"max\": 0.2622707191809646,\n        \"num_unique_values\": 252,\n        \"samples\": [\n          0.20093422685147885,\n          0.15441556680040017,\n          0.14125480282803526\n        ],\n        \"semantic_type\": \"\",\n        \"description\": \"\"\n      }\n    },\n    {\n      \"column\": \"rf\",\n      \"properties\": {\n        \"dtype\": \"number\",\n        \"std\": 0.054678887298132306,\n        \"min\": 0.10347467769331105,\n        \"max\": 0.31600207156930293,\n        \"num_unique_values\": 252,\n        \"samples\": [\n          0.20356143129290255,\n          0.16204509675757323,\n          0.11649682328488226\n        ],\n        \"semantic_type\": \"\",\n        \"description\": \"\"\n      }\n    },\n    {\n      \"column\": \"xgboost\",\n      \"properties\": {\n        \"dtype\": \"float32\",\n        \"num_unique_values\": 227,\n        \"samples\": [\n          0.12157365679740906,\n          0.20377667248249054,\n          0.13089941442012787\n        ],\n        \"semantic_type\": \"\",\n        \"description\": \"\"\n      }\n    }\n  ]\n}"
            }
          },
          "metadata": {},
          "execution_count": 109
        }
      ]
    },
    {
      "cell_type": "code",
      "source": [
        "pred_df = pred_series.rename(\"vol_lstm\").reset_index()\n",
        "\n",
        "# Now concat row-wise\n",
        "vol_df = pd.concat([vol_df, pred_df], axis=1)\n"
      ],
      "metadata": {
        "id": "Raojqq_b7shJ"
      },
      "execution_count": 110,
      "outputs": []
    },
    {
      "cell_type": "code",
      "source": [
        "vol_df['Date']=pred_series.index"
      ],
      "metadata": {
        "id": "B5K-miHE8YnD"
      },
      "execution_count": 111,
      "outputs": []
    },
    {
      "cell_type": "code",
      "source": [
        "vol_df = vol_df.set_index(\"Date\", drop=True)\n"
      ],
      "metadata": {
        "id": "5We6K1RM8lYy"
      },
      "execution_count": 112,
      "outputs": []
    },
    {
      "cell_type": "code",
      "source": [
        "vol_df"
      ],
      "metadata": {
        "colab": {
          "base_uri": "https://localhost:8080/",
          "height": 180
        },
        "id": "mXokVk5U9FFK",
        "outputId": "2d6d4692-561b-4e09-ca42-414eea9e72eb"
      },
      "execution_count": 1,
      "outputs": [
        {
          "output_type": "error",
          "ename": "NameError",
          "evalue": "name 'vol_df' is not defined",
          "traceback": [
            "\u001b[0;31m---------------------------------------------------------------------------\u001b[0m",
            "\u001b[0;31mNameError\u001b[0m                                 Traceback (most recent call last)",
            "\u001b[0;32m/tmp/ipython-input-2758102058.py\u001b[0m in \u001b[0;36m<cell line: 0>\u001b[0;34m()\u001b[0m\n\u001b[0;32m----> 1\u001b[0;31m \u001b[0mvol_df\u001b[0m\u001b[0;34m\u001b[0m\u001b[0;34m\u001b[0m\u001b[0m\n\u001b[0m",
            "\u001b[0;31mNameError\u001b[0m: name 'vol_df' is not defined"
          ]
        }
      ]
    },
    {
      "cell_type": "code",
      "source": [
        "def horizon_sigma_annual(vol_annual_series, start_date, expiry_date, td_per_year=252):\n",
        "    v_annual = vol_annual_series.sort_index()\n",
        "    fwd = v_annual.loc[v_annual.index > start_date]\n",
        "    N_days = len(fwd.loc[fwd.index <= expiry_date])\n",
        "    if N_days <= 0: return np.nan\n",
        "    var_daily = (fwd.iloc[:N_days]**2) / td_per_year\n",
        "    ivar = var_daily.sum()\n",
        "    return np.sqrt(ivar / N_days * td_per_year)\n"
      ],
      "metadata": {
        "id": "2nnW0GYOeYAR"
      },
      "execution_count": 86,
      "outputs": []
    },
    {
      "cell_type": "code",
      "source": [
        "def get_chain(expiry_str):\n",
        "    chain = ticker.option_chain(expiry_str)\n",
        "    calls = chain.calls.copy()\n",
        "    puts = chain.puts.copy()\n",
        "    for df in (calls, puts):\n",
        "        df[\"mid\"] = (df[\"bid\"].fillna(0) + df[\"ask\"].fillna(0)) / 2\n",
        "    return calls, puts\n",
        "\"\"\"\n",
        "    vol_series: pd.Series of daily ANNUALIZED sigma forecasts indexed by date (sigma_annual for day t)\n",
        "    start_date: asof date (forecast date)\n",
        "    expiry_date: expiry (Timestamp)\n",
        "    returns: sigma_T as annualized sigma for the expiry horizon\n",
        "    \"\"\"\n",
        "def clean_chain(df, min_oi=10, max_rel_spread=0.25):\n",
        "\n",
        "    q = df[(df[\"bid\"] > 0) & (df[\"ask\"] > 0)].copy()\n",
        "    if \"openInterest\" in q.columns:\n",
        "        q = q[q[\"openInterest\"] >= min_oi]\n",
        "    q[\"rel_spread\"] = (q[\"ask\"] - q[\"bid\"]) / q[\"mid\"].replace(0, np.nan)\n",
        "    q = q[(q[\"rel_spread\"] >= 0) & (q[\"rel_spread\"] <= max_rel_spread)]\n",
        "    return q.dropna(subset=[\"mid\",\"strike\"])\n",
        "\"\"\"\n",
        "    Filters illiquid quotes and extreme spreads.\n",
        "    Expects columns: ['strike','bid','ask','openInterest' (optional)]\n",
        "    \"\"\"\n",
        "\n"
      ],
      "metadata": {
        "colab": {
          "base_uri": "https://localhost:8080/",
          "height": 53
        },
        "id": "Dw47CemaeYCG",
        "outputId": "b21a846e-ab93-4e56-b45a-dc52831c6107"
      },
      "execution_count": 91,
      "outputs": [
        {
          "output_type": "execute_result",
          "data": {
            "text/plain": [
              "\"\\n    Filters illiquid quotes and extreme spreads.\\n    Expects columns: ['strike','bid','ask','openInterest' (optional)]\\n    \""
            ],
            "application/vnd.google.colaboratory.intrinsic+json": {
              "type": "string"
            }
          },
          "metadata": {},
          "execution_count": 91
        }
      ]
    },
    {
      "cell_type": "code",
      "source": [
        "pip install fredapi"
      ],
      "metadata": {
        "colab": {
          "base_uri": "https://localhost:8080/"
        },
        "id": "LXnITj-BAo_M",
        "outputId": "3ec8d44f-51d0-458a-ce4d-c8d8b28b61ae"
      },
      "execution_count": 100,
      "outputs": [
        {
          "output_type": "stream",
          "name": "stdout",
          "text": [
            "Collecting fredapi\n",
            "  Downloading fredapi-0.5.2-py3-none-any.whl.metadata (5.0 kB)\n",
            "Requirement already satisfied: pandas in /usr/local/lib/python3.11/dist-packages (from fredapi) (2.2.2)\n",
            "Requirement already satisfied: numpy>=1.23.2 in /usr/local/lib/python3.11/dist-packages (from pandas->fredapi) (2.0.2)\n",
            "Requirement already satisfied: python-dateutil>=2.8.2 in /usr/local/lib/python3.11/dist-packages (from pandas->fredapi) (2.9.0.post0)\n",
            "Requirement already satisfied: pytz>=2020.1 in /usr/local/lib/python3.11/dist-packages (from pandas->fredapi) (2025.2)\n",
            "Requirement already satisfied: tzdata>=2022.7 in /usr/local/lib/python3.11/dist-packages (from pandas->fredapi) (2025.2)\n",
            "Requirement already satisfied: six>=1.5 in /usr/local/lib/python3.11/dist-packages (from python-dateutil>=2.8.2->pandas->fredapi) (1.17.0)\n",
            "Downloading fredapi-0.5.2-py3-none-any.whl (11 kB)\n",
            "Installing collected packages: fredapi\n",
            "Successfully installed fredapi-0.5.2\n"
          ]
        }
      ]
    },
    {
      "cell_type": "code",
      "source": [
        "\n",
        "import pandas as pd\n",
        "from fredapi import Fred\n",
        "\n",
        "# Replace with your API key\n",
        "fred = Fred(api_key=\"90a1151337f4fb933acc9504928ab857\")\n",
        "\n",
        "fred_series = {\n",
        "    '1m': 'DTB1',     # 1-Month T-Bill\n",
        "    '3m': 'DTB3',     # 3-Month T-Bill\n",
        "    '6m': 'DTB6',     # 6-Month T-Bill\n",
        "    '1y': 'DGS1',      # 1-Year Treasury Constant Maturity\n",
        "    '2y': 'DGS2',      # 2-Year Treasury Constant Maturity\n",
        "}\n",
        "\n",
        "start_date = '2015-01-01'\n",
        "end_date = '2025-08-14'\n",
        "\n",
        "# Download each series and merge into one DataFrame\n",
        "rates = pd.DataFrame({name: fred.get_series(code, observation_start=start_date, observation_end=end_date)\n",
        "                      for name, code in fred_series.items()})\n",
        "\n",
        "# Forward-fill missing data (common for holidays/weekends)\n",
        "rates = rates.ffill()\n",
        "\n",
        "print(rates.tail())\n"
      ],
      "metadata": {
        "colab": {
          "base_uri": "https://localhost:8080/"
        },
        "id": "gzO1oukneYIm",
        "outputId": "80e2f234-fabf-4b86-f156-b5bbdede2179"
      },
      "execution_count": 103,
      "outputs": [
        {
          "output_type": "stream",
          "name": "stdout",
          "text": [
            "                     1m    3m    6m    1y    2y\n",
            "2025-08-08 00:00:00 NaN  4.14  3.99  3.93  3.76\n",
            "2025-08-11 00:00:00 NaN  4.15  3.97  3.93  3.76\n",
            "2025-08-12 00:00:00 NaN  4.14  3.95  3.90  3.72\n",
            "2025-08-13 00:00:00 NaN  4.11  3.92  3.86  3.67\n",
            "2025-08-14 00:00:00 NaN  4.12  3.95  3.91  3.74\n"
          ]
        },
        {
          "output_type": "stream",
          "name": "stderr",
          "text": [
            "/tmp/ipython-input-1505201299.py:23: FutureWarning:\n",
            "\n",
            "Downcasting object dtype arrays on .fillna, .ffill, .bfill is deprecated and will change in a future version. Call result.infer_objects(copy=False) instead. To opt-in to the future behavior, set `pd.set_option('future.no_silent_downcasting', True)`\n",
            "\n"
          ]
        }
      ]
    },
    {
      "cell_type": "code",
      "source": [
        "# Replace 1m NaN with 3m as proxy\n",
        "rates['1m'] = rates['1m'].fillna(rates['3m'])\n",
        "print(rates.tail())\n"
      ],
      "metadata": {
        "colab": {
          "base_uri": "https://localhost:8080/"
        },
        "id": "nLOiqTbqCDrO",
        "outputId": "f0f9b462-e4e7-45e9-abc6-c1f9b184ef72"
      },
      "execution_count": 104,
      "outputs": [
        {
          "output_type": "stream",
          "name": "stdout",
          "text": [
            "                       1m    3m    6m    1y    2y\n",
            "2025-08-08 00:00:00  4.14  4.14  3.99  3.93  3.76\n",
            "2025-08-11 00:00:00  4.15  4.15  3.97  3.93  3.76\n",
            "2025-08-12 00:00:00  4.14  4.14  3.95  3.90  3.72\n",
            "2025-08-13 00:00:00  4.11  4.11  3.92  3.86  3.67\n",
            "2025-08-14 00:00:00  4.12  4.12  3.95  3.91  3.74\n"
          ]
        }
      ]
    },
    {
      "cell_type": "code",
      "source": [
        "risk_free_dict = {\n",
        "    \"short\": 0.0414,   # for < 1 month (or use 1M proxy)\n",
        "    \"1m\": 0.0414,\n",
        "    \"3m\": 0.0414,\n",
        "    \"6m\": 0.0399,\n",
        "    \"1y\": 0.0393\n",
        "}"
      ],
      "metadata": {
        "id": "U7RfKo9FCsAs"
      },
      "execution_count": 106,
      "outputs": []
    },
    {
      "cell_type": "code",
      "source": [
        "r_curve = {\"short\": 0.0425, \"med\": 0.0393, \"long\": 0.0376}\n",
        "\n",
        "def pick_r(T_years):\n",
        "    days = T_years * 365\n",
        "    if days <= 90: return r_curve[\"short\"]\n",
        "    elif days <= 180: return r_curve[\"med\"]\n",
        "    else: return r_curve[\"long\"]\n"
      ],
      "metadata": {
        "id": "ydGAjqcwYjsc"
      },
      "execution_count": 85,
      "outputs": []
    },
    {
      "cell_type": "code",
      "source": [
        "forecast_cutoff = asof - pd.Timedelta(days=1)  # forecasts must be based on data up to this date\n",
        "ticker_symbol = \"GLD\"\n",
        "target_months = [(2025,9), (2025,11), (2026,2)]  # Sep 2025, Nov 2025, Feb 2026\n",
        "ticker = yf.Ticker(ticker_symbol)\n",
        "hist = ticker.history(start=(forecast_cutoff - pd.Timedelta(days=7)).strftime(\"%Y-%m-%d\"),\n",
        "                      end=(asof + pd.Timedelta(days=1)).strftime(\"%Y-%m-%d\"))\n",
        "# prefer the close on forecast_cutoff (prior close)\n",
        "if forecast_cutoff.strftime(\"%Y-%m-%d\") in hist.index.strftime(\"%Y-%m-%d\").tolist():\n",
        "    S0 = float(hist.loc[hist.index.strftime(\"%Y-%m-%d\") == forecast_cutoff.strftime(\"%Y-%m-%d\")]['Close'].iloc[0])\n",
        "else:\n",
        "    S0 = float(hist['Close'].iloc[-2])  # fallback\n",
        "print(\"Spot (S0) used for pricing (prior close):\", S0)"
      ],
      "metadata": {
        "colab": {
          "base_uri": "https://localhost:8080/"
        },
        "id": "N4Cpzt5Xov-2",
        "outputId": "e1771f24-14df-4a80-a672-b1a928b3ad63"
      },
      "execution_count": 94,
      "outputs": [
        {
          "output_type": "stream",
          "name": "stdout",
          "text": [
            "Spot (S0) used for pricing (prior close): 307.25\n"
          ]
        }
      ]
    },
    {
      "cell_type": "code",
      "source": [
        "# Get available expiries from yfinance\n",
        "available_expiries = [pd.Timestamp(x) for x in ticker.options]\n",
        "available_expiries = sorted([d for d in available_expiries if d > asof])\n",
        "\n",
        "# helper to choose the first expiry at or after each target (year,month)\n",
        "chosen = []\n",
        "for (yy, mm) in target_months:\n",
        "    # target date is first of that month\n",
        "    target_date = pd.Timestamp(year=yy, month=mm, day=1)\n",
        "    candidates = [d for d in available_expiries if d >= target_date]\n",
        "    if candidates:\n",
        "        chosen.append(candidates[0])\n",
        "\n",
        "chosen = sorted(list(dict.fromkeys(chosen)))  # unique sorted\n",
        "print(\"Chosen expiries (from available yfinance expiries):\", chosen)\n"
      ],
      "metadata": {
        "colab": {
          "base_uri": "https://localhost:8080/"
        },
        "id": "2W4M-GponvJx",
        "outputId": "9c4c429f-611f-472c-e774-0d13891f76f6"
      },
      "execution_count": 95,
      "outputs": [
        {
          "output_type": "stream",
          "name": "stdout",
          "text": [
            "Chosen expiries (from available yfinance expiries): [Timestamp('2025-09-05 00:00:00'), Timestamp('2025-11-21 00:00:00'), Timestamp('2026-03-20 00:00:00')]\n"
          ]
        }
      ]
    },
    {
      "cell_type": "code",
      "source": [
        "import pandas as pd\n",
        "import numpy as np\n",
        "\n",
        "def prepare_option_inputs(spot_series, vol_dict, rates_dict, expiry_dates, valuation_date):\n",
        "    \"\"\"\n",
        "    spot_series: pd.Series of ETF close prices (indexed by date)\n",
        "    vol_dict: dict of {model_name: pd.Series of forecast volatilities}\n",
        "    rates_dict: dict of {expiry_label: risk-free rate (as decimal)}\n",
        "    expiry_dates: dict of {expiry_label: expiry_date (datetime)}\n",
        "    valuation_date: datetime of pricing\n",
        "    \"\"\"\n",
        "    # Spot price on valuation date\n",
        "    S = spot_series.loc[valuation_date]\n",
        "\n",
        "    # Collect inputs into a table\n",
        "    rows = []\n",
        "    for expiry_label, expiry_date in expiry_dates.items():\n",
        "        T = (expiry_date - valuation_date).days / 365.0\n",
        "        r = rates_dict.get(expiry_label, np.nan)\n",
        "\n",
        "        for model_name, vol_series in vol_dict.items():\n",
        "            sigma = vol_series.loc[valuation_date] if valuation_date in vol_series.index else np.nan\n",
        "            rows.append({\n",
        "                \"expiry\": expiry_label,\n",
        "                \"expiry_date\": expiry_date,\n",
        "                \"valuation_date\": valuation_date,\n",
        "                \"spot\": S,\n",
        "                \"r\": r,\n",
        "                \"T\": T,\n",
        "                \"model\": model_name,\n",
        "                \"sigma\": sigma\n",
        "            })\n",
        "\n",
        "    return pd.DataFrame(rows)\n"
      ],
      "metadata": {
        "id": "B6pd6ngWnvOr"
      },
      "execution_count": 1,
      "outputs": []
    },
    {
      "cell_type": "code",
      "source": [
        "from scipy.stats import norm\n",
        "\n",
        "def black_scholes_call(S, K, T, r, sigma):\n",
        "    if T <= 0 or sigma <= 0 or np.isnan(S) or np.isnan(K) or np.isnan(r) or np.isnan(sigma):\n",
        "        return np.nan\n",
        "    d1 = (np.log(S/K) + (r + 0.5*sigma**2)*T) / (sigma*np.sqrt(T))\n",
        "    d2 = d1 - sigma*np.sqrt(T)\n",
        "    return S*norm.cdf(d1) - K*np.exp(-r*T)*norm.cdf(d2)\n",
        "\n",
        "def compute_option_prices(inputs_df, strikes, market_prices=None):\n",
        "    results = []\n",
        "    for _, row in inputs_df.iterrows():\n",
        "        for K in strikes:\n",
        "            model_price = black_scholes_call(row['spot'], K, row['T'], row['r'], row['sigma'])\n",
        "            err = np.nan\n",
        "            if market_prices is not None:\n",
        "                # compare against actual market option price (if provided)\n",
        "                mkt = market_prices.get((row['expiry'], K), np.nan)\n",
        "                err = abs(model_price - mkt) if not np.isnan(mkt) else np.nan\n",
        "            results.append({\n",
        "                \"valuation_date\": row['valuation_date'],\n",
        "                \"expiry\": row['expiry'],\n",
        "                \"model\": row['model'],\n",
        "                \"strike\": K,\n",
        "                \"sigma_T\": row['sigma'],\n",
        "                \"model_price\": model_price,\n",
        "                \"error\": err\n",
        "            })\n",
        "    return pd.DataFrame(results)\n"
      ],
      "metadata": {
        "id": "Oiyp5uqInvW5"
      },
      "execution_count": 2,
      "outputs": []
    },
    {
      "cell_type": "code",
      "source": [
        "def summarize_option_prices(results_df):\n",
        "    pivot = results_df.pivot_table(\n",
        "        index=[\"expiry\", \"strike\"],\n",
        "        columns=\"model\",\n",
        "        values=\"model_price\"\n",
        "    )\n",
        "    return pivot.reset_index()\n"
      ],
      "metadata": {
        "id": "ICzJFdi9NoLZ"
      },
      "execution_count": 3,
      "outputs": []
    },
    {
      "cell_type": "code",
      "source": [
        "def add_market_prices(summary_df, market_prices):\n",
        "    \"\"\"\n",
        "    market_prices: dict like {(expiry, strike): price}\n",
        "    \"\"\"\n",
        "    summary_df[\"market_price\"] = summary_df.apply(\n",
        "        lambda row: market_prices.get((row[\"expiry\"], row[\"strike\"]), np.nan), axis=1\n",
        "    )\n",
        "    return summary_df\n"
      ],
      "metadata": {
        "id": "G45a-DbdNoO9"
      },
      "execution_count": 4,
      "outputs": []
    },
    {
      "cell_type": "code",
      "source": [
        "def evaluate_models(results_df, market_prices):\n",
        "    metrics = []\n",
        "    for model in results_df[\"model\"].unique():\n",
        "        model_df = results_df[results_df[\"model\"] == model].copy()\n",
        "        model_df[\"mkt\"] = model_df.apply(\n",
        "            lambda r: market_prices.get((r[\"expiry\"], r[\"strike\"]), np.nan), axis=1\n",
        "        )\n",
        "        model_df = model_df.dropna(subset=[\"mkt\", \"model_price\"])\n",
        "        if not model_df.empty:\n",
        "            mae = (abs(model_df[\"model_price\"] - model_df[\"mkt\"])).mean()\n",
        "            rmse = np.sqrt(((model_df[\"model_price\"] - model_df[\"mkt\"])**2).mean())\n",
        "            metrics.append({\"model\": model, \"MAE\": mae, \"RMSE\": rmse})\n",
        "    return pd.DataFrame(metrics)\n"
      ],
      "metadata": {
        "id": "FIRvVuniNoRp"
      },
      "execution_count": 5,
      "outputs": []
    },
    {
      "cell_type": "code",
      "source": [
        "import matplotlib.pyplot as plt\n",
        "\n",
        "def plot_model_vs_market(summary_df, expiry):\n",
        "    subset = summary_df[summary_df[\"expiry\"] == expiry]\n",
        "    plt.figure(figsize=(8,5))\n",
        "    for col in subset.columns:\n",
        "        if col not in [\"expiry\", \"strike\", \"market_price\"]:\n",
        "            plt.plot(subset[\"strike\"], subset[col], label=col)\n",
        "    plt.scatter(subset[\"strike\"], subset[\"market_price\"], color=\"black\", marker=\"x\", label=\"Market\")\n",
        "    plt.title(f\"Option Pricing Comparison – {expiry}\")\n",
        "    plt.xlabel(\"Strike\")\n",
        "    plt.ylabel(\"Call Price\")\n",
        "    plt.legend()\n",
        "    plt.show()\n"
      ],
      "metadata": {
        "id": "hUppFJtUNoVo"
      },
      "execution_count": 6,
      "outputs": []
    },
    {
      "cell_type": "code",
      "source": [],
      "metadata": {
        "id": "VmMLtIQONocF"
      },
      "execution_count": null,
      "outputs": []
    },
    {
      "cell_type": "code",
      "source": [],
      "metadata": {
        "id": "D1PKA5zoU1zZ"
      },
      "execution_count": null,
      "outputs": []
    },
    {
      "cell_type": "code",
      "source": [],
      "metadata": {
        "id": "SlarCubJU12f"
      },
      "execution_count": null,
      "outputs": []
    },
    {
      "cell_type": "code",
      "source": [],
      "metadata": {
        "id": "bQdgstMLU153"
      },
      "execution_count": null,
      "outputs": []
    },
    {
      "cell_type": "code",
      "source": [],
      "metadata": {
        "id": "SYuJK1EmU2BQ"
      },
      "execution_count": null,
      "outputs": []
    },
    {
      "cell_type": "code",
      "source": [],
      "metadata": {
        "id": "2jrOEF7QU2PP"
      },
      "execution_count": null,
      "outputs": []
    },
    {
      "cell_type": "code",
      "source": [],
      "metadata": {
        "id": "IynKsFb6U2Sm"
      },
      "execution_count": null,
      "outputs": []
    },
    {
      "cell_type": "code",
      "source": [],
      "metadata": {
        "id": "maXXb20RU2Uk"
      },
      "execution_count": null,
      "outputs": []
    },
    {
      "cell_type": "code",
      "source": [],
      "metadata": {
        "id": "9j5om9niU2Wj"
      },
      "execution_count": null,
      "outputs": []
    }
  ]
}